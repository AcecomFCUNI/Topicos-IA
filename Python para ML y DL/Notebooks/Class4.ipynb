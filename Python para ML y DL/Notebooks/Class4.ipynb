{
  "nbformat": 4,
  "nbformat_minor": 0,
  "metadata": {
    "language_info": {
      "codemirror_mode": {
        "name": "ipython",
        "version": 3
      },
      "file_extension": ".py",
      "mimetype": "text/x-python",
      "name": "python",
      "nbconvert_exporter": "python",
      "pygments_lexer": "ipython3",
      "version": "3.6.10-final"
    },
    "orig_nbformat": 2,
    "kernelspec": {
      "name": "python3610jvsc74a57bd071ae0e5628f9c8ae5c6962b1abc3028aa0ba12995fb98bcbaa979d41181ac3b9",
      "display_name": "Python 3.6.10 64-bit ('Pytorch': conda)"
    },
    "metadata": {
      "interpreter": {
        "hash": "767d51c1340bd893661ea55ea3124f6de3c7a262a8b4abca0554b478b1e2ff90"
      }
    },
    "colab": {
      "name": "Class4.ipynb",
      "provenance": [],
      "collapsed_sections": [
        "hSxJUIGyykr6",
        "AuF4UHLHykr_"
      ]
    }
  },
  "cells": [
    {
      "cell_type": "markdown",
      "metadata": {
        "id": "Ld6Cp-2RykrD"
      },
      "source": [
        "# ***Python for ML/DL***\n",
        "---\n",
        "<center>\n",
        "<img src=\"https://ehackz.com/wp-content/uploads/2018/02/Python.jpg\" height = \"40%\" width = \"60%\">"
      ]
    },
    {
      "cell_type": "markdown",
      "metadata": {
        "id": "yZ2tJaDrykrT"
      },
      "source": [
        "## **Object Oriented Programming**\n",
        "\n",
        "OOP is a paradigm of program where the component is divided into objects that have data and behaviors and communicate with each other.\n",
        "<center>\n",
        "<img src=\"https://wideinfo.org/wp-content/uploads/2018/08/mahirkoding_oop-1200x762_c.jpg\" height=\"60%\" width=\"65%\">"
      ]
    },
    {
      "cell_type": "markdown",
      "metadata": {
        "id": "RpnP6d7dykrV"
      },
      "source": [
        "## **Class**\n",
        "\n",
        "The class is a template that contains general characteristics of the objects of that class.\n",
        "\n",
        "<center>\n",
        "<img src=\"https://media.geeksforgeeks.org/wp-content/cdn-uploads/20190501121513/inheritance.png\" height=\"60%\" width=\"50%\">"
      ]
    },
    {
      "cell_type": "markdown",
      "metadata": {
        "id": "mtuOWukRykrW"
      },
      "source": [
        "## **Objects**\n",
        "\n",
        "**Objects** are generally real-life bodies that contain data and behaviors, and these objects are created by **instantiating** a class.\n",
        "\n",
        "-  Atributtes: Attributes are the individual characteristics that differentiate one object from another and determine its appearance, state, or other qualities.\n",
        "\n",
        "-  Methods: On objects it is possible to perform actions (operations, calculations)\n",
        "\n",
        "\n",
        "<center>\n",
        "<img src=\"https://miro.medium.com/max/810/1*xiYI_rl-_pX_27BAjxBL3g.png\"  height=\"40%\" width=\"50%\">"
      ]
    },
    {
      "cell_type": "markdown",
      "metadata": {
        "id": "ttpAmaaKykrX"
      },
      "source": [
        "<center>\n",
        "<img src =\"https://www.adslzone.net/app/uploads/2018/11/charmander-squirtle-bulbasaur.jpg\" height=\"30%\" width=\"40%\">"
      ]
    },
    {
      "cell_type": "markdown",
      "metadata": {
        "id": "LUaV35kxykrY"
      },
      "source": [
        "## Note:\n",
        "- [self](https://www.geeksforgeeks.org/self-in-python-class/):  By using the \"self\" keyword we can access the attributes and methods of the class in python. It binds the attributes with the given arguments. self is parameter in function and user can use another parameter name in place of it."
      ]
    },
    {
      "cell_type": "markdown",
      "metadata": {
        "id": "0-KY-EbUykra"
      },
      "source": [
        "**Example 1**\n",
        "\n",
        "define a Class"
      ]
    },
    {
      "cell_type": "code",
      "metadata": {
        "id": "brcXSCQlykrb"
      },
      "source": [
        "class Car(): \n",
        "    marca = \"Auidi\"\n",
        "    largo = 250\n",
        "    ancho = 150\n",
        "    placa = \"AB3X\"\n",
        "    Estado = True\n",
        "\n",
        "    def change_estado(self, estado):\n",
        "        self.Estado = estado\n",
        "        return self.Estado \n",
        "\n",
        "    def resume(self):\n",
        "        print(f\"marca: {self.marca}, ancho: {self.ancho},  Estado: {self.Estado}\")\n",
        "        \n",
        "\n",
        "auto = Car()\n",
        "auto_2 = Car()"
      ],
      "execution_count": 1,
      "outputs": []
    },
    {
      "cell_type": "markdown",
      "metadata": {
        "id": "NAWnsrrrykrc"
      },
      "source": [
        "### Access to atributtes and methods."
      ]
    },
    {
      "cell_type": "code",
      "metadata": {
        "colab": {
          "base_uri": "https://localhost:8080/"
        },
        "id": "l5A5jL4Zykrd",
        "outputId": "dda75061-1736-4977-ea06-7c6843f022a8"
      },
      "source": [
        "auto.change_estado(False)\n",
        "auto.resume()\n",
        "auto_2.resume()"
      ],
      "execution_count": 2,
      "outputs": [
        {
          "output_type": "stream",
          "text": [
            "marca: Auidi, ancho: 150,  Estado: False\n",
            "marca: Auidi, ancho: 150,  Estado: True\n"
          ],
          "name": "stdout"
        }
      ]
    },
    {
      "cell_type": "markdown",
      "metadata": {
        "id": "SfihPblNykrv"
      },
      "source": [
        "## **Constructor**\n",
        "\n",
        "**[Init](https://www.tutorialspoint.com/What-is-difference-between-self-and-init-methods-in-python-Class#:~:text=__init__%20method,the%20attributes%20of%20the%20class.)**: This method is called when an object is created from a class and it allows the class to initialize the attributes of the class.\n",
        "\n",
        "**Example 2**\n",
        "\n",
        "Use the  __init__ method"
      ]
    },
    {
      "cell_type": "code",
      "metadata": {
        "id": "TjpuOTkyykrw"
      },
      "source": [
        "class Laptop():\n",
        "    def __init__(self, name, processor, gpu, ram):\n",
        "        self.name = name\n",
        "        self.processor = processor\n",
        "        self.gpu = gpu\n",
        "        self.ram = ram\n",
        "         \n",
        "    def resume(self):\n",
        "\n",
        "        return f\"The laptop {self.name}, \\\n",
        "                 the processor is {self.processor}, \\\n",
        "                 the GPU: {self.gpu} and the ram is {self.ram}.\"\n",
        "    \n",
        "    \n",
        "lap1 = Laptop(\"ASUS\", \"Intel\", \"GEFORCE_RTX_3070\", \"8GB\")\n",
        "lap2 = Laptop(\"Lenovo\", \"Intel\", \"GEFORCE_RTX_3070\", \"8GB\")\n",
        "\n",
        "lap1.gpu=\"GTX_1650\""
      ],
      "execution_count": 3,
      "outputs": []
    },
    {
      "cell_type": "code",
      "metadata": {
        "colab": {
          "base_uri": "https://localhost:8080/"
        },
        "id": "maZzeY5Zykrx",
        "outputId": "7159bef6-d1a6-4b31-cc01-6f5e54fc3ffb"
      },
      "source": [
        "print(f\"{lap1.resume()}\\n{lap2.resume()}\")"
      ],
      "execution_count": 4,
      "outputs": [
        {
          "output_type": "stream",
          "text": [
            "The laptop ASUS,                  the processor is Intel,                  the GPU: GTX_1650 and the ram is 8GB.\n",
            "The laptop Lenovo,                  the processor is Intel,                  the GPU: GEFORCE_RTX_3070 and the ram is 8GB.\n"
          ],
          "name": "stdout"
        }
      ]
    },
    {
      "cell_type": "markdown",
      "metadata": {
        "id": "kuw7RwvMykry"
      },
      "source": [
        " ## **Encapsulate**\n",
        " you can restrict access to methods and variables. This can prevent the data from being modified by accident and is known as encapsulation."
      ]
    },
    {
      "cell_type": "code",
      "metadata": {
        "id": "DjPSvhWqykrz"
      },
      "source": [
        "class Student():\n",
        "    def __init__(self, name, surname, id, carrear):\n",
        "        self.__name = name\n",
        "        self.__surname = surname\n",
        "        self.__id = id\n",
        "        self.__carrear = carrear\n",
        "        \n",
        "    def resume(self):\n",
        "        return f\"the name: {self.__name}, \\\n",
        "                the surname: {self.__surname}, \\\n",
        "                the id: {self.__id} and the carrear: {self.__carrear}\"\n",
        "\n",
        "                \n",
        "student1 = Student(\"Alexander\", \"Lique\", \"20192196K\", \"computer science\")"
      ],
      "execution_count": 5,
      "outputs": []
    },
    {
      "cell_type": "code",
      "metadata": {
        "colab": {
          "base_uri": "https://localhost:8080/",
          "height": 53
        },
        "id": "te-Gi9qyykr0",
        "outputId": "89e985ba-c3c8-4db9-8531-687b3555a9f7"
      },
      "source": [
        "print(student1.resume())\n",
        "student1.__name = \"R\"\n",
        "student1.resume()"
      ],
      "execution_count": 6,
      "outputs": [
        {
          "output_type": "stream",
          "text": [
            "the name: Alexander,                 the surname: Lique,                 the id: 20192196K and the carrear: computer science\n"
          ],
          "name": "stdout"
        },
        {
          "output_type": "execute_result",
          "data": {
            "application/vnd.google.colaboratory.intrinsic+json": {
              "type": "string"
            },
            "text/plain": [
              "'the name: Alexander,                 the surname: Lique,                 the id: 20192196K and the carrear: computer science'"
            ]
          },
          "metadata": {
            "tags": []
          },
          "execution_count": 6
        }
      ]
    },
    {
      "cell_type": "code",
      "metadata": {
        "id": "7GKtQS87ykr1"
      },
      "source": [
        "save = lap1.__str__()"
      ],
      "execution_count": 7,
      "outputs": []
    },
    {
      "cell_type": "markdown",
      "metadata": {
        "id": "95JkaAxnykr1"
      },
      "source": [
        "## **Inheritance**\n",
        "\n",
        "Inheritance is an object-oriented programming mechanism used to create new classes from existing classes. Attributes and behaviors are taken (inherited) from old classes and modified to model a new situation."
      ]
    },
    {
      "cell_type": "code",
      "metadata": {
        "colab": {
          "base_uri": "https://localhost:8080/"
        },
        "id": "N0jZDD7vykr2",
        "outputId": "aace5f33-5036-4ab0-83fc-f63bc683ea24"
      },
      "source": [
        "class Human():\n",
        "    def __init__(self, name, \n",
        "                 years, sex, id):\n",
        "        self.name = name\n",
        "        self.years = years\n",
        "        self.sex = sex\n",
        "        self.id = id\n",
        "\n",
        "    def __str__(self):\n",
        "        return \"I'm {}\".format(self.name)\n",
        "    def __repr__(self):\n",
        "        \n",
        "        return \"My name is {}, I have {} years \\\n",
        "                and my DNI is {}\".format(self.name,self.years,self.id)\n",
        "    def edad(self):\n",
        "        return self.years\n",
        "Human(\"Alexander\", 20, \"M\", 75359501)"
      ],
      "execution_count": 8,
      "outputs": [
        {
          "output_type": "execute_result",
          "data": {
            "text/plain": [
              "My name is Alexander, I have 20 years                 and my DNI is 75359501"
            ]
          },
          "metadata": {
            "tags": []
          },
          "execution_count": 8
        }
      ]
    },
    {
      "cell_type": "code",
      "metadata": {
        "colab": {
          "base_uri": "https://localhost:8080/"
        },
        "id": "xS0xmu8yykr3",
        "outputId": "c83dd9ee-69c3-4283-a3dc-cfeb6863ea8e"
      },
      "source": [
        "class Empleado(Human):\n",
        "    def __init__(self, name, years, \n",
        "        sex, id, specialization, salary):\n",
        "        super().__init__(name, years, sex, id)\n",
        "        self.specialization = specialization\n",
        "        self.salary = salary\n",
        "    \n",
        "    def __str__(self):\n",
        "        return \"I am {} and my specialization is {} \".format(\n",
        "            self.name, self.specialization)\n",
        "\n",
        "\n",
        "Empleado(\"Alexander\", 20, \"sex\", 75359501, \"Deep Learning Engineer\", 2500)"
      ],
      "execution_count": 9,
      "outputs": [
        {
          "output_type": "execute_result",
          "data": {
            "text/plain": [
              "My name is Alexander, I have 20 years                 and my DNI is 75359501"
            ]
          },
          "metadata": {
            "tags": []
          },
          "execution_count": 9
        }
      ]
    },
    {
      "cell_type": "markdown",
      "metadata": {
        "id": "ZYUByCh-ykr4"
      },
      "source": [
        "You can see Employee Inheritance the \"age\" methods"
      ]
    },
    {
      "cell_type": "code",
      "metadata": {
        "colab": {
          "base_uri": "https://localhost:8080/"
        },
        "id": "CiyWrSgHykr5",
        "outputId": "9085a85c-d73b-48b4-dba9-96a9b93904d6"
      },
      "source": [
        "e1 = Empleado(\"Alexander\", 20, \"sex\", 75359501, \"Deep Learning Engineer\", 2500)\n",
        "e1.edad()"
      ],
      "execution_count": 10,
      "outputs": [
        {
          "output_type": "execute_result",
          "data": {
            "text/plain": [
              "20"
            ]
          },
          "metadata": {
            "tags": []
          },
          "execution_count": 10
        }
      ]
    },
    {
      "cell_type": "markdown",
      "metadata": {
        "id": "ri8k2ujdykr6"
      },
      "source": [
        "## **Special methods**\n",
        "---\n",
        "\n",
        "Python has\n",
        "Multiple special predefined methods in your classes and you can easily recognize as they have two underscores _ _method_ _ ()"
      ]
    },
    {
      "cell_type": "markdown",
      "metadata": {
        "id": "hSxJUIGyykr6"
      },
      "source": [
        "### **del**\n",
        "\n",
        "The __del__() method is a known as a destructor method in Python. It is called when all references to the object have been deleted i.e when an object is garbage collected.\n",
        "\n",
        "### **str**\n",
        "\n",
        "This method is applied when the object is called to display, in other words this is a representative string of the class.\n"
      ]
    },
    {
      "cell_type": "code",
      "metadata": {
        "id": "mgriD0ALykr7"
      },
      "source": [
        "#a = objet(3,\"hola\")\n",
        "#a = objt(4,\"hola\")"
      ],
      "execution_count": 11,
      "outputs": []
    },
    {
      "cell_type": "code",
      "metadata": {
        "id": "C3U7IPo0ykr7"
      },
      "source": [
        "class Laptop():\n",
        "    def __init__(self, name=\"Asus\", processor=\"Intel\", gpu=\"GEFORCE_RTX_3070\", ram=\"8GB\"):\n",
        "        self.name = name\n",
        "        self.processor = processor\n",
        "        self.gpu = gpu\n",
        "        self.ram = ram \n",
        "\n",
        "    def __str__(self):\n",
        "            return f\"The laptop {self.name}, \\\n",
        "                    the processor is {self.processor}, \\\n",
        "                    the GPU: {self.gpu} and the ram is {self.ram}.\"\n",
        "            \n",
        "    def __del__(self):\n",
        "        print(f\"Delete the objetc:  {self.__str__()}\")"
      ],
      "execution_count": 12,
      "outputs": []
    },
    {
      "cell_type": "code",
      "metadata": {
        "colab": {
          "base_uri": "https://localhost:8080/"
        },
        "id": "6NUTTC79ykr8",
        "outputId": "a79e4127-b8c3-412d-ff93-3be27045ac66"
      },
      "source": [
        "if __name__ == \"__main__\":\n",
        "    lap3 = Laptop()\n",
        "    lap3 = Laptop(\"Asus\",\"Ryzen\",\"GEFORCE_RTX_3070\",\"16GB\")"
      ],
      "execution_count": 13,
      "outputs": [
        {
          "output_type": "stream",
          "text": [
            "Delete the objetc:  The laptop Asus,                     the processor is Intel,                     the GPU: GEFORCE_RTX_3070 and the ram is 8GB.\n"
          ],
          "name": "stdout"
        }
      ]
    },
    {
      "cell_type": "markdown",
      "metadata": {
        "id": "05mv87Xjykr9"
      },
      "source": [
        "**Compare lap1 and lap3**"
      ]
    },
    {
      "cell_type": "code",
      "metadata": {
        "colab": {
          "base_uri": "https://localhost:8080/"
        },
        "id": "DCacAjxfykr9",
        "outputId": "08a27f1a-5c79-443a-c6c2-3246d232c9ec"
      },
      "source": [
        "print(lap3)"
      ],
      "execution_count": 14,
      "outputs": [
        {
          "output_type": "stream",
          "text": [
            "The laptop Asus,                     the processor is Ryzen,                     the GPU: GEFORCE_RTX_3070 and the ram is 16GB.\n"
          ],
          "name": "stdout"
        }
      ]
    },
    {
      "cell_type": "code",
      "metadata": {
        "colab": {
          "base_uri": "https://localhost:8080/"
        },
        "id": "gUrQ7l31ykr-",
        "outputId": "385523c9-7a6b-447a-aafc-eedf6ee37e79"
      },
      "source": [
        "print(save)"
      ],
      "execution_count": 15,
      "outputs": [
        {
          "output_type": "stream",
          "text": [
            "<__main__.Laptop object at 0x7fe309082750>\n"
          ],
          "name": "stdout"
        }
      ]
    },
    {
      "cell_type": "markdown",
      "metadata": {
        "id": "AuF4UHLHykr_"
      },
      "source": [
        "### [len](https://docs.python.org/3/reference/datamodel.html#special-method-names):\n",
        "\n",
        "Called to implement the built-in function len(). Should return the length of the object, an integer >= 0. Also, an object that doesn’t define a __bool__() method and whose __len__() method returns zero is considered to be false in a Boolean context.\n",
        "\n",
        "\n",
        "### [getitem](https://www.geeksforgeeks.org/__getitem__-in-python/#:~:text=The%20__getitem__%20magic,Python's%20most%20underutilized%20magic%20methods.):\n",
        "The __getitem__ method is usually used for list indexing, dictionary lookup, or accessing ranges of values. Considering how versatile it is, it’s probably one of Python’s most underutilized magic methods. \n",
        "\n",
        "### [repr](https://www.journaldev.com/22460/python-str-repr-functions):\n",
        "function returns the object representation in string format.\n",
        "\n",
        "### [setitem](https://www.codespeedy.com/__setitem__-and-__getitem__-in-python-with-example/):\n",
        "is a method used for assigning a value to an item. It is implicitly invoked when we set a value to an item of a list, dictionary"
      ]
    },
    {
      "cell_type": "markdown",
      "metadata": {
        "id": "mRb0sp9IyksA"
      },
      "source": [
        "Note:\n",
        "\n",
        "**Abstract**\n",
        "\n",
        "An important concept in object-oriented programming is that of abstract classes. Classes in which both methods and properties can be defined, but which cannot be directly instances. They can only be used to construct subclasses.\n",
        "\n",
        "**Dataset class**\n",
        "torch.utils.data.Dataset is an abstract class representing a dataset. Your custom dataset should inherit Dataset and override the following methods:\n",
        "\n",
        "\\__len\\__ so that len(dataset) returns the size of the dataset.\n",
        "\n",
        "\\__getitem\\__ to support the indexing such that dataset\\[i] can be used to get ith sample"
      ]
    },
    {
      "cell_type": "code",
      "metadata": {
        "id": "31UPkt2OyksA"
      },
      "source": [
        "from torch.utils.data import Dataset\n",
        "\n",
        "class Data(Dataset):\n",
        "    def __init__(self, data):\n",
        "        super(Data, self).__init__()\n",
        "        self.data = data\n",
        "\n",
        "    def __len__(self):\n",
        "        return len(self.data)\n",
        "\n",
        "    def __getitem__(self, item):\n",
        "        return type(self.data),item, self.data[item]\n",
        "\n",
        "    def __repr__(self):\n",
        "        return f\"Data(data = {self.data})\"\n",
        "        \n",
        "    def __setitem__(self, item, value):\n",
        "        self.data[item] = value\n",
        "        print(\"ok\")\n",
        "    \n",
        "\n",
        "data = ['image1.jpg','imag2.jpg','image3.jpg','img4.jpg']\n",
        "\n",
        "d = Data(data)\n"
      ],
      "execution_count": 16,
      "outputs": []
    },
    {
      "cell_type": "code",
      "metadata": {
        "colab": {
          "base_uri": "https://localhost:8080/"
        },
        "id": "v65iH7Q0yksB",
        "outputId": "2c4bf0d6-30c2-4c5c-e170-7817be9a82ed"
      },
      "source": [
        "len(d)"
      ],
      "execution_count": 17,
      "outputs": [
        {
          "output_type": "execute_result",
          "data": {
            "text/plain": [
              "4"
            ]
          },
          "metadata": {
            "tags": []
          },
          "execution_count": 17
        }
      ]
    },
    {
      "cell_type": "code",
      "metadata": {
        "colab": {
          "base_uri": "https://localhost:8080/"
        },
        "id": "u4e1yR_NyksC",
        "outputId": "9d0fbafb-e41b-44c1-e181-c62776e183a6"
      },
      "source": [
        "print(f\"{d[0]}\\n{d[::]}\")"
      ],
      "execution_count": 18,
      "outputs": [
        {
          "output_type": "stream",
          "text": [
            "(<class 'list'>, 0, 'image1.jpg')\n",
            "(<class 'list'>, slice(None, None, None), ['image1.jpg', 'imag2.jpg', 'image3.jpg', 'img4.jpg'])\n"
          ],
          "name": "stdout"
        }
      ]
    },
    {
      "cell_type": "code",
      "metadata": {
        "colab": {
          "base_uri": "https://localhost:8080/"
        },
        "id": "MJhXbyEPyksC",
        "outputId": "ac26df18-4b26-4244-cca4-e1f6572c7917"
      },
      "source": [
        "print(d)"
      ],
      "execution_count": 19,
      "outputs": [
        {
          "output_type": "stream",
          "text": [
            "Data(data = ['image1.jpg', 'imag2.jpg', 'image3.jpg', 'img4.jpg'])\n"
          ],
          "name": "stdout"
        }
      ]
    },
    {
      "cell_type": "code",
      "metadata": {
        "colab": {
          "base_uri": "https://localhost:8080/"
        },
        "id": "qPPPnPkdyksD",
        "outputId": "1a8d405c-5d70-4add-a68a-4ff5cc7a08fd"
      },
      "source": [
        "d[0] = \"image5.jpg\""
      ],
      "execution_count": 20,
      "outputs": [
        {
          "output_type": "stream",
          "text": [
            "ok\n"
          ],
          "name": "stdout"
        }
      ]
    },
    {
      "cell_type": "markdown",
      "metadata": {
        "id": "DQBevp8PyksD"
      },
      "source": [
        "**Example**"
      ]
    },
    {
      "cell_type": "markdown",
      "metadata": {
        "id": "WbjWIW1eyksE"
      },
      "source": [
        "## **Polymorphism**\n",
        "\n",
        "The OOP polymorphism technique means the ability to take on more than one shape. An operation can exhibit different behaviors in different instances"
      ]
    },
    {
      "cell_type": "code",
      "metadata": {
        "colab": {
          "base_uri": "https://localhost:8080/"
        },
        "id": "1PBrX3z9yksE",
        "outputId": "ba01877e-86a1-4bd5-b882-b2674951076a"
      },
      "source": [
        "class Vehiculo():\n",
        "    def __init__(self, velocidad):\n",
        "        self.velocidad = velocidad\n",
        "\n",
        "    def __str__(self):\n",
        "        return \"\"\n",
        "\n",
        "\n",
        "class Coche(Vehiculo):\n",
        "    def __init__(self, velocidad):\n",
        "        super(Coche, self).__init__(velocidad)\n",
        "    \n",
        "    def  __str__(self):\n",
        "        return f\"la velocidad es: {self.velocidad}\"\n",
        "\n",
        "\n",
        "class Camion(Vehiculo):\n",
        "    def __init__(self, velocidad):\n",
        "        super(Camion, self).__init__(velocidad)\n",
        "    \n",
        "    def  __str__(self):\n",
        "        return f\"la velocidad es: {self.velocidad}\"    \n",
        "\n",
        "\n",
        "def velocidad_vehiculo(Vehiculo):\n",
        "    print(Vehiculo)\n",
        "\n",
        "mi_vehiculo = Camion(\"30km/h\")\n",
        "\n",
        "mi_segundo_vehiculo = Coche(\"50km\")\n",
        "\n",
        "velocidad_vehiculo(mi_vehiculo)"
      ],
      "execution_count": 21,
      "outputs": [
        {
          "output_type": "stream",
          "text": [
            "la velocidad es: 30km/h\n"
          ],
          "name": "stdout"
        }
      ]
    },
    {
      "cell_type": "code",
      "metadata": {
        "colab": {
          "base_uri": "https://localhost:8080/"
        },
        "id": "6CCgD8btyksF",
        "outputId": "f05c34d9-a8f7-40ce-e684-af3a0b61f72a"
      },
      "source": [
        "velocidad_vehiculo(mi_segundo_vehiculo)"
      ],
      "execution_count": 22,
      "outputs": [
        {
          "output_type": "stream",
          "text": [
            "la velocidad es: 50km\n"
          ],
          "name": "stdout"
        }
      ]
    },
    {
      "cell_type": "markdown",
      "metadata": {
        "id": "tx1Ox7chyksF"
      },
      "source": [
        "## **Funciones Lambda**\n",
        "\n",
        "This is an anonymous function that in Python makes it easier to simplify fractions, however, if you use the conditional loop, it is not recommended to use this.\n",
        "This function does not need to be declared as a conventional function because it just needs in a specific place."
      ]
    },
    {
      "cell_type": "code",
      "metadata": {
        "id": "h0WQgPKPyksG"
      },
      "source": [
        "def nombre():\n",
        "    pass"
      ],
      "execution_count": 23,
      "outputs": []
    },
    {
      "cell_type": "markdown",
      "metadata": {
        "id": "yBIB3WrvyksG"
      },
      "source": [
        "**Example 1**"
      ]
    },
    {
      "cell_type": "code",
      "metadata": {
        "colab": {
          "base_uri": "https://localhost:8080/"
        },
        "id": "uD8kJMHWyksH",
        "outputId": "5587e589-c217-4f47-f9b8-db49b71f7d65"
      },
      "source": [
        "area_triangulo = lambda base, altura: (base*altura)/2\n",
        "area_triangulo(3,5)"
      ],
      "execution_count": 24,
      "outputs": [
        {
          "output_type": "execute_result",
          "data": {
            "text/plain": [
              "7.5"
            ]
          },
          "metadata": {
            "tags": []
          },
          "execution_count": 24
        }
      ]
    },
    {
      "cell_type": "markdown",
      "metadata": {
        "id": "-QffDVZMyksH"
      },
      "source": [
        "**Example 2**"
      ]
    },
    {
      "cell_type": "code",
      "metadata": {
        "id": "8dZM0nZ0yksH"
      },
      "source": [
        "impar = lambda num: num%2 != 0"
      ],
      "execution_count": 25,
      "outputs": []
    },
    {
      "cell_type": "markdown",
      "metadata": {
        "id": "VoTI9X5jyksI"
      },
      "source": [
        "**Example 3**"
      ]
    },
    {
      "cell_type": "code",
      "metadata": {
        "id": "iVoElsYtyksI"
      },
      "source": [
        "reverse  = lambda cadena: cadena[::-1]"
      ],
      "execution_count": 26,
      "outputs": []
    },
    {
      "cell_type": "markdown",
      "metadata": {
        "id": "62QUivOSyksJ"
      },
      "source": [
        "**Example 4**"
      ]
    },
    {
      "cell_type": "code",
      "metadata": {
        "colab": {
          "base_uri": "https://localhost:8080/"
        },
        "id": "1aPDBTKPyksJ",
        "outputId": "e0d574af-4c42-4306-939a-37c5fc8c8be3"
      },
      "source": [
        "a = [1, 2, 4, 7]\n",
        "s = list(map(lambda x : x ** 2, a))\n",
        "print(s)"
      ],
      "execution_count": 27,
      "outputs": [
        {
          "output_type": "stream",
          "text": [
            "[1, 4, 16, 49]\n"
          ],
          "name": "stdout"
        }
      ]
    },
    {
      "cell_type": "markdown",
      "metadata": {
        "id": "dYArVHjDyksK"
      },
      "source": [
        "**Example 5**"
      ]
    },
    {
      "cell_type": "code",
      "metadata": {
        "colab": {
          "base_uri": "https://localhost:8080/"
        },
        "id": "JAV0xMeqyksK",
        "outputId": "98a70e46-01f4-4865-8fa7-089de263dd11"
      },
      "source": [
        "high_ord_func = lambda x, func: x + func(x)\n",
        "high_ord_func(6, lambda x: x**2 * x+x)"
      ],
      "execution_count": 28,
      "outputs": [
        {
          "output_type": "execute_result",
          "data": {
            "text/plain": [
              "228"
            ]
          },
          "metadata": {
            "tags": []
          },
          "execution_count": 28
        }
      ]
    },
    {
      "cell_type": "markdown",
      "metadata": {
        "id": "nIGPmV_uyksL"
      },
      "source": [
        "**Save lambda function in a tuple**"
      ]
    },
    {
      "cell_type": "markdown",
      "metadata": {
        "id": "9l4NGfPoyksL"
      },
      "source": [
        "<font color=\"red\">\n",
        "Sigmoid Activaction Function\n",
        "<center>\n",
        "<img src =\"https://user-images.githubusercontent.com/12709287/30514320-5c0ba90e-9b4d-11e7-8ec4-1cd5c13db681.png\" height=\"40%\" width=\"40%\"> "
      ]
    },
    {
      "cell_type": "code",
      "metadata": {
        "colab": {
          "base_uri": "https://localhost:8080/"
        },
        "id": "QhAyL9XDyksL",
        "outputId": "b8f08ecf-1873-4e4c-e9d1-65bbacb6bd7f"
      },
      "source": [
        "import numpy as np\n",
        "\n",
        "sigmoide  =  (lambda x: 1/(1+np.e**(-x)),\n",
        "              lambda x: x*(1-x))\n",
        "              \n",
        "x = np.array([1,2,3,4])\n",
        "sigmoide[0](x)"
      ],
      "execution_count": 29,
      "outputs": [
        {
          "output_type": "execute_result",
          "data": {
            "text/plain": [
              "array([0.73105858, 0.88079708, 0.95257413, 0.98201379])"
            ]
          },
          "metadata": {
            "tags": []
          },
          "execution_count": 29
        }
      ]
    },
    {
      "cell_type": "code",
      "metadata": {
        "colab": {
          "base_uri": "https://localhost:8080/"
        },
        "id": "ZYdHHd0OyksM",
        "outputId": "f725dfe6-bc6e-4c43-8918-84b60ccf24ea"
      },
      "source": [
        "sigmoide[1](sigmoide[0](x))"
      ],
      "execution_count": 30,
      "outputs": [
        {
          "output_type": "execute_result",
          "data": {
            "text/plain": [
              "array([0.19661193, 0.10499359, 0.04517666, 0.01766271])"
            ]
          },
          "metadata": {
            "tags": []
          },
          "execution_count": 30
        }
      ]
    },
    {
      "cell_type": "markdown",
      "metadata": {
        "id": "8aklLIWmyksM"
      },
      "source": [
        "The [map](https://www.w3schools.com/python/ref_func_map.asp) function executes a specified function for each item in an iterable. The item is sent to the function as a parameter."
      ]
    },
    {
      "cell_type": "code",
      "metadata": {
        "colab": {
          "base_uri": "https://localhost:8080/"
        },
        "id": "cYVsvN84yksN",
        "outputId": "f5514735-9e74-411b-8e1a-feeb20b796e9"
      },
      "source": [
        "valores = []\n",
        "for e in x:\n",
        "    valores=(list(map(lambda x: x(e),sigmoide)))\n",
        "    print(valores)"
      ],
      "execution_count": 31,
      "outputs": [
        {
          "output_type": "stream",
          "text": [
            "[0.7310585786300049, 0]\n",
            "[0.8807970779778823, -2]\n",
            "[0.9525741268224331, -6]\n",
            "[0.9820137900379085, -12]\n"
          ],
          "name": "stdout"
        }
      ]
    },
    {
      "cell_type": "code",
      "metadata": {
        "colab": {
          "base_uri": "https://localhost:8080/",
          "height": 35
        },
        "id": "oCEXiaXyyksN",
        "outputId": "f8b06afd-610e-4f74-94fb-8aa8a1a21eb2"
      },
      "source": [
        "message = lambda parameters : \"My model have {} of parameters\".format(parameters)\n",
        "message(2000000)"
      ],
      "execution_count": 32,
      "outputs": [
        {
          "output_type": "execute_result",
          "data": {
            "application/vnd.google.colaboratory.intrinsic+json": {
              "type": "string"
            },
            "text/plain": [
              "'My model have 2000000 of parameters'"
            ]
          },
          "metadata": {
            "tags": []
          },
          "execution_count": 32
        }
      ]
    },
    {
      "cell_type": "markdown",
      "metadata": {
        "id": "0mZt3HCyyksO"
      },
      "source": [
        "<font color=\"GREEN\">\n",
        "Relu Activaction Function\n",
        "<center>\n",
        "<img src =\"https://miro.medium.com/max/754/1*3JUMOqugWKB2SDra6x6v0A.png\" width=\"30%\" height=\"30%\">"
      ]
    },
    {
      "cell_type": "code",
      "metadata": {
        "colab": {
          "base_uri": "https://localhost:8080/"
        },
        "id": "D9df2OO1yksO",
        "outputId": "c818f3a7-a5de-4062-8aa4-68f0681061e0"
      },
      "source": [
        "relu = lambda x: np.maximum(0, x)\n",
        "\n",
        "x = np.array([-1,2,-3,4])\n",
        "\n",
        "relu(x)"
      ],
      "execution_count": 33,
      "outputs": [
        {
          "output_type": "execute_result",
          "data": {
            "text/plain": [
              "array([0, 2, 0, 4])"
            ]
          },
          "metadata": {
            "tags": []
          },
          "execution_count": 33
        }
      ]
    },
    {
      "cell_type": "markdown",
      "metadata": {
        "id": "g5asJRCDyksP"
      },
      "source": [
        "<font color=\"Blue\">\n",
        "hyperbolic tangent\n",
        "<center>\n",
        "<img src=\"https://paperswithcode.com/media/methods/Screen_Shot_2020-05-27_at_4.23.22_PM_dcuMBJl.png\" height=\"30%\" width=\"40%\">"
      ]
    },
    {
      "cell_type": "code",
      "metadata": {
        "colab": {
          "base_uri": "https://localhost:8080/"
        },
        "id": "-2k8hE2VyksP",
        "outputId": "c03b99be-abff-44e4-f828-893e927c5e36"
      },
      "source": [
        "tanh = lambda x: (np.e**(x)-np.e**(-x))/(np.e**(-x)+np.e**(x))\n",
        "\n",
        "x = np.array([1,2,3,4])\n",
        "\n",
        "tanh(x)"
      ],
      "execution_count": 34,
      "outputs": [
        {
          "output_type": "execute_result",
          "data": {
            "text/plain": [
              "array([0.76159416, 0.96402758, 0.99505475, 0.9993293 ])"
            ]
          },
          "metadata": {
            "tags": []
          },
          "execution_count": 34
        }
      ]
    }
  ]
}