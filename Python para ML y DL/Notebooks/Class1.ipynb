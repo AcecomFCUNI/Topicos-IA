{
 "cells": [
  {
   "source": [
    "# ***Python for ML/DL***\n",
    "---\n",
    "<center>\n",
    "<img src=\"https://ehackz.com/wp-content/uploads/2018/02/Python.jpg\" height = \"40%\" width = \"60%\">\n"
   ],
   "cell_type": "markdown",
   "metadata": {}
  },
  {
   "source": [
    "Data structure\n",
    "---\n",
    "Data structures are a way in which we can store and organize data and which we can access."
   ],
   "cell_type": "markdown",
   "metadata": {}
  },
  {
   "source": [
    "## **List**\n",
    "\n",
    "---\n",
    "\n",
    "A list is a collection of data which can be of the dimensions you want and the individual elements in the list can be of different types.\n",
    "\n",
    " **Characteristics**:\n",
    "\n",
    " - Lists are ordered.\n",
    " - List can accessed by index.\n",
    " - Lists are dinamic.\n",
    " - Lists are mutable.\n",
    " - Lists are nonhomogeneus.\n",
    " - Lists are represent by [].\n",
    " - Lists allow duplicate elements."
   ],
   "cell_type": "markdown",
   "metadata": {}
  },
  {
   "source": [
    "### **Initialize list**\n",
    "\n",
    "---\n",
    "Here's a different way to initialize a list."
   ],
   "cell_type": "markdown",
   "metadata": {}
  },
  {
   "cell_type": "code",
   "execution_count": 1,
   "metadata": {},
   "outputs": [],
   "source": [
    "Blanck = []\n",
    "List = [1, 2, 3, \"Acecom\", \"AI\", \"\"]\n",
    "Number = [0, 1, 4, 5, 3, 4]"
   ]
  },
  {
   "source": [
    "### **Index operation**\n",
    "\n",
    "---\n",
    "\n",
    "<p>\n",
    "Example = List[star : stop : step]\n",
    "</p>\n",
    "\n",
    "remember that range is **star** throught **stop** - 1"
   ],
   "cell_type": "markdown",
   "metadata": {}
  },
  {
   "source": [
    "<center>\n",
    "<img width=\"60%\" height=\"40%\" src=\"https://railsware.com/blog/wp-content/uploads/2018/10/first-slice.png\"></img>\n",
    "\n",
    "<a href=\"https://railsware.com/blog/wp-content/uploads/2018/10/first-slice.png\">\n",
    "<center> Slicing of a List<a>"
   ],
   "cell_type": "markdown",
   "metadata": {}
  },
  {
   "source": [
    "Here are some examples of index operations\n",
    "---\n",
    "\n",
    "0.   Example \\[ 0 ]\n",
    "1.   Example1 \\[ : ]\n",
    "2.   Example2 \\[ 1 : ]\n",
    "3.   Example3 \\[ 4 : 9 ] "
   ],
   "cell_type": "markdown",
   "metadata": {}
  },
  {
   "cell_type": "code",
   "execution_count": 2,
   "metadata": {},
   "outputs": [
    {
     "output_type": "stream",
     "name": "stdout",
     "text": [
      "Example0: 255,\nExample1:[255, 164, 135, 100, 45, 95, 24, 49, 25, 14, 1, 3, 67],\nExample2:[164, 135, 100, 45, 95, 24, 49, 25, 14, 1, 3, 67],\nExample3:[45, 95, 24, 49, 25]\n"
     ]
    }
   ],
   "source": [
    "Example = [255, 164, 135, 100, 45, 95, 24, 49, 25, 14, 1, 3, 67]\n",
    "print(\n",
    "    f\"Example0: {Example[0]},\\nExample1:{Example[:]},\\nExample2:{Example[1:]},\\nExample3:{Example[4:9]}\"\n",
    ")"
   ]
  },
  {
   "source": [
    "5. Example5 \\[5:10]\n",
    "6. Example6 \\[9 : : len(Example)%2]"
   ],
   "cell_type": "markdown",
   "metadata": {}
  },
  {
   "cell_type": "code",
   "execution_count": 5,
   "metadata": {},
   "outputs": [
    {
     "output_type": "stream",
     "name": "stdout",
     "text": [
      "Example5:[95, 24, 49, 25, 14],\nExample6:[14, 1, 3, 67]\n"
     ]
    }
   ],
   "source": [
    "print(f\"Example5:{Example[5:10]},\\nExample6:{Example[9::len(Example)%2]}\")"
   ]
  },
  {
   "source": [
    "<center>\n",
    "<img width=\"60%\" height=\"40%\" src=\"https://miro.medium.com/max/1838/1*HqdR129XR8-1ojtTYLou7g.png\">\n",
    "<center>\n",
    "<a href=\"https://miro.medium.com/max/1838/1*HqdR129XR8-1ojtTYLou7g.png\">Negative Index\n",
    "</img>"
   ],
   "cell_type": "markdown",
   "metadata": {}
  },
  {
   "source": [
    "Example = \\[255, 164, 135, 100, 45, 95, 24, 49, 25, 14, 1, 3, 67]\n",
    "\n",
    "7. Example \\[-1]\n",
    "8. Example7 \\[ : :-1]\n",
    "9. Example8 \\[ :-4]\n",
    "10. Example10 \\[-4:-1]\n",
    "11. Example11 \\[-10:-1:2]"
   ],
   "cell_type": "markdown",
   "metadata": {}
  },
  {
   "cell_type": "code",
   "execution_count": 4,
   "metadata": {},
   "outputs": [
    {
     "output_type": "stream",
     "name": "stdout",
     "text": [
      "Example7:67,\nExample8:[67, 3, 1, 14, 25, 49, 24, 95, 45, 100, 135, 164, 255],\nExample9:[255, 164, 135, 100, 45, 95, 24, 49, 25],\nExample10:[14, 1, 3],\nExample11:[100, 95, 49, 14, 3]\n"
     ]
    }
   ],
   "source": [
    "print(\n",
    "    f\"Example7: {Example[-1]},\\nExample8:{Example[::-1]},\\nExample9:{Example[:-4]},\\nExample10:{Example[-4:-1]},\\nExample11:{Example[-10:-1:2]}\"\n",
    ")"
   ]
  },
  {
   "source": [
    "### **SubList**\n",
    "\n",
    "---\n",
    "<center>\n",
    "<p>\n",
    "<img src=\"https://files.realpython.com/media/t.08554d94a1e5.png\"  height = \"60%\" width = \"60%\" >\n",
    "</p>"
   ],
   "cell_type": "markdown",
   "metadata": {}
  },
  {
   "cell_type": "code",
   "execution_count": 5,
   "metadata": {},
   "outputs": [
    {
     "output_type": "stream",
     "name": "stdout",
     "text": [
      "Matrix: [[1, 2, 4, 0, 14], [2, 3, 5, 2, 6], [3, 4, 5, 12, 25]],\n\nList_1: [1, 2, 6, [1, 2, 3]],\n\nList_2: [[1, 2, 3], [1, 2, [1, 2]], [1, 5, 4]]\n"
     ]
    }
   ],
   "source": [
    "Matrix = [[1, 2, 4, 0, 14], [2, 3, 5, 2, 6], [3, 4, 5, 12, 25]]\n",
    "List_1 = [1, 2, 6, [1, 2, 3]]\n",
    "List_2 = [[1, 2, 3], [1, 2, [1, 2]], [1, 5, 4]]\n",
    "print(f\"Matrix: {Matrix},\\n\\nList_1: {List_1},\\n\\nList_2: {List_2}\")"
   ]
  },
  {
   "source": [
    "12. Example12: Matrix \\[ 0 ]\n",
    "13. Example13: Matrix \\[ 0 : 2 ]\n",
    "14. Example14: Matrix \\[ 0 ]\\[ 0 : 3 ]\n",
    "15. Example15: Matrix \\[ 1 ]\\[ : -1 ] "
   ],
   "cell_type": "markdown",
   "metadata": {}
  },
  {
   "source": [
    "print(\n",
    "    f\"Example12: {Matrix[0]},\\nExample13: {Matrix[0:2]},\\nExample14: {Matrix[0][0:3]},\\nExample15: {Matrix[1][:-1]}\"\n",
    ")"
   ],
   "cell_type": "code",
   "metadata": {},
   "execution_count": 11,
   "outputs": [
    {
     "output_type": "stream",
     "name": "stdout",
     "text": [
      "Example12: [1, 2, 4, 0, 14],\nExample13: [[1, 2, 4, 0, 14], [2, 3, 5, 2, 6]],\nExample14: [1, 2, 4],\nExample15: [2, 3, 5, 2]\n"
     ]
    }
   ]
  },
  {
   "source": [
    "- List_1: \\[1, 2, 6, \\[1, 2, 3]],\n",
    "- List_2: \\[\\[1, 2, 3], \\[1, 2, \\[1, 2]], \\[1, 5, 4]]\n",
    "\n",
    "16. Example16: List_1 \\[ 0 ]\n",
    "17. Example17: List_1 \\[ 3 ]\\[ : : -1]\n",
    "18. Example18: List_2 \\[ 1 ]\\[ 1 : ]\n",
    "19. Example19: List_2 \\[ 1 ]\\[ 2 ]\\[ : -1 ]"
   ],
   "cell_type": "markdown",
   "metadata": {}
  },
  {
   "cell_type": "code",
   "execution_count": 6,
   "metadata": {},
   "outputs": [
    {
     "output_type": "stream",
     "name": "stdout",
     "text": [
      "Example16: 1, \nExample17: [3, 2, 1],\nExample18: [2, [1, 2]],\nExample19: [1]\n"
     ]
    }
   ],
   "source": [
    "print(\n",
    "    f\"Example16: {List_1[0]}, \\nExample17: {List_1[3][::-1]},\\nExample18: {List_2[1][1:]},\\nExample19: {List_2 [1][2][:-1]}\"\n",
    ")"
   ]
  },
  {
   "source": [
    "### **List Methods**\n",
    "\n",
    "---\n"
   ],
   "cell_type": "markdown",
   "metadata": {}
  },
  {
   "cell_type": "code",
   "execution_count": 14,
   "metadata": {},
   "outputs": [
    {
     "output_type": "stream",
     "name": "stdout",
     "text": [
      "Eg: [[1, 2, 4], [2, 5, 7]], \nEg_1: [[1, 2, 4], [2, 5, 7]],\nEg_2: []\n"
     ]
    }
   ],
   "source": [
    "Eg = [[1, 2, 4], [2, 5, 7]]\n",
    "Eg_1 = [[1, 2, 4], [2, 5, 7]]\n",
    "Eg_2 = []\n",
    "print(f\"Eg: {Eg}, \\nEg_1: {Eg_1},\\nEg_2: {Eg_2}\")"
   ]
  },
  {
   "source": [
    "20. **Append**\n",
    "21. **Extend** \n",
    "22. **Insert**\n",
    "23. **Remove**"
   ],
   "cell_type": "markdown",
   "metadata": {}
  },
  {
   "source": [
    "**Append**\n",
    "\n",
    "[Append](https://docs.python.org/3/tutorial/datastructures.html#using-lists-as-queues) : this method to the end of the list.\n"
   ],
   "cell_type": "markdown",
   "metadata": {}
  },
  {
   "cell_type": "code",
   "execution_count": 15,
   "metadata": {},
   "outputs": [
    {
     "output_type": "stream",
     "name": "stdout",
     "text": [
      "Append Methods: [[1, 2, 4], [2, 5, 7], 3], \nEg_1: [[1, 2, 4], [2, 5, 7], 3], \nOther way [[1, 2, 4], [2, 3, 5, 7], 3]\n"
     ]
    }
   ],
   "source": [
    "Eg.append(3)\n",
    "\n",
    "Eg_1[len(Eg_1) :] = [3]\n",
    "\n",
    "Eg_2 += [[1,2,4],[2, 3, 5, 7],3]\n",
    "\n",
    "print(f\"Append Methods: {Eg}, \\nEg_1: {Eg_1}, \\nOther way {Eg_2}\")"
   ]
  },
  {
   "source": [
    "**Extend**\n",
    "\n",
    "[Extend](https://qastack.mx/programming/252703/what-is-the-difference-between-pythons-list-methods-append-and-extend#:~:text=append%20agrega%20su%20argumento%20como,haya%20en%20el%20argumento%20iterable.): Extends a list with the iterable elements that you pass to it."
   ],
   "cell_type": "markdown",
   "metadata": {}
  },
  {
   "cell_type": "code",
   "execution_count": 16,
   "metadata": {},
   "outputs": [
    {
     "output_type": "stream",
     "name": "stdout",
     "text": [
      "Extend Methods: [[1, 2, 4], [2, 5, 7], 3, 1, 2, 5], \nsame: [[1, 2, 4], [2, 5, 7], 3, 1, 2, 5]\n"
     ]
    }
   ],
   "source": [
    "Eg.extend([1, 2, 5])\n",
    "Eg_1[len(Eg_1) :] = [1, 2, 5]\n",
    "print(f\"Extend Methods: {Eg}, \\nsame: {Eg_1}\")"
   ]
  },
  {
   "source": [
    "**Insert/Remove**\n",
    "\n",
    "- [Insert](https://www.programiz.com/python-programming/methods/list/insert): The method has two arguments, the first argument is on the index and the second argument is the value you want to add.\n",
    "\n",
    "- [remove](https://www.programiz.com/python-programming/methods/list/remove) : Remove the first item from the list whose value is equal to specify.\n"
   ],
   "cell_type": "markdown",
   "metadata": {}
  },
  {
   "cell_type": "code",
   "execution_count": 17,
   "metadata": {},
   "outputs": [
    {
     "output_type": "stream",
     "name": "stdout",
     "text": [
      "Insert Methods: [[1, 2, 4], [2, 5, 7], 4, 3, 1, 2, 5], \nRemove methoda[[1, 2, 4], [2, 5, 7], 1, 2, 5]\n"
     ]
    }
   ],
   "source": [
    "Eg.insert(2, 4)\n",
    "Eg_1.remove(3)\n",
    "print(f\"Insert Methods: {Eg}, \\nRemove methoda{Eg_1}\")"
   ]
  },
  {
   "source": [
    "24. **Pop**\n",
    "25. **Clear**"
   ],
   "cell_type": "markdown",
   "metadata": {}
  },
  {
   "source": [
    "**Pop/clear**\n",
    "\n",
    "- [Pop](https://docs.python.org/3/tutorial/datastructures.html#using-lists-as-queues): Remove the item at the given position in the list (by default if you don't specify delete the last element).\n",
    "\n",
    "- [Clear](https://docs.python.org/3/tutorial/datastructures.html#using-lists-as-queues): Remove all items from the list."
   ],
   "cell_type": "markdown",
   "metadata": {}
  },
  {
   "cell_type": "code",
   "execution_count": 17,
   "metadata": {},
   "outputs": [
    {
     "output_type": "stream",
     "name": "stdout",
     "text": [
      "Pop methods[[1, 2, 4], [2, 5, 7], 4, 1], \nRemove the last element: [[1, 2, 4], [2, 5, 7], 1, 2]\n"
     ]
    },
    {
     "output_type": "execute_result",
     "data": {
      "text/plain": [
       "[]"
      ]
     },
     "metadata": {},
     "execution_count": 17
    }
   ],
   "source": [
    "Eg.pop(4)\n",
    "Eg_1.pop()\n",
    "print(f\"Pop methods{Eg}, \\nRemove the last element: {Eg_1}\")\n",
    "Eg.clear()\n",
    "Eg"
   ]
  },
  {
   "source": [
    "26. **Index**\n",
    "27. **Count**"
   ],
   "cell_type": "markdown",
   "metadata": {}
  },
  {
   "source": [
    "**Index/count**\n",
    "\n",
    "- [count](https://www.programiz.com/python-programming/methods/list/count): This method returns the number of times the specified element appears in the tuple.\n",
    "\n",
    "- [index](https://www.w3schools.com/python/ref_list_index.asp): This method finds the first occurrence of the specified value."
   ],
   "cell_type": "markdown",
   "metadata": {}
  },
  {
   "cell_type": "code",
   "execution_count": 18,
   "metadata": {},
   "outputs": [
    {
     "output_type": "stream",
     "name": "stdout",
     "text": [
      "The index is : 0,\nNumber of times 2 appears in the list: 1\n"
     ]
    }
   ],
   "source": [
    "print(\n",
    "    f\"The index is : {Eg_1.index([1,2,4])},\\nNumber of times {2} appears in the list: {Eg_1.count(2)}\"\n",
    ")"
   ]
  },
  {
   "source": [
    "### **Deep Learning Aplication**\n",
    "----\n",
    "<center>\n",
    "<p>\n",
    "<img src=\"https://i1.wp.com/www.skampakis.com/wp-content/uploads/2018/03/simple_neural_network_vs_deep_learning.jpg\" heigth =\"40%\" width= \"60%\">\n",
    "</p>"
   ],
   "cell_type": "markdown",
   "metadata": {}
  },
  {
   "cell_type": "code",
   "execution_count": 7,
   "metadata": {},
   "outputs": [],
   "source": [
    "import torch\n",
    "import torch.nn as nn\n",
    "import torch.nn.functional as F\n",
    "\n",
    "\n",
    "class Model(nn.Module):\n",
    "    def __init__(self):\n",
    "        super(Model, self).__init__()\n",
    "\n",
    "        self.num_filters = [64, 128, 256]\n",
    "\n",
    "        self.Hyperparameters = [self.num_filters, 4, 2]\n",
    "\n",
    "        self.block1 = self.downsample(\n",
    "            self.Hyperparameters[0][0],\n",
    "            self.Hyperparameters[0][1],\n",
    "            self.Hyperparameters[1],\n",
    "            self.Hyperparameters[2],\n",
    "            apply_normalizate=False,\n",
    "        )\n",
    "\n",
    "        self.block2 = self.downsample(\n",
    "            self.Hyperparameters[0][1],\n",
    "            self.Hyperparameters[0][2],\n",
    "            self.Hyperparameters[1],\n",
    "            self.Hyperparameters[2],\n",
    "        )\n",
    "\n",
    "        self.dense = nn.Linear(\n",
    "            self.Hyperparameters[0][2], self.Hyperparameters[0][2] // 2\n",
    "        )\n",
    "\n",
    "        self.dense2 = nn.Linear(\n",
    "            self.Hyperparameters[0][2] // 2, self.Hyperparameters[0][2] // 4\n",
    "        )\n",
    "\n",
    "        self.block = [self.block1, self.block2, self.dense, self.dense2]\n",
    "\n",
    "    def downsample(self, filters, output, kernel_size, stride, apply_normalizate=True):\n",
    "        if apply_normalizate:\n",
    "            block = [\n",
    "                nn.Conv2d(filters, output, kernel_size=kernel_size, stride=stride),\n",
    "                nn.BatchNorm2d(output),\n",
    "                nn.ReLU(),\n",
    "            ]\n",
    "        else:\n",
    "            block = [\n",
    "                nn.Conv2d(filters, output, kernel_size=kernel_size, stride=stride),\n",
    "                nn.ReLU(),\n",
    "            ]\n",
    "        return block\n",
    "\n",
    "    def forward(self, x):\n",
    "        x = self.block[0][0](x)\n",
    "        x = self.block[0][1](x)\n",
    "        x = self.block[1][0](x)\n",
    "        x = self.block[1][1](x)\n",
    "        x = self.block[1][2](x)\n",
    "        x = x.view(-1, x.shape[1])\n",
    "        x = F.relu(self.block[2](x))\n",
    "        x = F.relu(self.block[3](x))\n",
    "        return x\n",
    "\n",
    "\n",
    "Net = Model()"
   ]
  },
  {
   "source": [
    "## **Tuples**\n",
    "\n",
    "---\n",
    "\n",
    "It is a collection that stores several types of data, although they have differences and similarities with lists, such as :\n",
    "\n",
    "- Tuples is nonhomogeneus.\n",
    "- Tuple is inmutables.\n",
    "- Tuple is can be ().\n",
    "- Tuple allow duplicate elements. \n",
    "- Tuple is ordered\n"
   ],
   "cell_type": "markdown",
   "metadata": {}
  },
  {
   "source": [
    "### **Initialize Tuple**\n",
    "\n",
    "---"
   ],
   "cell_type": "markdown",
   "metadata": {}
  },
  {
   "cell_type": "code",
   "execution_count": 25,
   "metadata": {},
   "outputs": [
    {
     "output_type": "stream",
     "name": "stdout",
     "text": [
      "Example tuple 1: (), \nExample tuple 2:(1.3, 4, 'Alexander', 'A', 'I'), \nExample 3: ('Deep Learning',)\n"
     ]
    }
   ],
   "source": [
    "tuple_1 = ()\n",
    "tuple_2 = 1.3, 4, \"Alexander\", \"A\", \"I\"\n",
    "tuple_3 = (\"Deep Learning\",)\n",
    "print(\n",
    "    f\"Example tuple 1: {tuple_1}, \\nExample tuple 2:{tuple_2}, \\nExample 3: {tuple_3}\"\n",
    ")"
   ]
  },
  {
   "source": [
    "### **Index operation**\n",
    "\n",
    "---\n"
   ],
   "cell_type": "markdown",
   "metadata": {}
  },
  {
   "source": [
    "1. Example_1: tuple_2 \\[ 0 ]\n",
    "2. Example_2: tuple_2 \\[ 1 : 4 ]\n",
    "3. Example_3: tuple_2 \\[ : -2 ]\n",
    "4. Example_4: tuple_2 \\[ : : -1 ]\n",
    "5. Example_5: tuple_3 \\[ 0 ]\\[ : : -1 ]"
   ],
   "cell_type": "markdown",
   "metadata": {}
  },
  {
   "cell_type": "code",
   "execution_count": 25,
   "metadata": {},
   "outputs": [
    {
     "output_type": "stream",
     "name": "stdout",
     "text": [
      "Example1: 1.3, \nExample2: (4, 'Alexander', 'A'),\nExample3: (1.3, 4, 'Alexander'), \nExample4: ('I', 'A', 'Alexander', 4, 1.3), \nExample5: gninraeL peeD\n"
     ]
    }
   ],
   "source": [
    "print(\n",
    "    f\"Example1: {tuple_2[0]}, \\nExample2: {tuple_2[1:4]},\\nExample3: {tuple_2[:-2]}, \\nExample4: {tuple_2[::-1]}, \\nExample5: {tuple_3[0][::-1]}\"\n",
    ")\n"
   ]
  },
  {
   "source": [
    "### **SubTuple**\n",
    "\n",
    "---"
   ],
   "cell_type": "markdown",
   "metadata": {}
  },
  {
   "cell_type": "code",
   "execution_count": 22,
   "metadata": {},
   "outputs": [
    {
     "output_type": "stream",
     "name": "stdout",
     "text": [
      "Tuple: ('Acecom', ('Deep', 'Learning', 'A', 'I'), 'NN')\n"
     ]
    }
   ],
   "source": [
    "tupla = \"Acecom\", (\"Deep\", \"Learning\", \"A\", \"I\"), \"NN\"\n",
    "print(f\"Tuple: {tupla}\")"
   ]
  },
  {
   "source": [
    "6. Example_6 : tupla \\[ 0 ]\n",
    "7. Example_7 : tupla \\[ 0 ]\\[ : -2 ]\n",
    "8. Example_8 : tupla \\[ 1 ]\\[ 1 ]\\[ : : -1 ]"
   ],
   "cell_type": "markdown",
   "metadata": {}
  },
  {
   "cell_type": "code",
   "execution_count": 26,
   "metadata": {},
   "outputs": [
    {
     "output_type": "stream",
     "name": "stdout",
     "text": [
      "Example6: Acecom, \nExample7: Acec,\nExample8: gninraeL\n"
     ]
    }
   ],
   "source": [
    "print(\n",
    "    f\"Example6: {tupla[0]}, \\nExample7: {tupla[0][:-2]},\\nExample8: {tupla[1][1][::-1]}\"\n",
    ")\n"
   ]
  },
  {
   "source": [
    "### **Tuple Methods**\n",
    "\n",
    "---\n"
   ],
   "cell_type": "markdown",
   "metadata": {}
  },
  {
   "source": [
    "9. **count**\n",
    "10. **index**"
   ],
   "cell_type": "markdown",
   "metadata": {}
  },
  {
   "source": [
    "**count/index**\n",
    "\n",
    "- [count](https://www.w3schools.com/python/ref_tuple_count.asp): This method returns the number of times the specified element appears in the tuple.\n",
    "\n",
    "- [index](https://www.programiz.com/python-programming/methods/tuple/index): This method finds the first occurrence of the specified value."
   ],
   "cell_type": "markdown",
   "metadata": {}
  },
  {
   "cell_type": "code",
   "execution_count": 29,
   "metadata": {},
   "outputs": [
    {
     "output_type": "stream",
     "name": "stdout",
     "text": [
      "Count Examples: \nNum of time apperends NN: 1,\nNum of time apperends e in the position[1][0]: 2 \n\nIndex Example: \nThe index of 'Acecom' is : 0 , \nThe index of 'A' is: 2\n"
     ]
    }
   ],
   "source": [
    "print(\"Count Examples: \")\n",
    "print(\n",
    "    f\"Num of time apperends NN: {tupla.count('NN')},\\nNum of time apperends e in the position[1][0]: {tupla[1][0].count('e')} \"\n",
    ")\n",
    "print(\"\\nIndex Example: \")\n",
    "print(\n",
    "    f\"The index of 'Acecom' is : {tupla.index('Acecom')} , \\nThe index of 'A' is: {tupla[1].index('A')}\"\n",
    ")\n"
   ]
  },
  {
   "source": [
    "### **Structured Data** \n",
    "\n",
    "---\n",
    "\n",
    "Structured data are usually table files such as Execl,CSV,SQL dstabases in the machine learning concept they are easier than training since the characteristics are more explicit.\n",
    "\n",
    "<center>\n",
    "<img src=\"https://docparser.com/blog/wp-content/uploads/2019/09/Unstructured-Data-Examples.jpg\" heigth=\"60%\" width=\"50%\">"
   ],
   "cell_type": "markdown",
   "metadata": {}
  },
  {
   "cell_type": "code",
   "execution_count": 30,
   "metadata": {},
   "outputs": [
    {
     "output_type": "execute_result",
     "data": {
      "text/html": "<div>\n<style scoped>\n    .dataframe tbody tr th:only-of-type {\n        vertical-align: middle;\n    }\n\n    .dataframe tbody tr th {\n        vertical-align: top;\n    }\n\n    .dataframe thead th {\n        text-align: right;\n    }\n</style>\n<table border=\"1\" class=\"dataframe\">\n  <thead>\n    <tr style=\"text-align: right;\">\n      <th></th>\n      <th>bmi</th>\n      <th>charges</th>\n    </tr>\n  </thead>\n  <tbody>\n    <tr>\n      <th>0</th>\n      <td>27.900</td>\n      <td>16884.92400</td>\n    </tr>\n    <tr>\n      <th>1</th>\n      <td>33.770</td>\n      <td>1725.55230</td>\n    </tr>\n    <tr>\n      <th>2</th>\n      <td>33.000</td>\n      <td>4449.46200</td>\n    </tr>\n    <tr>\n      <th>3</th>\n      <td>22.705</td>\n      <td>21984.47061</td>\n    </tr>\n    <tr>\n      <th>4</th>\n      <td>28.880</td>\n      <td>3866.85520</td>\n    </tr>\n    <tr>\n      <th>5</th>\n      <td>25.740</td>\n      <td>3756.62160</td>\n    </tr>\n    <tr>\n      <th>6</th>\n      <td>33.440</td>\n      <td>8240.58960</td>\n    </tr>\n    <tr>\n      <th>7</th>\n      <td>27.740</td>\n      <td>7281.50560</td>\n    </tr>\n    <tr>\n      <th>8</th>\n      <td>29.830</td>\n      <td>6406.41070</td>\n    </tr>\n    <tr>\n      <th>9</th>\n      <td>25.840</td>\n      <td>28923.13692</td>\n    </tr>\n    <tr>\n      <th>10</th>\n      <td>26.220</td>\n      <td>2721.32080</td>\n    </tr>\n    <tr>\n      <th>11</th>\n      <td>26.290</td>\n      <td>27808.72510</td>\n    </tr>\n    <tr>\n      <th>12</th>\n      <td>34.400</td>\n      <td>1826.84300</td>\n    </tr>\n    <tr>\n      <th>13</th>\n      <td>39.820</td>\n      <td>11090.71780</td>\n    </tr>\n    <tr>\n      <th>14</th>\n      <td>42.130</td>\n      <td>39611.75770</td>\n    </tr>\n    <tr>\n      <th>15</th>\n      <td>24.600</td>\n      <td>1837.23700</td>\n    </tr>\n    <tr>\n      <th>16</th>\n      <td>30.780</td>\n      <td>10797.33620</td>\n    </tr>\n    <tr>\n      <th>17</th>\n      <td>23.845</td>\n      <td>2395.17155</td>\n    </tr>\n    <tr>\n      <th>18</th>\n      <td>40.300</td>\n      <td>10602.38500</td>\n    </tr>\n    <tr>\n      <th>19</th>\n      <td>35.300</td>\n      <td>36837.46700</td>\n    </tr>\n    <tr>\n      <th>20</th>\n      <td>36.005</td>\n      <td>13228.84695</td>\n    </tr>\n    <tr>\n      <th>21</th>\n      <td>32.400</td>\n      <td>4149.73600</td>\n    </tr>\n    <tr>\n      <th>22</th>\n      <td>34.100</td>\n      <td>1137.01100</td>\n    </tr>\n    <tr>\n      <th>23</th>\n      <td>31.920</td>\n      <td>37701.87680</td>\n    </tr>\n    <tr>\n      <th>24</th>\n      <td>28.025</td>\n      <td>6203.90175</td>\n    </tr>\n    <tr>\n      <th>25</th>\n      <td>27.720</td>\n      <td>14001.13380</td>\n    </tr>\n    <tr>\n      <th>26</th>\n      <td>23.085</td>\n      <td>14451.83515</td>\n    </tr>\n    <tr>\n      <th>27</th>\n      <td>32.775</td>\n      <td>12268.63225</td>\n    </tr>\n    <tr>\n      <th>28</th>\n      <td>17.385</td>\n      <td>2775.19215</td>\n    </tr>\n    <tr>\n      <th>29</th>\n      <td>36.300</td>\n      <td>38711.00000</td>\n    </tr>\n    <tr>\n      <th>...</th>\n      <td>...</td>\n      <td>...</td>\n    </tr>\n    <tr>\n      <th>1308</th>\n      <td>30.200</td>\n      <td>33900.65300</td>\n    </tr>\n    <tr>\n      <th>1309</th>\n      <td>32.200</td>\n      <td>6875.96100</td>\n    </tr>\n    <tr>\n      <th>1310</th>\n      <td>26.315</td>\n      <td>6940.90985</td>\n    </tr>\n    <tr>\n      <th>1311</th>\n      <td>26.695</td>\n      <td>4571.41305</td>\n    </tr>\n    <tr>\n      <th>1312</th>\n      <td>42.900</td>\n      <td>4536.25900</td>\n    </tr>\n    <tr>\n      <th>1313</th>\n      <td>34.700</td>\n      <td>36397.57600</td>\n    </tr>\n    <tr>\n      <th>1314</th>\n      <td>23.655</td>\n      <td>18765.87545</td>\n    </tr>\n    <tr>\n      <th>1315</th>\n      <td>28.310</td>\n      <td>11272.33139</td>\n    </tr>\n    <tr>\n      <th>1316</th>\n      <td>20.600</td>\n      <td>1731.67700</td>\n    </tr>\n    <tr>\n      <th>1317</th>\n      <td>53.130</td>\n      <td>1163.46270</td>\n    </tr>\n    <tr>\n      <th>1318</th>\n      <td>39.710</td>\n      <td>19496.71917</td>\n    </tr>\n    <tr>\n      <th>1319</th>\n      <td>26.315</td>\n      <td>7201.70085</td>\n    </tr>\n    <tr>\n      <th>1320</th>\n      <td>31.065</td>\n      <td>5425.02335</td>\n    </tr>\n    <tr>\n      <th>1321</th>\n      <td>26.695</td>\n      <td>28101.33305</td>\n    </tr>\n    <tr>\n      <th>1322</th>\n      <td>38.830</td>\n      <td>12981.34570</td>\n    </tr>\n    <tr>\n      <th>1323</th>\n      <td>40.370</td>\n      <td>43896.37630</td>\n    </tr>\n    <tr>\n      <th>1324</th>\n      <td>25.935</td>\n      <td>4239.89265</td>\n    </tr>\n    <tr>\n      <th>1325</th>\n      <td>33.535</td>\n      <td>13143.33665</td>\n    </tr>\n    <tr>\n      <th>1326</th>\n      <td>32.870</td>\n      <td>7050.02130</td>\n    </tr>\n    <tr>\n      <th>1327</th>\n      <td>30.030</td>\n      <td>9377.90470</td>\n    </tr>\n    <tr>\n      <th>1328</th>\n      <td>24.225</td>\n      <td>22395.74424</td>\n    </tr>\n    <tr>\n      <th>1329</th>\n      <td>38.600</td>\n      <td>10325.20600</td>\n    </tr>\n    <tr>\n      <th>1330</th>\n      <td>25.740</td>\n      <td>12629.16560</td>\n    </tr>\n    <tr>\n      <th>1331</th>\n      <td>33.400</td>\n      <td>10795.93733</td>\n    </tr>\n    <tr>\n      <th>1332</th>\n      <td>44.700</td>\n      <td>11411.68500</td>\n    </tr>\n    <tr>\n      <th>1333</th>\n      <td>30.970</td>\n      <td>10600.54830</td>\n    </tr>\n    <tr>\n      <th>1334</th>\n      <td>31.920</td>\n      <td>2205.98080</td>\n    </tr>\n    <tr>\n      <th>1335</th>\n      <td>36.850</td>\n      <td>1629.83350</td>\n    </tr>\n    <tr>\n      <th>1336</th>\n      <td>25.800</td>\n      <td>2007.94500</td>\n    </tr>\n    <tr>\n      <th>1337</th>\n      <td>29.070</td>\n      <td>29141.36030</td>\n    </tr>\n  </tbody>\n</table>\n<p>1338 rows × 2 columns</p>\n</div>",
      "text/plain": [
       "         bmi      charges\n",
       "0     27.900  16884.92400\n",
       "1     33.770   1725.55230\n",
       "2     33.000   4449.46200\n",
       "3     22.705  21984.47061\n",
       "4     28.880   3866.85520\n",
       "5     25.740   3756.62160\n",
       "6     33.440   8240.58960\n",
       "7     27.740   7281.50560\n",
       "8     29.830   6406.41070\n",
       "9     25.840  28923.13692\n",
       "10    26.220   2721.32080\n",
       "11    26.290  27808.72510\n",
       "12    34.400   1826.84300\n",
       "13    39.820  11090.71780\n",
       "14    42.130  39611.75770\n",
       "15    24.600   1837.23700\n",
       "16    30.780  10797.33620\n",
       "17    23.845   2395.17155\n",
       "18    40.300  10602.38500\n",
       "19    35.300  36837.46700\n",
       "20    36.005  13228.84695\n",
       "21    32.400   4149.73600\n",
       "22    34.100   1137.01100\n",
       "23    31.920  37701.87680\n",
       "24    28.025   6203.90175\n",
       "25    27.720  14001.13380\n",
       "26    23.085  14451.83515\n",
       "27    32.775  12268.63225\n",
       "28    17.385   2775.19215\n",
       "29    36.300  38711.00000\n",
       "...      ...          ...\n",
       "1308  30.200  33900.65300\n",
       "1309  32.200   6875.96100\n",
       "1310  26.315   6940.90985\n",
       "1311  26.695   4571.41305\n",
       "1312  42.900   4536.25900\n",
       "1313  34.700  36397.57600\n",
       "1314  23.655  18765.87545\n",
       "1315  28.310  11272.33139\n",
       "1316  20.600   1731.67700\n",
       "1317  53.130   1163.46270\n",
       "1318  39.710  19496.71917\n",
       "1319  26.315   7201.70085\n",
       "1320  31.065   5425.02335\n",
       "1321  26.695  28101.33305\n",
       "1322  38.830  12981.34570\n",
       "1323  40.370  43896.37630\n",
       "1324  25.935   4239.89265\n",
       "1325  33.535  13143.33665\n",
       "1326  32.870   7050.02130\n",
       "1327  30.030   9377.90470\n",
       "1328  24.225  22395.74424\n",
       "1329  38.600  10325.20600\n",
       "1330  25.740  12629.16560\n",
       "1331  33.400  10795.93733\n",
       "1332  44.700  11411.68500\n",
       "1333  30.970  10600.54830\n",
       "1334  31.920   2205.98080\n",
       "1335  36.850   1629.83350\n",
       "1336  25.800   2007.94500\n",
       "1337  29.070  29141.36030\n",
       "\n",
       "[1338 rows x 2 columns]"
      ]
     },
     "metadata": {},
     "execution_count": 30
    }
   ],
   "source": [
    "import pandas as pd\n",
    "\n",
    "column = \"bmi\", \"charges\"\n",
    "data = pd.read_csv(\"../src/insurance.csv\", usecols=column)\n",
    "\n",
    "data"
   ]
  },
  {
   "cell_type": "code",
   "execution_count": 31,
   "metadata": {},
   "outputs": [
    {
     "output_type": "stream",
     "name": "stdout",
     "text": [
      "X\n\n0       27.900\n1       33.770\n2       33.000\n3       22.705\n4       28.880\n5       25.740\n6       33.440\n7       27.740\n8       29.830\n9       25.840\n10      26.220\n11      26.290\n12      34.400\n13      39.820\n14      42.130\n15      24.600\n16      30.780\n17      23.845\n18      40.300\n19      35.300\n20      36.005\n21      32.400\n22      34.100\n23      31.920\n24      28.025\n25      27.720\n26      23.085\n27      32.775\n28      17.385\n29      36.300\n         ...  \n1308    30.200\n1309    32.200\n1310    26.315\n1311    26.695\n1312    42.900\n1313    34.700\n1314    23.655\n1315    28.310\n1316    20.600\n1317    53.130\n1318    39.710\n1319    26.315\n1320    31.065\n1321    26.695\n1322    38.830\n1323    40.370\n1324    25.935\n1325    33.535\n1326    32.870\n1327    30.030\n1328    24.225\n1329    38.600\n1330    25.740\n1331    33.400\n1332    44.700\n1333    30.970\n1334    31.920\n1335    36.850\n1336    25.800\n1337    29.070\nName: bmi, Length: 1338, dtype: float64\n"
     ]
    }
   ],
   "source": [
    "x, y = data\n",
    "\n",
    "t = x, y\n",
    "\n",
    "print(f\"X\\n\\n{data[t[0]]}\")"
   ]
  },
  {
   "source": [
    "## **Extra List and Tuple**\n",
    "\n",
    "---\n",
    "\n",
    "As you saw in the previous cells, lists can contain sublists in the same way, tuples can contain tuples, however both tuples and lists can contain several types of data and it is the case that lists that are mutable can contain immutable data like tuples and tuples that are immutable data can contain mutable data like tuples."
   ],
   "cell_type": "markdown",
   "metadata": {}
  },
  {
   "source": [
    "### **List and Tuple Combination**\n",
    "\n",
    "---\n"
   ],
   "cell_type": "markdown",
   "metadata": {}
  },
  {
   "cell_type": "code",
   "execution_count": 32,
   "metadata": {},
   "outputs": [
    {
     "output_type": "stream",
     "name": "stdout",
     "text": [
      "Tuple of list : (['Artficial', 'Intelligence'], ['Machine', 'Learninig'], 'Deep Larning'),\nList of tuple [('key', 1), ('Weight', [[0.5, 0.3, 0.2], [1, 0, 0.2, 0.6], [0.3, 0.0, 1]]), ('learning_rate', 0.001), ('bias', 0.3)]\n"
     ]
    }
   ],
   "source": [
    "tuple_of_list = [\"Artficial\", \"Intelligence\"], [\"Machine\", \"Learninig\"], \"Deep Larning\"\n",
    "\n",
    "list_of_tuple = [\n",
    "    (\"key\", 1),\n",
    "    (\"Weight\", [[0.5, 0.3, 0.2], [1, 0, 0.2, 0.6], [0.3, 0.0, 1]]),\n",
    "    (\"learning_rate\", 0.001),\n",
    "    (\"bias\", 0.3),\n",
    "]\n",
    "\n",
    "print(f\"Tuple of list : {tuple_of_list},\\nList of tuple {list_of_tuple}\")\n"
   ]
  },
  {
   "cell_type": "code",
   "execution_count": 34,
   "metadata": {},
   "outputs": [
    {
     "output_type": "stream",
     "name": "stdout",
     "text": [
      "List of tuple [('key', 1), ('Weight', [[0.5, 0.3, 0.2], [1, 0, 0.2, 0.6], [0.3, 0.0, 1]]), ('learning_rate', 0.001), ('bias', 0.3), '09']\n"
     ]
    }
   ],
   "source": [
    "list_of_tuple.append(\"09\")\n",
    "print(f\"List of tuple {list_of_tuple}\")"
   ]
  },
  {
   "cell_type": "code",
   "execution_count": 33,
   "metadata": {},
   "outputs": [
    {
     "output_type": "stream",
     "name": "stdout",
     "text": [
      "Tuple_of_list: (['Artficial', 'Intelligence', 'Cool'], ['Machine', 'Learninig'], 'Deep Larning')\nTuple_of_list: (['Artficial', 'Intelligence'], ['Machine', 'Learninig'], 'Deep Larning')\n"
     ]
    }
   ],
   "source": [
    "tuple_of_list[0].append(\"Cool\")\n",
    "print(f\"Tuple_of_list: {tuple_of_list}\")\n",
    "tuple_of_list[0].remove(\"Cool\")\n",
    "print(f\"Tuple_of_list: {tuple_of_list}\")"
   ]
  },
  {
   "source": [
    "## **Dictionary**\n",
    "\n",
    "---\n",
    "\n",
    "Unlike lists and tuples that are indexed by ranges, dictionaries are designed by keys.\n",
    "\n",
    "- The dictionary is a non-homogeneous data structure with pairs of keys, values.\n",
    "- The dictionary can be represented {}.\n",
    "- The dictionary is mutable but the keys is not duplicated.\n",
    "- The dictionary is ordered.\n",
    " "
   ],
   "cell_type": "markdown",
   "metadata": {}
  },
  {
   "source": [
    "### **Initialize Directory**\n",
    "\n",
    "---\n"
   ],
   "cell_type": "markdown",
   "metadata": {}
  },
  {
   "cell_type": "code",
   "execution_count": 10,
   "metadata": {},
   "outputs": [
    {
     "output_type": "stream",
     "name": "stdout",
     "text": [
      "Dictionary 1: {}, \nDictionary 2 : {'key': [1, 3, 4, 5, 6, 7], 'key2': 2, 'key3': 3}\n"
     ]
    }
   ],
   "source": [
    "Dictionary_1 = {}\n",
    "\n",
    "Dictionary_2 = {\"key\": [1, 3, 4, 5, 6, 7], \"key2\": 2, \"key3\": 3}\n",
    "\n",
    "print(f\"Dictionary 1: {Dictionary_1}, \\nDictionary 2 : {Dictionary_2}\")\n"
   ]
  },
  {
   "source": [
    "### **SubDictionary**\n",
    "\n",
    "---"
   ],
   "cell_type": "markdown",
   "metadata": {}
  },
  {
   "cell_type": "code",
   "execution_count": 11,
   "metadata": {},
   "outputs": [
    {
     "output_type": "stream",
     "name": "stdout",
     "text": [
      "Dictionary: {'list': [3, 4, 2, 5, 8], 'A': [1, 2], 'tuple': ('A', 'E', 'I', 'O'), 'Dictionary_2': {'key': [1, 3, 4, 5, 6, 7], 'key2': 2, 'key3': 3}}\n"
     ]
    }
   ],
   "source": [
    "Dictionary_3 = {\n",
    "    \"list\": [3, 4, 2, 5, 8],\n",
    "    \"A\": [1, 2],\n",
    "    \"tuple\": (\"A\", \"E\", \"I\", \"O\"),\n",
    "    \"Dictionary_2\": Dictionary_2,\n",
    "}\n",
    "print(f\"Dictionary: {Dictionary_3}\")\n"
   ]
  },
  {
   "source": [
    "### **Index Operations**\n",
    "\n",
    "---"
   ],
   "cell_type": "markdown",
   "metadata": {}
  },
  {
   "source": [
    "1.   Example1: Dictionary_3 \\[ \"A\" ]\n",
    "2.   Example2: Dictionary_3 \\[ \"Dictionary_2\" ]\n",
    "3.   Example3: Dictionary_3 \\[ \"Dictionary_2\" ]\\[ \"key2\" ]"
   ],
   "cell_type": "markdown",
   "metadata": {}
  },
  {
   "cell_type": "code",
   "execution_count": 12,
   "metadata": {},
   "outputs": [
    {
     "output_type": "stream",
     "name": "stdout",
     "text": [
      "Example1 : [1, 2],\nExample2: {'key': [1, 3, 4, 5, 6, 7], 'key2': 2, 'key3': 3},\nExample3: 2 \n"
     ]
    }
   ],
   "source": [
    "print(\n",
    "    f'Example1 : {Dictionary_3[\"A\"]},\\nExample2: {Dictionary_3[\"Dictionary_2\"]},\\nExample3: {Dictionary_3[\"Dictionary_2\"][\"key2\"]} '\n",
    ")\n"
   ]
  },
  {
   "source": [
    "4. Example4: Dictionary_3 \\[ \"A\" ] \\[ 0 ]\n",
    "5. Example5: Dictionary_3 \\[ \"tuple\"] \\[ 1 : -1 ]\n",
    "6. Example6: Dictionary_3 \\[ \"Dictionary_2\" ] \\[ \"key\" ] \\[ : : 2 ]"
   ],
   "cell_type": "markdown",
   "metadata": {}
  },
  {
   "source": [
    "print(\n",
    "    f'Example4 : {Dictionary_3[\"A\"][0]},\\nExample5: {Dictionary_3[\"tuple\"][1:-1]},\\nExample6: {Dictionary_3[\"Dictionary_2\"][\"key\"][::2]} '\n",
    ")"
   ],
   "cell_type": "code",
   "metadata": {},
   "execution_count": 13,
   "outputs": [
    {
     "output_type": "stream",
     "name": "stdout",
     "text": [
      "Example4 : 1,\nExample5: ('E', 'I'),\nExample6: [1, 4, 6] \n"
     ]
    }
   ]
  },
  {
   "source": [
    "### **Dictionary Methods**\n",
    "\n",
    "---"
   ],
   "cell_type": "markdown",
   "metadata": {}
  },
  {
   "source": [
    "7.  **get**\n",
    "8.  **pop**\n",
    "9.  **clear**"
   ],
   "cell_type": "markdown",
   "metadata": {}
  },
  {
   "source": [
    "- [get](https://www.programiz.com/python-programming/methods/dictionary/get): Return the value if you give the key and not found return None.\n",
    "- [pop](https://www.w3schools.com/python/ref_dictionary_pop.asp): Method removes the specified item from the dictionary.\n",
    "- [clear](https://www.geeksforgeeks.org/python-dictionary-clear/): Method removes all items from the dictionary.\n"
   ],
   "cell_type": "markdown",
   "metadata": {}
  },
  {
   "cell_type": "code",
   "execution_count": 14,
   "metadata": {},
   "outputs": [
    {
     "output_type": "stream",
     "name": "stdout",
     "text": [
      "Use get: [1, 2]\n"
     ]
    }
   ],
   "source": [
    "print(f'Use get: {Dictionary_3.get(\"A\")}')"
   ]
  },
  {
   "cell_type": "code",
   "execution_count": 15,
   "metadata": {},
   "outputs": [
    {
     "output_type": "stream",
     "name": "stdout",
     "text": [
      "Directory : [1, 2],\nNew Dictionary: {'list': [3, 4, 2, 5, 8], 'tuple': ('A', 'E', 'I', 'O'), 'Dictionary_2': {'key': [1, 3, 4, 5, 6, 7], 'key2': 2, 'key3': 3}}\n"
     ]
    }
   ],
   "source": [
    "print(f'Directory : {Dictionary_3.pop(\"A\")},\\nNew Dictionary: {Dictionary_3}')\n"
   ]
  },
  {
   "cell_type": "code",
   "execution_count": 42,
   "metadata": {},
   "outputs": [
    {
     "output_type": "stream",
     "name": "stdout",
     "text": [
      "Clear: None\n"
     ]
    }
   ],
   "source": [
    "print(f\"Clear: {Dictionary_2.clear()}\")"
   ]
  },
  {
   "source": [
    "10. **Keys**\n",
    "11. **Items**\n",
    "13. **Values**\n",
    "12. **Copy**"
   ],
   "cell_type": "markdown",
   "metadata": {}
  },
  {
   "source": [
    "- [keys](https://www.w3schools.com/python/ref_dictionary_keys.asp): The method return a view object. This object contains the keys of the dictionary.\n",
    "\n",
    "- [Items](https://www.programiz.com/python-programming/methods/dictionary/items): The method return a view object. This object contain a list with pair of tuples (key/value)\n",
    "\n",
    "- [Values](https://www.programiz.com/python-programming/methods/dictionary/values): The method returns a view object that displays a list of all the values in the dictionary.\n",
    "\n",
    "- [Copy](https://www.programiz.com/python-programming/methods/dictionary/copy):  They method returns a copy of the dictionary.\n",
    "\n"
   ],
   "cell_type": "markdown",
   "metadata": {}
  },
  {
   "cell_type": "code",
   "execution_count": 43,
   "metadata": {},
   "outputs": [
    {
     "output_type": "stream",
     "name": "stdout",
     "text": [
      "Keys: dict_keys(['list', 'tuple', 'Dictionary_2'])\n"
     ]
    }
   ],
   "source": [
    "print(f\"Keys: {Dictionary_3.keys()}\")"
   ]
  },
  {
   "cell_type": "code",
   "execution_count": 44,
   "metadata": {},
   "outputs": [
    {
     "output_type": "stream",
     "name": "stdout",
     "text": [
      "Items in the directory: dict_items([('list', [3, 4, 2, 5, 8]), ('tuple', ('A', 'E', 'I', 'O')), ('Dictionary_2', {})])\n"
     ]
    }
   ],
   "source": [
    "print(f\"Items in the directory: {Dictionary_3.items()}\")"
   ]
  },
  {
   "cell_type": "code",
   "execution_count": 45,
   "metadata": {},
   "outputs": [
    {
     "output_type": "stream",
     "name": "stdout",
     "text": [
      "Values: dict_values([[3, 4, 2, 5, 8], ('A', 'E', 'I', 'O'), {}])\n"
     ]
    }
   ],
   "source": [
    "print(f\"Values: {Dictionary_3.values()}\")"
   ]
  },
  {
   "cell_type": "code",
   "execution_count": 46,
   "metadata": {},
   "outputs": [
    {
     "output_type": "stream",
     "name": "stdout",
     "text": [
      "Compare: {'num': 3, 'bmi': 4, 's': 5}, {'num': 3, 'bmi': 4}\n"
     ]
    }
   ],
   "source": [
    "Dictionary_2 = {\"num\": 3, \"bmi\": 4}\n",
    "Dictionary_1 = Dictionary_2.copy()\n",
    "Dictionary_1[\"s\"] = 5\n",
    "print(f\"Compare: {Dictionary_1}, {Dictionary_2}\")"
   ]
  },
  {
   "source": [
    "### **Deep Learning Aplication**"
   ],
   "cell_type": "markdown",
   "metadata": {}
  },
  {
   "cell_type": "code",
   "execution_count": 2,
   "metadata": {},
   "outputs": [],
   "source": [
    "data = torch.load(\"../src/data.pth\")"
   ]
  },
  {
   "cell_type": "code",
   "execution_count": 4,
   "metadata": {},
   "outputs": [
    {
     "output_type": "execute_result",
     "data": {
      "text/plain": [
       "dict"
      ]
     },
     "metadata": {},
     "execution_count": 4
    }
   ],
   "source": [
    "type(data)"
   ]
  },
  {
   "cell_type": "code",
   "execution_count": 3,
   "metadata": {},
   "outputs": [
    {
     "output_type": "stream",
     "name": "stdout",
     "text": [
      "Tags in the Trained Model: ['funny', 'goodbye', 'greeting', 'items', 'payments', 'thanks']\n"
     ]
    }
   ],
   "source": [
    "print(f'Tags in the Trained Model: {data[\"tags\"]}')"
   ]
  },
  {
   "cell_type": "code",
   "execution_count": 4,
   "metadata": {},
   "outputs": [
    {
     "output_type": "stream",
     "name": "stdout",
     "text": [
      "dict_keys(['Modelo', 'Entrada', 'Capa Oculta', 'Salida', 'All_Words', 'Etiquetas'])\n"
     ]
    }
   ],
   "source": [
    "Directory_Model = {\n",
    "    \"Modelo\": data[\"model_state\"],\n",
    "    \"Entrada\": data[\"input_size\"],\n",
    "    \"Capa Oculta\": data[\"hidden_size\"],\n",
    "    \"Salida\": data[\"output_size\"],\n",
    "    \"All_Words\": data[\"all_words\"],\n",
    "    \"Etiquetas\": data[\"tags\"],\n",
    "}\n",
    "print(Directory_Model.keys())"
   ]
  },
  {
   "cell_type": "code",
   "execution_count": 5,
   "metadata": {},
   "outputs": [
    {
     "output_type": "execute_result",
     "data": {
      "text/plain": [
       "['a',\n",
       " 'accept',\n",
       " 'are',\n",
       " 'arrivederci',\n",
       " 'au',\n",
       " 'bonjour',\n",
       " 'broma',\n",
       " 'bye',\n",
       " 'can',\n",
       " 'card',\n",
       " 'cash',\n",
       " 'ciao',\n",
       " 'credit',\n",
       " 'dime',\n",
       " 'do',\n",
       " 'funni',\n",
       " 'gracia',\n",
       " 'have',\n",
       " 'hello',\n",
       " 'hola',\n",
       " 'hya',\n",
       " 'i',\n",
       " 'item',\n",
       " 'joke',\n",
       " 'kind',\n",
       " 'know',\n",
       " 'later',\n",
       " 'mastercard',\n",
       " 'me',\n",
       " 'merci',\n",
       " 'no',\n",
       " 'of',\n",
       " 'onli',\n",
       " 'pay',\n",
       " 'paypal',\n",
       " 'revoir',\n",
       " 'see',\n",
       " 'sell',\n",
       " 'someth',\n",
       " 'take',\n",
       " 'tell',\n",
       " 'thank',\n",
       " 'there',\n",
       " 'una',\n",
       " 'vemo',\n",
       " 'what',\n",
       " 'wich',\n",
       " 'with',\n",
       " 'you']"
      ]
     },
     "metadata": {},
     "execution_count": 5
    }
   ],
   "source": [
    "Model = data.copy()\n",
    "Model.get(\"all_words\")"
   ]
  }
 ],
 "metadata": {
  "kernelspec": {
   "display_name": "Python 3.7.6 64-bit ('env')",
   "language": "python",
   "name": "python37664bitenvedcaa27485164f5ca1e6f919bbcb0a3d"
  }
 },
 "nbformat": 4,
 "nbformat_minor": 4
}