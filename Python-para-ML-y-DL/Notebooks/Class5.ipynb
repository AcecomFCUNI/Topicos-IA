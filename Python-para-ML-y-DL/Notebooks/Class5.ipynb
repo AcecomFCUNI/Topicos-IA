{
 "metadata": {
  "language_info": {
   "codemirror_mode": {
    "name": "ipython",
    "version": 3
   },
   "file_extension": ".py",
   "mimetype": "text/x-python",
   "name": "python",
   "nbconvert_exporter": "python",
   "pygments_lexer": "ipython3",
   "version": "3.7.9-final"
  },
  "orig_nbformat": 2,
  "kernelspec": {
   "name": "python379jvsc74a57bd02aacabe572ad491c11c70a19028a88b355e19986125acf7e67b94920c445b886",
   "display_name": "Python 3.7.9 64-bit ('streamlit': conda)"
  },
  "metadata": {
   "interpreter": {
    "hash": "2aacabe572ad491c11c70a19028a88b355e19986125acf7e67b94920c445b886"
   }
  }
 },
 "nbformat": 4,
 "nbformat_minor": 2,
 "cells": [
  {
   "source": [
    "# ***Python for ML/DL***\n",
    "---\n",
    "\n",
    "<center>\n",
    "<img src=\"https://ehackz.com/wp-content/uploads/2018/02/Python.jpg\" height = \"40%\" width = \"60%\">"
   ],
   "cell_type": "markdown",
   "metadata": {}
  },
  {
   "source": [
    "## **Introduction PEP8**\n",
    "\n",
    "<center>\n",
    "<img src=\"https://d2o2utebsixu4k.cloudfront.net/media/images/1a38e5b6-4815-4390-ad92-a52b825fba0b.jpg\" height=\"70%\" width=\"80%\">"
   ],
   "cell_type": "markdown",
   "metadata": {}
  },
  {
   "source": [
    "## What is PEP8?\n",
    "\n",
    "[PEP 8](https://realpython.com/python-pep8/) (Python Enhancement Proposals), sometimes spelled PEP8 or PEP-8, is a document that provides guidelines and best practices on how to write Python code. It was written in 2001 by Guido van Rossum, Barry Warsaw, and Nick Coghlan. The primary focus of PEP 8 is to improve the readability and consistency of Python code."
   ],
   "cell_type": "markdown",
   "metadata": {}
  },
  {
   "source": [
    "### **Naming Conventions**\n",
    "\n",
    "When you write Python code, you will avoid the inappropriate variables names . Choosing  names will save you time and you’ll be able to figure out, from the name, what a certain variable, function, or class represents.\n",
    "\n",
    "### **Sytels**\n",
    "\n",
    "**Function**: Use a word or words in lowercase and separate with underscore.\n",
    "\n",
    "**Variable**: Use a lowercase single letter, word, or words. Separate words with underscores.\n",
    "\n",
    "**Class**: Use upper in the first letter and don't separate the words with underscore.\n",
    "\n",
    "**methods**: Use a lowercase word or words and separete with underscores.\n",
    "\n",
    "**Constant**: Use an uppercase single letter, word, or words. Separate words with underscores\n",
    "\n",
    "**Module**: Use lowercase word or words  with underscores.\n",
    "\n",
    "**package**: Use lowercase and do not underscores."
   ],
   "cell_type": "markdown",
   "metadata": {}
  },
  {
   "source": [
    "**Variable**"
   ],
   "cell_type": "markdown",
   "metadata": {}
  },
  {
   "cell_type": "code",
   "execution_count": 7,
   "metadata": {},
   "outputs": [
    {
     "output_type": "stream",
     "name": "stdout",
     "text": [
      "Juan Perez\n"
     ]
    }
   ],
   "source": [
    "full_name = \"Juan Perez\"\n",
    "name, surname = full_name.split()\n",
    "\n",
    "print(name, surname)"
   ]
  },
  {
   "source": [
    "## **Constant**"
   ],
   "cell_type": "markdown",
   "metadata": {}
  },
  {
   "cell_type": "code",
   "execution_count": 32,
   "metadata": {},
   "outputs": [
    {
     "output_type": "execute_result",
     "data": {
      "text/plain": [
       "['Samsung', 'Huaweii', 'Nokia', 'Claro']"
      ]
     },
     "metadata": {},
     "execution_count": 32
    }
   ],
   "source": [
    "NAME_MOVIL_PHONE = [\n",
    "    'Samsung',\n",
    "    'Huaweii',\n",
    "    'Nokia',\n",
    "    'Claro'\n",
    "]\n",
    "\n",
    "NAME_MOVIL_PHONE"
   ]
  },
  {
   "source": [
    "## **Function**"
   ],
   "cell_type": "markdown",
   "metadata": {}
  },
  {
   "cell_type": "code",
   "execution_count": 46,
   "metadata": {},
   "outputs": [],
   "source": [
    "def random_choise():\n",
    "    return None"
   ]
  },
  {
   "source": [
    "## **Class**"
   ],
   "cell_type": "markdown",
   "metadata": {}
  },
  {
   "cell_type": "code",
   "execution_count": 44,
   "metadata": {},
   "outputs": [],
   "source": [
    "class MovilPhone():\n",
    "    pass"
   ]
  },
  {
   "source": [
    "### **Code Layout**\n",
    "\n",
    "We also learn about indentation because it is very important to make your code more readable. Here you will learn how to handle the PEP8 recommended limit of 79 lines of characters.\n",
    "Surround top-level functions and classes with two blank lines. "
   ],
   "cell_type": "markdown",
   "metadata": {}
  },
  {
   "source": [
    "class FirstClass():\n",
    "    pass\n",
    "\n",
    "\n",
    "class SecondClass():\n",
    "    pass\n",
    "\n",
    "\n",
    "def top_level_function():\n",
    "    return None"
   ],
   "cell_type": "code",
   "metadata": {},
   "execution_count": 54,
   "outputs": []
  },
  {
   "source": [
    "Surround method definitions inside classes with a single blank line."
   ],
   "cell_type": "markdown",
   "metadata": {}
  },
  {
   "cell_type": "code",
   "execution_count": 55,
   "metadata": {},
   "outputs": [],
   "source": [
    "class MovilPhone():\n",
    "    \n",
    "    def __init__(self):\n",
    "        return None\n",
    "\n",
    "    def __str__(self):\n",
    "        return None"
   ]
  },
  {
   "source": [
    "Use blank lines sparingly inside functions to show clear steps."
   ],
   "cell_type": "markdown",
   "metadata": {}
  },
  {
   "source": [
    "import numpy as np\n",
    "\n",
    "\n",
    "def normalization(name_array):\n",
    "\n",
    "    mean = np.median(name_array)\n",
    "\n",
    "    std = np.std(name_array)\n",
    "\n",
    "    return (name_array - mean) / std"
   ],
   "cell_type": "code",
   "metadata": {},
   "execution_count": 52,
   "outputs": []
  },
  {
   "source": [
    "## **Maximum Line Length and Line Breaking**\n",
    "\n",
    "PEP 8 suggests lines should be limited to 79 characters. This is because it allows you to have multiple files open next to one another, while also avoiding line wrapping."
   ],
   "cell_type": "markdown",
   "metadata": {}
  },
  {
   "cell_type": "code",
   "execution_count": 56,
   "metadata": {},
   "outputs": [],
   "source": [
    "def function(arg_1, arg_2, \n",
    "             arg_3, arg_4):\n",
    "    return None"
   ]
  },
  {
   "cell_type": "code",
   "execution_count": 3,
   "metadata": {},
   "outputs": [],
   "source": [
    "from torch import (nn, \n",
    "                   functional, \n",
    "                   cuda, \n",
    "                   onnx)"
   ]
  },
  {
   "source": [
    "If line breaking needs to occur around binary operators, like + and *, it should occur before the operator. This rule stems from mathematics. Mathematicians agree that breaking before binary operators improves readability. "
   ],
   "cell_type": "markdown",
   "metadata": {}
  },
  {
   "cell_type": "code",
   "execution_count": 69,
   "metadata": {},
   "outputs": [],
   "source": [
    "lamda =  0.01\n",
    "\n",
    "size = 50\n",
    "\n",
    "weight_sum = 0.956 \n",
    "\n",
    "regularization = (lamda \n",
    "            * weight_sum \n",
    "            / size)"
   ]
  },
  {
   "source": [
    "## **Indentation Following Line Breaks**\n",
    "\n",
    "When you’re using line continuations to keep lines to under 79 characters, it is useful to use indentation to improve readability. It allows the reader to distinguish between two lines of code and a single line of code that spans two lines."
   ],
   "cell_type": "markdown",
   "metadata": {}
  },
  {
   "source": [
    "'''\n",
    "while (flag==True or \n",
    "       count<200):\n",
    "       print(count)\n",
    "       -----\n",
    "'''"
   ],
   "cell_type": "code",
   "metadata": {},
   "execution_count": null,
   "outputs": []
  },
  {
   "source": [
    "flag = True\n",
    "\n",
    "count = 0\n",
    "\n",
    "while (flag and \n",
    "              count<5):\n",
    "       count +=1"
   ],
   "cell_type": "code",
   "metadata": {},
   "execution_count": 64,
   "outputs": []
  },
  {
   "cell_type": "code",
   "execution_count": null,
   "metadata": {},
   "outputs": [],
   "source": [
    "flag = True\n",
    "\n",
    "count = 0\n",
    "\n",
    "while (flag==True and \n",
    "       count<5):\n",
    "       #Here initialize the code\n",
    "       count +=1"
   ]
  },
  {
   "source": [
    "## **hanging indent**"
   ],
   "cell_type": "markdown",
   "metadata": {}
  },
  {
   "cell_type": "code",
   "execution_count": 70,
   "metadata": {},
   "outputs": [],
   "source": [
    "def function(\n",
    "        arg_1, arg_2,\n",
    "        arg_3, arg_4):\n",
    "    return None"
   ]
  },
  {
   "cell_type": "code",
   "execution_count": 72,
   "metadata": {},
   "outputs": [],
   "source": [
    "var = function(\n",
    "    1, 2,\n",
    "    3, 4)\n"
   ]
  },
  {
   "source": [
    "## **Closing Brace**\n",
    "\n",
    "Line up the closing brace with the first non-whitespace character of the previous line:"
   ],
   "cell_type": "markdown",
   "metadata": {}
  },
  {
   "cell_type": "code",
   "execution_count": 73,
   "metadata": {},
   "outputs": [],
   "source": [
    "prime = [\n",
    "    2, 3, 5,\n",
    "    7, 11, 13\n",
    "    ]"
   ]
  },
  {
   "source": [
    "Line up the closing brace with the first character of the line that starts the construct:"
   ],
   "cell_type": "markdown",
   "metadata": {}
  },
  {
   "cell_type": "code",
   "execution_count": 74,
   "metadata": {},
   "outputs": [],
   "source": [
    "prime = [\n",
    "    2, 3, 5,\n",
    "    7, 11, 13\n",
    "]"
   ]
  },
  {
   "source": [
    "## **Block Comments**\n",
    "\n",
    "They are useful when you have to write several lines of code to perform a single action, such as importing data from a file or updating a database entry. They are important as they help others understand the purpose and functionality of a given code block.\n",
    "\n",
    "- Indent block comments to the same level as the code they describe.\n",
    "- Start each line with a # followed by a single space.\n",
    "- Separate paragraphs by a line containing a single #.\n",
    "\n"
   ],
   "cell_type": "markdown",
   "metadata": {}
  },
  {
   "cell_type": "code",
   "execution_count": 4,
   "metadata": {},
   "outputs": [],
   "source": [
    "x = \"John Smith\"  # Student Name\n",
    "\n",
    "empty_list = []  # Initialize empty list\n",
    "\n",
    "x = 5  # This is an inline comment\n",
    "x = x * 5  # Multiply x by 5"
   ]
  },
  {
   "source": [
    "## **Documentation Strings**\n",
    "\n",
    "\n",
    "Documentation strings, or docstrings, are strings enclosed in double (\"\"\") or single (''') quotation marks that appear on the first line of any function, class, method, or module. \n",
    "\n",
    "The most important rules applying to docstrings are the following:\n",
    "\n",
    "Surround docstrings with three double quotes on either side, as in \"\"\"This is a docstring\"\"\".\n",
    "\n",
    "Write them for all public modules, functions, classes, and methods.\n",
    "\n",
    "Put the \"\"\" that ends a multiline docstring on a line by itself"
   ],
   "cell_type": "markdown",
   "metadata": {}
  },
  {
   "cell_type": "code",
   "execution_count": 2,
   "metadata": {},
   "outputs": [],
   "source": [
    "import torch.nn as nn\n",
    "import torch.nn.functional as F\n",
    "\n",
    "\n",
    "class Model(nn.Module):\n",
    "    \"\"\"This  is an subclass of super class nn.Module\n",
    "    To create a subclass, you need implements the folowing two methods.\n",
    "       --<__init__>: initialize the class; this module call the super(Model, self).__init__()\n",
    "       --<forward>: produce intermediate results.\n",
    "    \"\"\"\n",
    "\n",
    "    def __init__(self, opt):\n",
    "        \"\"\"Initialize the Model class\n",
    "        Parameters:\n",
    "            opt (option )-- pass a dictionary with the hypeparameters.\n",
    "            when implements this class\n",
    "            -- self.device (str): specify the device type.\n",
    "            -- self.epoch (int): define the epoch.\n",
    "            -- self.conv1 (torch.nn.modules.conv.Conv2d):  define the first conv2d\n",
    "            -- self.conv2 (torch.nn.modules.conv.Conv2d): define the second conv2d\n",
    "        \"\"\"\n",
    "        super(Model, self).__init__()\n",
    "        self.device = opt[\"gpu_is\"]\n",
    "        self.epoch = opt[\"epoch\"]\n",
    "        self.conv1 = nn.Conv2d(1, 20, 5)\n",
    "        self.conv2 = nn.Conv2d(20, 20, 5)\n",
    "\n",
    "    def forward(self, x):\n",
    "        \"\"\"Run forward pass\"\"\"\n",
    "        x = F.relu(self.conv1(x))\n",
    "        return F.relu(self.conv2(x))\n"
   ]
  },
  {
   "source": [
    "## **Whitespace Around Binary Operators**\n",
    "\n",
    "urround the following binary operators with a single space on either side:\n",
    "\n",
    "- Assignment operators (=, +=, -=, and so forth)\n",
    "\n",
    "- Comparisons (==, !=, >, <. >=, <=) and (is, is not, in, not in)\n",
    "\n",
    "- Booleans (and, not, or)"
   ],
   "cell_type": "markdown",
   "metadata": {}
  },
  {
   "cell_type": "code",
   "execution_count": 77,
   "metadata": {},
   "outputs": [],
   "source": [
    "def function(default_parameter = 5):\n",
    "    pass"
   ]
  },
  {
   "cell_type": "code",
   "execution_count": 1,
   "metadata": {},
   "outputs": [],
   "source": [
    "x = 1\n",
    "\n",
    "y = x**4 + x**3 + x**2 + x + 0.1\n",
    "\n",
    "z = (x+y)**2 * (y-x)**3"
   ]
  },
  {
   "cell_type": "code",
   "execution_count": 80,
   "metadata": {},
   "outputs": [],
   "source": [
    "if x>5 and x%2==0:\n",
    "    print('x is larger than 5 and divisible by 2!')"
   ]
  },
  {
   "cell_type": "code",
   "execution_count": 84,
   "metadata": {},
   "outputs": [
    {
     "output_type": "stream",
     "name": "stdout",
     "text": [
      "\n"
     ]
    }
   ],
   "source": [
    "list_ = [1, 2, 4, 6, 7, 8]\n",
    "\n",
    "list_[3:5]\n",
    "\n",
    "# Treat the colon as the operator with lowest priority\n",
    "list_[z+1 : z+2]\n",
    "\n",
    "# In an extended slice, both colons must be\n",
    "# surrounded by the same amount of whitespace\n",
    "list_[3:4:5]\n",
    "list_[z+1 : x+2 : x+3]\n",
    "\n",
    "# The space is omitted if a slice parameter is omitted\n",
    "list_[z+1 : z+2 :]\n",
    "\n",
    "print(\"\")"
   ]
  },
  {
   "source": [
    "## **When to Avoid Adding Whitespace**\n",
    "\n",
    "The most important place to avoid adding whitespace is at the end of a line. This is known as trailing whitespace. It is invisible and can produce errors that are difficult to trace.\n",
    "\n"
   ],
   "cell_type": "markdown",
   "metadata": {}
  },
  {
   "cell_type": "code",
   "execution_count": null,
   "metadata": {},
   "outputs": [],
   "source": [
    "list_ = [1, 2, 4, 6, 7, 8]\n"
   ]
  },
  {
   "cell_type": "code",
   "execution_count": null,
   "metadata": {},
   "outputs": [],
   "source": [
    "print(x, y)"
   ]
  },
  {
   "source": [
    "- list_\\[1]\n",
    "\n",
    "- tuple_ = (1,)"
   ],
   "cell_type": "markdown",
   "metadata": {}
  },
  {
   "cell_type": "code",
   "execution_count": 88,
   "metadata": {},
   "outputs": [],
   "source": [
    "var1 = 5\n",
    "var2 = 6\n",
    "some_long_var = 7"
   ]
  },
  {
   "cell_type": "code",
   "execution_count": 90,
   "metadata": {},
   "outputs": [
    {
     "output_type": "stream",
     "name": "stdout",
     "text": [
      "6 is bigger than 5\n"
     ]
    }
   ],
   "source": [
    "my_bool = True\n",
    "\n",
    "if my_bool:\n",
    "    print('6 is bigger than 5')"
   ]
  },
  {
   "source": [
    "## **Online**\n",
    "\n",
    "---\n",
    "\n",
    "You so availble in the internet PEP8's corrector with for example:\n",
    "\n",
    "- [PEP8 Online](http://pep8online.com/)  \n",
    "- [PythonChecker](https://www.pythonchecker.com/)"
   ],
   "cell_type": "markdown",
   "metadata": {}
  },
  {
   "source": [
    "## **Formatters**\n",
    "\n",
    "- [Black](https://pypi.org/project/black/): **pip install black**\n",
    "\n",
    "Black is the uncompromising Python code formatter. By using it, you agree to cede   control over minutiae of hand-formatting. In return, Black gives you speed,                  determinism, and freedom from pycodestyle nagging about formatting. You will save            time and mental energy for more important matters."
   ],
   "cell_type": "markdown",
   "metadata": {}
  },
  {
   "source": [
    "# **Exception**\n",
    "\n",
    "So far the error messages have barely been mentioned, but if you've tried the examples above you've probably seen a few. There are (at least) two different types of errors: syntax errors and exceptions. "
   ],
   "cell_type": "markdown",
   "metadata": {}
  },
  {
   "source": [
    "## **Sintaxis Errors**\n",
    "\n",
    "Syntax errors are the most common when we start programming"
   ],
   "cell_type": "markdown",
   "metadata": {}
  },
  {
   "cell_type": "code",
   "execution_count": 194,
   "metadata": {},
   "outputs": [
    {
     "output_type": "error",
     "ename": "SyntaxError",
     "evalue": "invalid syntax (<ipython-input-194-8a581e9adad3>, line 3)",
     "traceback": [
      "\u001b[0;36m  File \u001b[0;32m\"<ipython-input-194-8a581e9adad3>\"\u001b[0;36m, line \u001b[0;32m3\u001b[0m\n\u001b[0;31m    if flag print(\"Good\")\u001b[0m\n\u001b[0m                ^\u001b[0m\n\u001b[0;31mSyntaxError\u001b[0m\u001b[0;31m:\u001b[0m invalid syntax\n"
     ]
    }
   ],
   "source": [
    "flag = True\n",
    "\n",
    "if flag print(\"Good\")"
   ]
  },
  {
   "source": [
    "## **Exception**\n",
    "\n",
    "Even if a statement or expression is syntactically correct, it can generate an error when it is attempted to execute. Errors detected during execution are called exceptions"
   ],
   "cell_type": "markdown",
   "metadata": {}
  },
  {
   "cell_type": "code",
   "execution_count": 195,
   "metadata": {},
   "outputs": [
    {
     "output_type": "error",
     "ename": "ZeroDivisionError",
     "evalue": "division by zero",
     "traceback": [
      "\u001b[0;31m---------------------------------------------------------------------------\u001b[0m",
      "\u001b[0;31mZeroDivisionError\u001b[0m                         Traceback (most recent call last)",
      "\u001b[0;32m<ipython-input-195-bc757c3fda29>\u001b[0m in \u001b[0;36m<module>\u001b[0;34m\u001b[0m\n\u001b[0;32m----> 1\u001b[0;31m \u001b[0;36m1\u001b[0m \u001b[0;34m/\u001b[0m \u001b[0;36m0\u001b[0m\u001b[0;34m\u001b[0m\u001b[0;34m\u001b[0m\u001b[0m\n\u001b[0m",
      "\u001b[0;31mZeroDivisionError\u001b[0m: division by zero"
     ]
    }
   ],
   "source": [
    "1 / 0"
   ]
  },
  {
   "source": [
    "## **Try-except**\n",
    "\n",
    "The [try](https://docs.python.org/es/3/tutorial/errors.html) statement works as follows:\n",
    "\n",
    "First, the try clause (the line (s) between the try and the except keywords) is executed.\n",
    "\n",
    "If no exceptions occur, the except clause is ignored and the execution of the try clause ends.\n",
    "\n",
    "If an exception occurs during the execution of the try clause the rest of the clause is ignored. So if the exception type matches the exception listed after the except, the except clause executes, and execution continues after the try."
   ],
   "cell_type": "markdown",
   "metadata": {}
  },
  {
   "cell_type": "code",
   "execution_count": 84,
   "metadata": {},
   "outputs": [
    {
     "output_type": "stream",
     "name": "stdout",
     "text": [
      "4.0\n"
     ]
    }
   ],
   "source": [
    "denominator = int(input(\"Give me a number\"))\n",
    "\n",
    "numerator = int(input(\"Give me a number\"))\n",
    "\n",
    "try:\n",
    "    print(numerator / denominator)\n",
    "except ZeroDivisionError:\n",
    "    print(\"Error!!!\")"
   ]
  },
  {
   "cell_type": "code",
   "execution_count": 1,
   "metadata": {},
   "outputs": [
    {
     "output_type": "stream",
     "name": "stdout",
     "text": [
      "Error!!! :c\n"
     ]
    }
   ],
   "source": [
    "while True:\n",
    "    try:\n",
    "        denominator = int(input(\"Give me a number\"))\n",
    "\n",
    "        numerator = int(input(\"Give me a number\"))\n",
    "        break\n",
    "    except ValueError:\n",
    "        print(\"Error!!!\")\n",
    "\n",
    "try:\n",
    "    print(numerator / denominator)\n",
    "except ZeroDivisionError:\n",
    "    print(\"Error!!! :c\")"
   ]
  },
  {
   "source": [
    "## **File**"
   ],
   "cell_type": "markdown",
   "metadata": {}
  },
  {
   "cell_type": "code",
   "execution_count": 32,
   "metadata": {},
   "outputs": [
    {
     "output_type": "stream",
     "name": "stdout",
     "text": [
      "<class 'FileNotFoundError'>: [Errno 2] No such file or directory: 'myfile.txt'\n"
     ]
    }
   ],
   "source": [
    "try:\n",
    "    f = open('myfile.txt')\n",
    "    f.close()\n",
    "except FileNotFoundError as err:\n",
    "    print(\"{}: {}\".format(FileNotFoundError,err))\n",
    "except ValueError:\n",
    "    print(\"Could not convert data to an integer.\")"
   ]
  },
  {
   "source": [
    "## **Raise**\n",
    "\n",
    "The raise statement allows the programmer to force a specific exception to occur."
   ],
   "cell_type": "markdown",
   "metadata": {}
  },
  {
   "cell_type": "code",
   "execution_count": 61,
   "metadata": {},
   "outputs": [
    {
     "output_type": "stream",
     "name": "stdout",
     "text": [
      "Error!!!\n"
     ]
    },
    {
     "output_type": "error",
     "ename": "ZeroDivisionError",
     "evalue": "denominator mustn't zero",
     "traceback": [
      "\u001b[0;31m---------------------------------------------------------------------------\u001b[0m",
      "\u001b[0;31mValueError\u001b[0m                                Traceback (most recent call last)",
      "\u001b[0;32m<ipython-input-61-d724aef5ba4c>\u001b[0m in \u001b[0;36m<module>\u001b[0;34m\u001b[0m\n\u001b[1;32m      2\u001b[0m     \u001b[0;32mtry\u001b[0m\u001b[0;34m:\u001b[0m\u001b[0;34m\u001b[0m\u001b[0;34m\u001b[0m\u001b[0m\n\u001b[0;32m----> 3\u001b[0;31m         \u001b[0mdenominator\u001b[0m \u001b[0;34m=\u001b[0m \u001b[0mint\u001b[0m\u001b[0;34m(\u001b[0m\u001b[0minput\u001b[0m\u001b[0;34m(\u001b[0m\u001b[0;34m\"Give me a number\"\u001b[0m\u001b[0;34m)\u001b[0m\u001b[0;34m)\u001b[0m\u001b[0;34m\u001b[0m\u001b[0;34m\u001b[0m\u001b[0m\n\u001b[0m\u001b[1;32m      4\u001b[0m \u001b[0;34m\u001b[0m\u001b[0m\n",
      "\u001b[0;31mValueError\u001b[0m: invalid literal for int() with base 10: 'e'",
      "\nDuring handling of the above exception, another exception occurred:\n",
      "\u001b[0;31mZeroDivisionError\u001b[0m                         Traceback (most recent call last)",
      "\u001b[0;32m<ipython-input-61-d724aef5ba4c>\u001b[0m in \u001b[0;36m<module>\u001b[0;34m\u001b[0m\n\u001b[1;32m     10\u001b[0m     \u001b[0;32mexcept\u001b[0m \u001b[0;34m(\u001b[0m\u001b[0mZeroDivisionError\u001b[0m\u001b[0;34m,\u001b[0m \u001b[0mValueError\u001b[0m\u001b[0;34m)\u001b[0m\u001b[0;34m:\u001b[0m\u001b[0;34m\u001b[0m\u001b[0;34m\u001b[0m\u001b[0m\n\u001b[1;32m     11\u001b[0m         \u001b[0mprint\u001b[0m\u001b[0;34m(\u001b[0m\u001b[0;34m\"Error!!!\"\u001b[0m\u001b[0;34m)\u001b[0m\u001b[0;34m\u001b[0m\u001b[0;34m\u001b[0m\u001b[0m\n\u001b[0;32m---> 12\u001b[0;31m         \u001b[0;32mraise\u001b[0m \u001b[0mZeroDivisionError\u001b[0m\u001b[0;34m(\u001b[0m\u001b[0;34m\"denominator mustn't zero\"\u001b[0m\u001b[0;34m)\u001b[0m\u001b[0;34m\u001b[0m\u001b[0;34m\u001b[0m\u001b[0m\n\u001b[0m",
      "\u001b[0;31mZeroDivisionError\u001b[0m: denominator mustn't zero"
     ]
    }
   ],
   "source": [
    "while True:\n",
    "    try:\n",
    "        denominator = int(input(\"Give me a number\"))\n",
    "\n",
    "        numerator = int(input(\"Give me a number\"))\n",
    "\n",
    "        print(numerator / denominator)\n",
    "        \n",
    "        break\n",
    "    except (ZeroDivisionError, ValueError):\n",
    "        print(\"Error!!!\")\n",
    "        raise ZeroDivisionError(\"denominator mustn't zero\")"
   ]
  },
  {
   "cell_type": "code",
   "execution_count": 87,
   "metadata": {},
   "outputs": [
    {
     "output_type": "stream",
     "name": "stdout",
     "text": [
      "ValueError: invalid literal for int() with base 10: 'f'\nprint first\n"
     ]
    }
   ],
   "source": [
    "try:\n",
    "    input_ = int(input(\"give a number\"))\n",
    "except ValueError as err:\n",
    "    print(\"ValueError: {}\".format(err))\n",
    "finally:\n",
    "    print(\"print first\")"
   ]
  },
  {
   "source": [
    "## **MyException**"
   ],
   "cell_type": "markdown",
   "metadata": {}
  },
  {
   "cell_type": "code",
   "execution_count": 26,
   "metadata": {},
   "outputs": [
    {
     "output_type": "error",
     "ename": "ValidationError",
     "evalue": "You don't write strings...",
     "traceback": [
      "\u001b[0;31m---------------------------------------------------------------------------\u001b[0m",
      "\u001b[0;31mValueError\u001b[0m                                Traceback (most recent call last)",
      "\u001b[0;32m<ipython-input-26-01abaf2082ca>\u001b[0m in \u001b[0;36m<module>\u001b[0;34m\u001b[0m\n\u001b[1;32m     22\u001b[0m \u001b[0;34m\u001b[0m\u001b[0m\n\u001b[0;32m---> 23\u001b[0;31m     \u001b[0mdenominator\u001b[0m \u001b[0;34m=\u001b[0m \u001b[0mint\u001b[0m\u001b[0;34m(\u001b[0m\u001b[0minput\u001b[0m\u001b[0;34m(\u001b[0m\u001b[0;34m\"Give me a number\"\u001b[0m\u001b[0;34m)\u001b[0m\u001b[0;34m)\u001b[0m\u001b[0;34m\u001b[0m\u001b[0;34m\u001b[0m\u001b[0m\n\u001b[0m\u001b[1;32m     24\u001b[0m     \u001b[0;32mraise\u001b[0m \u001b[0mValidationError\u001b[0m\u001b[0;34m(\u001b[0m\u001b[0;34m\"Error\"\u001b[0m\u001b[0;34m,\u001b[0m \u001b[0mZeroDivisionError\u001b[0m\u001b[0;34m)\u001b[0m\u001b[0;34m\u001b[0m\u001b[0;34m\u001b[0m\u001b[0m\n",
      "\u001b[0;31mValueError\u001b[0m: invalid literal for int() with base 10: 'ff'",
      "\nDuring handling of the above exception, another exception occurred:\n",
      "\u001b[0;31mValidationError\u001b[0m                           Traceback (most recent call last)",
      "\u001b[0;32m<ipython-input-26-01abaf2082ca>\u001b[0m in \u001b[0;36m<module>\u001b[0;34m\u001b[0m\n\u001b[1;32m     24\u001b[0m     \u001b[0;32mraise\u001b[0m \u001b[0mValidationError\u001b[0m\u001b[0;34m(\u001b[0m\u001b[0;34m\"Error\"\u001b[0m\u001b[0;34m,\u001b[0m \u001b[0mZeroDivisionError\u001b[0m\u001b[0;34m)\u001b[0m\u001b[0;34m\u001b[0m\u001b[0;34m\u001b[0m\u001b[0m\n\u001b[1;32m     25\u001b[0m \u001b[0;32mexcept\u001b[0m \u001b[0mValueError\u001b[0m\u001b[0;34m:\u001b[0m\u001b[0;34m\u001b[0m\u001b[0;34m\u001b[0m\u001b[0m\n\u001b[0;32m---> 26\u001b[0;31m     \u001b[0;32mraise\u001b[0m \u001b[0mValidationError\u001b[0m\u001b[0;34m(\u001b[0m\u001b[0;34m\"You don't write strings\"\u001b[0m\u001b[0;34m,\u001b[0m \u001b[0mValueError\u001b[0m\u001b[0;34m)\u001b[0m\u001b[0;34m\u001b[0m\u001b[0;34m\u001b[0m\u001b[0m\n\u001b[0m",
      "\u001b[0;31mValidationError\u001b[0m: You don't write strings..."
     ]
    }
   ],
   "source": [
    "class ValidationError(Exception):\n",
    "    \"\"\"\n",
    "    This class inheritance of Exception Class\n",
    "    Arguments:\n",
    "        --self.errors: Exception happened\n",
    "        --self.message: Message personality\n",
    "    Methods:\n",
    "        --<__init__>: Contstructor of the class\n",
    "        --<__str__>: Special Method\n",
    "    \"\"\"\n",
    "\n",
    "    def __init__(self, message, errors):\n",
    "        super(ValidationError, self).__init__(message)\n",
    "        self.errors = errors\n",
    "        self.message = message\n",
    "\n",
    "    def __str__(self):\n",
    "        return f\"{self.message}...\"\n",
    "\n",
    "\n",
    "try:\n",
    "\n",
    "    denominator = int(input(\"Give me a number\"))\n",
    "    raise ValidationError(\"Error\", ZeroDivisionError)\n",
    "except ValueError:\n",
    "    raise ValidationError(\"You don't write strings\", ValueError)"
   ]
  },
  {
   "source": [
    "# **Numpy**\n",
    "\n",
    "NumPy is the fundamental package for scientific computing in Python. It is a Python library that provides a multidimensional array object, various derived objects (such as masked arrays and matrices), and an assortment of routines for fast operations on arrays, including mathematical, logical, shape manipulation, sorting, selecting, I/O, discrete Fourier transforms, basic linear algebra, basic statistical operations, random simulation and much more.\n",
    "\n",
    "There are several important differences between NumPy arrays and the standard Python sequences:\n",
    "\n",
    "- NumPy arrays have a fixed size at creation, unlike Python lists (which can grow dynamically). Changing the size of an ndarray will create a new array and delete the original.\n",
    "\n",
    "- The elements in a NumPy array are all required to be of the same data type, and thus will be the same size in memory. The exception: one can have arrays of (Python, including NumPy) objects, thereby allowing for arrays of different sized elements.\n",
    "\n",
    "- NumPy arrays facilitate advanced mathematical and other types of operations on large numbers of data. Typically, such operations are executed more efficiently and with less code than is possible using Python’s built-in sequences.\n",
    "\n",
    "<center>\n",
    "<img src=\"https://techscript24.com/wp-content/uploads/2020/10/86498201-a8bd8680-bd39-11ea-9d08-66b610a8dc01.png\" width=\"20% height=\"30%\">\n"
   ],
   "cell_type": "markdown",
   "metadata": {}
  },
  {
   "source": [
    "**[Install Numpy](https://numpy.org/install/)**\n",
    "\n",
    "pip install numpy"
   ],
   "cell_type": "markdown",
   "metadata": {}
  },
  {
   "source": [
    "**Import numpy**"
   ],
   "cell_type": "markdown",
   "metadata": {}
  },
  {
   "cell_type": "code",
   "execution_count": 89,
   "metadata": {},
   "outputs": [],
   "source": [
    "import numpy as np"
   ]
  },
  {
   "source": [
    "## Initialize Numpy's array\n",
    "\n",
    "Convert a list in **Numpy** array"
   ],
   "cell_type": "markdown",
   "metadata": {}
  },
  {
   "source": [
    "## Array"
   ],
   "cell_type": "markdown",
   "metadata": {}
  },
  {
   "cell_type": "code",
   "execution_count": 71,
   "metadata": {},
   "outputs": [
    {
     "output_type": "stream",
     "name": "stdout",
     "text": [
      "array:[[1 3 4 5]]\n\n type: <class 'numpy.ndarray'>\n"
     ]
    }
   ],
   "source": [
    "numpy_array_example_1 = np.array([[1, 3, 4, 5]])#(1,4)\n",
    "#create a NumPy array is to create it from a Python list\n",
    "print(\n",
    "    \"array:{}\\n\\n type: {}\".format(numpy_array_example_1, type(numpy_array_example_1))\n",
    ")"
   ]
  },
  {
   "source": [
    "## **Zeros**"
   ],
   "cell_type": "markdown",
   "metadata": {}
  },
  {
   "cell_type": "code",
   "execution_count": 91,
   "metadata": {},
   "outputs": [
    {
     "output_type": "execute_result",
     "data": {
      "text/plain": [
       "array([[0., 0., 0., 0.],\n",
       "       [0., 0., 0., 0.]])"
      ]
     },
     "metadata": {},
     "execution_count": 91
    }
   ],
   "source": [
    "numpy_array_zeros = np.zeros((2,4)) #Create a Numpy's arrys of zeros with shape (2, 4)\n",
    "\n",
    "numpy_array_zeros"
   ]
  },
  {
   "source": [
    "## **full**"
   ],
   "cell_type": "markdown",
   "metadata": {}
  },
  {
   "cell_type": "code",
   "execution_count": 94,
   "metadata": {},
   "outputs": [
    {
     "output_type": "execute_result",
     "data": {
      "text/plain": [
       "array([[3, 3, 3, 3]])"
      ]
     },
     "metadata": {},
     "execution_count": 94
    }
   ],
   "source": [
    "numpy_array_full = np.full((1,4), 3) #Create a Numpy's array of 8s with shape (1, 4)\n",
    "\n",
    "numpy_array_full"
   ]
  },
  {
   "source": [
    "## **Extra examples**"
   ],
   "cell_type": "markdown",
   "metadata": {}
  },
  {
   "cell_type": "code",
   "execution_count": 97,
   "metadata": {},
   "outputs": [
    {
     "output_type": "stream",
     "name": "stdout",
     "text": [
      "array:[['1' '3' '4' 'hello']]\n\n type: <class 'numpy.ndarray'>\n"
     ]
    }
   ],
   "source": [
    "numpy_array_example_2 = np.array([[1, 3, 4, \"hello\"]], dtype=np.str)\n",
    "\n",
    "print(\n",
    "    \"array:{}\\n\\n type: {}\".format(numpy_array_example_2, type(numpy_array_example_2))\n",
    ")"
   ]
  },
  {
   "cell_type": "code",
   "execution_count": 68,
   "metadata": {},
   "outputs": [
    {
     "output_type": "stream",
     "name": "stdout",
     "text": [
      "array:[[1.  3.  4.  3.4]]\n\n type: <class 'numpy.ndarray'>\n"
     ]
    }
   ],
   "source": [
    "numpy_array_example_3 = np.array([[1, 3, 4, 3.4]])\n",
    "\n",
    "print(\n",
    "    \"array:{}\\n\\n type: {}\".format(numpy_array_example_3, type(numpy_array_example_3))\n",
    ")"
   ]
  },
  {
   "source": [
    "## **dtype**"
   ],
   "cell_type": "markdown",
   "metadata": {}
  },
  {
   "cell_type": "code",
   "execution_count": 99,
   "metadata": {},
   "outputs": [
    {
     "output_type": "execute_result",
     "data": {
      "text/plain": [
       "dtype('float64')"
      ]
     },
     "metadata": {},
     "execution_count": 99
    }
   ],
   "source": [
    "numpy_array_example_3.dtype  #Data-type of the array’s elements."
   ]
  },
  {
   "source": [
    "## **Shape**"
   ],
   "cell_type": "markdown",
   "metadata": {}
  },
  {
   "cell_type": "code",
   "execution_count": 102,
   "metadata": {},
   "outputs": [
    {
     "output_type": "execute_result",
     "data": {
      "text/plain": [
       "(1, 4)"
      ]
     },
     "metadata": {},
     "execution_count": 102
    }
   ],
   "source": [
    "numpy_array_example_1.shape \n",
    "#The shape of an array is the number of elements in each dimension."
   ]
  },
  {
   "source": [
    "## **ndim**"
   ],
   "cell_type": "markdown",
   "metadata": {}
  },
  {
   "cell_type": "code",
   "execution_count": 103,
   "metadata": {},
   "outputs": [
    {
     "output_type": "execute_result",
     "data": {
      "text/plain": [
       "2"
      ]
     },
     "metadata": {},
     "execution_count": 103
    }
   ],
   "source": [
    "numpy_array_example_2.ndim #Number of array dimensions. "
   ]
  },
  {
   "source": [
    "## **size**"
   ],
   "cell_type": "markdown",
   "metadata": {}
  },
  {
   "source": [
    "numpy_array_example_1.size #Size of the first dimension of numpy.ndarray: len()[[1, 3, 4, 5]]"
   ],
   "cell_type": "code",
   "metadata": {},
   "execution_count": 60,
   "outputs": [
    {
     "output_type": "execute_result",
     "data": {
      "text/plain": [
       "4"
      ]
     },
     "metadata": {},
     "execution_count": 60
    }
   ]
  },
  {
   "source": [
    "## **itemsize**"
   ],
   "cell_type": "markdown",
   "metadata": {}
  },
  {
   "cell_type": "code",
   "execution_count": 105,
   "metadata": {},
   "outputs": [
    {
     "output_type": "execute_result",
     "data": {
      "text/plain": [
       "8"
      ]
     },
     "metadata": {},
     "execution_count": 105
    }
   ],
   "source": [
    "numpy_array_example_3.itemsize #Length of one array element in bytes."
   ]
  },
  {
   "source": [
    "## **Array index**"
   ],
   "cell_type": "markdown",
   "metadata": {}
  },
  {
   "cell_type": "code",
   "execution_count": 51,
   "metadata": {},
   "outputs": [
    {
     "output_type": "stream",
     "name": "stdout",
     "text": [
      "[[1 2 3 4 5]\n [6 7 8 9 0]]\n\n9\n\n5\n\n[6 7 8 9 0]\n"
     ]
    }
   ],
   "source": [
    "list1 = [1,2,3,4,5]\n",
    "\n",
    "list2 = [6,7,8,9,0]\n",
    "\n",
    "list_arrays_2 = np.array([list1,list2])\n",
    "\n",
    "print(f\"{r2}\\n\") # Numpy's array with shape (2, 5)\n",
    "\n",
    "'''\n",
    "[[1 2 3 4 5]\n",
    "[6 7 8 9 0]]\n",
    "'''\n",
    "\n",
    "print(f\"{r2[1, 3]}\\n\")\n",
    "\n",
    "print(f\"{r2[0, 4]}\\n\")\n",
    "\n",
    "print(f\"{r2[1]}\")"
   ]
  },
  {
   "source": [
    "## **Boolean Indexing**"
   ],
   "cell_type": "markdown",
   "metadata": {}
  },
  {
   "cell_type": "code",
   "execution_count": 44,
   "metadata": {},
   "outputs": [
    {
     "output_type": "stream",
     "name": "stdout",
     "text": [
      "[[ True  True  True  True]]\n"
     ]
    }
   ],
   "source": [
    "print(numpy_array_example_1 < numpy_array_full)\n",
    "\n",
    "## numpy_array_example_1 : [[1 3 4 5]]  < numpy_array_full: [[8., 8., 8., 8.]]\n"
   ]
  },
  {
   "source": [
    "## **full_like**"
   ],
   "cell_type": "markdown",
   "metadata": {}
  },
  {
   "cell_type": "code",
   "execution_count": 106,
   "metadata": {},
   "outputs": [
    {
     "output_type": "stream",
     "name": "stdout",
     "text": [
      "[[6 6 6 6 6 6]]\n"
     ]
    },
    {
     "output_type": "execute_result",
     "data": {
      "text/plain": [
       "array([ 8,  9, 12])"
      ]
     },
     "metadata": {},
     "execution_count": 106
    }
   ],
   "source": [
    "list_array_index_1 = np.array([[1, 4, 3, 8, 9, 12]]) #Initilize Numpy' array (1, 7)\n",
    "\n",
    "list_array_full_like = np.full_like(list_array_index_1, np.mean(list_array_index_1))\n",
    "\n",
    "print(list_array_full_like)\n",
    "\n",
    "list_array_index_1[list_array_full_like < list_array_index_1 ]"
   ]
  },
  {
   "source": [
    "## **Slicing Arrays**"
   ],
   "cell_type": "markdown",
   "metadata": {}
  },
  {
   "cell_type": "code",
   "execution_count": 73,
   "metadata": {},
   "outputs": [
    {
     "output_type": "stream",
     "name": "stdout",
     "text": [
      "[1 2 3 4]\n\n[8 7 6 5 4]\n\n[8 7 6]\n\n"
     ]
    }
   ],
   "source": [
    "array_list_example = np.array(\n",
    "    [[1,2,3,4,5],\n",
    "    [4,5,6,7,8],\n",
    "    [9,8,7,6,5]])\n",
    "\n",
    "print(f\"{array_list_example[0, :-1]}\\n\")\n",
    "\n",
    "print(f\"{array_list_example[1, ::-1]}\\n\")\n",
    "\n",
    "print(f\"{array_list_example[2, 1:4]}\\n\")"
   ]
  },
  {
   "cell_type": "code",
   "execution_count": 63,
   "metadata": {},
   "outputs": [
    {
     "output_type": "stream",
     "name": "stdout",
     "text": [
      "[9 8 7 6]\n\n[5 6 7]\n\n"
     ]
    }
   ],
   "source": [
    "print(f\"{array_list_example[2, :-1]}\\n\")\n",
    "\n",
    "print(f\"{array_list_example[1, -4:-1]}\\n\")"
   ]
  },
  {
   "source": [
    "## **Operation with Numpy**\n",
    "---\n",
    "\n"
   ],
   "cell_type": "markdown",
   "metadata": {}
  },
  {
   "source": [
    "### **Sum**"
   ],
   "cell_type": "markdown",
   "metadata": {}
  },
  {
   "cell_type": "code",
   "execution_count": 5,
   "metadata": {},
   "outputs": [],
   "source": [
    "list_1 = [1, 2, 4, 5]  #Initialize a python's list\n",
    "\n",
    "list_2 = [1, 5, 5, 4]  #Initialize a python's list "
   ]
  },
  {
   "cell_type": "code",
   "execution_count": 7,
   "metadata": {},
   "outputs": [],
   "source": [
    "list_array_1 = np.array([[1, 2, 4, 5]])  #Initialize a numpy array shape (1, 4)\n",
    "\n",
    "list_array_2 = np.array([[1, 3, 5, 6]])  #Initialize a numpy array shape (1, 4)"
   ]
  },
  {
   "source": [
    "**Compare**"
   ],
   "cell_type": "markdown",
   "metadata": {}
  },
  {
   "cell_type": "code",
   "execution_count": 79,
   "metadata": {},
   "outputs": [
    {
     "output_type": "stream",
     "name": "stdout",
     "text": [
      "[1, 2, 4, 5, 1, 5, 5, 4]\n"
     ]
    }
   ],
   "source": [
    "print(list_1 + list_2)  #The list_2 is adding at the final of list_1"
   ]
  },
  {
   "cell_type": "code",
   "execution_count": 78,
   "metadata": {},
   "outputs": [
    {
     "output_type": "stream",
     "name": "stdout",
     "text": [
      "[[ 2  5  9 11]]\n"
     ]
    }
   ],
   "source": [
    "print(list_array_1 + list_array_2)  #Don't forget arrays' sum with (1, 4) + (1, 4) -> (1, 4)"
   ]
  },
  {
   "source": [
    "## Broadcasting\n",
    "---"
   ],
   "cell_type": "markdown",
   "metadata": {}
  },
  {
   "cell_type": "code",
   "execution_count": 80,
   "metadata": {},
   "outputs": [
    {
     "output_type": "execute_result",
     "data": {
      "text/plain": [
       "array([[5, 6, 8, 9]])"
      ]
     },
     "metadata": {},
     "execution_count": 80
    }
   ],
   "source": [
    "list_array_1 + 4  #Rember the shape for the list_array_1 ->(1,4) and the list is:[1, 2, 4, 5]"
   ]
  },
  {
   "cell_type": "code",
   "execution_count": 8,
   "metadata": {},
   "outputs": [
    {
     "output_type": "execute_result",
     "data": {
      "text/plain": [
       "array([[ 2,  6,  9, 11],\n",
       "       [ 2,  7, 10, 12]])"
      ]
     },
     "metadata": {},
     "execution_count": 8
    }
   ],
   "source": [
    "list_array_3 = [[1, 3, 4, 5], [1, 4, 5, 6]]  # Initialize a python's list  two sublist\n",
    "\n",
    "list_array_3 = np.array(list_array_3) #Convert the list in Numpy's array with shape -> (2, 4)\n",
    "\n",
    "list_array_2 + list_array_3  #Sum two Numpy arrays' with shape: (1, 4) + (2, 4) -> (2, 4)"
   ]
  },
  {
   "cell_type": "code",
   "execution_count": 9,
   "metadata": {},
   "outputs": [
    {
     "output_type": "execute_result",
     "data": {
      "text/plain": [
       "array([[ 2,  4,  5,  6],\n",
       "       [ 4,  6,  7,  8],\n",
       "       [ 6,  8,  9, 10],\n",
       "       [ 7,  9, 10, 11]])"
      ]
     },
     "metadata": {},
     "execution_count": 9
    }
   ],
   "source": [
    "list_array_4 =  [[1, 3, 4, 5]]  #Initialize a python's list (1, 4) \n",
    "\n",
    "list_array_4 = np.array(list_array_4) #Actualize the list_array_4 shape: (1, 4)\n",
    "\n",
    "list_array_4 + list_array_2.T #shape (1, 4) + (4, 1) -> (4, 4)"
   ]
  },
  {
   "source": [
    "Is it possible? What is the shape of this?\n",
    "\n",
    "list_array_4 + list_array_3.T #shape (1, 4) + (4, 2) -> ?"
   ],
   "cell_type": "markdown",
   "metadata": {}
  },
  {
   "source": [
    "**Division**"
   ],
   "cell_type": "markdown",
   "metadata": {}
  },
  {
   "cell_type": "code",
   "execution_count": 2,
   "metadata": {},
   "outputs": [],
   "source": [
    "list_array_5 = np.random.randn(2, 6) #Initialize numpy's array \n",
    "\n",
    "list_array_6 = np.random.randn(1,6) #Initialize numpy's array"
   ]
  },
  {
   "cell_type": "code",
   "execution_count": 123,
   "metadata": {},
   "outputs": [
    {
     "output_type": "execute_result",
     "data": {
      "text/plain": [
       "array([[ 0.08880278, -0.15692396,  0.50227734,  0.75372394, -0.10482422,\n",
       "        -0.09868096],\n",
       "       [-0.0394082 ,  0.03715227, -0.12289026,  0.00133819,  0.38420478,\n",
       "        -0.16264112]])"
      ]
     },
     "metadata": {},
     "execution_count": 123
    }
   ],
   "source": [
    "list_array_5 / 3 #Divide with three"
   ]
  },
  {
   "cell_type": "code",
   "execution_count": 113,
   "metadata": {},
   "outputs": [
    {
     "output_type": "execute_result",
     "data": {
      "text/plain": [
       "array([[ -2.23436106,  -5.16067012,  -0.20325389,  -0.05027103,\n",
       "          1.08418275,   1.68437749],\n",
       "       [  5.03492905,  21.79766721,   0.83073972, -28.31463808,\n",
       "         -0.29580217,   1.02198009]])"
      ]
     },
     "metadata": {},
     "execution_count": 113
    }
   ],
   "source": [
    "list_array_6 / list_array_5 # Divide (1, 6) / (2, 6) -> (2, 6)"
   ]
  },
  {
   "cell_type": "code",
   "execution_count": 117,
   "metadata": {},
   "outputs": [
    {
     "output_type": "execute_result",
     "data": {
      "text/plain": [
       "array([[ -1.6799595 ,  -5.0398785 ,  -6.71983801,  -8.39979751],\n",
       "       [  0.41160759,   1.23482277,   1.64643036,   2.05803795],\n",
       "       [ -3.26509852,  -9.79529557, -13.06039409, -16.32549262],\n",
       "       [ -8.79728437, -26.39185312, -35.18913749, -43.98642186],\n",
       "       [ -2.93301735,  -8.79905204, -11.73206939, -14.66508673],\n",
       "       [ -2.00542277,  -6.01626831,  -8.02169108, -10.02711386]])"
      ]
     },
     "metadata": {},
     "execution_count": 117
    }
   ],
   "source": [
    "list_array_4 / list_array_6.T #Divede (1, 4) / (6, 1) -> (6, 4)"
   ]
  },
  {
   "source": [
    "Is it possible?  What is the shape of this?\n",
    "\n",
    "- list_array_4 / list_array_6 #shape (1, 4) / (1, 6) -> ?\n",
    "\n",
    "- shape (2, 5) / (3, 1) -> ?"
   ],
   "cell_type": "markdown",
   "metadata": {}
  },
  {
   "source": [
    "## **Vectorization**"
   ],
   "cell_type": "markdown",
   "metadata": {}
  },
  {
   "cell_type": "code",
   "execution_count": 115,
   "metadata": {},
   "outputs": [],
   "source": [
    "import math\n",
    "\n",
    "math_sigmoid = lambda x: 1 / (1 + math.exp(-x))\n",
    "\n",
    "numpy_sigmoid = lambda x : 1 / (1 + np.exp(-x)) "
   ]
  },
  {
   "source": [],
   "cell_type": "markdown",
   "metadata": {}
  },
  {
   "cell_type": "code",
   "execution_count": 116,
   "metadata": {},
   "outputs": [],
   "source": [
    "import time"
   ]
  },
  {
   "cell_type": "code",
   "execution_count": 117,
   "metadata": {},
   "outputs": [],
   "source": [
    "vector_example_1 = np.random.rand(1, 1000)  #Create a Numpy's array (1, 1000)"
   ]
  },
  {
   "cell_type": "code",
   "execution_count": 119,
   "metadata": {},
   "outputs": [],
   "source": [
    "#Calculete math_sigmoid \n",
    "\n",
    "auxiliar_array = np.empty(vector_example_1.shape[1])\n",
    "\n",
    "time_start = time.time()\n",
    "\n",
    "for ix in range(vector_example_1.shape[1]):\n",
    "    auxiliar_array[ix] = math_sigmoid(vector_example_1[0][ix])\n",
    "\n",
    "time_finish = time.time()"
   ]
  },
  {
   "cell_type": "code",
   "execution_count": 120,
   "metadata": {},
   "outputs": [
    {
     "output_type": "stream",
     "name": "stdout",
     "text": [
      "0.002669095993041992\n"
     ]
    }
   ],
   "source": [
    "print(time_finish-time_start) #Time of Numpy's array"
   ]
  },
  {
   "source": [
    "### **Compare**"
   ],
   "cell_type": "markdown",
   "metadata": {}
  },
  {
   "cell_type": "code",
   "execution_count": 122,
   "metadata": {},
   "outputs": [],
   "source": [
    "time_start = time.time()\n",
    "\n",
    "numpy_sigmoid(vector_example_1) #Use Numpy for calculate the sigmoid function \n",
    "\n",
    "time_finish = time.time()"
   ]
  },
  {
   "cell_type": "code",
   "execution_count": 123,
   "metadata": {},
   "outputs": [
    {
     "output_type": "stream",
     "name": "stdout",
     "text": [
      "0.001688241958618164\n"
     ]
    }
   ],
   "source": [
    "print(time_finish-time_start) #Time of numpy_sigmoid"
   ]
  },
  {
   "source": [
    "## **Other Example**"
   ],
   "cell_type": "markdown",
   "metadata": {}
  },
  {
   "source": [
    "x = np.random.randn(2, 6) #Return Numpy's array with (2, 6)\n",
    "\n",
    "polynomic = lambda x: x**3 + 2*x**2 + 4\n",
    "\n",
    "\"\"\"\n",
    "Argument: \n",
    "    - x: This is a Numpy's array with (n, m)\n",
    "return :\n",
    "    - x^3 + 2*x^2 + 4\n",
    "\"\"\"\n",
    "\n",
    "print(polynomic(x))"
   ],
   "cell_type": "code",
   "metadata": {},
   "execution_count": 21,
   "outputs": [
    {
     "output_type": "stream",
     "name": "stdout",
     "text": [
      "[[ 7.93645266  4.31180062  4.0724336   4.7399741   4.97927025  4.22316028]\n [ 4.96712777 10.83470582  4.95801662  5.16009007  4.18223685  4.05740096]]\n"
     ]
    }
   ]
  },
  {
   "source": [
    "### **Dot**"
   ],
   "cell_type": "markdown",
   "metadata": {}
  },
  {
   "cell_type": "code",
   "execution_count": null,
   "metadata": {},
   "outputs": [],
   "source": [
    "\"\"\"\n",
    "np.dot is the dot product of two matrices.\n",
    "\n",
    "|A B| . |E F| = |A*E+B*G A*F+B*H|\n",
    "|C D|   |G H|   |C*E+D*G C*F+D*H|\n",
    "\n",
    "\"\"\""
   ]
  },
  {
   "cell_type": "code",
   "execution_count": 124,
   "metadata": {},
   "outputs": [],
   "source": [
    "def initilize_parameters(n_h, n_x, n_y):\n",
    "    \"\"\"\n",
    "    Argument:\n",
    "        n_x: size input layer\n",
    "        n_h: size hidden layer\n",
    "        n_y: size output layer\n",
    "    return:\n",
    "        Dictionary with paramaters:\n",
    "        W1:  Weight matrix of (n_h, n_x)\n",
    "        b1: bias vector of (n_h, 1)\n",
    "        W1:  Weight matrix of (n_y, n_h)\n",
    "        b2: bias vector of (n_y, 1)\n",
    "    \"\"\"\n",
    "    W1 = np.random.randn(n_h, n_x)\n",
    "    b1 = np.zeros((n_h, 1))\n",
    "    W2 = np.random.randn(n_y,n_h)\n",
    "    b2 = np.zeros((n_y, 1))\n",
    "    \n",
    "    parameters = {\n",
    "        'W1': W1,\n",
    "        'W2': W2,\n",
    "        'b1': b1,\n",
    "        'b2': b2\n",
    "    }\n",
    "    return parameters"
   ]
  },
  {
   "cell_type": "code",
   "execution_count": 126,
   "metadata": {},
   "outputs": [
    {
     "output_type": "stream",
     "name": "stdout",
     "text": [
      "(3, 4)\n(3, 4)\n(2, 4)\n(2, 4)\n"
     ]
    },
    {
     "output_type": "execute_result",
     "data": {
      "text/plain": [
       "array([[0.5951272 , 0.59314427, 0.60740386, 0.64156711],\n",
       "       [0.73124907, 0.7194176 , 0.735907  , 0.84385565]])"
      ]
     },
     "metadata": {},
     "execution_count": 126
    }
   ],
   "source": [
    "def forward(parameters, A):\n",
    "     \"\"\"\n",
    "     Implements the forwardpass \n",
    "     Arguments:\n",
    "        -- parameters: This is a dictionary with the weights and bias.\n",
    "        --- A is matrix intput size (n_x, n_examples)\n",
    "     return:\n",
    "        -- A2 -> return activation function\n",
    "     \"\"\"\n",
    "\n",
    "     W1, b1, W2, b2 = parameters[\"W1\"], parameters[\"b1\"], parameters[\"W2\"], parameters[\"b2\"]\n",
    "\n",
    "     sigmoid = lambda x: 1/(1+np.e**(-x)) #define function labmda with sigmoid operation\n",
    "    \n",
    "     A1 = np.dot(W1,A) + b1 # apply the np.dot (n_h, n_x) , (n_x, n_examples) + (n_h, 1)-> ?\n",
    "     print(A1.shape)\n",
    "     A1 = sigmoid(A1)  #Apply the sigmoid function  shape ??\n",
    "     print(A1.shape)\n",
    "     A2 = np.dot(W2,A1) + b2 # apply the np.dot  (n_y, n_h)\n",
    "     print(A2.shape)\n",
    "     A2 = sigmoid(A2) #Apply the sigmoid function  shape ??\n",
    "     print(A2.shape) \n",
    "     return A2\n",
    "\n",
    "parameters = initilize_parameters(3, 3, 2)\n",
    "\n",
    "A = np.random.rand(3, 4)\n",
    "\n",
    "forward(parameters,A)"
   ]
  },
  {
   "source": [
    "## **Multiply**"
   ],
   "cell_type": "markdown",
   "metadata": {}
  },
  {
   "source": [
    "\"\"\"\n",
    "Multiply\n",
    "\n",
    "|A B| ⊙ |E F| = |A*E B*F|\n",
    "|C D|   |G H|   |C*G D*H|\n",
    "\"\"\""
   ],
   "cell_type": "code",
   "metadata": {},
   "execution_count": null,
   "outputs": []
  },
  {
   "source": [],
   "cell_type": "markdown",
   "metadata": {}
  },
  {
   "source": [
    "### **Don't forget**\n",
    "- Original array -> (5, 3)\n",
    "- Example_1 return an array (1,1) \n",
    "- Example_2 return a scalar (1,) \n",
    "- Example_3 return an array ->  (5, 1)\n",
    "- Example_4 lose a dim -> (5,)\n",
    "- Example_5 return an array -> (3,1)\n",
    "- Example_6 lose a dim (3,)"
   ],
   "cell_type": "markdown",
   "metadata": {}
  },
  {
   "cell_type": "code",
   "execution_count": 106,
   "metadata": {},
   "outputs": [
    {
     "output_type": "stream",
     "name": "stdout",
     "text": [
      "<class 'numpy.int64'>\n"
     ]
    }
   ],
   "source": [
    "a = np.array([[0, 0, 0],\n",
    "              [0, 1, 0],\n",
    "              [0, 2, 0],\n",
    "              [1, 0, 0],\n",
    "              [1, 1, 0]]) #Initialize a Numpy's array (5, 3)\n",
    "\n",
    "np.sum(a, keepdims=True) #Example_1 :array([[6]]) (1,1)\n",
    "\n",
    "np.sum(a, keepdims=False)  # Example_2: 6 -<\n",
    "\n",
    "np.sum(a, axis=1, keepdims=True) #Example_3: array([[0], [1], [2], [1], [2]])\n",
    "\n",
    "np.sum(a, axis=1, keepdims=False) #Example_4: array([0, 1, 2, 1, 2])\n",
    "\n",
    "np.sum(a, axis=0, keepdims=True) #Example_5: array([[2, 4, 0]])\n",
    "\n",
    "np.sum(a, axis=0, keepdims=False) #Example_6: array([2, 4, 0])\n"
   ]
  },
  {
   "source": [
    "### **[Binary Crossentropy](https://towardsdatascience.com/where-did-the-binary-cross-entropy-loss-function-come-from-ac3de349a715)**\n",
    "\n",
    "<center>\n",
    "<img src=\"https://miro.medium.com/max/2086/1*e9HcMYTPeN1cV56qqxe6dA.png\" width=\"80%\" height=\"90\">"
   ],
   "cell_type": "markdown",
   "metadata": {}
  },
  {
   "cell_type": "code",
   "execution_count": 94,
   "metadata": {},
   "outputs": [
    {
     "output_type": "stream",
     "name": "stdout",
     "text": [
      "[[0.06080474]\n [0.0522107 ]\n [0.05204606]\n [0.04768578]]\n"
     ]
    }
   ],
   "source": [
    "Y = np.array([[0, 0, 1, 0], [0, 0, 0, 1], [1, 0, 0, 0], [0, 0, 0, 1]])\n",
    "\n",
    "Y_hat = np.array(\n",
    "    [\n",
    "        [0.01, 0.005, 0.8, 0.005],\n",
    "        [0.01, 0.08, 0.01, 0.9],\n",
    "        [0.9, 0.01, 0.02, 0.07],\n",
    "        [0.001, 0.001, 0.08, 0.9],\n",
    "    ]\n",
    ")\n",
    "\n",
    "\n",
    "def binary_crossentropy(Y, Y_hat):\n",
    "    \"\"\"\n",
    "    Arguments:\n",
    "        -- Y : (ndarrray) This is Numpy's array with (n, m)\n",
    "        -- Y_hat : (ndarray)  This is Numpy's array with (n,m)\n",
    "    return:\n",
    "        - n: length of Numpy's array\n",
    "        - (-1/n)*(sum(Y*log(Y_hat) +  (1-Y)*log(1-Y_Hat) ) \n",
    "    \"\"\"\n",
    "    n = len(Y)\n",
    "    return (-1 / n) * np.sum(\n",
    "        np.multiply(Y, np.log(Y_hat)) + np.multiply((1 - Y), np.log(1 - Y_hat)), axis=1, keepdims=True)\n",
    "\n",
    "\n",
    "loss = binary_crossentropy(Y, Y_hat)\n",
    "\n",
    "print(loss)\n"
   ]
  },
  {
   "source": [
    "## **Aplication**"
   ],
   "cell_type": "markdown",
   "metadata": {}
  },
  {
   "source": [
    "## **Softmax**\n",
    "\n",
    "<center>\n",
    "<img src=\"https://i.ytimg.com/vi/lvNdl7yg4Pg/maxresdefault.jpg\" width=\"60%\" height=\"70%\">"
   ],
   "cell_type": "markdown",
   "metadata": {}
  },
  {
   "cell_type": "code",
   "execution_count": 4,
   "metadata": {},
   "outputs": [
    {
     "output_type": "execute_result",
     "data": {
      "text/plain": [
       "array([[0.15757634, 0.06022352, 0.04688021, 0.32244898, 0.13388508,\n",
       "        0.27898587],\n",
       "       [0.11440411, 0.07216296, 0.31916992, 0.06257798, 0.0434761 ,\n",
       "        0.38820893]])"
      ]
     },
     "metadata": {},
     "execution_count": 4
    }
   ],
   "source": [
    "import numpy as np\n",
    "\n",
    "softmax = lambda x: np.e**(x)/np.sum(np.e**(x), keepdims=True, axis=1)\n",
    "    \"\"\"the function lambda calculate a softmax function\n",
    "        args:\n",
    "            - x: (ndarry) this is the Numpy's array of shape (n, m)\n",
    "        return:\n",
    "           - Numpy's array with shape (n, m)\n",
    "    \"\"\"\n",
    "softmax(list_array_5)"
   ]
  },
  {
   "source": [
    "## **Tanh**\n",
    "\n",
    "<center>\n",
    "<img src=\"https://paperswithcode.com/media/methods/Screen_Shot_2020-05-27_at_4.23.22_PM_dcuMBJl.png\" width=\"40%\" height=\"50%\">"
   ],
   "cell_type": "markdown",
   "metadata": {}
  },
  {
   "cell_type": "code",
   "execution_count": 7,
   "metadata": {},
   "outputs": [
    {
     "output_type": "execute_result",
     "data": {
      "text/plain": [
       "array([[ 0.52157276, -0.36561261, -0.56067462,  0.86030904,  0.39319153,\n",
       "         0.81767087],\n",
       "       [ 0.01621423, -0.41744553,  0.77875623, -0.52781239, -0.74037559,\n",
       "         0.8448906 ]])"
      ]
     },
     "metadata": {},
     "execution_count": 7
    }
   ],
   "source": [
    "tanh = lambda x: (np.e**(x)-np.e**(-x))/(np.e**(-x)+np.e**(x))\n",
    "\n",
    "\"\"\"the function lambda calculate a tanh activation function\n",
    "        args:\n",
    "            - x: (ndarry) this is the Numpy's array of shape (n, m)\n",
    "        return:\n",
    "           - Numpy's array with shape (n, m)\n",
    "\"\"\"\n",
    "\n",
    "tanh(list_array_5)"
   ]
  },
  {
   "cell_type": "code",
   "execution_count": 8,
   "metadata": {},
   "outputs": [
    {
     "output_type": "execute_result",
     "data": {
      "text/plain": [
       "array([[0.57849782, 0.        , 0.        , 1.29453269, 0.41556963,\n",
       "        1.14974889],\n",
       "       [0.01621565, 0.        , 1.04220226, 0.        , 0.        ,\n",
       "        1.23802229]])"
      ]
     },
     "metadata": {},
     "execution_count": 8
    }
   ],
   "source": [
    "relu = lambda x: np.maximum(0, x)\n",
    "relu(list_array_5)"
   ]
  },
  {
   "source": [
    "## **Copy**"
   ],
   "cell_type": "markdown",
   "metadata": {}
  },
  {
   "cell_type": "code",
   "execution_count": 138,
   "metadata": {},
   "outputs": [
    {
     "output_type": "stream",
     "name": "stdout",
     "text": [
      "[[1 2 3 4]\n [5 6 7 8]]\n"
     ]
    }
   ],
   "source": [
    "list1 = [[1,2,3,4], [5,6,7,8]] # Creat a list of Python\n",
    "array_1 = np.array(list1)  # Create a Numpy's array\n",
    "print(array_1)"
   ]
  },
  {
   "cell_type": "code",
   "execution_count": 139,
   "metadata": {},
   "outputs": [
    {
     "output_type": "execute_result",
     "data": {
      "text/plain": [
       "array([[1, 2, 3, 4],\n",
       "       [5, 6, 7, 8]])"
      ]
     },
     "metadata": {},
     "execution_count": 139
    }
   ],
   "source": [
    "array_2 = array_1 # creates a copy by reference\n",
    "array_2"
   ]
  },
  {
   "cell_type": "code",
   "execution_count": 143,
   "metadata": {},
   "outputs": [
    {
     "output_type": "stream",
     "name": "stdout",
     "text": [
      "array_1:\n [[1 2 4 4]\n [5 6 7 8]] \n\narry_2:\n [[1 2 4 4]\n [5 6 7 8]]\n"
     ]
    }
   ],
   "source": [
    "array_2[0, 2] = 4 # Change the value array[0, 2]: 3 (Initial Value) for 4 \n",
    "\n",
    "print(f\"array_1:\\n {array_1} \\n\\narry_2:\\n {array_2}\")"
   ]
  },
  {
   "cell_type": "code",
   "execution_count": 146,
   "metadata": {},
   "outputs": [
    {
     "output_type": "execute_result",
     "data": {
      "text/plain": [
       "array([[1, 2, 3, 4],\n",
       "       [5, 6, 7, 8]])"
      ]
     },
     "metadata": {},
     "execution_count": 146
    }
   ],
   "source": [
    "array_3 = array_1.copy() #Copy the array_1 in array_3\n",
    "\n",
    "array_1[0, 2] = 3\n",
    "\n",
    "array_1"
   ]
  },
  {
   "cell_type": "code",
   "execution_count": 147,
   "metadata": {},
   "outputs": [
    {
     "output_type": "execute_result",
     "data": {
      "text/plain": [
       "array([[1, 2, 4, 4],\n",
       "       [5, 6, 7, 8]])"
      ]
     },
     "metadata": {},
     "execution_count": 147
    }
   ],
   "source": [
    "array_3"
   ]
  },
  {
   "source": [
    "## **Reshaping Arrays** "
   ],
   "cell_type": "markdown",
   "metadata": {}
  },
  {
   "source": [
    "## **Reshape**"
   ],
   "cell_type": "markdown",
   "metadata": {}
  },
  {
   "cell_type": "code",
   "execution_count": 11,
   "metadata": {},
   "outputs": [
    {
     "output_type": "execute_result",
     "data": {
      "text/plain": [
       "array([[0.48313128, 0.97117467, 0.9343399 , 0.51077251, 0.15579619,\n",
       "        0.32155267, 0.09749826, 0.97946898],\n",
       "       [0.65984486, 0.77965445, 0.06128539, 0.66572453, 0.24093297,\n",
       "        0.06242658, 0.33610954, 0.54171027]])"
      ]
     },
     "metadata": {},
     "execution_count": 11
    }
   ],
   "source": [
    "list_array = np.random.random((2, 8)) # array with (2, 8)\n",
    "\n",
    "list_array"
   ]
  },
  {
   "cell_type": "code",
   "execution_count": 12,
   "metadata": {},
   "outputs": [
    {
     "output_type": "execute_result",
     "data": {
      "text/plain": [
       "array([[0.48313128, 0.97117467, 0.9343399 , 0.51077251],\n",
       "       [0.15579619, 0.32155267, 0.09749826, 0.97946898],\n",
       "       [0.65984486, 0.77965445, 0.06128539, 0.66572453],\n",
       "       [0.24093297, 0.06242658, 0.33610954, 0.54171027]])"
      ]
     },
     "metadata": {},
     "execution_count": 12
    }
   ],
   "source": [
    "list_array.reshape(4, 4) ## array shape (4, 4)"
   ]
  },
  {
   "cell_type": "code",
   "execution_count": 13,
   "metadata": {},
   "outputs": [
    {
     "output_type": "execute_result",
     "data": {
      "text/plain": [
       "array([[0.48313128, 0.97117467, 0.9343399 , 0.51077251, 0.15579619,\n",
       "        0.32155267, 0.09749826, 0.97946898, 0.65984486, 0.77965445,\n",
       "        0.06128539, 0.66572453, 0.24093297, 0.06242658, 0.33610954,\n",
       "        0.54171027]])"
      ]
     },
     "metadata": {},
     "execution_count": 13
    }
   ],
   "source": [
    "list_array.reshape(1,16) #array shape (1, 16)"
   ]
  },
  {
   "cell_type": "code",
   "execution_count": 14,
   "metadata": {},
   "outputs": [
    {
     "output_type": "execute_result",
     "data": {
      "text/plain": [
       "array([[0.48313128, 0.97117467, 0.9343399 , 0.51077251],\n",
       "       [0.15579619, 0.32155267, 0.09749826, 0.97946898],\n",
       "       [0.65984486, 0.77965445, 0.06128539, 0.66572453],\n",
       "       [0.24093297, 0.06242658, 0.33610954, 0.54171027]])"
      ]
     },
     "metadata": {},
     "execution_count": 14
    }
   ],
   "source": [
    "list_array.reshape(4,-1) #reshape dicede the column"
   ]
  },
  {
   "cell_type": "code",
   "execution_count": 15,
   "metadata": {},
   "outputs": [
    {
     "output_type": "execute_result",
     "data": {
      "text/plain": [
       "array([[0.48313128, 0.97117467],\n",
       "       [0.9343399 , 0.51077251],\n",
       "       [0.15579619, 0.32155267],\n",
       "       [0.09749826, 0.97946898],\n",
       "       [0.65984486, 0.77965445],\n",
       "       [0.06128539, 0.66572453],\n",
       "       [0.24093297, 0.06242658],\n",
       "       [0.33610954, 0.54171027]])"
      ]
     },
     "metadata": {},
     "execution_count": 15
    }
   ],
   "source": [
    "list_array.reshape(-1, 2) # reshape decida the row"
   ]
  },
  {
   "cell_type": "code",
   "execution_count": 16,
   "metadata": {},
   "outputs": [
    {
     "output_type": "execute_result",
     "data": {
      "text/plain": [
       "array([[0.48313128, 0.97117467, 0.9343399 , 0.51077251, 0.15579619,\n",
       "        0.32155267, 0.09749826, 0.97946898],\n",
       "       [0.65984486, 0.77965445, 0.06128539, 0.66572453, 0.24093297,\n",
       "        0.06242658, 0.33610954, 0.54171027]])"
      ]
     },
     "metadata": {},
     "execution_count": 16
    }
   ],
   "source": [
    "list_array ## Keep the orignal shape"
   ]
  },
  {
   "source": [
    "## **[Resize](https://numpy.org/doc/stable/reference/generated/numpy.resize.html)**"
   ],
   "cell_type": "markdown",
   "metadata": {}
  },
  {
   "cell_type": "code",
   "execution_count": 18,
   "metadata": {},
   "outputs": [
    {
     "output_type": "execute_result",
     "data": {
      "text/plain": [
       "array([[0.48313128, 0.97117467, 0.9343399 , 0.51077251, 0.15579619,\n",
       "        0.32155267, 0.09749826, 0.97946898],\n",
       "       [0.65984486, 0.77965445, 0.06128539, 0.66572453, 0.24093297,\n",
       "        0.06242658, 0.33610954, 0.54171027]])"
      ]
     },
     "metadata": {},
     "execution_count": 18
    }
   ],
   "source": [
    "list_array #Numpy array -> (2, 8) "
   ]
  },
  {
   "cell_type": "code",
   "execution_count": 19,
   "metadata": {},
   "outputs": [],
   "source": [
    "list_array.resize(4, 4) # change (2, 8) -> (4, 4)"
   ]
  },
  {
   "cell_type": "code",
   "execution_count": 20,
   "metadata": {},
   "outputs": [
    {
     "output_type": "execute_result",
     "data": {
      "text/plain": [
       "array([[0.48313128, 0.97117467, 0.9343399 , 0.51077251],\n",
       "       [0.15579619, 0.32155267, 0.09749826, 0.97946898],\n",
       "       [0.65984486, 0.77965445, 0.06128539, 0.66572453],\n",
       "       [0.24093297, 0.06242658, 0.33610954, 0.54171027]])"
      ]
     },
     "metadata": {},
     "execution_count": 20
    }
   ],
   "source": [
    "list_array # Numpy's array (4, 4)"
   ]
  }
 ]
}