{
 "metadata": {
  "language_info": {
   "codemirror_mode": {
    "name": "ipython",
    "version": 3
   },
   "file_extension": ".py",
   "mimetype": "text/x-python",
   "name": "python",
   "nbconvert_exporter": "python",
   "pygments_lexer": "ipython3",
   "version": "3.7.6-final"
  },
  "orig_nbformat": 2,
  "kernelspec": {
   "name": "python37664bitenvedcaa27485164f5ca1e6f919bbcb0a3d",
   "display_name": "Python 3.7.6 64-bit ('env')",
   "language": "python"
  }
 },
 "nbformat": 4,
 "nbformat_minor": 2,
 "cells": [
  {
   "source": [
    "# ***Python for ML/DL***\n",
    "---\n",
    "<center>\n",
    "<img src=\"https://ehackz.com/wp-content/uploads/2018/02/Python.jpg\" height = \"40%\" width = \"60%\">"
   ],
   "cell_type": "markdown",
   "metadata": {}
  },
  {
   "source": [
    "## **Conditional**\n",
    "-----\n",
    "\n",
    "The use of conditionals are widely used in programming, they allow us to perform operations given a defined requirement, in this section you will learn the use of conditionals.\n",
    "\n",
    "1. **if**\n",
    "2. ** if-else**\n",
    "3. **elif**\n",
    "4. **Short hand if-else**"
   ],
   "cell_type": "markdown",
   "metadata": {}
  },
  {
   "source": [
    "### Use of if\n",
    "---\n",
    "\n",
    "Using if conditional we perform a condition that will be evaluated by a result of true or false, if it is true, release the action, otherwise it passes the next operation."
   ],
   "cell_type": "markdown",
   "metadata": {}
  },
  {
   "source": [
    "**Example 1**\n",
    "\n",
    "Use the if statement and show that this number is positive."
   ],
   "cell_type": "markdown",
   "metadata": {}
  },
  {
   "cell_type": "code",
   "execution_count": 3,
   "metadata": {},
   "outputs": [
    {
     "output_type": "stream",
     "name": "stdout",
     "text": [
      "The number 1 is positive\n"
     ]
    }
   ],
   "source": [
    "number = int(input(\"Give me a number: \"))\n",
    "\n",
    "if number >= 0:\n",
    "    print(f\"The number {number} is positive\")\n"
   ]
  },
  {
   "source": [
    "**Example 2**\n",
    "\n",
    "Use only \"if\" statement to compare 2 numbers."
   ],
   "cell_type": "markdown",
   "metadata": {}
  },
  {
   "cell_type": "code",
   "execution_count": 4,
   "metadata": {},
   "outputs": [
    {
     "output_type": "stream",
     "name": "stdout",
     "text": [
      " 12 is greater than 1\n"
     ]
    }
   ],
   "source": [
    "a = input(\"Give me a Number\")\n",
    "b = input(\"Give me a Number\")\n",
    "\n",
    "if a < b:\n",
    "    print(f\" {b} is greater than {a}\")\n",
    "if b < a:\n",
    "    print(f\" {a} is greater than {b}\")\n",
    "if b == a:\n",
    "    print(f\" {b} and {a} are the same\")"
   ]
  },
  {
   "source": [
    "### **Aplication**\n",
    "---\n",
    "1. Define the function initializer_Normal with 2 parameters (size_l/init) where for          default init =\"He\" and use only if statement with the condition  (init = \"xavier\" ) to    return the [Xavier](https://www.deeplearning.ai/ai-notes/initialization/#IV) initializer otherwise return the [He](https://www.machinecurve.com/index.php/2019/09/16/he-xavier-initialization-activation-functions-choose-wisely/#he-initialization) initializer.\n"
   ],
   "cell_type": "markdown",
   "metadata": {}
  },
  {
   "cell_type": "code",
   "execution_count": 32,
   "metadata": {},
   "outputs": [
    {
     "output_type": "stream",
     "name": "stdout",
     "text": [
      "He initializer: 0.6324555320336759\nXavier Initializer: 0.4472135954999579\n"
     ]
    }
   ],
   "source": [
    "import math\n",
    "\n",
    "\n",
    "def initializer_Normal(size_l, init=\"he\"):\n",
    "    if init == \"xavier\":\n",
    "        return math.sqrt(1 / (size_l))\n",
    "    return math.sqrt(2 / size_l)\n",
    "\n",
    "\n",
    "print(f\"He initializer: {initializer_Normal(size_l=5)}\")\n",
    "\n",
    "print(f'Xavier Initializer: {initializer_Normal(init=\"xavier\",size_l=5)}')"
   ]
  },
  {
   "source": [
    "2. Define the [Sigmoid](https://en.wikipedia.org/wiki/Sigmoid_function) function and use the if statement for define the main.\n",
    "\n",
    "- Do not forget that in Python every module (file code) has an attribute '\\__ name__' and when this file is executed it has the name of '\\__main\\__' , however, when we have two files and we import one into the other, the name changes in the name of the module and with the conditional we say that if we are not executing the main file it is because we are executing an import in another module.\n"
   ],
   "cell_type": "markdown",
   "metadata": {}
  },
  {
   "cell_type": "code",
   "execution_count": 66,
   "metadata": {},
   "outputs": [
    {
     "output_type": "stream",
     "name": "stdout",
     "text": [
      "Sigmoid value is : 0.52497918747894\n"
     ]
    }
   ],
   "source": [
    "def Sigmoid(x):\n",
    "    return 1 / (1 + math.exp(-x))\n",
    "\n",
    "\n",
    "if __name__ == \"__main__\":\n",
    "\n",
    "    Z = Sigmoid(0.1)\n",
    "    print(f\"Sigmoid value is : {Z}\")"
   ]
  },
  {
   "source": [
    "### Use if-else\n",
    "---\n",
    "\n",
    "Using only if it is conditional, we have solved a simple problem, but in another case we need to apply another condition in case the first condition is not met, we will use if-else conditional."
   ],
   "cell_type": "markdown",
   "metadata": {}
  },
  {
   "source": [
    "**Example 1**\n",
    "\n",
    "Use the input function for receive a String and apply the **if - else** Statement where if the string is \"2020k\" print(\"loading...\") , wait a second and print(\"pass\") otherwise print(\"incorrect\")..\n",
    "\n",
    "Note: \n",
    "\n",
    "- Use the **[time](https://docs.python.org/3/library/time.html)** module."
   ],
   "cell_type": "markdown",
   "metadata": {}
  },
  {
   "cell_type": "code",
   "execution_count": 6,
   "metadata": {},
   "outputs": [
    {
     "output_type": "stream",
     "name": "stdout",
     "text": [
      "incorrect\n"
     ]
    }
   ],
   "source": [
    "import time\n",
    "\n",
    "password = input(\"Give me your password\")\n",
    "if password == \"2020k\":\n",
    "    print(\"loading...\")\n",
    "    time.sleep(1)\n",
    "    print(\"pass\")\n",
    "else:\n",
    "    print(\"incorrect\")"
   ]
  },
  {
   "source": [
    "### Aplication\n",
    "---\n",
    "\n",
    "Define a list and use [input](https://www.programiz.com/python-programming/methods/built-in/input#:~:text=The%20input) method where you give (0/1)  if 0 [append](https://www.w3schools.com/python/ref_list_append.asp) [Conv2d](https://pytorch.org/docs/stable/generated/torch.nn.Conv2d.html) and [BatchNorm2d](https://pytorch.org/docs/stable/generated/torch.nn.BatchNorm2d.html) otherwise append Conv2d and [MaxPool2d](https://pytorch.org/docs/stable/generated/torch.nn.MaxPool2d.html#torch.nn.MaxPool2d) with [Pytorch](https://pytorch.org/).\n"
   ],
   "cell_type": "markdown",
   "metadata": {}
  },
  {
   "cell_type": "code",
   "execution_count": 7,
   "metadata": {},
   "outputs": [
    {
     "output_type": "stream",
     "name": "stdout",
     "text": [
      "[<class 'torch.nn.modules.conv.Conv2d'>, <class 'torch.nn.modules.batchnorm.BatchNorm2d'>]\n"
     ]
    }
   ],
   "source": [
    "Block = []\n",
    "import torch\n",
    "apply_Batch = int(input(\"Give me a 0/1\"))\n",
    "\n",
    "if apply_Batch == 0:\n",
    "    Block.append(torch.nn.Conv2d)\n",
    "    Block.append(torch.nn.BatchNorm2d)\n",
    "else:\n",
    "    Block.append(torch.nn.Conv2d)\n",
    "    Block.append(torch.nn.MaxPool2d)\n",
    "print(Block)"
   ]
  },
  {
   "source": [
    "### **Use elif**\n",
    "---\n",
    "\n",
    "While it is true that using if - else we solve many problems, sometimes we must also perform even more complex conditions as an example using multiple conditions."
   ],
   "cell_type": "markdown",
   "metadata": {}
  },
  {
   "source": [
    "**Example 1**\n",
    "\n",
    "Make a Menu with 4 options that modifies the text \"Acecom || AI\":\n",
    "\n",
    "1. [lower](https://www.w3schools.com/python/ref_string_lower.asp)\n",
    "\n",
    "2. [upper](https://www.w3schools.com/python/ref_string_upper.asp)\n",
    "\n",
    "3. [split](https://www.w3schools.com/python/ref_string_split.asp)\n",
    "\n",
    "4. [print](https://www.w3schools.com/python/ref_func_print.asp)\n",
    "\n"
   ],
   "cell_type": "markdown",
   "metadata": {}
  },
  {
   "cell_type": "code",
   "execution_count": 10,
   "metadata": {},
   "outputs": [
    {
     "output_type": "stream",
     "name": "stdout",
     "text": [
      "Delimiter: ['Acecom', '', 'AI']\n"
     ]
    }
   ],
   "source": [
    "text = \"Acecom||AI\"\n",
    "\n",
    "op = input(\"Choose or lower\")\n",
    "\n",
    "if op == \"lower\":\n",
    "    print(f\"Text in lower: {text.lower()}\")\n",
    "elif op == \"upper\":\n",
    "    print(f\"Texto in upper: {text.upper()}\")\n",
    "elif op == \"replace\":\n",
    "    print(f\"Replace AI in the text: {text} / {text.replace('AI','DL')}\")\n",
    "elif op == \"delimiter\":\n",
    "    print(f'Delimiter: {text.split(\"|\")}')\n",
    "else:\n",
    "    print(text)\n"
   ]
  },
  {
   "source": [
    "### Use Short if - else\n",
    "\n",
    " In this section you will learn how to use the if in a single line using the ternary operator:\n",
    " \n",
    " - value_when_true if condition else value_when_false\n",
    "\n",
    "\n"
   ],
   "cell_type": "markdown",
   "metadata": {}
  },
  {
   "source": [
    "**Example 1**\n",
    "\n",
    "Use the short if - else Statement where you give a number  and compare with the number 15"
   ],
   "cell_type": "markdown",
   "metadata": {}
  },
  {
   "cell_type": "code",
   "execution_count": 11,
   "metadata": {},
   "outputs": [
    {
     "output_type": "stream",
     "name": "stdout",
     "text": [
      "1 is least than 15\n"
     ]
    }
   ],
   "source": [
    "num = int(input(\"Give me a number: \"))\n",
    "print(f\"{num} is greater or equal than 15\") if num >= 15 else print(\n",
    "    f\"{num} is least than 15\"\n",
    ")"
   ]
  },
  {
   "source": [
    "### **Aplication**\n",
    "---\n",
    "\n",
    "Use the short if - else statement for select cude if the method [device](https://pytorch.org/docs/stable/cuda.html) of pytorch find \"cuda\" print(\"GPU available\") else use the \"cpu\" (\"CPU available\").\n",
    "\n",
    "Note: \n",
    "- torch.is_available(): return a boolen if find cuda return True else False. \n",
    "- torch.device(): It's common practice Pytorch to initialize  a variable that conteint the dispositive we using."
   ],
   "cell_type": "markdown",
   "metadata": {}
  },
  {
   "cell_type": "code",
   "execution_count": 5,
   "metadata": {},
   "outputs": [
    {
     "output_type": "stream",
     "name": "stdout",
     "text": [
      "GPU available\nPytorch use: cuda\n"
     ]
    }
   ],
   "source": [
    "print(\"GPU available\") if torch.cuda.is_available() else print(\"CPU is available\")\n",
    "\n",
    "device = torch.device(\"cuda\" if torch.cuda.is_available() else \"cpu\")\n",
    "\n",
    "print(f\"Pytorch use: {device}\")"
   ]
  },
  {
   "source": [
    "**Extra**\n",
    "\n",
    "The use of ternary operations as its name indicates, we can only use 3 operations if, else and condition, for these reasons the use of elif is not allowed, if it is true it is very useful, use these ternariar expressions, however they have the problem What we can find is less readable code when it becomes more complex."
   ],
   "cell_type": "markdown",
   "metadata": {}
  },
  {
   "cell_type": "code",
   "execution_count": 45,
   "metadata": {},
   "outputs": [
    {
     "output_type": "execute_result",
     "data": {
      "text/plain": [
       "[torch.nn.modules.conv.Conv2d,\n",
       " torch.nn.modules.pooling.MaxPool2d,\n",
       " torch.nn.modules.conv.Conv2d,\n",
       " torch.nn.modules.conv.Conv2d,\n",
       " torch.nn.modules.pooling.MaxPool2d]"
      ]
     },
     "metadata": {},
     "execution_count": 45
    }
   ],
   "source": [
    "Block.append(torch.nn.Conv2d), Block.append(torch.nn.BatchNorm2d) if  apply_Batch else Block.append(torch.nn.Conv2d) , Block.append(torch.nn.MaxPool2d)\n",
    "Block"
   ]
  },
  {
   "source": [
    "## **Operator**\n",
    "---\n",
    "\n",
    "1. is\n",
    "2. in\n",
    "3. not in\n",
    "\n"
   ],
   "cell_type": "markdown",
   "metadata": {}
  },
  {
   "source": [
    "### **Use is**\n",
    "---\n",
    "\n",
    "This operator compares 2 objects is much stricter than **==** since the latter focuses on the values and is on the objects. "
   ],
   "cell_type": "markdown",
   "metadata": {}
  },
  {
   "source": [
    "**Example 1**\n",
    "\n",
    "Use the operator is and declarate 2 variables (type int) with the same value \n",
    "and compare."
   ],
   "cell_type": "markdown",
   "metadata": {}
  },
  {
   "cell_type": "code",
   "execution_count": 33,
   "metadata": {},
   "outputs": [
    {
     "output_type": "stream",
     "name": "stdout",
     "text": [
      " Is a equal to b (is)? True \n Is a equal to b (==)? True \n"
     ]
    }
   ],
   "source": [
    "a = 3\n",
    "b = 3\n",
    "\n",
    "print(f\" Is a equal to b (is)? {a is b} \\n Is a equal to b (==)? {a==b} \")"
   ]
  },
  {
   "source": [
    "**Example 2**\n",
    "\n",
    "Use the operator is and declarate 2 variables (type float) with the same value and compare."
   ],
   "cell_type": "markdown",
   "metadata": {}
  },
  {
   "cell_type": "code",
   "execution_count": 39,
   "metadata": {},
   "outputs": [
    {
     "output_type": "stream",
     "name": "stdout",
     "text": [
      " Is a equal to b (is)? False , \n Is a equal to b? (==) True\n"
     ]
    }
   ],
   "source": [
    "a = 3.1\n",
    "b = 3.1\n",
    "print(f\" Is a equal to b (is)? {a is b} , \\n Is a equal to b? (==) {a == b}\")"
   ]
  },
  {
   "source": [
    "**Example 3**\n",
    "\n",
    "Use the operator is and declarate 2 list with same values and compare."
   ],
   "cell_type": "markdown",
   "metadata": {}
  },
  {
   "cell_type": "code",
   "execution_count": 34,
   "metadata": {},
   "outputs": [
    {
     "output_type": "stream",
     "name": "stdout",
     "text": [
      "Is a equal to b (is)?: False \nIs a equal to b (==)? True \n"
     ]
    }
   ],
   "source": [
    "a = [1, 2, 3]\n",
    "b = [1, 2, 3]\n",
    "\n",
    "print(f\"Is a equal to b (is)?: {a is b} \\nIs a equal to b (==)? {a ==b } \")"
   ]
  },
  {
   "source": [
    "**Example 4**\n",
    "\n",
    "Use the operator is and declarate 2 String with same values and compare."
   ],
   "cell_type": "markdown",
   "metadata": {}
  },
  {
   "cell_type": "code",
   "execution_count": 35,
   "metadata": {},
   "outputs": [
    {
     "output_type": "stream",
     "name": "stdout",
     "text": [
      "Is a equal to b (is) ?: True \nIs a equal to b (==): True\n"
     ]
    }
   ],
   "source": [
    "a = \"Hello\"\n",
    "b = \"Hello\"\n",
    "print(f\"Is a equal to b (is) ?: {a is b} \\nIs a equal to b (==)?: {a == b}\")"
   ]
  },
  {
   "source": [
    "### **Use in/not in**\n",
    "---\n",
    "\n",
    "We use the [in](https://www.analyticslane.com/2020/09/28/diferencia-entre-los-operadores-is-y-en-python/) operator to be able to check if a value is found in the specified list by returning a boolean."
   ],
   "cell_type": "markdown",
   "metadata": {}
  },
  {
   "source": [
    "**Example 1**\n",
    "\n",
    "Define a list in 2 variables and use the operator in and use the operator & and ||.\n",
    "Note:\n",
    "- In Python it's possible to apply [swap](https://www.geeksforgeeks.org/python-program-to-swap-two-variables/) in this way: a,b = b,a"
   ],
   "cell_type": "markdown",
   "metadata": {}
  },
  {
   "cell_type": "code",
   "execution_count": 34,
   "metadata": {},
   "outputs": [
    {
     "output_type": "stream",
     "name": "stdout",
     "text": [
      "New list:  [1, 5, 6, 8, 4]\n"
     ]
    }
   ],
   "source": [
    "lista = [1, 4, 6, 8, 5]\n",
    "a = 5\n",
    "b = 4 \n",
    "if a in lista and b in lista:\n",
    "    lista[lista.index(a)], lista[lista.index(b)] = (\n",
    "        lista[lista.index(b)],\n",
    "        lista[lista.index(a)],\n",
    "    )\n",
    "    print(\"New list: \", lista)\n",
    "elif a in lista or b in lista:\n",
    "    print(\"Not change\")\n",
    "    "
   ]
  },
  {
   "source": [
    "**Example 2**\n",
    "\n",
    "Use the operator not in and declarete a tuple"
   ],
   "cell_type": "markdown",
   "metadata": {}
  },
  {
   "cell_type": "code",
   "execution_count": 4,
   "metadata": {},
   "outputs": [
    {
     "output_type": "execute_result",
     "data": {
      "text/plain": [
       "True"
      ]
     },
     "metadata": {},
     "execution_count": 4
    }
   ],
   "source": [
    "t = 1, 3, 3, 1\n",
    "2 not in t"
   ]
  },
  {
   "source": [
    "**Example 3**\n",
    "\n",
    "Use the operator not in and declarete an String  "
   ],
   "cell_type": "markdown",
   "metadata": {}
  },
  {
   "cell_type": "code",
   "execution_count": 11,
   "metadata": {},
   "outputs": [
    {
     "output_type": "execute_result",
     "data": {
      "text/plain": [
       "False"
      ]
     },
     "metadata": {},
     "execution_count": 11
    }
   ],
   "source": [
    "text = \"Would you like some breef?\"\n",
    "\n",
    "\"you\" not in text"
   ]
  },
  {
   "source": [
    "## Loops\n",
    "---\n",
    "\n",
    "When we talk about loops in programming we have two types both undefined and defined. In undefined, for example,we explicitly define an end of the loop and generally it will iterate as long as they continue to fulfill a condition, while those defined at the beginning we are already defining how many iterations it will have.\n",
    "\n",
    "You will learn in this section:\n",
    "\n",
    "1. While \n",
    "2. For"
   ],
   "cell_type": "markdown",
   "metadata": {}
  },
  {
   "source": [
    "## **While**\n",
    "---\n",
    "\n",
    "\n",
    "```\n",
    "\n",
    "While( condition ):\n",
    "     Statement\n",
    "\n",
    "```"
   ],
   "cell_type": "markdown",
   "metadata": {}
  },
  {
   "source": [
    "**Example 1**\n",
    "\n",
    "Declare a while loop on one line."
   ],
   "cell_type": "markdown",
   "metadata": {}
  },
  {
   "cell_type": "code",
   "execution_count": 40,
   "metadata": {},
   "outputs": [
    {
     "output_type": "stream",
     "name": "stdout",
     "text": [
      "count:  1\nflag: True\ncount:  2\nflag: True\ncount:  3\nflag: True\ncount:  4\nflag: True\ncount:  5\nflag: True\n"
     ]
    }
   ],
   "source": [
    "count = 0\n",
    "flag = True\n",
    "while count<5 : count+=1 ; print(\"count: \",count) ; print(\"flag:\",flag)   "
   ]
  },
  {
   "source": [
    "other example\n"
   ],
   "cell_type": "markdown",
   "metadata": {}
  },
  {
   "cell_type": "code",
   "execution_count": 61,
   "metadata": {
    "tags": []
   },
   "outputs": [
    {
     "output_type": "stream",
     "name": "stdout",
     "text": [
      "Loop\nLoop\nLoop\nLoop\nLoop\n"
     ]
    }
   ],
   "source": [
    "count =  0\n",
    "while count < 5: print('Loop') if True else print('while') ; count += 1 "
   ]
  },
  {
   "source": [
    "**Example 2**\n",
    "\n",
    "Use the While loop with the condition (flag = True) and (count = 0) if count> 5 changes the false state.\n",
    "\n",
    "Note:\n",
    "\n",
    "- Don't forget that [PEP8](https://realpython.com/python-pep8/) discourages multiple statements on one line."
   ],
   "cell_type": "markdown",
   "metadata": {}
  },
  {
   "cell_type": "code",
   "execution_count": 40,
   "metadata": {},
   "outputs": [
    {
     "output_type": "stream",
     "name": "stdout",
     "text": [
      "count: 1  flag:  True\ncount: 2  flag:  True\ncount: 3  flag:  True\ncount: 4  flag:  True\ncount: 5  flag:  True\ncount: 6  flag:  True\ncount: 7  flag:  False\n"
     ]
    }
   ],
   "source": [
    "flag = True\n",
    "count = 0\n",
    "while flag:\n",
    "    if count > 5:\n",
    "        flag = False\n",
    "    count += 1\n",
    "    print(\"count:\", count, \" flag: \", flag)"
   ]
  },
  {
   "source": [
    "**Example 2**\n",
    "\n",
    "use the while loop where you go through a list using a previously initialized counter and print the list."
   ],
   "cell_type": "markdown",
   "metadata": {}
  },
  {
   "cell_type": "code",
   "execution_count": 46,
   "metadata": {
    "tags": []
   },
   "outputs": [
    {
     "output_type": "stream",
     "name": "stdout",
     "text": [
      "Repetir\nBika\nTrika\nExpulsión\n"
     ]
    }
   ],
   "source": [
    "linea = [\"Repetir\", \"Bika\", \"Trika\", \"Expulsión\"]\n",
    "count = 0\n",
    "while count < len(linea):\n",
    "    print(f\"{linea[count]}\")\n",
    "    count += 1"
   ]
  },
  {
   "source": [
    "**Example 3**\n",
    "\n",
    "define the [mcd](https://en.wikipedia.org/wiki/Greatest_common_divisor) function using the while loop"
   ],
   "cell_type": "markdown",
   "metadata": {}
  },
  {
   "cell_type": "code",
   "execution_count": 50,
   "metadata": {},
   "outputs": [
    {
     "output_type": "execute_result",
     "data": {
      "text/plain": [
       "4"
      ]
     },
     "metadata": {},
     "execution_count": 50
    }
   ],
   "source": [
    "def mcd(a, b):\n",
    "    resto = 0\n",
    "    while b > 0:\n",
    "        resto = b\n",
    "        b = a % b\n",
    "        a = resto\n",
    "    return a\n",
    "\n",
    "\n",
    "mcd(100, 5352)"
   ]
  },
  {
   "source": [
    "**Example 5**\n",
    "\n",
    "define the number [order](https://en.wikipedia.org/wiki/Multiplicative_order) using while loop using the previously defined mcd function."
   ],
   "cell_type": "markdown",
   "metadata": {}
  },
  {
   "cell_type": "code",
   "execution_count": 54,
   "metadata": {},
   "outputs": [
    {
     "output_type": "stream",
     "name": "stdout",
     "text": [
      "el numero:  2 |  el modulo:  11 |  el residuo dado:  2 | el exponente:  1\nel numero:  2 |  el modulo:  11 |  el residuo dado:  4 | el exponente:  2\nel numero:  2 |  el modulo:  11 |  el residuo dado:  8 | el exponente:  3\nel numero:  2 |  el modulo:  11 |  el residuo dado:  5 | el exponente:  4\nel numero:  2 |  el modulo:  11 |  el residuo dado:  10 | el exponente:  5\nel numero:  2 |  el modulo:  11 |  el residuo dado:  9 | el exponente:  6\nel numero:  2 |  el modulo:  11 |  el residuo dado:  7 | el exponente:  7\nel numero:  2 |  el modulo:  11 |  el residuo dado:  3 | el exponente:  8\nel numero:  2 |  el modulo:  11 |  el residuo dado:  6 | el exponente:  9\nel numero:  2 |  el modulo:  11 |  el residuo dado:  1 | el exponente:  10\n"
     ]
    },
    {
     "output_type": "execute_result",
     "data": {
      "text/plain": [
       "10"
      ]
     },
     "metadata": {},
     "execution_count": 54
    }
   ],
   "source": [
    "def imprimir_orden_numero(num1, mod):\n",
    "    if mcd(num1, mod) != 1:\n",
    "        return \"ERROR\"\n",
    "    i = 1\n",
    "    while 1:\n",
    "        if (num1 ** i) % mod == 1:\n",
    "            print(\n",
    "                \"el numero: \",\n",
    "                num1,\n",
    "                \"|\",\n",
    "                \" el modulo: \",\n",
    "                mod,\n",
    "                \"|\",\n",
    "                \" el residuo dado: \",\n",
    "                (num1 ** i) % mod,\n",
    "                \"|\",\n",
    "                \"el exponente: \",\n",
    "                i,\n",
    "            )\n",
    "            break\n",
    "        print(\n",
    "            \"el numero: \",\n",
    "            num1,\n",
    "            \"|\",\n",
    "            \" el modulo: \",\n",
    "            mod,\n",
    "            \"|\",\n",
    "            \" el residuo dado: \",\n",
    "            (num1 ** i) % mod,\n",
    "            \"|\",\n",
    "            \"el exponente: \",\n",
    "            i,\n",
    "        )\n",
    "        i += 1\n",
    "    return i\n",
    "\n",
    "\n",
    "imprimir_orden_numero(2, 11)"
   ]
  },
  {
   "source": [
    "**Example 6**\n",
    "\n",
    "Use while loop and creates a menu where you can choose between 3 options.\n",
    "\n",
    "- [sigmoid](https://en.wikipedia.org/wiki/Sigmoid_function)\n",
    "- [derived from sigmoid](https://interactivechaos.com/es/manual/tutorial-de-deep-learning/derivada-de-la-funcion-sigmoide)\n",
    "- leave"
   ],
   "cell_type": "markdown",
   "metadata": {}
  },
  {
   "cell_type": "code",
   "execution_count": 67,
   "metadata": {},
   "outputs": [
    {
     "output_type": "stream",
     "name": "stdout",
     "text": [
      "Sigmoid function is: 0.7310585786300049\n",
      "Derivate of the Sigmoid is: 0.19661193324148185\n",
      "Finish\n"
     ]
    }
   ],
   "source": [
    "import time\n",
    "import random\n",
    "\n",
    "def derivadeSigmoid(x):\n",
    "    return Sigmoid(x) * (1 - Sigmoid(x))\n",
    "\n",
    "\n",
    "while True:\n",
    "    opcion = input(\n",
    "        \"\"\"Choose a Option: \n",
    "    1- Sigmoid\n",
    "    2- derivadeSigmoid\n",
    "    \"\"\"\n",
    "    )\n",
    "    x = random.randrange(0, 5)\n",
    "    if opcion == \"1\":\n",
    "        print(f\"Sigmoid function is: {Sigmoid(x)}\")\n",
    "\n",
    "    elif opcion == \"2\":\n",
    "        print(f\"Derivate of the Sigmoid is: {derivadeSigmoid(x)}\")\n",
    "\n",
    "    elif opcion == \"3\":\n",
    "        break\n",
    "\n",
    "time.sleep(1)\n",
    "\n",
    "print(\"Finish\")"
   ]
  },
  {
   "source": [
    "## **For** \n",
    "---\n",
    "\n",
    "''''\n",
    "\n",
    "for iterator_var in sequence:\n",
    "\n",
    "        Statements\n",
    "\n",
    "''''\n",
    "\n",
    "1. in-line\n",
    "2. range\n",
    "3. enumerate\n",
    "4. reversed "
   ],
   "cell_type": "markdown",
   "metadata": {}
  },
  {
   "source": [
    "### **Use in-line**\n",
    "\n",
    "**Example 1**\n",
    "\n",
    "Use for loop in the romaji list in the interval \\[1 - 9]"
   ],
   "cell_type": "markdown",
   "metadata": {}
  },
  {
   "cell_type": "code",
   "execution_count": 36,
   "metadata": {},
   "outputs": [
    {
     "output_type": "stream",
     "name": "stdout",
     "text": [
      "ichi\nni\nsan\nyon\ngo\nroku\nshichi\nhachi\nkyu\n"
     ]
    }
   ],
   "source": [
    "tupla = \"ichi\", \"ni\", \"san\", \"yon\", \"go\", \"roku\", \"shichi\", \"hachi\", \"kyu\"\n",
    "\n",
    "for x in tupla:\n",
    "    print(f\"{x}\")"
   ]
  },
  {
   "source": [
    "**Example 2**\n",
    "\n",
    "Using for loop and save in a list the index of the tuple above"
   ],
   "cell_type": "markdown",
   "metadata": {}
  },
  {
   "cell_type": "code",
   "execution_count": 37,
   "metadata": {},
   "outputs": [
    {
     "output_type": "stream",
     "name": "stdout",
     "text": [
      "[0, 2, 4, 6, 8]\n"
     ]
    }
   ],
   "source": [
    "Even = [tupla.index(v) for v in tupla if tupla.index(v) % 2 == 0]\n",
    "print(Even)"
   ]
  },
  {
   "source": [
    "**Example 3**\n",
    "\n",
    "Similar to the example above, use for loop and save it to a list minus index 2."
   ],
   "cell_type": "markdown",
   "metadata": {}
  },
  {
   "cell_type": "code",
   "execution_count": 38,
   "metadata": {},
   "outputs": [
    {
     "output_type": "stream",
     "name": "stdout",
     "text": [
      "['Python', 'Artificial', 'Deep', 'Pytorch', 'Tensorflow']\n"
     ]
    }
   ],
   "source": [
    "lst = [\"Python\", \"Artificial\", \"AI\", \"Deep\", \"Pytorch\", \"Tensorflow\"]\n",
    "\n",
    "lista = [word for word in lst if lst.index(word) != 2]\n",
    "print(lista)"
   ]
  },
  {
   "source": [
    "**Example 4**\n",
    "\n",
    "Use 2 for loop on 1 line and print the Cartesian product between the last two declared lists and save them as tuple."
   ],
   "cell_type": "markdown",
   "metadata": {}
  },
  {
   "cell_type": "code",
   "execution_count": 39,
   "metadata": {},
   "outputs": [
    {
     "output_type": "stream",
     "name": "stdout",
     "text": [
      "[('Python', 0), ('Python', 2), ('Python', 4), ('Python', 6), ('Python', 8), ('Artificial', 0), ('Artificial', 2), ('Artificial', 4), ('Artificial', 6), ('Artificial', 8), ('Deep', 0), ('Deep', 2), ('Deep', 4), ('Deep', 6), ('Deep', 8), ('Pytorch', 0), ('Pytorch', 2), ('Pytorch', 4), ('Pytorch', 6), ('Pytorch', 8), ('Tensorflow', 0), ('Tensorflow', 2), ('Tensorflow', 4), ('Tensorflow', 6), ('Tensorflow', 8)]\n"
     ]
    }
   ],
   "source": [
    "print([(word, number) for word in lista for number in Even])"
   ]
  },
  {
   "source": [
    "**Example 5**\n",
    "\n",
    "Use for loop and the operator [zip](https://www.programiz.com/python-programming/methods/built-in/zip#:~:text=The%20zip) with the last two used lists.\n",
    "\n",
    "-Note: Zip take in iterables as arguments and returns an iterators."
   ],
   "cell_type": "markdown",
   "metadata": {}
  },
  {
   "cell_type": "code",
   "execution_count": 44,
   "metadata": {},
   "outputs": [
    {
     "output_type": "stream",
     "name": "stdout",
     "text": [
      "Python , 0\nArtificial , 2\nDeep , 4\nPytorch , 6\nTensorflow , 8\n"
     ]
    }
   ],
   "source": [
    "for ix,iy in zip(lista,Even): print(ix,\",\",iy)"
   ]
  },
  {
   "source": [
    "### **Use Range**\n",
    "---\n",
    "\n",
    "Range is a function that returns a sequences of numbers by default in 0 and increments by 1 (by default).\n",
    "\n",
    "**Range(start, stop, step)**"
   ],
   "cell_type": "markdown",
   "metadata": {}
  },
  {
   "source": [
    "**Example 1**\n",
    "\n",
    "Print a list that conteint the square of iterator in the range [0,5>"
   ],
   "cell_type": "markdown",
   "metadata": {}
  },
  {
   "cell_type": "code",
   "execution_count": 131,
   "metadata": {},
   "outputs": [
    {
     "output_type": "stream",
     "name": "stdout",
     "text": [
      "[0, 1, 4, 9, 16]\n"
     ]
    }
   ],
   "source": [
    "print([i ** 2 for i in range(5)])"
   ]
  },
  {
   "source": [
    "**Example 2**\n",
    "\n",
    "Use the for loop and print the iterator until [1,6> with step 2."
   ],
   "cell_type": "markdown",
   "metadata": {}
  },
  {
   "cell_type": "code",
   "execution_count": 52,
   "metadata": {},
   "outputs": [
    {
     "output_type": "stream",
     "name": "stdout",
     "text": [
      "I: 1\nI: 3\nI: 5\n"
     ]
    }
   ],
   "source": [
    "for i in range(1, 6, 2):\n",
    "    print(f\"I: {i}\")"
   ]
  },
  {
   "source": [
    "**Example 3**\n",
    "\n",
    "Take an interval of the range "
   ],
   "cell_type": "markdown",
   "metadata": {}
  },
  {
   "cell_type": "code",
   "execution_count": 56,
   "metadata": {},
   "outputs": [
    {
     "output_type": "stream",
     "name": "stdout",
     "text": [
      "I: 2\nI: 3\nI: 4\nI: 5\nI: 6\nI: 7\nI: 8\nI: 9\nI: 10\nI: 11\nI: 12\nI: 13\nI: 14\n"
     ]
    }
   ],
   "source": [
    "for i in range(20)[2:15]:\n",
    "    print(f\"I: {i}\")"
   ]
  },
  {
   "source": [
    "**Example 2** \n",
    "\n",
    "defining the [crossentropy](https://ml-cheatsheet.readthedocs.io/en/latest/loss_functions.html) entropy and using the for loop"
   ],
   "cell_type": "markdown",
   "metadata": {}
  },
  {
   "cell_type": "code",
   "execution_count": 10,
   "metadata": {},
   "outputs": [
    {
     "output_type": "stream",
     "name": "stdout",
     "text": [
      "Sum: 0.08566334577288241\n"
     ]
    }
   ],
   "source": [
    "sum = 0\n",
    "Y = [0, 0, 1, 0, 0]\n",
    "Y_hat = [0.05, 0.05, 0.8, 0.05, 0.05]\n",
    "\n",
    "\n",
    "def cross_entropy(Y, Y_hat, i):\n",
    "    return -(1 - Y[i]) * math.log(1 - Y_hat[i]) - Y[i] * math.log(Y_hat[i])\n",
    "\n",
    "\n",
    "for i in range(5):\n",
    "    sum += cross_entropy(Y, Y_hat, i)\n",
    "print(f\"Sum: {sum/5}\")"
   ]
  },
  {
   "source": [
    "### **Use Enumerate**\n",
    "---\n",
    "\n",
    "Python provide this method where it asign to  the iterable a count and return these two."
   ],
   "cell_type": "markdown",
   "metadata": {}
  },
  {
   "source": [
    "**Example 1**\n",
    "\n",
    "use the enumerate function in the data process as tokenization, Stem , bag_\n",
    "word."
   ],
   "cell_type": "markdown",
   "metadata": {}
  },
  {
   "cell_type": "code",
   "execution_count": 70,
   "metadata": {},
   "outputs": [
    {
     "output_type": "stream",
     "name": "stdout",
     "text": [
      "Bag: [0, 0, 1.0, 0, 1.0, 1.0, 0, 0, 0, 0, 0, 0, 1.0, 0]\n"
     ]
    }
   ],
   "source": [
    "tokenize_sentences = [\"I\", \"fine\", \"thank\", \"Bye\"]\n",
    "tokenize_sentences = [word.lower() for word in tokenize_sentences]\n",
    "\n",
    "all_word = [\n",
    "    \"Hello\",\n",
    "    \"HYA\",\n",
    "    \"I\",\n",
    "    \"you\",\n",
    "    \"fine\",\n",
    "    \"thank\",\n",
    "    \"how\",\n",
    "    \"are\",\n",
    "    \"cool\",\n",
    "    \"Alright\",\n",
    "    \"know\",\n",
    "    \"joke\",\n",
    "    \"Bye\",\n",
    "    \"See\",\n",
    "]\n",
    "all_word = [word.lower() for word in all_word]\n",
    "\n",
    "Bag = [0, 0, 0, 0, 0, 0, 0, 0, 0, 0, 0, 0, 0, 0]\n",
    "\n",
    "\n",
    "for i, w in enumerate(all_word):\n",
    "    if w in tokenize_sentences:\n",
    "        Bag[i] = 1.0\n",
    "print(f\"Bag: {Bag}\")"
   ]
  },
  {
   "source": [
    "**Compare 'Use for'of Example 1 with the cell bellow**\n"
   ],
   "cell_type": "markdown",
   "metadata": {}
  },
  {
   "cell_type": "code",
   "execution_count": 71,
   "metadata": {},
   "outputs": [
    {
     "output_type": "stream",
     "name": "stdout",
     "text": [
      "Bag: [0, 0, 1.0, 0, 1.0, 1.0, 0, 0, 0, 0, 0, 0, 1.0, 0]\n"
     ]
    }
   ],
   "source": [
    "bag = [1.0 if w in tokenize_sentences else 0 for w in all_word]\n",
    "print(f\"Bag: {bag}\")"
   ]
  },
  {
   "source": [
    "### **Use Reversed**\n",
    "---\n",
    "\n",
    "This function return the reverse order of iterator object.\n",
    "\n",
    "**Example 1**\n",
    "\n",
    "Use the function reversed with the list (lst)"
   ],
   "cell_type": "markdown",
   "metadata": {}
  },
  {
   "cell_type": "code",
   "execution_count": 87,
   "metadata": {},
   "outputs": [
    {
     "output_type": "stream",
     "name": "stdout",
     "text": [
      "Tensorflow\nPytorch\nDeep\nAI\nArtificial\nPython\n"
     ]
    }
   ],
   "source": [
    "for i in reversed(lst):\n",
    "    print(f\"{i}\")"
   ]
  },
  {
   "source": [
    "**Compare 'Use for'of Example 1 with the cell bellow**"
   ],
   "cell_type": "markdown",
   "metadata": {}
  },
  {
   "cell_type": "code",
   "execution_count": 88,
   "metadata": {},
   "outputs": [
    {
     "output_type": "stream",
     "name": "stdout",
     "text": [
      "Tensorflow\nPytorch\nDeep\nAI\nArtificial\nPython\n"
     ]
    }
   ],
   "source": [
    "for i in lst[::-1]:\n",
    "    print(f\"{i}\")"
   ]
  },
  {
   "source": [
    "**Example 2**\n",
    "\n",
    "Use the for and reverse loop function to loop through a tuple."
   ],
   "cell_type": "markdown",
   "metadata": {}
  },
  {
   "cell_type": "code",
   "execution_count": 101,
   "metadata": {},
   "outputs": [
    {
     "output_type": "stream",
     "name": "stdout",
     "text": [
      "Esrever\nReverse\n5\n1\n"
     ]
    }
   ],
   "source": [
    "Tupla = 1, 5, \"Reverse\", \"Esrever\"\n",
    "\n",
    "for value in reversed(Tupla):\n",
    "    print(value)\n"
   ]
  },
  {
   "source": [
    "## args and kwargs\n",
    "\n",
    "When we want to define a function, we necessarily have to pass the arguments it requested.\n",
    "\n",
    "def (a, b, c)\n",
    "    ----\n",
    "    ----\n",
    "    return \n",
    "    \n",
    "however with the use of the args and **kwargs** variables we can solve this problem\n",
    "where **args** refers to arguments and **kwargs** key arguments.\n",
    "\n",
    "with args you can give n number of parameters and receive a tuple and **kwargs** can give a default value and return a dictionary."
   ],
   "cell_type": "markdown",
   "metadata": {}
  },
  {
   "source": [
    "**Example 1**\n",
    "\n",
    "Define a function and use the variables args."
   ],
   "cell_type": "markdown",
   "metadata": {}
  },
  {
   "cell_type": "code",
   "execution_count": 5,
   "metadata": {},
   "outputs": [
    {
     "output_type": "stream",
     "name": "stdout",
     "text": [
      "The function: (3, 4, 5),\nThe function 1 :(1, 2)\n"
     ]
    }
   ],
   "source": [
    "def tupla(*args):\n",
    "    return args\n",
    "print(f\"The function: {tupla(3,4,5)},\\nThe function 1 :{tupla(1,2)}\")"
   ]
  },
  {
   "source": [
    "**Example 2:**\n",
    "\n",
    "Define a function and use the kwagrs variables"
   ],
   "cell_type": "markdown",
   "metadata": {}
  },
  {
   "cell_type": "code",
   "execution_count": 8,
   "metadata": {},
   "outputs": [
    {
     "output_type": "stream",
     "name": "stdout",
     "text": [
      "The function: {'a': 3, 'b': 4, 'c': 5},\nThe function 1 :{'key': 1, 'key_1': 2}\n"
     ]
    }
   ],
   "source": [
    "def dic(**kwargs):\n",
    "    return kwargs\n",
    "print(f\"The function: {dic(a=3,b=4,c=5)},\\nThe function 1 :{dic(key=1,key_1=2)}\")"
   ]
  },
  {
   "source": [
    "Use the \"for loop\" with the functions above"
   ],
   "cell_type": "markdown",
   "metadata": {}
  },
  {
   "cell_type": "code",
   "execution_count": 21,
   "metadata": {},
   "outputs": [
    {
     "output_type": "stream",
     "name": "stdout",
     "text": [
      "List: [1, 3, 'A', 'I', 5, 3]\n"
     ]
    }
   ],
   "source": [
    "def tup(*args):\n",
    "    a = []\n",
    "    for i in args:\n",
    "        a.append(i)\n",
    "    return a\n",
    "\n",
    "print(f\"List: {tup(1,3,'A','I',5,3)}\")"
   ]
  },
  {
   "cell_type": "code",
   "execution_count": 24,
   "metadata": {},
   "outputs": [
    {
     "output_type": "stream",
     "name": "stdout",
     "text": [
      "RealPythonIsGreat!\n"
     ]
    }
   ],
   "source": [
    "def concatenate(**kwargs):\n",
    "    result = \"\"\n",
    "    for arg in kwargs.values():\n",
    "        result += arg\n",
    "    return result\n",
    "\n",
    "print(concatenate(a=\"Real\", b=\"Python\", c=\"Is\", d=\"Great\", e=\"!\"))"
   ]
  },
  {
   "cell_type": "code",
   "execution_count": 29,
   "metadata": {},
   "outputs": [
    {
     "output_type": "stream",
     "name": "stdout",
     "text": [
      "Firstname is Roberto\nLastname is López\nAge is 28\ncorreo is roberto.l@gmail.com\n"
     ]
    }
   ],
   "source": [
    "def intro(**kwargs):\n",
    "\n",
    "    for key, value in kwargs.items():\n",
    "        print(f\"{key} is {value}\")\n",
    "\n",
    "intro(Firstname=\"Roberto\", Lastname=\"López\", Age=28,correo=\"roberto.l@gmail.com\")"
   ]
  }
 ]
}