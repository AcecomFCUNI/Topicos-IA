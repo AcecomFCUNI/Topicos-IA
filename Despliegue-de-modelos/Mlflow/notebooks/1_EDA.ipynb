{
 "cells": [
  {
   "cell_type": "markdown",
   "id": "human-marks",
   "metadata": {},
   "source": [
    "The data comes from Kaggle:\n",
    "- https://www.kaggle.com/arashnic/hr-analytics-job-change-of-data-scientists?select=sample_submission.csv"
   ]
  },
  {
   "cell_type": "code",
   "execution_count": 1,
   "id": "subsequent-anthropology",
   "metadata": {},
   "outputs": [],
   "source": [
    "%matplotlib inline\n",
    "%config Completer.use_jedi=False"
   ]
  },
  {
   "cell_type": "code",
   "execution_count": 2,
   "id": "annoying-sociology",
   "metadata": {},
   "outputs": [],
   "source": [
    "from urllib.parse import urlparse\n",
    "\n",
    "import pandas as pd\n",
    "from sklearn.preprocessing import LabelEncoder\n",
    "from sklearn.model_selection import train_test_split\n",
    "from sklearn.linear_model import LogisticRegression\n",
    "from sklearn.tree import DecisionTreeClassifier\n",
    "from sklearn.ensemble import RandomForestClassifier\n",
    "from sklearn.metrics import (accuracy_score, precision_score, recall_score, f1_score,\n",
    "                             roc_auc_score, classification_report)\n",
    "import mlflow\n",
    "import mlflow.sklearn"
   ]
  },
  {
   "cell_type": "code",
   "execution_count": 4,
   "id": "substantial-comedy",
   "metadata": {},
   "outputs": [],
   "source": [
    "mlflow.set_tracking_uri(\"file:///Users/ahmed.besbes/projects/mlflow/mlruns\")"
   ]
  },
  {
   "cell_type": "code",
   "execution_count": 5,
   "id": "nervous-aquatic",
   "metadata": {},
   "outputs": [],
   "source": [
    "tracking_uri = mlflow.get_tracking_uri()"
   ]
  },
  {
   "cell_type": "code",
   "execution_count": 6,
   "id": "comprehensive-future",
   "metadata": {},
   "outputs": [
    {
     "data": {
      "text/plain": [
       "'file:///Users/ahmed.besbes/projects/mlflow/mlruns'"
      ]
     },
     "execution_count": 6,
     "metadata": {},
     "output_type": "execute_result"
    }
   ],
   "source": [
    "tracking_uri"
   ]
  },
  {
   "cell_type": "code",
   "execution_count": 7,
   "id": "strategic-parameter",
   "metadata": {},
   "outputs": [],
   "source": [
    "data = pd.read_csv(\"./../data/aug_train.csv\")\n",
    "targets = data[[\"target\"]]\n",
    "data.drop([\"enrollee_id\", \"target\"], inplace=True, axis=1)"
   ]
  },
  {
   "cell_type": "code",
   "execution_count": 8,
   "id": "worse-headquarters",
   "metadata": {},
   "outputs": [],
   "source": [
    "categorical_features = []\n",
    "numerical_features = []\n",
    "\n",
    "for column in data.columns:\n",
    "    dtype = str(data[column].dtype)\n",
    "    if dtype in [\"float64\", \"int64\"]:\n",
    "        numerical_features.append(column)\n",
    "    else:\n",
    "        categorical_features.append(column)"
   ]
  },
  {
   "cell_type": "code",
   "execution_count": 9,
   "id": "computational-browser",
   "metadata": {},
   "outputs": [],
   "source": [
    "for categorical_feature in categorical_features:\n",
    "    data[categorical_feature].fillna('missing', inplace=True)"
   ]
  },
  {
   "cell_type": "code",
   "execution_count": 10,
   "id": "atmospheric-volume",
   "metadata": {},
   "outputs": [],
   "source": [
    "for categorical_feature in categorical_features:\n",
    "    le = LabelEncoder()\n",
    "    data[categorical_feature] = le.fit_transform(data[categorical_feature])"
   ]
  },
  {
   "cell_type": "code",
   "execution_count": 11,
   "id": "liable-diameter",
   "metadata": {},
   "outputs": [],
   "source": [
    "x_train, x_test, y_train, y_test = train_test_split(data.values, \n",
    "                                                    targets.values.ravel(), \n",
    "                                                    test_size=0.3, \n",
    "                                                    random_state=2021,\n",
    "                                                    stratify=targets.values)"
   ]
  },
  {
   "cell_type": "code",
   "execution_count": 12,
   "id": "painful-diagnosis",
   "metadata": {},
   "outputs": [
    {
     "name": "stdout",
     "output_type": "stream",
     "text": [
      "(13410, 12) (5748, 12)\n"
     ]
    }
   ],
   "source": [
    "print(x_train.shape, x_test.shape)"
   ]
  },
  {
   "cell_type": "code",
   "execution_count": 13,
   "id": "collect-clark",
   "metadata": {},
   "outputs": [
    {
     "name": "stdout",
     "output_type": "stream",
     "text": [
      "(13410,) (5748,)\n"
     ]
    }
   ],
   "source": [
    "print(y_train.shape, y_test.shape)"
   ]
  },
  {
   "cell_type": "code",
   "execution_count": 18,
   "id": "double-safety",
   "metadata": {
    "scrolled": false
   },
   "outputs": [],
   "source": [
    "with mlflow.start_run():\n",
    "    class_weight = \"balanced\"\n",
    "    max_iter = 1000\n",
    "\n",
    "    logistic_regression = LogisticRegression(class_weight=class_weight, max_iter=max_iter)\n",
    "    logistic_regression.fit(x_train, y_train)\n",
    "\n",
    "    y_pred = logistic_regression.predict(x_test)\n",
    "\n",
    "    accuracy = accuracy_score(y_test, y_pred)\n",
    "    precision = precision_score(y_test, y_pred)\n",
    "    recall = recall_score(y_test, y_pred)\n",
    "    f1 = f1_score(y_test, y_pred)\n",
    "    auc = roc_auc_score(y_test, y_pred)\n",
    "    \n",
    "    mlflow.log_param(\"class_weight\", class_weight)\n",
    "    mlflow.log_param(\"max_iter\", max_iter)\n",
    "    \n",
    "    mlflow.log_metric(\"accuracy\", accuracy)\n",
    "    mlflow.log_metric(\"precision\", precision)\n",
    "    mlflow.log_metric(\"recall\", recall)\n",
    "    mlflow.log_metric(\"f1\", f1)\n",
    "    mlflow.log_metric(\"auc\", auc) \n",
    "    \n",
    "    mlflow.sklearn.log_model(logistic_regression, \"model\")"
   ]
  },
  {
   "cell_type": "code",
   "execution_count": null,
   "id": "black-costa",
   "metadata": {},
   "outputs": [],
   "source": []
  }
 ],
 "metadata": {
  "kernelspec": {
   "display_name": "Python 3",
   "language": "python",
   "name": "python3"
  },
  "language_info": {
   "codemirror_mode": {
    "name": "ipython",
    "version": 3
   },
   "file_extension": ".py",
   "mimetype": "text/x-python",
   "name": "python",
   "nbconvert_exporter": "python",
   "pygments_lexer": "ipython3",
   "version": "3.8.6"
  }
 },
 "nbformat": 4,
 "nbformat_minor": 5
}
