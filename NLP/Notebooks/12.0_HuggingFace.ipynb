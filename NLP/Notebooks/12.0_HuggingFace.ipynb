{
 "metadata": {
  "language_info": {
   "codemirror_mode": {
    "name": "ipython",
    "version": 3
   },
   "file_extension": ".py",
   "mimetype": "text/x-python",
   "name": "python",
   "nbconvert_exporter": "python",
   "pygments_lexer": "ipython3",
   "version": 3
  },
  "orig_nbformat": 4
 },
 "nbformat": 4,
 "nbformat_minor": 2,
 "cells": [
  {
   "source": [
    "# HuggingFace"
   ],
   "cell_type": "markdown",
   "metadata": {}
  },
  {
   "source": [
    "### Size of models in last years\n",
    " <img src=\"images/Size_Models.png\" width=\"600\"/>"
   ],
   "cell_type": "markdown",
   "metadata": {}
  },
  {
   "source": [
    "### Cost of Train these Models:\n",
    "(from: https://www.technologyreview.com/2019/06/06/239031/training-a-single-ai-model-can-emit-as-much-carbon-as-five-cars-in-their-lifetimes/)\n",
    "\n",
    " <img src=\"images/models_energy_cost.png\" width=\"600\"/>"
   ],
   "cell_type": "markdown",
   "metadata": {}
  },
  {
   "source": [
    "### Impact in nature\n",
    " <img src=\"images/models_co2.png\" width=\"600\"/>"
   ],
   "cell_type": "markdown",
   "metadata": {}
  },
  {
   "source": [
    "# Transfer Learning"
   ],
   "cell_type": "markdown",
   "metadata": {}
  },
  {
   "source": [
    "### Huggingface offers big pretrained models where can use Finetuning technique for specific tasks\n",
    " <img src=\"images/transfer_learn.png\" width=\"600\"/>"
   ],
   "cell_type": "markdown",
   "metadata": {}
  },
  {
   "cell_type": "code",
   "execution_count": null,
   "metadata": {},
   "outputs": [],
   "source": []
  }
 ]
}