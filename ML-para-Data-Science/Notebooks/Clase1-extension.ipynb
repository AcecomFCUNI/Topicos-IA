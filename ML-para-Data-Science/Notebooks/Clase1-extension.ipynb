{
  "nbformat": 4,
  "nbformat_minor": 0,
  "metadata": {
    "kernelspec": {
      "display_name": "Python 3",
      "language": "python",
      "name": "python3"
    },
    "language_info": {
      "codemirror_mode": {
        "name": "ipython",
        "version": 3
      },
      "file_extension": ".py",
      "mimetype": "text/x-python",
      "name": "python",
      "nbconvert_exporter": "python",
      "pygments_lexer": "ipython3",
      "version": "3.6.8"
    },
    "colab": {
      "name": "MNIST.ipynb",
      "provenance": []
    }
  },
  "cells": [
    {
      "cell_type": "markdown",
      "metadata": {
        "id": "mv90CIC47YfR"
      },
      "source": [
        "## Introducción a Sklearn 🧠 (Extensión Skorch)"
      ]
    },
    {
      "cell_type": "markdown",
      "metadata": {
        "id": "LCI0Yx2z7Yfk"
      },
      "source": [
        "Este cuaderno explica cómo definir y entrenar una red neuronal simple con PyTorch y usarla a través de skorch con SciKit-Learn.\n",
        "\n",
        "\n",
        "**Nota**: Si está ejecutando esto en [un cuaderno Colab](https://colab.research.google.com/github/AcecomFCUNI/Topicos-IA/blob/master/ML-para-Data-Science/Notebooks/Clase1-extension.ipynb), le recomendamos habilite una GPU gratuita yendo a:\n",
        "\n",
        "> **Runtime**   →   **Cambiar el tipo de runtime**   →   **Acerlación por hardware: GPU**\n",
        "\n",
        "Si está ejecutando en colab, debe instalar las dependencias y descargar el conjunto de datos ejecutando la siguiente celda:\n"
      ]
    },
    {
      "cell_type": "code",
      "metadata": {
        "id": "V3dS6zy17Yfn"
      },
      "source": [
        "! [ ! -z \"$COLAB_GPU\" ] && pip install torch scikit-learn==0.20.* skorch"
      ],
      "execution_count": null,
      "outputs": []
    },
    {
      "cell_type": "code",
      "execution_count": null,
      "metadata": {},
      "outputs": [],
      "source": [
        "!pip install scikit-learn==0.20.* skorch"
      ]
    },
    {
      "cell_type": "code",
      "metadata": {
        "id": "e1dDONjy7Yfp"
      },
      "source": [
        "from sklearn.datasets import fetch_openml\n",
        "from sklearn.model_selection import train_test_split\n",
        "import numpy as np\n",
        "import matplotlib.pyplot as plt"
      ],
      "execution_count": null,
      "outputs": []
    },
    {
      "cell_type": "markdown",
      "metadata": {
        "id": "wLQ1uMaA7Yfq"
      },
      "source": [
        "## Cargando datos\n",
        "Usando SciKit-Learns ```fetch_openml``` para cargar datos MNIST."
      ]
    },
    {
      "cell_type": "code",
      "metadata": {
        "id": "XhjQ9Er37Yfr"
      },
      "source": [
        "mnist = fetch_openml('mnist_784', cache=False)"
      ],
      "execution_count": null,
      "outputs": []
    },
    {
      "cell_type": "code",
      "metadata": {
        "id": "nNV2TOhg7Yfs",
        "outputId": "b0663593-7be2-4ef3-b765-95ec96aef4cb"
      },
      "source": [
        "mnist.data.shape"
      ],
      "execution_count": null,
      "outputs": [
        {
          "output_type": "execute_result",
          "data": {
            "text/plain": [
              "(70000, 784)"
            ]
          },
          "metadata": {
            "tags": []
          },
          "execution_count": 4
        }
      ]
    },
    {
      "cell_type": "markdown",
      "metadata": {
        "id": "_SV9WFXC7Yfu"
      },
      "source": [
        "## Pre-procesamiento de los datos\n",
        "\n",
        "Cada imagen del conjunto de datos MNIST está codificada en un vector de 784 dimensiones, que representa una imagen de 28 x 28 píxeles. Cada píxel tiene un valor entre 0 y 255, que corresponde al valor de gris de un píxel. <br />\n",
        "El método anterior ```featch_mldata``` para cargar MNIST devuelve ``` data``` y ```target``` como ``` uint8``` que convertimos a ```float32``` y ```int64``` respectivamente."
      ]
    },
    {
      "cell_type": "code",
      "metadata": {
        "id": "FCtyzPJz7Yfw"
      },
      "source": [
        "X = mnist.data.astype('float32')\n",
        "y = mnist.target.astype('int64')"
      ],
      "execution_count": null,
      "outputs": []
    },
    {
      "cell_type": "markdown",
      "metadata": {
        "id": "CKW0pmV47Yfx"
      },
      "source": [
        "Para evitar grandes pesos que se ocupan de los valores de píxeles entre [0, 255], escalamos \"X\" hacia abajo. Un rango de uso común es [0, 1]."
      ]
    },
    {
      "cell_type": "code",
      "metadata": {
        "id": "0OGksD8F7Yfy"
      },
      "source": [
        "X /= 255.0"
      ],
      "execution_count": null,
      "outputs": []
    },
    {
      "cell_type": "code",
      "metadata": {
        "id": "gPRGE_Je7Yfz",
        "outputId": "afd9b4a0-cf81-4541-beda-5b21b47b0e3e"
      },
      "source": [
        "X.min(), X.max()"
      ],
      "execution_count": null,
      "outputs": [
        {
          "output_type": "execute_result",
          "data": {
            "text/plain": [
              "(0.0, 1.0)"
            ]
          },
          "metadata": {
            "tags": []
          },
          "execution_count": 7
        }
      ]
    },
    {
      "cell_type": "markdown",
      "metadata": {
        "id": "vE8izbP37Yfz"
      },
      "source": [
        "Nota: los datos no están normalizados."
      ]
    },
    {
      "cell_type": "code",
      "metadata": {
        "id": "jwotAkbO7Yf0"
      },
      "source": [
        "X_train, X_test, y_train, y_test = train_test_split(X, y, test_size=0.25, random_state=42)"
      ],
      "execution_count": null,
      "outputs": []
    },
    {
      "cell_type": "code",
      "metadata": {
        "id": "FaSQhqJ77Yf1"
      },
      "source": [
        "assert(X_train.shape[0] + X_test.shape[0] == mnist.data.shape[0])"
      ],
      "execution_count": null,
      "outputs": []
    },
    {
      "cell_type": "code",
      "metadata": {
        "id": "XCPn3gNk7Yf1",
        "outputId": "acc1a806-703d-4284-810d-c79eafecdd23"
      },
      "source": [
        "X_train.shape, y_train.shape"
      ],
      "execution_count": null,
      "outputs": [
        {
          "output_type": "execute_result",
          "data": {
            "text/plain": [
              "((52500, 784), (52500,))"
            ]
          },
          "metadata": {
            "tags": []
          },
          "execution_count": 10
        }
      ]
    },
    {
      "cell_type": "markdown",
      "metadata": {
        "id": "JJp2Z5nP7Yf2"
      },
      "source": [
        "### Imprimiendo una selección de imágenes de entrenamiento y sus etiquetas"
      ]
    },
    {
      "cell_type": "code",
      "metadata": {
        "id": "bToSd7M97Yf3"
      },
      "source": [
        "def plot_example(X, y):\n",
        "    \"\"\"Ploteamos las primeras 5 imágenes y sus etiquetas en una fila..\"\"\"\n",
        "    for i, (img, y) in enumerate(zip(X[:5].reshape(5, 28, 28), y[:5])):\n",
        "        plt.subplot(151 + i)\n",
        "        plt.imshow(img)\n",
        "        plt.xticks([])\n",
        "        plt.yticks([])\n",
        "        plt.title(y)"
      ],
      "execution_count": null,
      "outputs": []
    },
    {
      "cell_type": "code",
      "metadata": {
        "id": "K0tvyuzt7Yf4",
        "outputId": "20f6dd84-2bad-42b9-82fa-0604679fd1a8"
      },
      "source": [
        "plot_example(X_train, y_train)"
      ],
      "execution_count": null,
      "outputs": [
        {
          "output_type": "display_data",
          "data": {
            "image/png": "[encoded data removed]",
            "text/plain": [
              "<matplotlib.figure.Figure at 0x7ff569a4a320>"
            ]
          },
          "metadata": {
            "tags": []
          }
        }
      ]
    },
    {
      "cell_type": "markdown",
      "metadata": {
        "id": "Zbfe_SrN7Yf4"
      },
      "source": [
        "## Construyendo una red neuronal con PyTorch\n",
        "Es una red neuronal simple y completamente conectada con una capa oculta. La capa de entrada tiene 784 dimensiones (28x28), la capa oculta tiene 98 (= 784/8) unidades y la capa de salida 10 neuronas, que representan los dígitos 0 - 9."
      ]
    },
    {
      "cell_type": "code",
      "metadata": {
        "id": "8KW5p6Ou7Yf5"
      },
      "source": [
        "import torch\n",
        "from torch import nn\n",
        "import torch.nn.functional as F"
      ],
      "execution_count": null,
      "outputs": []
    },
    {
      "cell_type": "code",
      "metadata": {
        "id": "FBq_mO3O7Yf6"
      },
      "source": [
        "device = 'cuda' if torch.cuda.is_available() else 'cpu'"
      ],
      "execution_count": null,
      "outputs": []
    },
    {
      "cell_type": "code",
      "metadata": {
        "id": "S7v6a2v_7Yf6"
      },
      "source": [
        "mnist_dim = X.shape[1]\n",
        "hidden_dim = int(mnist_dim/8)\n",
        "output_dim = len(np.unique(mnist.target))"
      ],
      "execution_count": null,
      "outputs": []
    },
    {
      "cell_type": "code",
      "metadata": {
        "id": "Off4-84N7Yf7",
        "outputId": "fb2369a2-da89-4eae-c124-2de86c6af49c"
      },
      "source": [
        "mnist_dim, hidden_dim, output_dim"
      ],
      "execution_count": null,
      "outputs": [
        {
          "output_type": "execute_result",
          "data": {
            "text/plain": [
              "(784, 98, 10)"
            ]
          },
          "metadata": {
            "tags": []
          },
          "execution_count": 16
        }
      ]
    },
    {
      "cell_type": "markdown",
      "metadata": {
        "id": "FazMk76H7Yf7"
      },
      "source": [
        "Una red neuronal en el marco de PyTorch."
      ]
    },
    {
      "cell_type": "code",
      "metadata": {
        "id": "AJtcxc_y7Yf8"
      },
      "source": [
        "class ClassifierModule(nn.Module):\n",
        "    def __init__(\n",
        "            self,\n",
        "            input_dim=mnist_dim,\n",
        "            hidden_dim=hidden_dim,\n",
        "            output_dim=output_dim,\n",
        "            dropout=0.5,\n",
        "    ):\n",
        "        super(ClassifierModule, self).__init__()\n",
        "        self.dropout = nn.Dropout(dropout)\n",
        "\n",
        "        self.hidden = nn.Linear(input_dim, hidden_dim)\n",
        "        self.output = nn.Linear(hidden_dim, output_dim)\n",
        "\n",
        "    def forward(self, X, **kwargs):\n",
        "        X = F.relu(self.hidden(X))\n",
        "        X = self.dropout(X)\n",
        "        X = F.softmax(self.output(X), dim=-1)\n",
        "        return X"
      ],
      "execution_count": null,
      "outputs": []
    },
    {
      "cell_type": "markdown",
      "metadata": {
        "id": "IZVXL4TI7Yf9"
      },
      "source": [
        "*Skorch* permite usar las redes de PyTorch en la configuración de SciKit-Learn:"
      ]
    },
    {
      "cell_type": "code",
      "metadata": {
        "id": "bg9MP9587Yf9"
      },
      "source": [
        "from skorch import NeuralNetClassifier"
      ],
      "execution_count": null,
      "outputs": []
    },
    {
      "cell_type": "code",
      "metadata": {
        "id": "1X3VVUB47Yf-"
      },
      "source": [
        "torch.manual_seed(0)\n",
        "\n",
        "net = NeuralNetClassifier(\n",
        "    ClassifierModule,\n",
        "    max_epochs=20,\n",
        "    lr=0.1,\n",
        "    device=device,\n",
        ")"
      ],
      "execution_count": null,
      "outputs": []
    },
    {
      "cell_type": "code",
      "metadata": {
        "id": "26cTdzLF7Yf-",
        "outputId": "57508dea-bf80-49e5-ab0b-86879eafc4ff"
      },
      "source": [
        "net.fit(X_train, y_train);"
      ],
      "execution_count": null,
      "outputs": [
        {
          "output_type": "stream",
          "text": [
            "  epoch    train_loss    valid_acc    valid_loss     dur\n",
            "-------  ------------  -----------  ------------  ------\n",
            "      1        \u001b[36m0.8299\u001b[0m       \u001b[32m0.8893\u001b[0m        \u001b[35m0.4037\u001b[0m  0.8951\n",
            "      2        \u001b[36m0.4331\u001b[0m       \u001b[32m0.9113\u001b[0m        \u001b[35m0.3075\u001b[0m  0.7862\n",
            "      3        \u001b[36m0.3619\u001b[0m       \u001b[32m0.9240\u001b[0m        \u001b[35m0.2614\u001b[0m  0.8314\n",
            "      4        \u001b[36m0.3237\u001b[0m       \u001b[32m0.9305\u001b[0m        \u001b[35m0.2379\u001b[0m  0.7739\n",
            "      5        \u001b[36m0.2914\u001b[0m       \u001b[32m0.9371\u001b[0m        \u001b[35m0.2173\u001b[0m  0.7721\n",
            "      6        \u001b[36m0.2739\u001b[0m       \u001b[32m0.9413\u001b[0m        \u001b[35m0.1979\u001b[0m  0.7949\n",
            "      7        \u001b[36m0.2569\u001b[0m       \u001b[32m0.9449\u001b[0m        \u001b[35m0.1859\u001b[0m  0.7691\n",
            "      8        \u001b[36m0.2420\u001b[0m       \u001b[32m0.9461\u001b[0m        \u001b[35m0.1813\u001b[0m  0.7871\n",
            "      9        \u001b[36m0.2337\u001b[0m       \u001b[32m0.9496\u001b[0m        \u001b[35m0.1708\u001b[0m  0.7730\n",
            "     10        \u001b[36m0.2195\u001b[0m       \u001b[32m0.9532\u001b[0m        \u001b[35m0.1604\u001b[0m  0.7992\n",
            "     11        \u001b[36m0.2151\u001b[0m       \u001b[32m0.9547\u001b[0m        \u001b[35m0.1514\u001b[0m  0.7955\n",
            "     12        \u001b[36m0.2065\u001b[0m       \u001b[32m0.9560\u001b[0m        \u001b[35m0.1476\u001b[0m  0.7734\n",
            "     13        \u001b[36m0.2015\u001b[0m       \u001b[32m0.9563\u001b[0m        \u001b[35m0.1455\u001b[0m  0.8316\n",
            "     14        \u001b[36m0.1943\u001b[0m       \u001b[32m0.9587\u001b[0m        \u001b[35m0.1389\u001b[0m  0.7913\n",
            "     15        \u001b[36m0.1883\u001b[0m       0.9578        \u001b[35m0.1381\u001b[0m  0.8092\n",
            "     16        \u001b[36m0.1848\u001b[0m       \u001b[32m0.9596\u001b[0m        \u001b[35m0.1323\u001b[0m  0.7907\n",
            "     17        \u001b[36m0.1838\u001b[0m       \u001b[32m0.9606\u001b[0m        \u001b[35m0.1312\u001b[0m  0.7806\n",
            "     18        \u001b[36m0.1776\u001b[0m       \u001b[32m0.9623\u001b[0m        \u001b[35m0.1261\u001b[0m  0.7657\n",
            "     19        \u001b[36m0.1738\u001b[0m       \u001b[32m0.9625\u001b[0m        \u001b[35m0.1250\u001b[0m  0.7690\n",
            "     20        \u001b[36m0.1704\u001b[0m       \u001b[32m0.9627\u001b[0m        \u001b[35m0.1238\u001b[0m  0.7627\n"
          ],
          "name": "stdout"
        }
      ]
    },
    {
      "cell_type": "markdown",
      "metadata": {
        "id": "Z0xjiLJz7Yf_"
      },
      "source": [
        "## Predicción"
      ]
    },
    {
      "cell_type": "code",
      "metadata": {
        "id": "k894bnew7YgA"
      },
      "source": [
        "from sklearn.metrics import accuracy_score"
      ],
      "execution_count": null,
      "outputs": []
    },
    {
      "cell_type": "code",
      "metadata": {
        "id": "SkOhZY8d7YgA"
      },
      "source": [
        "y_pred = net.predict(X_test)"
      ],
      "execution_count": null,
      "outputs": []
    },
    {
      "cell_type": "code",
      "metadata": {
        "id": "emlRJwZ77YgB",
        "outputId": "eb84c771-bb9e-489d-d121-b00d57d4ae77"
      },
      "source": [
        "accuracy_score(y_test, y_pred)"
      ],
      "execution_count": null,
      "outputs": [
        {
          "output_type": "execute_result",
          "data": {
            "text/plain": [
              "0.9627428571428571"
            ]
          },
          "metadata": {
            "tags": []
          },
          "execution_count": 23
        }
      ]
    },
    {
      "cell_type": "markdown",
      "metadata": {
        "id": "Uk5gufEY7YgC"
      },
      "source": [
        "Un accuracy de aproximadamente el 96% para una red con una sola capa oculta no es tan mala.\n",
        "\n",
        "Echemos un vistazo a algunas predicciones que salieron mal:"
      ]
    },
    {
      "cell_type": "code",
      "metadata": {
        "id": "3G5xhp1Z7YgC"
      },
      "source": [
        "error_mask = y_pred != y_test"
      ],
      "execution_count": null,
      "outputs": []
    },
    {
      "cell_type": "code",
      "metadata": {
        "id": "S8VelOjp7YgD",
        "outputId": "a29fbaeb-869e-475d-d118-a9ed9f10668a"
      },
      "source": [
        "plot_example(X_test[error_mask], y_pred[error_mask])"
      ],
      "execution_count": null,
      "outputs": [
        {
          "output_type": "display_data",
          "data": {
            "image/png": "[encoded data removed]",
            "text/plain": [
              "<matplotlib.figure.Figure at 0x7ff5140a62b0>"
            ]
          },
          "metadata": {
            "tags": []
          }
        }
      ]
    }
  ]
}
