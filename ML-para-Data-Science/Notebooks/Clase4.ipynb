{
  "nbformat": 4,
  "nbformat_minor": 0,
  "metadata": {
    "colab": {
      "name": "DataPrep pandas.ipynb",
      "provenance": [],
      "toc_visible": true
    },
    "kernelspec": {
      "name": "python3",
      "display_name": "Python 3"
    }
  },
  "cells": [
    {
      "cell_type": "markdown",
      "metadata": {
        "id": "7OI7tLnm2esU",
        "colab_type": "text"
      },
      "source": [
        "# Tratamiento de datos con Pandas 🐼"
      ]
    },
    {
      "cell_type": "markdown",
      "metadata": {
        "id": "ytsICs7T3bmO",
        "colab_type": "text"
      },
      "source": [
        "## 00.Carga de datos (BigQuery Public Dataset program)"
      ]
    },
    {
      "cell_type": "markdown",
      "metadata": {
        "id": "5mdxXlSiEplk",
        "colab_type": "text"
      },
      "source": [
        "Comenzamos cargando los datos del [BigQuery Public Dataset Program](https://cloud.google.com/bigquery/public-data), para ello lo primero que haremos es autenticarnos en Google Cloud Platform. Puedes crear una cuenta gratuita con 300 USD (**activando** su cuenta), o puede solo registrarse. [aqui](https://console.cloud.google.com)"
      ]
    },
    {
      "cell_type": "code",
      "metadata": {
        "id": "k12wJvU15pqL",
        "colab_type": "code",
        "colab": {
          "base_uri": "https://localhost:8080/",
          "height": 35
        },
        "outputId": "f39f2770-e9eb-48cf-b9ce-0696323307be"
      },
      "source": [
        "from google.colab import auth\n",
        "auth.authenticate_user()\n",
        "print('Autenticacion exitosa')"
      ],
      "execution_count": 27,
      "outputs": [
        {
          "output_type": "stream",
          "text": [
            "Autenticacion exitosa\n"
          ],
          "name": "stdout"
        }
      ]
    },
    {
      "cell_type": "markdown",
      "metadata": {
        "id": "gxZCtc2gFAte",
        "colab_type": "text"
      },
      "source": [
        "Cargamos las librerias necesarias: bigquery, pandas y numpy"
      ]
    },
    {
      "cell_type": "code",
      "metadata": {
        "id": "d063uwR_5NDj",
        "colab_type": "code",
        "colab": {}
      },
      "source": [
        "from google.cloud import bigquery\n",
        "import pandas as pd\n",
        "import numpy as np"
      ],
      "execution_count": 4,
      "outputs": []
    },
    {
      "cell_type": "markdown",
      "metadata": {
        "id": "uOuhj2tcH-sc",
        "colab_type": "text"
      },
      "source": [
        "Leemos los datos de BigQuery y los dejamos en un Dataframe de pandas"
      ]
    },
    {
      "cell_type": "code",
      "metadata": {
        "id": "azsk7Y352kbc",
        "colab_type": "code",
        "colab": {
          "base_uri": "https://localhost:8080/",
          "height": 309
        },
        "outputId": "1c278882-01cd-4e31-c8e5-c35421ddddf1"
      },
      "source": [
        "project_reader = \"velascoluis-test\" #Aqui tienes que cambiarlo por tu nombre de proyecto en GCP\n",
        "project_public = \"bigquery-public-data\"\n",
        "dataset_id = \"catalonian_mobile_coverage_eu\"\n",
        "table_id = \"mobile_data_2015_2017\"\n",
        "bq_client = bigquery.Client(project_reader)\n",
        "dataset_ref = bigquery.DatasetReference(project_public, dataset_id)\n",
        "table_ref = dataset_ref.table(table_id)\n",
        "table = bq_client.get_table(table_ref)\n",
        "df = bq_client.list_rows(table,max_results=100000).to_dataframe() #Leemos los primeros 100,000 registros\n",
        "df.head()"
      ],
      "execution_count": 5,
      "outputs": [
        {
          "output_type": "execute_result",
          "data": {
            "text/html": [
              "<div>\n",
              "<style scoped>\n",
              "    .dataframe tbody tr th:only-of-type {\n",
              "        vertical-align: middle;\n",
              "    }\n",
              "\n",
              "    .dataframe tbody tr th {\n",
              "        vertical-align: top;\n",
              "    }\n",
              "\n",
              "    .dataframe thead th {\n",
              "        text-align: right;\n",
              "    }\n",
              "</style>\n",
              "<table border=\"1\" class=\"dataframe\">\n",
              "  <thead>\n",
              "    <tr style=\"text-align: right;\">\n",
              "      <th></th>\n",
              "      <th>date</th>\n",
              "      <th>hour</th>\n",
              "      <th>lat</th>\n",
              "      <th>long</th>\n",
              "      <th>signal</th>\n",
              "      <th>network</th>\n",
              "      <th>operator</th>\n",
              "      <th>status</th>\n",
              "      <th>description</th>\n",
              "      <th>net</th>\n",
              "      <th>speed</th>\n",
              "      <th>satellites</th>\n",
              "      <th>precission</th>\n",
              "      <th>provider</th>\n",
              "      <th>activity</th>\n",
              "      <th>downloadSpeed</th>\n",
              "      <th>uploadSpeed</th>\n",
              "      <th>postal_code</th>\n",
              "      <th>town_name</th>\n",
              "      <th>position_geom</th>\n",
              "    </tr>\n",
              "  </thead>\n",
              "  <tbody>\n",
              "    <tr>\n",
              "      <th>0</th>\n",
              "      <td>2016-02-22</td>\n",
              "      <td>21:01:29</td>\n",
              "      <td>41.21993</td>\n",
              "      <td>1.75448</td>\n",
              "      <td>0</td>\n",
              "      <td>yoigo</td>\n",
              "      <td>YOIGO</td>\n",
              "      <td>3</td>\n",
              "      <td>STATE_POWER_OFF</td>\n",
              "      <td>None</td>\n",
              "      <td>82.2</td>\n",
              "      <td>2.0</td>\n",
              "      <td>35.0</td>\n",
              "      <td>gps</td>\n",
              "      <td>IN_VEHICLE</td>\n",
              "      <td>None</td>\n",
              "      <td>None</td>\n",
              "      <td>None</td>\n",
              "      <td>None</td>\n",
              "      <td>POINT(1.75448 41.21993)</td>\n",
              "    </tr>\n",
              "    <tr>\n",
              "      <th>1</th>\n",
              "      <td>2016-02-22</td>\n",
              "      <td>06:31:35</td>\n",
              "      <td>41.24392</td>\n",
              "      <td>1.87257</td>\n",
              "      <td>3</td>\n",
              "      <td>yoigo</td>\n",
              "      <td>YOIGO</td>\n",
              "      <td>3</td>\n",
              "      <td>STATE_POWER_OFF</td>\n",
              "      <td>None</td>\n",
              "      <td>73.1</td>\n",
              "      <td>1.0</td>\n",
              "      <td>16.0</td>\n",
              "      <td>gps</td>\n",
              "      <td>IN_VEHICLE</td>\n",
              "      <td>None</td>\n",
              "      <td>None</td>\n",
              "      <td>None</td>\n",
              "      <td>None</td>\n",
              "      <td>POINT(1.87257 41.24392)</td>\n",
              "    </tr>\n",
              "    <tr>\n",
              "      <th>2</th>\n",
              "      <td>2016-02-22</td>\n",
              "      <td>15:15:19</td>\n",
              "      <td>41.27102</td>\n",
              "      <td>2.02823</td>\n",
              "      <td>10</td>\n",
              "      <td>yoigo</td>\n",
              "      <td>YOIGO</td>\n",
              "      <td>3</td>\n",
              "      <td>STATE_POWER_OFF</td>\n",
              "      <td>None</td>\n",
              "      <td>100.0</td>\n",
              "      <td>4.0</td>\n",
              "      <td>26.0</td>\n",
              "      <td>gps</td>\n",
              "      <td>IN_VEHICLE</td>\n",
              "      <td>None</td>\n",
              "      <td>None</td>\n",
              "      <td>080898</td>\n",
              "      <td>Gavà</td>\n",
              "      <td>POINT(2.02823 41.27102)</td>\n",
              "    </tr>\n",
              "    <tr>\n",
              "      <th>3</th>\n",
              "      <td>2016-02-22</td>\n",
              "      <td>06:53:59</td>\n",
              "      <td>41.33530</td>\n",
              "      <td>2.10246</td>\n",
              "      <td>4</td>\n",
              "      <td>yoigo</td>\n",
              "      <td>YOIGO</td>\n",
              "      <td>3</td>\n",
              "      <td>STATE_POWER_OFF</td>\n",
              "      <td>None</td>\n",
              "      <td>34.0</td>\n",
              "      <td>3.0</td>\n",
              "      <td>11.0</td>\n",
              "      <td>gps</td>\n",
              "      <td>IN_VEHICLE</td>\n",
              "      <td>None</td>\n",
              "      <td>None</td>\n",
              "      <td>081691</td>\n",
              "      <td>el Prat de Llobregat</td>\n",
              "      <td>POINT(2.10246 41.3353)</td>\n",
              "    </tr>\n",
              "    <tr>\n",
              "      <th>4</th>\n",
              "      <td>2016-02-22</td>\n",
              "      <td>17:56:01</td>\n",
              "      <td>41.23979</td>\n",
              "      <td>1.86027</td>\n",
              "      <td>7</td>\n",
              "      <td>yoigo</td>\n",
              "      <td>YOIGO</td>\n",
              "      <td>3</td>\n",
              "      <td>STATE_POWER_OFF</td>\n",
              "      <td>None</td>\n",
              "      <td>74.6</td>\n",
              "      <td>3.0</td>\n",
              "      <td>8.0</td>\n",
              "      <td>gps</td>\n",
              "      <td>IN_VEHICLE</td>\n",
              "      <td>None</td>\n",
              "      <td>None</td>\n",
              "      <td>082704</td>\n",
              "      <td>Sitges</td>\n",
              "      <td>POINT(1.86027 41.23979)</td>\n",
              "    </tr>\n",
              "  </tbody>\n",
              "</table>\n",
              "</div>"
            ],
            "text/plain": [
              "         date      hour  ...             town_name            position_geom\n",
              "0  2016-02-22  21:01:29  ...                  None  POINT(1.75448 41.21993)\n",
              "1  2016-02-22  06:31:35  ...                  None  POINT(1.87257 41.24392)\n",
              "2  2016-02-22  15:15:19  ...                  Gavà  POINT(2.02823 41.27102)\n",
              "3  2016-02-22  06:53:59  ...  el Prat de Llobregat   POINT(2.10246 41.3353)\n",
              "4  2016-02-22  17:56:01  ...                Sitges  POINT(1.86027 41.23979)\n",
              "\n",
              "[5 rows x 20 columns]"
            ]
          },
          "metadata": {
            "tags": []
          },
          "execution_count": 5
        }
      ]
    },
    {
      "cell_type": "markdown",
      "metadata": {
        "id": "nNoAFJYRFY-b",
        "colab_type": "text"
      },
      "source": [
        "Describimos los datos a nivel estadistico"
      ]
    },
    {
      "cell_type": "code",
      "metadata": {
        "id": "-jmW6V5h8fiV",
        "colab_type": "code",
        "colab": {
          "base_uri": "https://localhost:8080/",
          "height": 294
        },
        "outputId": "196aab2a-8779-4a6e-dbd0-9e56afeb879a"
      },
      "source": [
        "df.describe()"
      ],
      "execution_count": 28,
      "outputs": [
        {
          "output_type": "execute_result",
          "data": {
            "text/html": [
              "<div>\n",
              "<style scoped>\n",
              "    .dataframe tbody tr th:only-of-type {\n",
              "        vertical-align: middle;\n",
              "    }\n",
              "\n",
              "    .dataframe tbody tr th {\n",
              "        vertical-align: top;\n",
              "    }\n",
              "\n",
              "    .dataframe thead th {\n",
              "        text-align: right;\n",
              "    }\n",
              "</style>\n",
              "<table border=\"1\" class=\"dataframe\">\n",
              "  <thead>\n",
              "    <tr style=\"text-align: right;\">\n",
              "      <th></th>\n",
              "      <th>lat</th>\n",
              "      <th>long</th>\n",
              "      <th>signal</th>\n",
              "      <th>status</th>\n",
              "      <th>speed</th>\n",
              "      <th>satellites</th>\n",
              "      <th>precission</th>\n",
              "    </tr>\n",
              "  </thead>\n",
              "  <tbody>\n",
              "    <tr>\n",
              "      <th>count</th>\n",
              "      <td>100000.000000</td>\n",
              "      <td>100000.000000</td>\n",
              "      <td>100000.00000</td>\n",
              "      <td>100000.000000</td>\n",
              "      <td>100000.000000</td>\n",
              "      <td>100000.000000</td>\n",
              "      <td>100000.000000</td>\n",
              "    </tr>\n",
              "    <tr>\n",
              "      <th>mean</th>\n",
              "      <td>41.157284</td>\n",
              "      <td>0.682763</td>\n",
              "      <td>13.51655</td>\n",
              "      <td>1.775490</td>\n",
              "      <td>24.522199</td>\n",
              "      <td>4.870640</td>\n",
              "      <td>58.088670</td>\n",
              "    </tr>\n",
              "    <tr>\n",
              "      <th>std</th>\n",
              "      <td>3.392317</td>\n",
              "      <td>9.852919</td>\n",
              "      <td>7.48710</td>\n",
              "      <td>0.636325</td>\n",
              "      <td>33.713067</td>\n",
              "      <td>3.826211</td>\n",
              "      <td>303.237498</td>\n",
              "    </tr>\n",
              "    <tr>\n",
              "      <th>min</th>\n",
              "      <td>-9.405610</td>\n",
              "      <td>-115.151690</td>\n",
              "      <td>0.00000</td>\n",
              "      <td>0.000000</td>\n",
              "      <td>0.000000</td>\n",
              "      <td>0.000000</td>\n",
              "      <td>0.000000</td>\n",
              "    </tr>\n",
              "    <tr>\n",
              "      <th>25%</th>\n",
              "      <td>41.385160</td>\n",
              "      <td>1.803968</td>\n",
              "      <td>8.00000</td>\n",
              "      <td>2.000000</td>\n",
              "      <td>1.300000</td>\n",
              "      <td>2.000000</td>\n",
              "      <td>10.000000</td>\n",
              "    </tr>\n",
              "    <tr>\n",
              "      <th>50%</th>\n",
              "      <td>41.491140</td>\n",
              "      <td>2.131445</td>\n",
              "      <td>13.00000</td>\n",
              "      <td>2.000000</td>\n",
              "      <td>6.700000</td>\n",
              "      <td>4.000000</td>\n",
              "      <td>17.000000</td>\n",
              "    </tr>\n",
              "    <tr>\n",
              "      <th>75%</th>\n",
              "      <td>41.689563</td>\n",
              "      <td>2.236403</td>\n",
              "      <td>18.00000</td>\n",
              "      <td>2.000000</td>\n",
              "      <td>35.900000</td>\n",
              "      <td>7.000000</td>\n",
              "      <td>30.000000</td>\n",
              "    </tr>\n",
              "    <tr>\n",
              "      <th>max</th>\n",
              "      <td>48.354450</td>\n",
              "      <td>121.578020</td>\n",
              "      <td>99.00000</td>\n",
              "      <td>3.000000</td>\n",
              "      <td>252.800000</td>\n",
              "      <td>24.000000</td>\n",
              "      <td>2753.000000</td>\n",
              "    </tr>\n",
              "  </tbody>\n",
              "</table>\n",
              "</div>"
            ],
            "text/plain": [
              "                 lat           long  ...     satellites     precission\n",
              "count  100000.000000  100000.000000  ...  100000.000000  100000.000000\n",
              "mean       41.157284       0.682763  ...       4.870640      58.088670\n",
              "std         3.392317       9.852919  ...       3.826211     303.237498\n",
              "min        -9.405610    -115.151690  ...       0.000000       0.000000\n",
              "25%        41.385160       1.803968  ...       2.000000      10.000000\n",
              "50%        41.491140       2.131445  ...       4.000000      17.000000\n",
              "75%        41.689563       2.236403  ...       7.000000      30.000000\n",
              "max        48.354450     121.578020  ...      24.000000    2753.000000\n",
              "\n",
              "[8 rows x 7 columns]"
            ]
          },
          "metadata": {
            "tags": []
          },
          "execution_count": 28
        }
      ]
    },
    {
      "cell_type": "markdown",
      "metadata": {
        "id": "Av9cmzNM8tjL",
        "colab_type": "text"
      },
      "source": [
        "##  01.Deteccion de datos nulos e imputacion de **valores**"
      ]
    },
    {
      "cell_type": "markdown",
      "metadata": {
        "id": "kn-so66TDAr3",
        "colab_type": "text"
      },
      "source": [
        "Vamos a buscar cuantos campos tienen algun valor nulo (NaN)"
      ]
    },
    {
      "cell_type": "code",
      "metadata": {
        "id": "VONimV-T82JB",
        "colab_type": "code",
        "colab": {
          "base_uri": "https://localhost:8080/",
          "height": 381
        },
        "outputId": "9837c3c5-c369-4f0b-98b6-bb71aefddfc5"
      },
      "source": [
        "df.isnull().sum()"
      ],
      "execution_count": 29,
      "outputs": [
        {
          "output_type": "execute_result",
          "data": {
            "text/plain": [
              "date                  0\n",
              "hour                  0\n",
              "lat                   0\n",
              "long                  0\n",
              "signal                0\n",
              "network             338\n",
              "operator            338\n",
              "status                0\n",
              "description           0\n",
              "net                   0\n",
              "speed                 0\n",
              "satellites            0\n",
              "precission            0\n",
              "provider              0\n",
              "activity              0\n",
              "downloadSpeed    100000\n",
              "uploadSpeed      100000\n",
              "postal_code        8467\n",
              "town_name          8467\n",
              "position_geom         0\n",
              "dtype: int64"
            ]
          },
          "metadata": {
            "tags": []
          },
          "execution_count": 29
        }
      ]
    },
    {
      "cell_type": "markdown",
      "metadata": {
        "id": "_2WVX7X-DGAx",
        "colab_type": "text"
      },
      "source": [
        "Seleccionamos las filas concretas que tienen los valores NaN, por ejemplo network"
      ]
    },
    {
      "cell_type": "code",
      "metadata": {
        "id": "JkNDKMwv9JGi",
        "colab_type": "code",
        "colab": {
          "base_uri": "https://localhost:8080/",
          "height": 260
        },
        "outputId": "f7965e1d-4b74-4417-9c2a-c9bb1632d951"
      },
      "source": [
        "fila_con_nan = df.isnull()['network']\n",
        "filas_con_nan = df[fila_con_nan]\n",
        "print(filas_con_nan)"
      ],
      "execution_count": 30,
      "outputs": [
        {
          "output_type": "stream",
          "text": [
            "             date      hour  ...               town_name            position_geom\n",
            "42     2016-02-22  20:04:29  ...  Esplugues de Llobregat  POINT(2.08614 41.37022)\n",
            "43     2016-02-22  20:06:29  ...  Esplugues de Llobregat  POINT(2.08539 41.37012)\n",
            "1092   2016-02-22  07:41:56  ...             Bellaguarda  POINT(0.74629 41.34041)\n",
            "15487  2015-12-05  08:45:50  ...       Vilallonga de Ter  POINT(2.31248 42.33092)\n",
            "15488  2015-12-05  17:10:30  ...       Vilallonga de Ter  POINT(2.31239 42.33096)\n",
            "...           ...       ...  ...                     ...                      ...\n",
            "92982  2015-07-20  12:40:39  ...                Cubelles  POINT(1.67821 41.20151)\n",
            "92983  2015-07-20  12:41:36  ...                Cubelles  POINT(1.67897 41.20102)\n",
            "92984  2015-07-20  12:39:36  ...                Cubelles  POINT(1.67782 41.20166)\n",
            "92985  2015-07-20  09:45:10  ...                Cubelles  POINT(1.67609 41.20255)\n",
            "92986  2015-07-20  12:49:29  ...                Cubelles  POINT(1.67885 41.20084)\n",
            "\n",
            "[338 rows x 20 columns]\n"
          ],
          "name": "stdout"
        }
      ]
    },
    {
      "cell_type": "markdown",
      "metadata": {
        "id": "n05Gzxd8Dmf2",
        "colab_type": "text"
      },
      "source": [
        "¿Que valor introducimos? Podemos poner el valor mas frecuente, la media, un cero ....\n",
        "Para net vamos a poner por ejemplo el valor mas repetido, para ello pintamos un histograma"
      ]
    },
    {
      "cell_type": "code",
      "metadata": {
        "id": "n2_qv2_UDb9h",
        "colab_type": "code",
        "colab": {
          "base_uri": "https://localhost:8080/",
          "height": 267
        },
        "outputId": "50041dbd-611c-450f-a675-7909d14c3e1b"
      },
      "source": [
        "hist = df['network'].hist()"
      ],
      "execution_count": 38,
      "outputs": [
        {
          "output_type": "display_data",
          "data": {
            "image/png": "[encoded data removed]",
            "text/plain": [
              "<Figure size 432x288 with 1 Axes>"
            ]
          },
          "metadata": {
            "tags": [],
            "needs_background": "light"
          }
        }
      ]
    },
    {
      "cell_type": "markdown",
      "metadata": {
        "id": "KzV4eZ1VF-f3",
        "colab_type": "text"
      },
      "source": [
        "El valor mas repetido es 4G asi que introducimos ese valor en todas las ocurencias que estan a NaN"
      ]
    },
    {
      "cell_type": "code",
      "metadata": {
        "id": "9VND_4rAFwsf",
        "colab_type": "code",
        "colab": {}
      },
      "source": [
        "df['network'].fillna('yoigo', inplace=True)"
      ],
      "execution_count": 39,
      "outputs": []
    },
    {
      "cell_type": "markdown",
      "metadata": {
        "id": "tMrPPREcFnyd",
        "colab_type": "text"
      },
      "source": [
        "Por ejemplo si fuese una variable continua, podemos imputar la media en los valores nulos con `df.fillna(df.mean())`"
      ]
    },
    {
      "cell_type": "code",
      "metadata": {
        "id": "ne0x-hpHF6G6",
        "colab_type": "code",
        "colab": {
          "base_uri": "https://localhost:8080/",
          "height": 381
        },
        "outputId": "669b929c-e7a7-409a-a573-bbbef62964c3"
      },
      "source": [
        "df.isnull().sum()"
      ],
      "execution_count": 40,
      "outputs": [
        {
          "output_type": "execute_result",
          "data": {
            "text/plain": [
              "date                  0\n",
              "hour                  0\n",
              "lat                   0\n",
              "long                  0\n",
              "signal                0\n",
              "network               0\n",
              "operator            338\n",
              "status                0\n",
              "description           0\n",
              "net                   0\n",
              "speed                 0\n",
              "satellites            0\n",
              "precission            0\n",
              "provider              0\n",
              "activity              0\n",
              "downloadSpeed    100000\n",
              "uploadSpeed      100000\n",
              "postal_code        8467\n",
              "town_name          8467\n",
              "position_geom         0\n",
              "dtype: int64"
            ]
          },
          "metadata": {
            "tags": []
          },
          "execution_count": 40
        }
      ]
    },
    {
      "cell_type": "markdown",
      "metadata": {
        "id": "ZIDkMlfYCuNG",
        "colab_type": "text"
      },
      "source": [
        "## 02.Reformateo de datos"
      ]
    },
    {
      "cell_type": "code",
      "metadata": {
        "id": "2r1NyAFkHYAK",
        "colab_type": "code",
        "colab": {
          "base_uri": "https://localhost:8080/",
          "height": 609
        },
        "outputId": "4cdbfca2-e3ff-4f7a-a362-c76b0ee3a7c6"
      },
      "source": [
        "df"
      ],
      "execution_count": 41,
      "outputs": [
        {
          "output_type": "execute_result",
          "data": {
            "text/html": [
              "<div>\n",
              "<style scoped>\n",
              "    .dataframe tbody tr th:only-of-type {\n",
              "        vertical-align: middle;\n",
              "    }\n",
              "\n",
              "    .dataframe tbody tr th {\n",
              "        vertical-align: top;\n",
              "    }\n",
              "\n",
              "    .dataframe thead th {\n",
              "        text-align: right;\n",
              "    }\n",
              "</style>\n",
              "<table border=\"1\" class=\"dataframe\">\n",
              "  <thead>\n",
              "    <tr style=\"text-align: right;\">\n",
              "      <th></th>\n",
              "      <th>date</th>\n",
              "      <th>hour</th>\n",
              "      <th>lat</th>\n",
              "      <th>long</th>\n",
              "      <th>signal</th>\n",
              "      <th>network</th>\n",
              "      <th>operator</th>\n",
              "      <th>status</th>\n",
              "      <th>description</th>\n",
              "      <th>net</th>\n",
              "      <th>speed</th>\n",
              "      <th>satellites</th>\n",
              "      <th>precission</th>\n",
              "      <th>provider</th>\n",
              "      <th>activity</th>\n",
              "      <th>downloadSpeed</th>\n",
              "      <th>uploadSpeed</th>\n",
              "      <th>postal_code</th>\n",
              "      <th>town_name</th>\n",
              "      <th>position_geom</th>\n",
              "    </tr>\n",
              "  </thead>\n",
              "  <tbody>\n",
              "    <tr>\n",
              "      <th>0</th>\n",
              "      <td>2016-02-22</td>\n",
              "      <td>21:01:29</td>\n",
              "      <td>41.21993</td>\n",
              "      <td>1.75448</td>\n",
              "      <td>0</td>\n",
              "      <td>yoigo</td>\n",
              "      <td>YOIGO</td>\n",
              "      <td>3</td>\n",
              "      <td>STATE_POWER_OFF</td>\n",
              "      <td>4G</td>\n",
              "      <td>82.2</td>\n",
              "      <td>2.0</td>\n",
              "      <td>35.0</td>\n",
              "      <td>gps</td>\n",
              "      <td>IN_VEHICLE</td>\n",
              "      <td>None</td>\n",
              "      <td>None</td>\n",
              "      <td>None</td>\n",
              "      <td>None</td>\n",
              "      <td>POINT(1.75448 41.21993)</td>\n",
              "    </tr>\n",
              "    <tr>\n",
              "      <th>1</th>\n",
              "      <td>2016-02-22</td>\n",
              "      <td>06:31:35</td>\n",
              "      <td>41.24392</td>\n",
              "      <td>1.87257</td>\n",
              "      <td>3</td>\n",
              "      <td>yoigo</td>\n",
              "      <td>YOIGO</td>\n",
              "      <td>3</td>\n",
              "      <td>STATE_POWER_OFF</td>\n",
              "      <td>4G</td>\n",
              "      <td>73.1</td>\n",
              "      <td>1.0</td>\n",
              "      <td>16.0</td>\n",
              "      <td>gps</td>\n",
              "      <td>IN_VEHICLE</td>\n",
              "      <td>None</td>\n",
              "      <td>None</td>\n",
              "      <td>None</td>\n",
              "      <td>None</td>\n",
              "      <td>POINT(1.87257 41.24392)</td>\n",
              "    </tr>\n",
              "    <tr>\n",
              "      <th>2</th>\n",
              "      <td>2016-02-22</td>\n",
              "      <td>15:15:19</td>\n",
              "      <td>41.27102</td>\n",
              "      <td>2.02823</td>\n",
              "      <td>10</td>\n",
              "      <td>yoigo</td>\n",
              "      <td>YOIGO</td>\n",
              "      <td>3</td>\n",
              "      <td>STATE_POWER_OFF</td>\n",
              "      <td>4G</td>\n",
              "      <td>100.0</td>\n",
              "      <td>4.0</td>\n",
              "      <td>26.0</td>\n",
              "      <td>gps</td>\n",
              "      <td>IN_VEHICLE</td>\n",
              "      <td>None</td>\n",
              "      <td>None</td>\n",
              "      <td>080898</td>\n",
              "      <td>Gavà</td>\n",
              "      <td>POINT(2.02823 41.27102)</td>\n",
              "    </tr>\n",
              "    <tr>\n",
              "      <th>3</th>\n",
              "      <td>2016-02-22</td>\n",
              "      <td>06:53:59</td>\n",
              "      <td>41.33530</td>\n",
              "      <td>2.10246</td>\n",
              "      <td>4</td>\n",
              "      <td>yoigo</td>\n",
              "      <td>YOIGO</td>\n",
              "      <td>3</td>\n",
              "      <td>STATE_POWER_OFF</td>\n",
              "      <td>4G</td>\n",
              "      <td>34.0</td>\n",
              "      <td>3.0</td>\n",
              "      <td>11.0</td>\n",
              "      <td>gps</td>\n",
              "      <td>IN_VEHICLE</td>\n",
              "      <td>None</td>\n",
              "      <td>None</td>\n",
              "      <td>081691</td>\n",
              "      <td>el Prat de Llobregat</td>\n",
              "      <td>POINT(2.10246 41.3353)</td>\n",
              "    </tr>\n",
              "    <tr>\n",
              "      <th>4</th>\n",
              "      <td>2016-02-22</td>\n",
              "      <td>17:56:01</td>\n",
              "      <td>41.23979</td>\n",
              "      <td>1.86027</td>\n",
              "      <td>7</td>\n",
              "      <td>yoigo</td>\n",
              "      <td>YOIGO</td>\n",
              "      <td>3</td>\n",
              "      <td>STATE_POWER_OFF</td>\n",
              "      <td>4G</td>\n",
              "      <td>74.6</td>\n",
              "      <td>3.0</td>\n",
              "      <td>8.0</td>\n",
              "      <td>gps</td>\n",
              "      <td>IN_VEHICLE</td>\n",
              "      <td>None</td>\n",
              "      <td>None</td>\n",
              "      <td>082704</td>\n",
              "      <td>Sitges</td>\n",
              "      <td>POINT(1.86027 41.23979)</td>\n",
              "    </tr>\n",
              "    <tr>\n",
              "      <th>...</th>\n",
              "      <td>...</td>\n",
              "      <td>...</td>\n",
              "      <td>...</td>\n",
              "      <td>...</td>\n",
              "      <td>...</td>\n",
              "      <td>...</td>\n",
              "      <td>...</td>\n",
              "      <td>...</td>\n",
              "      <td>...</td>\n",
              "      <td>...</td>\n",
              "      <td>...</td>\n",
              "      <td>...</td>\n",
              "      <td>...</td>\n",
              "      <td>...</td>\n",
              "      <td>...</td>\n",
              "      <td>...</td>\n",
              "      <td>...</td>\n",
              "      <td>...</td>\n",
              "      <td>...</td>\n",
              "      <td>...</td>\n",
              "    </tr>\n",
              "    <tr>\n",
              "      <th>99995</th>\n",
              "      <td>2015-07-20</td>\n",
              "      <td>18:52:37</td>\n",
              "      <td>41.38720</td>\n",
              "      <td>2.13133</td>\n",
              "      <td>6</td>\n",
              "      <td>vodafone</td>\n",
              "      <td>Vodafone ES</td>\n",
              "      <td>2</td>\n",
              "      <td>STATE_EMERGENCY_ONLY</td>\n",
              "      <td>4G</td>\n",
              "      <td>3.6</td>\n",
              "      <td>5.0</td>\n",
              "      <td>48.0</td>\n",
              "      <td>gps</td>\n",
              "      <td>ON_FOOT</td>\n",
              "      <td>None</td>\n",
              "      <td>None</td>\n",
              "      <td>080193</td>\n",
              "      <td>Barcelona</td>\n",
              "      <td>POINT(2.13133 41.3872)</td>\n",
              "    </tr>\n",
              "    <tr>\n",
              "      <th>99996</th>\n",
              "      <td>2015-07-20</td>\n",
              "      <td>18:51:14</td>\n",
              "      <td>41.38741</td>\n",
              "      <td>2.13038</td>\n",
              "      <td>6</td>\n",
              "      <td>vodafone</td>\n",
              "      <td>Vodafone ES</td>\n",
              "      <td>2</td>\n",
              "      <td>STATE_EMERGENCY_ONLY</td>\n",
              "      <td>4G</td>\n",
              "      <td>4.6</td>\n",
              "      <td>11.0</td>\n",
              "      <td>64.0</td>\n",
              "      <td>gps</td>\n",
              "      <td>ON_FOOT</td>\n",
              "      <td>None</td>\n",
              "      <td>None</td>\n",
              "      <td>080193</td>\n",
              "      <td>Barcelona</td>\n",
              "      <td>POINT(2.13038 41.38741)</td>\n",
              "    </tr>\n",
              "    <tr>\n",
              "      <th>99997</th>\n",
              "      <td>2015-07-20</td>\n",
              "      <td>19:57:42</td>\n",
              "      <td>41.38041</td>\n",
              "      <td>2.16373</td>\n",
              "      <td>18</td>\n",
              "      <td>vodafone</td>\n",
              "      <td>Vodafone ES</td>\n",
              "      <td>2</td>\n",
              "      <td>STATE_EMERGENCY_ONLY</td>\n",
              "      <td>4G</td>\n",
              "      <td>1.2</td>\n",
              "      <td>3.0</td>\n",
              "      <td>89.0</td>\n",
              "      <td>gps</td>\n",
              "      <td>ON_FOOT</td>\n",
              "      <td>None</td>\n",
              "      <td>None</td>\n",
              "      <td>080193</td>\n",
              "      <td>Barcelona</td>\n",
              "      <td>POINT(2.16373 41.38041)</td>\n",
              "    </tr>\n",
              "    <tr>\n",
              "      <th>99998</th>\n",
              "      <td>2015-07-20</td>\n",
              "      <td>21:17:46</td>\n",
              "      <td>41.38468</td>\n",
              "      <td>2.16385</td>\n",
              "      <td>17</td>\n",
              "      <td>vodafone</td>\n",
              "      <td>Vodafone ES</td>\n",
              "      <td>2</td>\n",
              "      <td>STATE_EMERGENCY_ONLY</td>\n",
              "      <td>4G</td>\n",
              "      <td>3.6</td>\n",
              "      <td>7.0</td>\n",
              "      <td>20.0</td>\n",
              "      <td>gps</td>\n",
              "      <td>ON_FOOT</td>\n",
              "      <td>None</td>\n",
              "      <td>None</td>\n",
              "      <td>080193</td>\n",
              "      <td>Barcelona</td>\n",
              "      <td>POINT(2.16385 41.38468)</td>\n",
              "    </tr>\n",
              "    <tr>\n",
              "      <th>99999</th>\n",
              "      <td>2015-07-20</td>\n",
              "      <td>20:29:18</td>\n",
              "      <td>41.37770</td>\n",
              "      <td>2.16381</td>\n",
              "      <td>25</td>\n",
              "      <td>vodafone</td>\n",
              "      <td>Vodafone ES</td>\n",
              "      <td>2</td>\n",
              "      <td>STATE_EMERGENCY_ONLY</td>\n",
              "      <td>4G</td>\n",
              "      <td>3.6</td>\n",
              "      <td>5.0</td>\n",
              "      <td>54.0</td>\n",
              "      <td>gps</td>\n",
              "      <td>ON_FOOT</td>\n",
              "      <td>None</td>\n",
              "      <td>None</td>\n",
              "      <td>080193</td>\n",
              "      <td>Barcelona</td>\n",
              "      <td>POINT(2.16381 41.3777)</td>\n",
              "    </tr>\n",
              "  </tbody>\n",
              "</table>\n",
              "<p>100000 rows × 20 columns</p>\n",
              "</div>"
            ],
            "text/plain": [
              "             date      hour  ...             town_name            position_geom\n",
              "0      2016-02-22  21:01:29  ...                  None  POINT(1.75448 41.21993)\n",
              "1      2016-02-22  06:31:35  ...                  None  POINT(1.87257 41.24392)\n",
              "2      2016-02-22  15:15:19  ...                  Gavà  POINT(2.02823 41.27102)\n",
              "3      2016-02-22  06:53:59  ...  el Prat de Llobregat   POINT(2.10246 41.3353)\n",
              "4      2016-02-22  17:56:01  ...                Sitges  POINT(1.86027 41.23979)\n",
              "...           ...       ...  ...                   ...                      ...\n",
              "99995  2015-07-20  18:52:37  ...             Barcelona   POINT(2.13133 41.3872)\n",
              "99996  2015-07-20  18:51:14  ...             Barcelona  POINT(2.13038 41.38741)\n",
              "99997  2015-07-20  19:57:42  ...             Barcelona  POINT(2.16373 41.38041)\n",
              "99998  2015-07-20  21:17:46  ...             Barcelona  POINT(2.16385 41.38468)\n",
              "99999  2015-07-20  20:29:18  ...             Barcelona   POINT(2.16381 41.3777)\n",
              "\n",
              "[100000 rows x 20 columns]"
            ]
          },
          "metadata": {
            "tags": []
          },
          "execution_count": 41
        }
      ]
    },
    {
      "cell_type": "markdown",
      "metadata": {
        "id": "uJ7BdbV-F1nz",
        "colab_type": "text"
      },
      "source": [
        "Por ejemplo, vamos a cambiar el formato de las fechas, todo un clasico"
      ]
    },
    {
      "cell_type": "code",
      "metadata": {
        "id": "geIuNWY8GyyO",
        "colab_type": "code",
        "colab": {}
      },
      "source": [
        "columna_fecha = pd.to_datetime(df['date'])"
      ],
      "execution_count": 42,
      "outputs": []
    },
    {
      "cell_type": "code",
      "metadata": {
        "id": "7QN9Jf1LHKW-",
        "colab_type": "code",
        "colab": {
          "base_uri": "https://localhost:8080/",
          "height": 225
        },
        "outputId": "19535fe9-5f27-4c38-d786-3a82e806aa22"
      },
      "source": [
        "columna_fecha"
      ],
      "execution_count": 43,
      "outputs": [
        {
          "output_type": "execute_result",
          "data": {
            "text/plain": [
              "0       2016-02-22\n",
              "1       2016-02-22\n",
              "2       2016-02-22\n",
              "3       2016-02-22\n",
              "4       2016-02-22\n",
              "           ...    \n",
              "99995   2015-07-20\n",
              "99996   2015-07-20\n",
              "99997   2015-07-20\n",
              "99998   2015-07-20\n",
              "99999   2015-07-20\n",
              "Name: date, Length: 100000, dtype: datetime64[ns]"
            ]
          },
          "metadata": {
            "tags": []
          },
          "execution_count": 43
        }
      ]
    },
    {
      "cell_type": "markdown",
      "metadata": {
        "id": "HenW59FhF906",
        "colab_type": "text"
      },
      "source": [
        "Utilizamos la funcion `dt.strftime` para definir una nueva mascara de fechas"
      ]
    },
    {
      "cell_type": "code",
      "metadata": {
        "id": "lLQySdG7GaiC",
        "colab_type": "code",
        "colab": {}
      },
      "source": [
        "cambio_fecha_df = columna_fecha.dt.strftime(\"%m/%d/%y\")"
      ],
      "execution_count": 44,
      "outputs": []
    },
    {
      "cell_type": "code",
      "metadata": {
        "id": "fR-qeB2sHP-X",
        "colab_type": "code",
        "colab": {
          "base_uri": "https://localhost:8080/",
          "height": 225
        },
        "outputId": "a98b288f-2706-4ec2-a9e4-1aab4a8b4633"
      },
      "source": [
        "cambio_fecha_df"
      ],
      "execution_count": 45,
      "outputs": [
        {
          "output_type": "execute_result",
          "data": {
            "text/plain": [
              "0        02/22/16\n",
              "1        02/22/16\n",
              "2        02/22/16\n",
              "3        02/22/16\n",
              "4        02/22/16\n",
              "           ...   \n",
              "99995    07/20/15\n",
              "99996    07/20/15\n",
              "99997    07/20/15\n",
              "99998    07/20/15\n",
              "99999    07/20/15\n",
              "Name: date, Length: 100000, dtype: object"
            ]
          },
          "metadata": {
            "tags": []
          },
          "execution_count": 45
        }
      ]
    },
    {
      "cell_type": "markdown",
      "metadata": {
        "id": "8BH67VLTGFED",
        "colab_type": "text"
      },
      "source": [
        "Otro clasico es cambiar los . por , o viceversa como separador de cifras"
      ]
    },
    {
      "cell_type": "code",
      "metadata": {
        "id": "UGeZlu-QHcAj",
        "colab_type": "code",
        "colab": {}
      },
      "source": [
        "columna_lat = df['lat'].astype(str).str.replace('.', ',')"
      ],
      "execution_count": 46,
      "outputs": []
    },
    {
      "cell_type": "code",
      "metadata": {
        "id": "56WrydqKH1yl",
        "colab_type": "code",
        "colab": {
          "base_uri": "https://localhost:8080/",
          "height": 225
        },
        "outputId": "a646923e-a123-4209-aa6e-351b801832a2"
      },
      "source": [
        "columna_lat"
      ],
      "execution_count": 47,
      "outputs": [
        {
          "output_type": "execute_result",
          "data": {
            "text/plain": [
              "0        41,21993\n",
              "1        41,24392\n",
              "2        41,27102\n",
              "3         41,3353\n",
              "4        41,23979\n",
              "           ...   \n",
              "99995     41,3872\n",
              "99996    41,38741\n",
              "99997    41,38041\n",
              "99998    41,38468\n",
              "99999     41,3777\n",
              "Name: lat, Length: 100000, dtype: object"
            ]
          },
          "metadata": {
            "tags": []
          },
          "execution_count": 47
        }
      ]
    },
    {
      "cell_type": "markdown",
      "metadata": {
        "id": "JDJrQ0LjCx0B",
        "colab_type": "text"
      },
      "source": [
        "## 03.Normalizacion, centrado y escalado"
      ]
    },
    {
      "cell_type": "code",
      "metadata": {
        "id": "Blk3OLvZI5bd",
        "colab_type": "code",
        "colab": {
          "base_uri": "https://localhost:8080/",
          "height": 609
        },
        "outputId": "af17a60f-fe14-4db8-a7b6-d42fdc794a2c"
      },
      "source": [
        "df"
      ],
      "execution_count": 48,
      "outputs": [
        {
          "output_type": "execute_result",
          "data": {
            "text/html": [
              "<div>\n",
              "<style scoped>\n",
              "    .dataframe tbody tr th:only-of-type {\n",
              "        vertical-align: middle;\n",
              "    }\n",
              "\n",
              "    .dataframe tbody tr th {\n",
              "        vertical-align: top;\n",
              "    }\n",
              "\n",
              "    .dataframe thead th {\n",
              "        text-align: right;\n",
              "    }\n",
              "</style>\n",
              "<table border=\"1\" class=\"dataframe\">\n",
              "  <thead>\n",
              "    <tr style=\"text-align: right;\">\n",
              "      <th></th>\n",
              "      <th>date</th>\n",
              "      <th>hour</th>\n",
              "      <th>lat</th>\n",
              "      <th>long</th>\n",
              "      <th>signal</th>\n",
              "      <th>network</th>\n",
              "      <th>operator</th>\n",
              "      <th>status</th>\n",
              "      <th>description</th>\n",
              "      <th>net</th>\n",
              "      <th>speed</th>\n",
              "      <th>satellites</th>\n",
              "      <th>precission</th>\n",
              "      <th>provider</th>\n",
              "      <th>activity</th>\n",
              "      <th>downloadSpeed</th>\n",
              "      <th>uploadSpeed</th>\n",
              "      <th>postal_code</th>\n",
              "      <th>town_name</th>\n",
              "      <th>position_geom</th>\n",
              "    </tr>\n",
              "  </thead>\n",
              "  <tbody>\n",
              "    <tr>\n",
              "      <th>0</th>\n",
              "      <td>2016-02-22</td>\n",
              "      <td>21:01:29</td>\n",
              "      <td>41.21993</td>\n",
              "      <td>1.75448</td>\n",
              "      <td>0</td>\n",
              "      <td>yoigo</td>\n",
              "      <td>YOIGO</td>\n",
              "      <td>3</td>\n",
              "      <td>STATE_POWER_OFF</td>\n",
              "      <td>4G</td>\n",
              "      <td>82.2</td>\n",
              "      <td>2.0</td>\n",
              "      <td>35.0</td>\n",
              "      <td>gps</td>\n",
              "      <td>IN_VEHICLE</td>\n",
              "      <td>None</td>\n",
              "      <td>None</td>\n",
              "      <td>None</td>\n",
              "      <td>None</td>\n",
              "      <td>POINT(1.75448 41.21993)</td>\n",
              "    </tr>\n",
              "    <tr>\n",
              "      <th>1</th>\n",
              "      <td>2016-02-22</td>\n",
              "      <td>06:31:35</td>\n",
              "      <td>41.24392</td>\n",
              "      <td>1.87257</td>\n",
              "      <td>3</td>\n",
              "      <td>yoigo</td>\n",
              "      <td>YOIGO</td>\n",
              "      <td>3</td>\n",
              "      <td>STATE_POWER_OFF</td>\n",
              "      <td>4G</td>\n",
              "      <td>73.1</td>\n",
              "      <td>1.0</td>\n",
              "      <td>16.0</td>\n",
              "      <td>gps</td>\n",
              "      <td>IN_VEHICLE</td>\n",
              "      <td>None</td>\n",
              "      <td>None</td>\n",
              "      <td>None</td>\n",
              "      <td>None</td>\n",
              "      <td>POINT(1.87257 41.24392)</td>\n",
              "    </tr>\n",
              "    <tr>\n",
              "      <th>2</th>\n",
              "      <td>2016-02-22</td>\n",
              "      <td>15:15:19</td>\n",
              "      <td>41.27102</td>\n",
              "      <td>2.02823</td>\n",
              "      <td>10</td>\n",
              "      <td>yoigo</td>\n",
              "      <td>YOIGO</td>\n",
              "      <td>3</td>\n",
              "      <td>STATE_POWER_OFF</td>\n",
              "      <td>4G</td>\n",
              "      <td>100.0</td>\n",
              "      <td>4.0</td>\n",
              "      <td>26.0</td>\n",
              "      <td>gps</td>\n",
              "      <td>IN_VEHICLE</td>\n",
              "      <td>None</td>\n",
              "      <td>None</td>\n",
              "      <td>080898</td>\n",
              "      <td>Gavà</td>\n",
              "      <td>POINT(2.02823 41.27102)</td>\n",
              "    </tr>\n",
              "    <tr>\n",
              "      <th>3</th>\n",
              "      <td>2016-02-22</td>\n",
              "      <td>06:53:59</td>\n",
              "      <td>41.33530</td>\n",
              "      <td>2.10246</td>\n",
              "      <td>4</td>\n",
              "      <td>yoigo</td>\n",
              "      <td>YOIGO</td>\n",
              "      <td>3</td>\n",
              "      <td>STATE_POWER_OFF</td>\n",
              "      <td>4G</td>\n",
              "      <td>34.0</td>\n",
              "      <td>3.0</td>\n",
              "      <td>11.0</td>\n",
              "      <td>gps</td>\n",
              "      <td>IN_VEHICLE</td>\n",
              "      <td>None</td>\n",
              "      <td>None</td>\n",
              "      <td>081691</td>\n",
              "      <td>el Prat de Llobregat</td>\n",
              "      <td>POINT(2.10246 41.3353)</td>\n",
              "    </tr>\n",
              "    <tr>\n",
              "      <th>4</th>\n",
              "      <td>2016-02-22</td>\n",
              "      <td>17:56:01</td>\n",
              "      <td>41.23979</td>\n",
              "      <td>1.86027</td>\n",
              "      <td>7</td>\n",
              "      <td>yoigo</td>\n",
              "      <td>YOIGO</td>\n",
              "      <td>3</td>\n",
              "      <td>STATE_POWER_OFF</td>\n",
              "      <td>4G</td>\n",
              "      <td>74.6</td>\n",
              "      <td>3.0</td>\n",
              "      <td>8.0</td>\n",
              "      <td>gps</td>\n",
              "      <td>IN_VEHICLE</td>\n",
              "      <td>None</td>\n",
              "      <td>None</td>\n",
              "      <td>082704</td>\n",
              "      <td>Sitges</td>\n",
              "      <td>POINT(1.86027 41.23979)</td>\n",
              "    </tr>\n",
              "    <tr>\n",
              "      <th>...</th>\n",
              "      <td>...</td>\n",
              "      <td>...</td>\n",
              "      <td>...</td>\n",
              "      <td>...</td>\n",
              "      <td>...</td>\n",
              "      <td>...</td>\n",
              "      <td>...</td>\n",
              "      <td>...</td>\n",
              "      <td>...</td>\n",
              "      <td>...</td>\n",
              "      <td>...</td>\n",
              "      <td>...</td>\n",
              "      <td>...</td>\n",
              "      <td>...</td>\n",
              "      <td>...</td>\n",
              "      <td>...</td>\n",
              "      <td>...</td>\n",
              "      <td>...</td>\n",
              "      <td>...</td>\n",
              "      <td>...</td>\n",
              "    </tr>\n",
              "    <tr>\n",
              "      <th>99995</th>\n",
              "      <td>2015-07-20</td>\n",
              "      <td>18:52:37</td>\n",
              "      <td>41.38720</td>\n",
              "      <td>2.13133</td>\n",
              "      <td>6</td>\n",
              "      <td>vodafone</td>\n",
              "      <td>Vodafone ES</td>\n",
              "      <td>2</td>\n",
              "      <td>STATE_EMERGENCY_ONLY</td>\n",
              "      <td>4G</td>\n",
              "      <td>3.6</td>\n",
              "      <td>5.0</td>\n",
              "      <td>48.0</td>\n",
              "      <td>gps</td>\n",
              "      <td>ON_FOOT</td>\n",
              "      <td>None</td>\n",
              "      <td>None</td>\n",
              "      <td>080193</td>\n",
              "      <td>Barcelona</td>\n",
              "      <td>POINT(2.13133 41.3872)</td>\n",
              "    </tr>\n",
              "    <tr>\n",
              "      <th>99996</th>\n",
              "      <td>2015-07-20</td>\n",
              "      <td>18:51:14</td>\n",
              "      <td>41.38741</td>\n",
              "      <td>2.13038</td>\n",
              "      <td>6</td>\n",
              "      <td>vodafone</td>\n",
              "      <td>Vodafone ES</td>\n",
              "      <td>2</td>\n",
              "      <td>STATE_EMERGENCY_ONLY</td>\n",
              "      <td>4G</td>\n",
              "      <td>4.6</td>\n",
              "      <td>11.0</td>\n",
              "      <td>64.0</td>\n",
              "      <td>gps</td>\n",
              "      <td>ON_FOOT</td>\n",
              "      <td>None</td>\n",
              "      <td>None</td>\n",
              "      <td>080193</td>\n",
              "      <td>Barcelona</td>\n",
              "      <td>POINT(2.13038 41.38741)</td>\n",
              "    </tr>\n",
              "    <tr>\n",
              "      <th>99997</th>\n",
              "      <td>2015-07-20</td>\n",
              "      <td>19:57:42</td>\n",
              "      <td>41.38041</td>\n",
              "      <td>2.16373</td>\n",
              "      <td>18</td>\n",
              "      <td>vodafone</td>\n",
              "      <td>Vodafone ES</td>\n",
              "      <td>2</td>\n",
              "      <td>STATE_EMERGENCY_ONLY</td>\n",
              "      <td>4G</td>\n",
              "      <td>1.2</td>\n",
              "      <td>3.0</td>\n",
              "      <td>89.0</td>\n",
              "      <td>gps</td>\n",
              "      <td>ON_FOOT</td>\n",
              "      <td>None</td>\n",
              "      <td>None</td>\n",
              "      <td>080193</td>\n",
              "      <td>Barcelona</td>\n",
              "      <td>POINT(2.16373 41.38041)</td>\n",
              "    </tr>\n",
              "    <tr>\n",
              "      <th>99998</th>\n",
              "      <td>2015-07-20</td>\n",
              "      <td>21:17:46</td>\n",
              "      <td>41.38468</td>\n",
              "      <td>2.16385</td>\n",
              "      <td>17</td>\n",
              "      <td>vodafone</td>\n",
              "      <td>Vodafone ES</td>\n",
              "      <td>2</td>\n",
              "      <td>STATE_EMERGENCY_ONLY</td>\n",
              "      <td>4G</td>\n",
              "      <td>3.6</td>\n",
              "      <td>7.0</td>\n",
              "      <td>20.0</td>\n",
              "      <td>gps</td>\n",
              "      <td>ON_FOOT</td>\n",
              "      <td>None</td>\n",
              "      <td>None</td>\n",
              "      <td>080193</td>\n",
              "      <td>Barcelona</td>\n",
              "      <td>POINT(2.16385 41.38468)</td>\n",
              "    </tr>\n",
              "    <tr>\n",
              "      <th>99999</th>\n",
              "      <td>2015-07-20</td>\n",
              "      <td>20:29:18</td>\n",
              "      <td>41.37770</td>\n",
              "      <td>2.16381</td>\n",
              "      <td>25</td>\n",
              "      <td>vodafone</td>\n",
              "      <td>Vodafone ES</td>\n",
              "      <td>2</td>\n",
              "      <td>STATE_EMERGENCY_ONLY</td>\n",
              "      <td>4G</td>\n",
              "      <td>3.6</td>\n",
              "      <td>5.0</td>\n",
              "      <td>54.0</td>\n",
              "      <td>gps</td>\n",
              "      <td>ON_FOOT</td>\n",
              "      <td>None</td>\n",
              "      <td>None</td>\n",
              "      <td>080193</td>\n",
              "      <td>Barcelona</td>\n",
              "      <td>POINT(2.16381 41.3777)</td>\n",
              "    </tr>\n",
              "  </tbody>\n",
              "</table>\n",
              "<p>100000 rows × 20 columns</p>\n",
              "</div>"
            ],
            "text/plain": [
              "             date      hour  ...             town_name            position_geom\n",
              "0      2016-02-22  21:01:29  ...                  None  POINT(1.75448 41.21993)\n",
              "1      2016-02-22  06:31:35  ...                  None  POINT(1.87257 41.24392)\n",
              "2      2016-02-22  15:15:19  ...                  Gavà  POINT(2.02823 41.27102)\n",
              "3      2016-02-22  06:53:59  ...  el Prat de Llobregat   POINT(2.10246 41.3353)\n",
              "4      2016-02-22  17:56:01  ...                Sitges  POINT(1.86027 41.23979)\n",
              "...           ...       ...  ...                   ...                      ...\n",
              "99995  2015-07-20  18:52:37  ...             Barcelona   POINT(2.13133 41.3872)\n",
              "99996  2015-07-20  18:51:14  ...             Barcelona  POINT(2.13038 41.38741)\n",
              "99997  2015-07-20  19:57:42  ...             Barcelona  POINT(2.16373 41.38041)\n",
              "99998  2015-07-20  21:17:46  ...             Barcelona  POINT(2.16385 41.38468)\n",
              "99999  2015-07-20  20:29:18  ...             Barcelona   POINT(2.16381 41.3777)\n",
              "\n",
              "[100000 rows x 20 columns]"
            ]
          },
          "metadata": {
            "tags": []
          },
          "execution_count": 48
        }
      ]
    },
    {
      "cell_type": "markdown",
      "metadata": {
        "id": "Ej_fSZNhGQu4",
        "colab_type": "text"
      },
      "source": [
        "Vamos a trabajar con las columnas speed, satellites y precision, aqui vamos a utilizar una funcion de sklearn para hacer este preprocesado. Hay muchas formas de escalar y estandarizar valores, en este caso vamos a utilizar una tecnica para dejar los valores entre -1 y 1. El framework sklearn tiene una buena [paleta de funciones](https://https://scikit-learn.org/stable/modules/preprocessing.html) para realizar preparacion de datos"
      ]
    },
    {
      "cell_type": "code",
      "metadata": {
        "id": "do8-FVsMSYj1",
        "colab_type": "code",
        "colab": {
          "base_uri": "https://localhost:8080/",
          "height": 139
        },
        "outputId": "3d51b9e0-bb81-4532-8de5-d09e68a23d14"
      },
      "source": [
        "from sklearn import preprocessing\n",
        "\n",
        "columna_speed = df['speed'].values #Devuelve numpy\n",
        "min_max_scaler = preprocessing.MinMaxScaler()\n",
        "columna_speed_scaled = min_max_scaler.fit_transform(columna_speed.reshape(-1, 1))\n",
        "columna_speed_scaled"
      ],
      "execution_count": 49,
      "outputs": [
        {
          "output_type": "execute_result",
          "data": {
            "text/plain": [
              "array([[0.32515823],\n",
              "       [0.28916139],\n",
              "       [0.39556962],\n",
              "       ...,\n",
              "       [0.00474684],\n",
              "       [0.01424051],\n",
              "       [0.01424051]])"
            ]
          },
          "metadata": {
            "tags": []
          },
          "execution_count": 49
        }
      ]
    },
    {
      "cell_type": "markdown",
      "metadata": {
        "id": "WPUMdnNBC1yc",
        "colab_type": "text"
      },
      "source": [
        "## 04.Integracion de datos"
      ]
    },
    {
      "cell_type": "markdown",
      "metadata": {
        "id": "UO_dGwRuHUWT",
        "colab_type": "text"
      },
      "source": [
        "Vamos a genera un dataframe dummy para realizar un JOIN entre ellos, por ejemplo vamos a imaginar que tenemos datos con informacion (columnas A,B,C,D con datos aleatorios) de las compañias telefonicas"
      ]
    },
    {
      "cell_type": "code",
      "metadata": {
        "id": "PopNvqzmHph9",
        "colab_type": "code",
        "colab": {}
      },
      "source": [
        "df_dummy = pd.DataFrame(np.random.randint(0,1000,size=(100, 4)), columns=list('ABCD'))"
      ],
      "execution_count": 50,
      "outputs": []
    },
    {
      "cell_type": "code",
      "metadata": {
        "id": "oyKYjg2DJ2oQ",
        "colab_type": "code",
        "colab": {}
      },
      "source": [
        "df_dummy['network'] = df['network'].sample(n=100).tolist()"
      ],
      "execution_count": 51,
      "outputs": []
    },
    {
      "cell_type": "code",
      "metadata": {
        "id": "05m0W0m0IeuQ",
        "colab_type": "code",
        "colab": {
          "base_uri": "https://localhost:8080/",
          "height": 415
        },
        "outputId": "175a719c-c97b-4963-803b-a892e579971b"
      },
      "source": [
        "df_dummy"
      ],
      "execution_count": 52,
      "outputs": [
        {
          "output_type": "execute_result",
          "data": {
            "text/html": [
              "<div>\n",
              "<style scoped>\n",
              "    .dataframe tbody tr th:only-of-type {\n",
              "        vertical-align: middle;\n",
              "    }\n",
              "\n",
              "    .dataframe tbody tr th {\n",
              "        vertical-align: top;\n",
              "    }\n",
              "\n",
              "    .dataframe thead th {\n",
              "        text-align: right;\n",
              "    }\n",
              "</style>\n",
              "<table border=\"1\" class=\"dataframe\">\n",
              "  <thead>\n",
              "    <tr style=\"text-align: right;\">\n",
              "      <th></th>\n",
              "      <th>A</th>\n",
              "      <th>B</th>\n",
              "      <th>C</th>\n",
              "      <th>D</th>\n",
              "      <th>network</th>\n",
              "    </tr>\n",
              "  </thead>\n",
              "  <tbody>\n",
              "    <tr>\n",
              "      <th>0</th>\n",
              "      <td>967</td>\n",
              "      <td>415</td>\n",
              "      <td>449</td>\n",
              "      <td>760</td>\n",
              "      <td>movistar</td>\n",
              "    </tr>\n",
              "    <tr>\n",
              "      <th>1</th>\n",
              "      <td>109</td>\n",
              "      <td>560</td>\n",
              "      <td>179</td>\n",
              "      <td>101</td>\n",
              "      <td>orange</td>\n",
              "    </tr>\n",
              "    <tr>\n",
              "      <th>2</th>\n",
              "      <td>463</td>\n",
              "      <td>437</td>\n",
              "      <td>243</td>\n",
              "      <td>824</td>\n",
              "      <td>movistar</td>\n",
              "    </tr>\n",
              "    <tr>\n",
              "      <th>3</th>\n",
              "      <td>328</td>\n",
              "      <td>623</td>\n",
              "      <td>716</td>\n",
              "      <td>597</td>\n",
              "      <td>movistar</td>\n",
              "    </tr>\n",
              "    <tr>\n",
              "      <th>4</th>\n",
              "      <td>877</td>\n",
              "      <td>429</td>\n",
              "      <td>959</td>\n",
              "      <td>169</td>\n",
              "      <td>vodafone</td>\n",
              "    </tr>\n",
              "    <tr>\n",
              "      <th>...</th>\n",
              "      <td>...</td>\n",
              "      <td>...</td>\n",
              "      <td>...</td>\n",
              "      <td>...</td>\n",
              "      <td>...</td>\n",
              "    </tr>\n",
              "    <tr>\n",
              "      <th>95</th>\n",
              "      <td>652</td>\n",
              "      <td>906</td>\n",
              "      <td>968</td>\n",
              "      <td>978</td>\n",
              "      <td>orange</td>\n",
              "    </tr>\n",
              "    <tr>\n",
              "      <th>96</th>\n",
              "      <td>885</td>\n",
              "      <td>735</td>\n",
              "      <td>751</td>\n",
              "      <td>421</td>\n",
              "      <td>movistar</td>\n",
              "    </tr>\n",
              "    <tr>\n",
              "      <th>97</th>\n",
              "      <td>308</td>\n",
              "      <td>593</td>\n",
              "      <td>903</td>\n",
              "      <td>833</td>\n",
              "      <td>movistar</td>\n",
              "    </tr>\n",
              "    <tr>\n",
              "      <th>98</th>\n",
              "      <td>199</td>\n",
              "      <td>549</td>\n",
              "      <td>26</td>\n",
              "      <td>752</td>\n",
              "      <td>movistar</td>\n",
              "    </tr>\n",
              "    <tr>\n",
              "      <th>99</th>\n",
              "      <td>809</td>\n",
              "      <td>62</td>\n",
              "      <td>741</td>\n",
              "      <td>559</td>\n",
              "      <td>movistar</td>\n",
              "    </tr>\n",
              "  </tbody>\n",
              "</table>\n",
              "<p>100 rows × 5 columns</p>\n",
              "</div>"
            ],
            "text/plain": [
              "      A    B    C    D   network\n",
              "0   967  415  449  760  movistar\n",
              "1   109  560  179  101    orange\n",
              "2   463  437  243  824  movistar\n",
              "3   328  623  716  597  movistar\n",
              "4   877  429  959  169  vodafone\n",
              "..  ...  ...  ...  ...       ...\n",
              "95  652  906  968  978    orange\n",
              "96  885  735  751  421  movistar\n",
              "97  308  593  903  833  movistar\n",
              "98  199  549   26  752  movistar\n",
              "99  809   62  741  559  movistar\n",
              "\n",
              "[100 rows x 5 columns]"
            ]
          },
          "metadata": {
            "tags": []
          },
          "execution_count": 52
        }
      ]
    },
    {
      "cell_type": "markdown",
      "metadata": {
        "id": "DeNeCK7fMWKu",
        "colab_type": "text"
      },
      "source": [
        "Por ultimo, podemos realizar JOINs al estilo SQL con la funcion merge de pandas, en este caso vamos a realizar por ejemplo un INNER JOIN entre los dataframes df y df_dummy"
      ]
    },
    {
      "cell_type": "code",
      "metadata": {
        "id": "u9pCkBqcL_3Z",
        "colab_type": "code",
        "colab": {}
      },
      "source": [
        "df_joined = pd.merge(df, df_dummy, on='network', how='inner')"
      ],
      "execution_count": 53,
      "outputs": []
    },
    {
      "cell_type": "code",
      "metadata": {
        "id": "CONJl1q1MIlx",
        "colab_type": "code",
        "colab": {
          "base_uri": "https://localhost:8080/",
          "height": 609
        },
        "outputId": "ff64580d-8036-4a15-814d-6a78b8a70bfe"
      },
      "source": [
        "df_joined"
      ],
      "execution_count": 54,
      "outputs": [
        {
          "output_type": "execute_result",
          "data": {
            "text/html": [
              "<div>\n",
              "<style scoped>\n",
              "    .dataframe tbody tr th:only-of-type {\n",
              "        vertical-align: middle;\n",
              "    }\n",
              "\n",
              "    .dataframe tbody tr th {\n",
              "        vertical-align: top;\n",
              "    }\n",
              "\n",
              "    .dataframe thead th {\n",
              "        text-align: right;\n",
              "    }\n",
              "</style>\n",
              "<table border=\"1\" class=\"dataframe\">\n",
              "  <thead>\n",
              "    <tr style=\"text-align: right;\">\n",
              "      <th></th>\n",
              "      <th>date</th>\n",
              "      <th>hour</th>\n",
              "      <th>lat</th>\n",
              "      <th>long</th>\n",
              "      <th>signal</th>\n",
              "      <th>network</th>\n",
              "      <th>operator</th>\n",
              "      <th>status</th>\n",
              "      <th>description</th>\n",
              "      <th>net</th>\n",
              "      <th>speed</th>\n",
              "      <th>satellites</th>\n",
              "      <th>precission</th>\n",
              "      <th>provider</th>\n",
              "      <th>activity</th>\n",
              "      <th>downloadSpeed</th>\n",
              "      <th>uploadSpeed</th>\n",
              "      <th>postal_code</th>\n",
              "      <th>town_name</th>\n",
              "      <th>position_geom</th>\n",
              "      <th>A</th>\n",
              "      <th>B</th>\n",
              "      <th>C</th>\n",
              "      <th>D</th>\n",
              "    </tr>\n",
              "  </thead>\n",
              "  <tbody>\n",
              "    <tr>\n",
              "      <th>0</th>\n",
              "      <td>2016-02-22</td>\n",
              "      <td>21:01:29</td>\n",
              "      <td>41.21993</td>\n",
              "      <td>1.75448</td>\n",
              "      <td>0</td>\n",
              "      <td>yoigo</td>\n",
              "      <td>YOIGO</td>\n",
              "      <td>3</td>\n",
              "      <td>STATE_POWER_OFF</td>\n",
              "      <td>4G</td>\n",
              "      <td>82.2</td>\n",
              "      <td>2.0</td>\n",
              "      <td>35.0</td>\n",
              "      <td>gps</td>\n",
              "      <td>IN_VEHICLE</td>\n",
              "      <td>None</td>\n",
              "      <td>None</td>\n",
              "      <td>None</td>\n",
              "      <td>None</td>\n",
              "      <td>POINT(1.75448 41.21993)</td>\n",
              "      <td>654</td>\n",
              "      <td>469</td>\n",
              "      <td>173</td>\n",
              "      <td>323</td>\n",
              "    </tr>\n",
              "    <tr>\n",
              "      <th>1</th>\n",
              "      <td>2016-02-22</td>\n",
              "      <td>21:01:29</td>\n",
              "      <td>41.21993</td>\n",
              "      <td>1.75448</td>\n",
              "      <td>0</td>\n",
              "      <td>yoigo</td>\n",
              "      <td>YOIGO</td>\n",
              "      <td>3</td>\n",
              "      <td>STATE_POWER_OFF</td>\n",
              "      <td>4G</td>\n",
              "      <td>82.2</td>\n",
              "      <td>2.0</td>\n",
              "      <td>35.0</td>\n",
              "      <td>gps</td>\n",
              "      <td>IN_VEHICLE</td>\n",
              "      <td>None</td>\n",
              "      <td>None</td>\n",
              "      <td>None</td>\n",
              "      <td>None</td>\n",
              "      <td>POINT(1.75448 41.21993)</td>\n",
              "      <td>210</td>\n",
              "      <td>213</td>\n",
              "      <td>245</td>\n",
              "      <td>688</td>\n",
              "    </tr>\n",
              "    <tr>\n",
              "      <th>2</th>\n",
              "      <td>2016-02-22</td>\n",
              "      <td>21:01:29</td>\n",
              "      <td>41.21993</td>\n",
              "      <td>1.75448</td>\n",
              "      <td>0</td>\n",
              "      <td>yoigo</td>\n",
              "      <td>YOIGO</td>\n",
              "      <td>3</td>\n",
              "      <td>STATE_POWER_OFF</td>\n",
              "      <td>4G</td>\n",
              "      <td>82.2</td>\n",
              "      <td>2.0</td>\n",
              "      <td>35.0</td>\n",
              "      <td>gps</td>\n",
              "      <td>IN_VEHICLE</td>\n",
              "      <td>None</td>\n",
              "      <td>None</td>\n",
              "      <td>None</td>\n",
              "      <td>None</td>\n",
              "      <td>POINT(1.75448 41.21993)</td>\n",
              "      <td>382</td>\n",
              "      <td>429</td>\n",
              "      <td>137</td>\n",
              "      <td>114</td>\n",
              "    </tr>\n",
              "    <tr>\n",
              "      <th>3</th>\n",
              "      <td>2016-02-22</td>\n",
              "      <td>21:01:29</td>\n",
              "      <td>41.21993</td>\n",
              "      <td>1.75448</td>\n",
              "      <td>0</td>\n",
              "      <td>yoigo</td>\n",
              "      <td>YOIGO</td>\n",
              "      <td>3</td>\n",
              "      <td>STATE_POWER_OFF</td>\n",
              "      <td>4G</td>\n",
              "      <td>82.2</td>\n",
              "      <td>2.0</td>\n",
              "      <td>35.0</td>\n",
              "      <td>gps</td>\n",
              "      <td>IN_VEHICLE</td>\n",
              "      <td>None</td>\n",
              "      <td>None</td>\n",
              "      <td>None</td>\n",
              "      <td>None</td>\n",
              "      <td>POINT(1.75448 41.21993)</td>\n",
              "      <td>450</td>\n",
              "      <td>829</td>\n",
              "      <td>421</td>\n",
              "      <td>274</td>\n",
              "    </tr>\n",
              "    <tr>\n",
              "      <th>4</th>\n",
              "      <td>2016-02-22</td>\n",
              "      <td>06:31:35</td>\n",
              "      <td>41.24392</td>\n",
              "      <td>1.87257</td>\n",
              "      <td>3</td>\n",
              "      <td>yoigo</td>\n",
              "      <td>YOIGO</td>\n",
              "      <td>3</td>\n",
              "      <td>STATE_POWER_OFF</td>\n",
              "      <td>4G</td>\n",
              "      <td>73.1</td>\n",
              "      <td>1.0</td>\n",
              "      <td>16.0</td>\n",
              "      <td>gps</td>\n",
              "      <td>IN_VEHICLE</td>\n",
              "      <td>None</td>\n",
              "      <td>None</td>\n",
              "      <td>None</td>\n",
              "      <td>None</td>\n",
              "      <td>POINT(1.87257 41.24392)</td>\n",
              "      <td>654</td>\n",
              "      <td>469</td>\n",
              "      <td>173</td>\n",
              "      <td>323</td>\n",
              "    </tr>\n",
              "    <tr>\n",
              "      <th>...</th>\n",
              "      <td>...</td>\n",
              "      <td>...</td>\n",
              "      <td>...</td>\n",
              "      <td>...</td>\n",
              "      <td>...</td>\n",
              "      <td>...</td>\n",
              "      <td>...</td>\n",
              "      <td>...</td>\n",
              "      <td>...</td>\n",
              "      <td>...</td>\n",
              "      <td>...</td>\n",
              "      <td>...</td>\n",
              "      <td>...</td>\n",
              "      <td>...</td>\n",
              "      <td>...</td>\n",
              "      <td>...</td>\n",
              "      <td>...</td>\n",
              "      <td>...</td>\n",
              "      <td>...</td>\n",
              "      <td>...</td>\n",
              "      <td>...</td>\n",
              "      <td>...</td>\n",
              "      <td>...</td>\n",
              "      <td>...</td>\n",
              "    </tr>\n",
              "    <tr>\n",
              "      <th>3042955</th>\n",
              "      <td>2016-06-13</td>\n",
              "      <td>19:38:41</td>\n",
              "      <td>41.18696</td>\n",
              "      <td>1.57140</td>\n",
              "      <td>6</td>\n",
              "      <td>LlamaYA</td>\n",
              "      <td>LlamaYA</td>\n",
              "      <td>2</td>\n",
              "      <td>STATE_EMERGENCY_ONLY</td>\n",
              "      <td>3G</td>\n",
              "      <td>6.2</td>\n",
              "      <td>4.0</td>\n",
              "      <td>30.0</td>\n",
              "      <td>fused</td>\n",
              "      <td>TILTING</td>\n",
              "      <td>None</td>\n",
              "      <td>None</td>\n",
              "      <td>None</td>\n",
              "      <td>None</td>\n",
              "      <td>POINT(1.5714 41.18696)</td>\n",
              "      <td>291</td>\n",
              "      <td>260</td>\n",
              "      <td>480</td>\n",
              "      <td>529</td>\n",
              "    </tr>\n",
              "    <tr>\n",
              "      <th>3042956</th>\n",
              "      <td>2017-01-15</td>\n",
              "      <td>14:12:47</td>\n",
              "      <td>41.18744</td>\n",
              "      <td>1.56900</td>\n",
              "      <td>12</td>\n",
              "      <td>LlamaYA</td>\n",
              "      <td>LlamaYA</td>\n",
              "      <td>0</td>\n",
              "      <td>STATE_IN_SERVICE</td>\n",
              "      <td>3G</td>\n",
              "      <td>0.0</td>\n",
              "      <td>1.0</td>\n",
              "      <td>96.0</td>\n",
              "      <td>gps</td>\n",
              "      <td>STILL</td>\n",
              "      <td>None</td>\n",
              "      <td>None</td>\n",
              "      <td>430379</td>\n",
              "      <td>Calafell</td>\n",
              "      <td>POINT(1.569 41.18744)</td>\n",
              "      <td>291</td>\n",
              "      <td>260</td>\n",
              "      <td>480</td>\n",
              "      <td>529</td>\n",
              "    </tr>\n",
              "    <tr>\n",
              "      <th>3042957</th>\n",
              "      <td>2017-01-15</td>\n",
              "      <td>12:18:39</td>\n",
              "      <td>41.18743</td>\n",
              "      <td>1.56894</td>\n",
              "      <td>10</td>\n",
              "      <td>LlamaYA</td>\n",
              "      <td>LlamaYA</td>\n",
              "      <td>0</td>\n",
              "      <td>STATE_IN_SERVICE</td>\n",
              "      <td>3G</td>\n",
              "      <td>0.0</td>\n",
              "      <td>2.0</td>\n",
              "      <td>64.0</td>\n",
              "      <td>gps</td>\n",
              "      <td>TILTING</td>\n",
              "      <td>None</td>\n",
              "      <td>None</td>\n",
              "      <td>430379</td>\n",
              "      <td>Calafell</td>\n",
              "      <td>POINT(1.56894 41.18743)</td>\n",
              "      <td>291</td>\n",
              "      <td>260</td>\n",
              "      <td>480</td>\n",
              "      <td>529</td>\n",
              "    </tr>\n",
              "    <tr>\n",
              "      <th>3042958</th>\n",
              "      <td>2017-01-15</td>\n",
              "      <td>12:52:47</td>\n",
              "      <td>41.18772</td>\n",
              "      <td>1.56882</td>\n",
              "      <td>12</td>\n",
              "      <td>LlamaYA</td>\n",
              "      <td>LlamaYA</td>\n",
              "      <td>0</td>\n",
              "      <td>STATE_IN_SERVICE</td>\n",
              "      <td>3G</td>\n",
              "      <td>0.0</td>\n",
              "      <td>3.0</td>\n",
              "      <td>128.0</td>\n",
              "      <td>gps</td>\n",
              "      <td>IN_VEHICLE</td>\n",
              "      <td>None</td>\n",
              "      <td>None</td>\n",
              "      <td>430379</td>\n",
              "      <td>Calafell</td>\n",
              "      <td>POINT(1.56882 41.18772)</td>\n",
              "      <td>291</td>\n",
              "      <td>260</td>\n",
              "      <td>480</td>\n",
              "      <td>529</td>\n",
              "    </tr>\n",
              "    <tr>\n",
              "      <th>3042959</th>\n",
              "      <td>2017-01-15</td>\n",
              "      <td>09:08:48</td>\n",
              "      <td>41.18724</td>\n",
              "      <td>1.56895</td>\n",
              "      <td>12</td>\n",
              "      <td>LlamaYA</td>\n",
              "      <td>LlamaYA</td>\n",
              "      <td>2</td>\n",
              "      <td>STATE_EMERGENCY_ONLY</td>\n",
              "      <td>3G</td>\n",
              "      <td>0.0</td>\n",
              "      <td>0.0</td>\n",
              "      <td>128.0</td>\n",
              "      <td>gps</td>\n",
              "      <td>IN_VEHICLE</td>\n",
              "      <td>None</td>\n",
              "      <td>None</td>\n",
              "      <td>430379</td>\n",
              "      <td>Calafell</td>\n",
              "      <td>POINT(1.56895 41.18724)</td>\n",
              "      <td>291</td>\n",
              "      <td>260</td>\n",
              "      <td>480</td>\n",
              "      <td>529</td>\n",
              "    </tr>\n",
              "  </tbody>\n",
              "</table>\n",
              "<p>3042960 rows × 24 columns</p>\n",
              "</div>"
            ],
            "text/plain": [
              "               date      hour       lat     long  ...    A    B    C    D\n",
              "0        2016-02-22  21:01:29  41.21993  1.75448  ...  654  469  173  323\n",
              "1        2016-02-22  21:01:29  41.21993  1.75448  ...  210  213  245  688\n",
              "2        2016-02-22  21:01:29  41.21993  1.75448  ...  382  429  137  114\n",
              "3        2016-02-22  21:01:29  41.21993  1.75448  ...  450  829  421  274\n",
              "4        2016-02-22  06:31:35  41.24392  1.87257  ...  654  469  173  323\n",
              "...             ...       ...       ...      ...  ...  ...  ...  ...  ...\n",
              "3042955  2016-06-13  19:38:41  41.18696  1.57140  ...  291  260  480  529\n",
              "3042956  2017-01-15  14:12:47  41.18744  1.56900  ...  291  260  480  529\n",
              "3042957  2017-01-15  12:18:39  41.18743  1.56894  ...  291  260  480  529\n",
              "3042958  2017-01-15  12:52:47  41.18772  1.56882  ...  291  260  480  529\n",
              "3042959  2017-01-15  09:08:48  41.18724  1.56895  ...  291  260  480  529\n",
              "\n",
              "[3042960 rows x 24 columns]"
            ]
          },
          "metadata": {
            "tags": []
          },
          "execution_count": 54
        }
      ]
    },
    {
      "cell_type": "markdown",
      "metadata": {
        "id": "SevM-wU1C6mi",
        "colab_type": "text"
      },
      "source": [
        "##  05.Discretizacion y 1-hot-encoding"
      ]
    },
    {
      "cell_type": "markdown",
      "metadata": {
        "id": "hGM0TKCnMj8l",
        "colab_type": "text"
      },
      "source": [
        "Por ultimo, dos tecnicas muy usadas en la preparacion de features para nuestros modelos de ML son la discretizacion y el 1 hot encoding.\n",
        "El 1 hot encoding intenta paliar el posible efecto adverso de convertir valores no numericos en una interpretaciion numerica: el 1 esta numericamente \"mas cerca\" del 2 que el 3.\n",
        "Podemos utilizar la funcion get_dummiers de pandas"
      ]
    },
    {
      "cell_type": "code",
      "metadata": {
        "id": "BCcxuj4xXavR",
        "colab_type": "code",
        "colab": {}
      },
      "source": [
        "y = pd.get_dummies(df['activity'], prefix='1HotEnc')"
      ],
      "execution_count": 22,
      "outputs": []
    },
    {
      "cell_type": "code",
      "metadata": {
        "id": "jsvTEqDqYrW-",
        "colab_type": "code",
        "colab": {
          "base_uri": "https://localhost:8080/",
          "height": 415
        },
        "outputId": "3ea49175-2445-4425-dba5-7c904160bc2e"
      },
      "source": [
        "y"
      ],
      "execution_count": 23,
      "outputs": [
        {
          "output_type": "execute_result",
          "data": {
            "text/html": [
              "<div>\n",
              "<style scoped>\n",
              "    .dataframe tbody tr th:only-of-type {\n",
              "        vertical-align: middle;\n",
              "    }\n",
              "\n",
              "    .dataframe tbody tr th {\n",
              "        vertical-align: top;\n",
              "    }\n",
              "\n",
              "    .dataframe thead th {\n",
              "        text-align: right;\n",
              "    }\n",
              "</style>\n",
              "<table border=\"1\" class=\"dataframe\">\n",
              "  <thead>\n",
              "    <tr style=\"text-align: right;\">\n",
              "      <th></th>\n",
              "      <th>1HotEnc_IN_VEHICLE</th>\n",
              "      <th>1HotEnc_ON_BICYCLE</th>\n",
              "      <th>1HotEnc_ON_FOOT</th>\n",
              "      <th>1HotEnc_STILL</th>\n",
              "      <th>1HotEnc_TILTING</th>\n",
              "      <th>1HotEnc_UNKNOWN</th>\n",
              "    </tr>\n",
              "  </thead>\n",
              "  <tbody>\n",
              "    <tr>\n",
              "      <th>0</th>\n",
              "      <td>1</td>\n",
              "      <td>0</td>\n",
              "      <td>0</td>\n",
              "      <td>0</td>\n",
              "      <td>0</td>\n",
              "      <td>0</td>\n",
              "    </tr>\n",
              "    <tr>\n",
              "      <th>1</th>\n",
              "      <td>1</td>\n",
              "      <td>0</td>\n",
              "      <td>0</td>\n",
              "      <td>0</td>\n",
              "      <td>0</td>\n",
              "      <td>0</td>\n",
              "    </tr>\n",
              "    <tr>\n",
              "      <th>2</th>\n",
              "      <td>1</td>\n",
              "      <td>0</td>\n",
              "      <td>0</td>\n",
              "      <td>0</td>\n",
              "      <td>0</td>\n",
              "      <td>0</td>\n",
              "    </tr>\n",
              "    <tr>\n",
              "      <th>3</th>\n",
              "      <td>1</td>\n",
              "      <td>0</td>\n",
              "      <td>0</td>\n",
              "      <td>0</td>\n",
              "      <td>0</td>\n",
              "      <td>0</td>\n",
              "    </tr>\n",
              "    <tr>\n",
              "      <th>4</th>\n",
              "      <td>1</td>\n",
              "      <td>0</td>\n",
              "      <td>0</td>\n",
              "      <td>0</td>\n",
              "      <td>0</td>\n",
              "      <td>0</td>\n",
              "    </tr>\n",
              "    <tr>\n",
              "      <th>...</th>\n",
              "      <td>...</td>\n",
              "      <td>...</td>\n",
              "      <td>...</td>\n",
              "      <td>...</td>\n",
              "      <td>...</td>\n",
              "      <td>...</td>\n",
              "    </tr>\n",
              "    <tr>\n",
              "      <th>99995</th>\n",
              "      <td>0</td>\n",
              "      <td>0</td>\n",
              "      <td>1</td>\n",
              "      <td>0</td>\n",
              "      <td>0</td>\n",
              "      <td>0</td>\n",
              "    </tr>\n",
              "    <tr>\n",
              "      <th>99996</th>\n",
              "      <td>0</td>\n",
              "      <td>0</td>\n",
              "      <td>1</td>\n",
              "      <td>0</td>\n",
              "      <td>0</td>\n",
              "      <td>0</td>\n",
              "    </tr>\n",
              "    <tr>\n",
              "      <th>99997</th>\n",
              "      <td>0</td>\n",
              "      <td>0</td>\n",
              "      <td>1</td>\n",
              "      <td>0</td>\n",
              "      <td>0</td>\n",
              "      <td>0</td>\n",
              "    </tr>\n",
              "    <tr>\n",
              "      <th>99998</th>\n",
              "      <td>0</td>\n",
              "      <td>0</td>\n",
              "      <td>1</td>\n",
              "      <td>0</td>\n",
              "      <td>0</td>\n",
              "      <td>0</td>\n",
              "    </tr>\n",
              "    <tr>\n",
              "      <th>99999</th>\n",
              "      <td>0</td>\n",
              "      <td>0</td>\n",
              "      <td>1</td>\n",
              "      <td>0</td>\n",
              "      <td>0</td>\n",
              "      <td>0</td>\n",
              "    </tr>\n",
              "  </tbody>\n",
              "</table>\n",
              "<p>100000 rows × 6 columns</p>\n",
              "</div>"
            ],
            "text/plain": [
              "       1HotEnc_IN_VEHICLE  1HotEnc_ON_BICYCLE  ...  1HotEnc_TILTING  1HotEnc_UNKNOWN\n",
              "0                       1                   0  ...                0                0\n",
              "1                       1                   0  ...                0                0\n",
              "2                       1                   0  ...                0                0\n",
              "3                       1                   0  ...                0                0\n",
              "4                       1                   0  ...                0                0\n",
              "...                   ...                 ...  ...              ...              ...\n",
              "99995                   0                   0  ...                0                0\n",
              "99996                   0                   0  ...                0                0\n",
              "99997                   0                   0  ...                0                0\n",
              "99998                   0                   0  ...                0                0\n",
              "99999                   0                   0  ...                0                0\n",
              "\n",
              "[100000 rows x 6 columns]"
            ]
          },
          "metadata": {
            "tags": []
          },
          "execution_count": 23
        }
      ]
    },
    {
      "cell_type": "markdown",
      "metadata": {
        "id": "nMIve8VENNfx",
        "colab_type": "text"
      },
      "source": [
        "Para generar una cuantizacion vamos primero a generar una columna dummy con una variable continua"
      ]
    },
    {
      "cell_type": "code",
      "metadata": {
        "id": "ezZ2zEzraO7a",
        "colab_type": "code",
        "colab": {}
      },
      "source": [
        "df_dist = pd.DataFrame(np.random.randint(0,3456,size=(100, 1)), columns=list('A'))"
      ],
      "execution_count": 55,
      "outputs": []
    },
    {
      "cell_type": "code",
      "metadata": {
        "id": "S5OEYDz3alUE",
        "colab_type": "code",
        "colab": {
          "base_uri": "https://localhost:8080/",
          "height": 415
        },
        "outputId": "f2faec47-cebf-4471-ab66-f16af167ad61"
      },
      "source": [
        "df_dist"
      ],
      "execution_count": 56,
      "outputs": [
        {
          "output_type": "execute_result",
          "data": {
            "text/html": [
              "<div>\n",
              "<style scoped>\n",
              "    .dataframe tbody tr th:only-of-type {\n",
              "        vertical-align: middle;\n",
              "    }\n",
              "\n",
              "    .dataframe tbody tr th {\n",
              "        vertical-align: top;\n",
              "    }\n",
              "\n",
              "    .dataframe thead th {\n",
              "        text-align: right;\n",
              "    }\n",
              "</style>\n",
              "<table border=\"1\" class=\"dataframe\">\n",
              "  <thead>\n",
              "    <tr style=\"text-align: right;\">\n",
              "      <th></th>\n",
              "      <th>A</th>\n",
              "    </tr>\n",
              "  </thead>\n",
              "  <tbody>\n",
              "    <tr>\n",
              "      <th>0</th>\n",
              "      <td>2758</td>\n",
              "    </tr>\n",
              "    <tr>\n",
              "      <th>1</th>\n",
              "      <td>2479</td>\n",
              "    </tr>\n",
              "    <tr>\n",
              "      <th>2</th>\n",
              "      <td>3221</td>\n",
              "    </tr>\n",
              "    <tr>\n",
              "      <th>3</th>\n",
              "      <td>3162</td>\n",
              "    </tr>\n",
              "    <tr>\n",
              "      <th>4</th>\n",
              "      <td>2944</td>\n",
              "    </tr>\n",
              "    <tr>\n",
              "      <th>...</th>\n",
              "      <td>...</td>\n",
              "    </tr>\n",
              "    <tr>\n",
              "      <th>95</th>\n",
              "      <td>1300</td>\n",
              "    </tr>\n",
              "    <tr>\n",
              "      <th>96</th>\n",
              "      <td>1556</td>\n",
              "    </tr>\n",
              "    <tr>\n",
              "      <th>97</th>\n",
              "      <td>2387</td>\n",
              "    </tr>\n",
              "    <tr>\n",
              "      <th>98</th>\n",
              "      <td>3155</td>\n",
              "    </tr>\n",
              "    <tr>\n",
              "      <th>99</th>\n",
              "      <td>331</td>\n",
              "    </tr>\n",
              "  </tbody>\n",
              "</table>\n",
              "<p>100 rows × 1 columns</p>\n",
              "</div>"
            ],
            "text/plain": [
              "       A\n",
              "0   2758\n",
              "1   2479\n",
              "2   3221\n",
              "3   3162\n",
              "4   2944\n",
              "..   ...\n",
              "95  1300\n",
              "96  1556\n",
              "97  2387\n",
              "98  3155\n",
              "99   331\n",
              "\n",
              "[100 rows x 1 columns]"
            ]
          },
          "metadata": {
            "tags": []
          },
          "execution_count": 56
        }
      ]
    },
    {
      "cell_type": "markdown",
      "metadata": {
        "id": "s1O59dheNVA5",
        "colab_type": "text"
      },
      "source": [
        "Y ahora podemos utilizar la funcion ´qcut´ de pandas para discretizar estos valores por ejemplo en 3 buckets"
      ]
    },
    {
      "cell_type": "code",
      "metadata": {
        "id": "nefqyfNga1UW",
        "colab_type": "code",
        "colab": {
          "base_uri": "https://localhost:8080/",
          "height": 243
        },
        "outputId": "58adaf9d-4b76-471a-d5b4-498a36729367"
      },
      "source": [
        "pd.qcut(df_dist.A, 3, labels=[\"Alto\",\"Medio\",\"Bajo\"])"
      ],
      "execution_count": 58,
      "outputs": [
        {
          "output_type": "execute_result",
          "data": {
            "text/plain": [
              "0      Bajo\n",
              "1      Bajo\n",
              "2      Bajo\n",
              "3      Bajo\n",
              "4      Bajo\n",
              "      ...  \n",
              "95    Medio\n",
              "96    Medio\n",
              "97     Bajo\n",
              "98     Bajo\n",
              "99     Alto\n",
              "Name: A, Length: 100, dtype: category\n",
              "Categories (3, object): [Alto < Medio < Bajo]"
            ]
          },
          "metadata": {
            "tags": []
          },
          "execution_count": 58
        }
      ]
    },
    {
      "source": [
        "## One-hot en Pytorch"
      ],
      "cell_type": "markdown",
      "metadata": {}
    },
    {
      "cell_type": "code",
      "execution_count": null,
      "metadata": {},
      "outputs": [],
      "source": [
        "import torch\n",
        "x = torch.arange(0, 5)\n",
        "print(x) #tensor([0, 1, 2, 3, 4])\n"
      ]
    },
    {
      "cell_type": "code",
      "execution_count": null,
      "metadata": {},
      "outputs": [],
      "source": [
        "x_hot = torch.nn.functional.one_hot(x)\n",
        "print(x_hot)"
      ]
    }
  ]
}