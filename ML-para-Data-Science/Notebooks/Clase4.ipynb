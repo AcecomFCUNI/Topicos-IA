{
  "nbformat": 4,
  "nbformat_minor": 0,
  "metadata": {
    "colab": {
      "name": "TratDatos_pandas.ipynb",
      "provenance": [],
      "toc_visible": true
    },
    "kernelspec": {
      "display_name": "Python 3",
      "name": "python3"
    }
  },
  "cells": [
    {
      "cell_type": "markdown",
      "metadata": {
        "id": "7OI7tLnm2esU"
      },
      "source": [
        "# Tratamiento de datos con Pandas 🐼"
      ]
    },
    {
      "cell_type": "markdown",
      "metadata": {
        "id": "ytsICs7T3bmO"
      },
      "source": [
        "## 00.Carga de datos (BigQuery Public Dataset program)"
      ]
    },
    {
      "cell_type": "markdown",
      "metadata": {
        "id": "5mdxXlSiEplk"
      },
      "source": [
        "Cargamos los datos del [BigQuery Public Dataset Program](https://console.cloud.google.com/marketplace/product/gencat/cell_coverage)."
      ]
    },
    {
      "cell_type": "code",
      "metadata": {
        "colab": {
          "base_uri": "https://localhost:8080/"
        },
        "id": "k12wJvU15pqL",
        "outputId": "6189a339-6209-473f-f8fb-5bae6c6f0356"
      },
      "source": [
        "from google.colab import auth\n",
        "auth.authenticate_user()    #autenticar google cloud\n",
        "print('Autenticacion exitosa')"
      ],
      "execution_count": null,
      "outputs": [
        {
          "output_type": "stream",
          "text": [
            "Autenticacion exitosa\n"
          ],
          "name": "stdout"
        }
      ]
    },
    {
      "cell_type": "markdown",
      "metadata": {
        "id": "gxZCtc2gFAte"
      },
      "source": [
        "Cargamos las librerias necesarias: bigquery, pandas y numpy"
      ]
    },
    {
      "cell_type": "code",
      "metadata": {
        "id": "d063uwR_5NDj"
      },
      "source": [
        "from google.cloud import bigquery\n",
        "import pandas as pd\n",
        "import numpy as np"
      ],
      "execution_count": null,
      "outputs": []
    },
    {
      "cell_type": "markdown",
      "metadata": {
        "id": "uOuhj2tcH-sc"
      },
      "source": [
        "Leemos los datos de BigQuery y los dejamos en un Dataframe de pandas"
      ]
    },
    {
      "cell_type": "code",
      "metadata": {
        "colab": {
          "base_uri": "https://localhost:8080/",
          "height": 529
        },
        "id": "azsk7Y352kbc",
        "outputId": "735f53e3-968b-4447-c2b1-ffeda03dd19b"
      },
      "source": [
        "project_reader = \"clase4-313909\" #nombre de proyecto en Google Cloud\n",
        "project_public = \"bigquery-public-data\" #datasets públicos de BigQuery\n",
        "dataset_id = \"catalonian_mobile_coverage_eu\" #nombre del dataset\n",
        "table_id = \"mobile_data_2015_2017\"\n",
        "bq_client = bigquery.Client(project_reader)\n",
        "dataset_ref = bigquery.DatasetReference(project_public, dataset_id)\n",
        "table_ref = dataset_ref.table(table_id)\n",
        "table = bq_client.get_table(table_ref)\n",
        "df = bq_client.list_rows(table,max_results=100000).to_dataframe() #primeros 100,000 registros\n",
        "df.head(10)"
      ],
      "execution_count": null,
      "outputs": [
        {
          "output_type": "execute_result",
          "data": {
            "text/html": [
              "<div>\n",
              "<style scoped>\n",
              "    .dataframe tbody tr th:only-of-type {\n",
              "        vertical-align: middle;\n",
              "    }\n",
              "\n",
              "    .dataframe tbody tr th {\n",
              "        vertical-align: top;\n",
              "    }\n",
              "\n",
              "    .dataframe thead th {\n",
              "        text-align: right;\n",
              "    }\n",
              "</style>\n",
              "<table border=\"1\" class=\"dataframe\">\n",
              "  <thead>\n",
              "    <tr style=\"text-align: right;\">\n",
              "      <th></th>\n",
              "      <th>date</th>\n",
              "      <th>hour</th>\n",
              "      <th>lat</th>\n",
              "      <th>long</th>\n",
              "      <th>signal</th>\n",
              "      <th>network</th>\n",
              "      <th>operator</th>\n",
              "      <th>status</th>\n",
              "      <th>description</th>\n",
              "      <th>net</th>\n",
              "      <th>speed</th>\n",
              "      <th>satellites</th>\n",
              "      <th>precission</th>\n",
              "      <th>provider</th>\n",
              "      <th>activity</th>\n",
              "      <th>downloadSpeed</th>\n",
              "      <th>uploadSpeed</th>\n",
              "      <th>postal_code</th>\n",
              "      <th>town_name</th>\n",
              "      <th>position_geom</th>\n",
              "    </tr>\n",
              "  </thead>\n",
              "  <tbody>\n",
              "    <tr>\n",
              "      <th>0</th>\n",
              "      <td>2016-02-22</td>\n",
              "      <td>21:01:29</td>\n",
              "      <td>41.21993</td>\n",
              "      <td>1.75448</td>\n",
              "      <td>0</td>\n",
              "      <td>yoigo</td>\n",
              "      <td>YOIGO</td>\n",
              "      <td>3</td>\n",
              "      <td>STATE_POWER_OFF</td>\n",
              "      <td>None</td>\n",
              "      <td>82.2</td>\n",
              "      <td>2.0</td>\n",
              "      <td>35.0</td>\n",
              "      <td>gps</td>\n",
              "      <td>IN_VEHICLE</td>\n",
              "      <td>None</td>\n",
              "      <td>None</td>\n",
              "      <td>None</td>\n",
              "      <td>None</td>\n",
              "      <td>POINT(1.75448 41.21993)</td>\n",
              "    </tr>\n",
              "    <tr>\n",
              "      <th>1</th>\n",
              "      <td>2016-02-22</td>\n",
              "      <td>06:31:35</td>\n",
              "      <td>41.24392</td>\n",
              "      <td>1.87257</td>\n",
              "      <td>3</td>\n",
              "      <td>yoigo</td>\n",
              "      <td>YOIGO</td>\n",
              "      <td>3</td>\n",
              "      <td>STATE_POWER_OFF</td>\n",
              "      <td>None</td>\n",
              "      <td>73.1</td>\n",
              "      <td>1.0</td>\n",
              "      <td>16.0</td>\n",
              "      <td>gps</td>\n",
              "      <td>IN_VEHICLE</td>\n",
              "      <td>None</td>\n",
              "      <td>None</td>\n",
              "      <td>None</td>\n",
              "      <td>None</td>\n",
              "      <td>POINT(1.87257 41.24392)</td>\n",
              "    </tr>\n",
              "    <tr>\n",
              "      <th>2</th>\n",
              "      <td>2016-02-22</td>\n",
              "      <td>15:15:19</td>\n",
              "      <td>41.27102</td>\n",
              "      <td>2.02823</td>\n",
              "      <td>10</td>\n",
              "      <td>yoigo</td>\n",
              "      <td>YOIGO</td>\n",
              "      <td>3</td>\n",
              "      <td>STATE_POWER_OFF</td>\n",
              "      <td>None</td>\n",
              "      <td>100.0</td>\n",
              "      <td>4.0</td>\n",
              "      <td>26.0</td>\n",
              "      <td>gps</td>\n",
              "      <td>IN_VEHICLE</td>\n",
              "      <td>None</td>\n",
              "      <td>None</td>\n",
              "      <td>080898</td>\n",
              "      <td>Gavà</td>\n",
              "      <td>POINT(2.02823 41.27102)</td>\n",
              "    </tr>\n",
              "    <tr>\n",
              "      <th>3</th>\n",
              "      <td>2016-02-22</td>\n",
              "      <td>06:53:59</td>\n",
              "      <td>41.33530</td>\n",
              "      <td>2.10246</td>\n",
              "      <td>4</td>\n",
              "      <td>yoigo</td>\n",
              "      <td>YOIGO</td>\n",
              "      <td>3</td>\n",
              "      <td>STATE_POWER_OFF</td>\n",
              "      <td>None</td>\n",
              "      <td>34.0</td>\n",
              "      <td>3.0</td>\n",
              "      <td>11.0</td>\n",
              "      <td>gps</td>\n",
              "      <td>IN_VEHICLE</td>\n",
              "      <td>None</td>\n",
              "      <td>None</td>\n",
              "      <td>081691</td>\n",
              "      <td>el Prat de Llobregat</td>\n",
              "      <td>POINT(2.10246 41.3353)</td>\n",
              "    </tr>\n",
              "    <tr>\n",
              "      <th>4</th>\n",
              "      <td>2016-02-22</td>\n",
              "      <td>17:56:01</td>\n",
              "      <td>41.23979</td>\n",
              "      <td>1.86027</td>\n",
              "      <td>7</td>\n",
              "      <td>yoigo</td>\n",
              "      <td>YOIGO</td>\n",
              "      <td>3</td>\n",
              "      <td>STATE_POWER_OFF</td>\n",
              "      <td>None</td>\n",
              "      <td>74.6</td>\n",
              "      <td>3.0</td>\n",
              "      <td>8.0</td>\n",
              "      <td>gps</td>\n",
              "      <td>IN_VEHICLE</td>\n",
              "      <td>None</td>\n",
              "      <td>None</td>\n",
              "      <td>082704</td>\n",
              "      <td>Sitges</td>\n",
              "      <td>POINT(1.86027 41.23979)</td>\n",
              "    </tr>\n",
              "    <tr>\n",
              "      <th>5</th>\n",
              "      <td>2016-02-22</td>\n",
              "      <td>20:55:41</td>\n",
              "      <td>41.23733</td>\n",
              "      <td>1.82107</td>\n",
              "      <td>0</td>\n",
              "      <td>yoigo</td>\n",
              "      <td>YOIGO</td>\n",
              "      <td>3</td>\n",
              "      <td>STATE_POWER_OFF</td>\n",
              "      <td>None</td>\n",
              "      <td>90.5</td>\n",
              "      <td>2.0</td>\n",
              "      <td>31.0</td>\n",
              "      <td>gps</td>\n",
              "      <td>IN_VEHICLE</td>\n",
              "      <td>None</td>\n",
              "      <td>None</td>\n",
              "      <td>082704</td>\n",
              "      <td>Sitges</td>\n",
              "      <td>POINT(1.82107 41.23733)</td>\n",
              "    </tr>\n",
              "    <tr>\n",
              "      <th>6</th>\n",
              "      <td>2016-02-22</td>\n",
              "      <td>17:57:05</td>\n",
              "      <td>41.24427</td>\n",
              "      <td>1.87139</td>\n",
              "      <td>0</td>\n",
              "      <td>yoigo</td>\n",
              "      <td>YOIGO</td>\n",
              "      <td>3</td>\n",
              "      <td>STATE_POWER_OFF</td>\n",
              "      <td>None</td>\n",
              "      <td>59.4</td>\n",
              "      <td>0.0</td>\n",
              "      <td>43.0</td>\n",
              "      <td>gps</td>\n",
              "      <td>IN_VEHICLE</td>\n",
              "      <td>None</td>\n",
              "      <td>None</td>\n",
              "      <td>082704</td>\n",
              "      <td>Sitges</td>\n",
              "      <td>POINT(1.87139 41.24427)</td>\n",
              "    </tr>\n",
              "    <tr>\n",
              "      <th>7</th>\n",
              "      <td>2016-02-22</td>\n",
              "      <td>20:52:58</td>\n",
              "      <td>41.24342</td>\n",
              "      <td>1.86916</td>\n",
              "      <td>5</td>\n",
              "      <td>yoigo</td>\n",
              "      <td>YOIGO</td>\n",
              "      <td>3</td>\n",
              "      <td>STATE_POWER_OFF</td>\n",
              "      <td>None</td>\n",
              "      <td>60.9</td>\n",
              "      <td>0.0</td>\n",
              "      <td>12.0</td>\n",
              "      <td>gps</td>\n",
              "      <td>IN_VEHICLE</td>\n",
              "      <td>None</td>\n",
              "      <td>None</td>\n",
              "      <td>082704</td>\n",
              "      <td>Sitges</td>\n",
              "      <td>POINT(1.86916 41.24342)</td>\n",
              "    </tr>\n",
              "    <tr>\n",
              "      <th>8</th>\n",
              "      <td>2016-02-22</td>\n",
              "      <td>16:44:33</td>\n",
              "      <td>41.43556</td>\n",
              "      <td>2.19186</td>\n",
              "      <td>17</td>\n",
              "      <td>orange</td>\n",
              "      <td>Orange</td>\n",
              "      <td>3</td>\n",
              "      <td>STATE_POWER_OFF</td>\n",
              "      <td>2G</td>\n",
              "      <td>14.3</td>\n",
              "      <td>0.0</td>\n",
              "      <td>40.0</td>\n",
              "      <td>gps</td>\n",
              "      <td>STILL</td>\n",
              "      <td>None</td>\n",
              "      <td>None</td>\n",
              "      <td>080193</td>\n",
              "      <td>Barcelona</td>\n",
              "      <td>POINT(2.19186 41.43556)</td>\n",
              "    </tr>\n",
              "    <tr>\n",
              "      <th>9</th>\n",
              "      <td>2016-02-22</td>\n",
              "      <td>16:47:13</td>\n",
              "      <td>41.44103</td>\n",
              "      <td>2.19065</td>\n",
              "      <td>17</td>\n",
              "      <td>orange</td>\n",
              "      <td>Orange</td>\n",
              "      <td>3</td>\n",
              "      <td>STATE_POWER_OFF</td>\n",
              "      <td>2G</td>\n",
              "      <td>13.8</td>\n",
              "      <td>3.0</td>\n",
              "      <td>31.0</td>\n",
              "      <td>gps</td>\n",
              "      <td>STILL</td>\n",
              "      <td>None</td>\n",
              "      <td>None</td>\n",
              "      <td>080193</td>\n",
              "      <td>Barcelona</td>\n",
              "      <td>POINT(2.19065 41.44103)</td>\n",
              "    </tr>\n",
              "  </tbody>\n",
              "</table>\n",
              "</div>"
            ],
            "text/plain": [
              "         date      hour  ...             town_name            position_geom\n",
              "0  2016-02-22  21:01:29  ...                  None  POINT(1.75448 41.21993)\n",
              "1  2016-02-22  06:31:35  ...                  None  POINT(1.87257 41.24392)\n",
              "2  2016-02-22  15:15:19  ...                  Gavà  POINT(2.02823 41.27102)\n",
              "3  2016-02-22  06:53:59  ...  el Prat de Llobregat   POINT(2.10246 41.3353)\n",
              "4  2016-02-22  17:56:01  ...                Sitges  POINT(1.86027 41.23979)\n",
              "5  2016-02-22  20:55:41  ...                Sitges  POINT(1.82107 41.23733)\n",
              "6  2016-02-22  17:57:05  ...                Sitges  POINT(1.87139 41.24427)\n",
              "7  2016-02-22  20:52:58  ...                Sitges  POINT(1.86916 41.24342)\n",
              "8  2016-02-22  16:44:33  ...             Barcelona  POINT(2.19186 41.43556)\n",
              "9  2016-02-22  16:47:13  ...             Barcelona  POINT(2.19065 41.44103)\n",
              "\n",
              "[10 rows x 20 columns]"
            ]
          },
          "metadata": {
            "tags": []
          },
          "execution_count": 3
        }
      ]
    },
    {
      "cell_type": "markdown",
      "metadata": {
        "id": "nNoAFJYRFY-b"
      },
      "source": [
        "Datos estadisticos del dataframe\n"
      ]
    },
    {
      "cell_type": "code",
      "metadata": {
        "colab": {
          "base_uri": "https://localhost:8080/",
          "height": 282
        },
        "id": "-jmW6V5h8fiV",
        "outputId": "65ac9288-ca26-42bb-952a-46576b8abd46"
      },
      "source": [
        "df.describe()"
      ],
      "execution_count": null,
      "outputs": [
        {
          "output_type": "execute_result",
          "data": {
            "text/html": [
              "<div>\n",
              "<style scoped>\n",
              "    .dataframe tbody tr th:only-of-type {\n",
              "        vertical-align: middle;\n",
              "    }\n",
              "\n",
              "    .dataframe tbody tr th {\n",
              "        vertical-align: top;\n",
              "    }\n",
              "\n",
              "    .dataframe thead th {\n",
              "        text-align: right;\n",
              "    }\n",
              "</style>\n",
              "<table border=\"1\" class=\"dataframe\">\n",
              "  <thead>\n",
              "    <tr style=\"text-align: right;\">\n",
              "      <th></th>\n",
              "      <th>lat</th>\n",
              "      <th>long</th>\n",
              "      <th>signal</th>\n",
              "      <th>status</th>\n",
              "      <th>speed</th>\n",
              "      <th>satellites</th>\n",
              "      <th>precission</th>\n",
              "    </tr>\n",
              "  </thead>\n",
              "  <tbody>\n",
              "    <tr>\n",
              "      <th>count</th>\n",
              "      <td>100000.000000</td>\n",
              "      <td>100000.000000</td>\n",
              "      <td>100000.00000</td>\n",
              "      <td>100000.000000</td>\n",
              "      <td>100000.000000</td>\n",
              "      <td>100000.000000</td>\n",
              "      <td>100000.000000</td>\n",
              "    </tr>\n",
              "    <tr>\n",
              "      <th>mean</th>\n",
              "      <td>41.157284</td>\n",
              "      <td>0.682763</td>\n",
              "      <td>13.51655</td>\n",
              "      <td>1.775490</td>\n",
              "      <td>24.522199</td>\n",
              "      <td>4.870640</td>\n",
              "      <td>58.088670</td>\n",
              "    </tr>\n",
              "    <tr>\n",
              "      <th>std</th>\n",
              "      <td>3.392317</td>\n",
              "      <td>9.852919</td>\n",
              "      <td>7.48710</td>\n",
              "      <td>0.636325</td>\n",
              "      <td>33.713067</td>\n",
              "      <td>3.826211</td>\n",
              "      <td>303.237498</td>\n",
              "    </tr>\n",
              "    <tr>\n",
              "      <th>min</th>\n",
              "      <td>-9.405610</td>\n",
              "      <td>-115.151690</td>\n",
              "      <td>0.00000</td>\n",
              "      <td>0.000000</td>\n",
              "      <td>0.000000</td>\n",
              "      <td>0.000000</td>\n",
              "      <td>0.000000</td>\n",
              "    </tr>\n",
              "    <tr>\n",
              "      <th>25%</th>\n",
              "      <td>41.385160</td>\n",
              "      <td>1.803968</td>\n",
              "      <td>8.00000</td>\n",
              "      <td>2.000000</td>\n",
              "      <td>1.300000</td>\n",
              "      <td>2.000000</td>\n",
              "      <td>10.000000</td>\n",
              "    </tr>\n",
              "    <tr>\n",
              "      <th>50%</th>\n",
              "      <td>41.491140</td>\n",
              "      <td>2.131445</td>\n",
              "      <td>13.00000</td>\n",
              "      <td>2.000000</td>\n",
              "      <td>6.700000</td>\n",
              "      <td>4.000000</td>\n",
              "      <td>17.000000</td>\n",
              "    </tr>\n",
              "    <tr>\n",
              "      <th>75%</th>\n",
              "      <td>41.689563</td>\n",
              "      <td>2.236403</td>\n",
              "      <td>18.00000</td>\n",
              "      <td>2.000000</td>\n",
              "      <td>35.900000</td>\n",
              "      <td>7.000000</td>\n",
              "      <td>30.000000</td>\n",
              "    </tr>\n",
              "    <tr>\n",
              "      <th>max</th>\n",
              "      <td>48.354450</td>\n",
              "      <td>121.578020</td>\n",
              "      <td>99.00000</td>\n",
              "      <td>3.000000</td>\n",
              "      <td>252.800000</td>\n",
              "      <td>24.000000</td>\n",
              "      <td>2753.000000</td>\n",
              "    </tr>\n",
              "  </tbody>\n",
              "</table>\n",
              "</div>"
            ],
            "text/plain": [
              "                 lat           long  ...     satellites     precission\n",
              "count  100000.000000  100000.000000  ...  100000.000000  100000.000000\n",
              "mean       41.157284       0.682763  ...       4.870640      58.088670\n",
              "std         3.392317       9.852919  ...       3.826211     303.237498\n",
              "min        -9.405610    -115.151690  ...       0.000000       0.000000\n",
              "25%        41.385160       1.803968  ...       2.000000      10.000000\n",
              "50%        41.491140       2.131445  ...       4.000000      17.000000\n",
              "75%        41.689563       2.236403  ...       7.000000      30.000000\n",
              "max        48.354450     121.578020  ...      24.000000    2753.000000\n",
              "\n",
              "[8 rows x 7 columns]"
            ]
          },
          "metadata": {
            "tags": []
          },
          "execution_count": 4
        }
      ]
    },
    {
      "cell_type": "markdown",
      "metadata": {
        "id": "Av9cmzNM8tjL"
      },
      "source": [
        "##  01.Deteccion de datos nulos e imputacion de **valores**"
      ]
    },
    {
      "cell_type": "markdown",
      "metadata": {
        "id": "kn-so66TDAr3"
      },
      "source": [
        "Vamos a buscar cuantos campos tienen algun valor nulo (NaN)"
      ]
    },
    {
      "cell_type": "code",
      "metadata": {
        "colab": {
          "base_uri": "https://localhost:8080/"
        },
        "id": "VONimV-T82JB",
        "outputId": "47991605-daa9-4746-b173-2143f5d27e3d"
      },
      "source": [
        "df.isnull().sum()  #cantidad de nulos por columna"
      ],
      "execution_count": null,
      "outputs": [
        {
          "output_type": "execute_result",
          "data": {
            "text/plain": [
              "date                  0\n",
              "hour                  0\n",
              "lat                   0\n",
              "long                  0\n",
              "signal                0\n",
              "network             338\n",
              "operator            338\n",
              "status                0\n",
              "description           0\n",
              "net                1979\n",
              "speed                 0\n",
              "satellites            0\n",
              "precission            0\n",
              "provider              0\n",
              "activity              0\n",
              "downloadSpeed    100000\n",
              "uploadSpeed      100000\n",
              "postal_code        8467\n",
              "town_name          8467\n",
              "position_geom         0\n",
              "dtype: int64"
            ]
          },
          "metadata": {
            "tags": []
          },
          "execution_count": 5
        }
      ]
    },
    {
      "cell_type": "markdown",
      "metadata": {
        "id": "_2WVX7X-DGAx"
      },
      "source": [
        "Seleccionamos las filas concretas que tienen los valores NaN, por ejemplo network"
      ]
    },
    {
      "cell_type": "code",
      "metadata": {
        "colab": {
          "base_uri": "https://localhost:8080/"
        },
        "id": "JkNDKMwv9JGi",
        "outputId": "883dfdd0-5676-4403-9aa8-9afeff1b53c3"
      },
      "source": [
        "fila_con_nan = df.isnull()['network'] #indices de las filas con null\n",
        "filas_con_nan = df[fila_con_nan] #filas con null\n",
        "print(filas_con_nan)"
      ],
      "execution_count": null,
      "outputs": [
        {
          "output_type": "stream",
          "text": [
            "             date      hour  ...               town_name            position_geom\n",
            "42     2016-02-22  20:04:29  ...  Esplugues de Llobregat  POINT(2.08614 41.37022)\n",
            "43     2016-02-22  20:06:29  ...  Esplugues de Llobregat  POINT(2.08539 41.37012)\n",
            "1092   2016-02-22  07:41:56  ...             Bellaguarda  POINT(0.74629 41.34041)\n",
            "15487  2015-12-05  08:45:50  ...       Vilallonga de Ter  POINT(2.31248 42.33092)\n",
            "15488  2015-12-05  17:10:30  ...       Vilallonga de Ter  POINT(2.31239 42.33096)\n",
            "...           ...       ...  ...                     ...                      ...\n",
            "92982  2015-07-20  12:40:39  ...                Cubelles  POINT(1.67821 41.20151)\n",
            "92983  2015-07-20  12:41:36  ...                Cubelles  POINT(1.67897 41.20102)\n",
            "92984  2015-07-20  12:39:36  ...                Cubelles  POINT(1.67782 41.20166)\n",
            "92985  2015-07-20  09:45:10  ...                Cubelles  POINT(1.67609 41.20255)\n",
            "92986  2015-07-20  12:49:29  ...                Cubelles  POINT(1.67885 41.20084)\n",
            "\n",
            "[338 rows x 20 columns]\n"
          ],
          "name": "stdout"
        }
      ]
    },
    {
      "cell_type": "markdown",
      "metadata": {
        "id": "n05Gzxd8Dmf2"
      },
      "source": [
        "¿Que valor introducimos? Podemos poner el valor mas frecuente, la media, un cero ....\n",
        "Para net vamos a poner por ejemplo el valor mas repetido, para ello pintamos un histograma"
      ]
    },
    {
      "cell_type": "code",
      "metadata": {
        "colab": {
          "background_save": true,
          "base_uri": "https://localhost:8080/",
          "height": 699
        },
        "id": "n2_qv2_UDb9h",
        "outputId": "7b664dbc-53e5-4ef4-affe-800519ab6d8b"
      },
      "source": [
        "hist = df['network'].hist(xlabelsize=7, xrot=90, figsize=(20,10)) #ocurrencia de cada red"
      ],
      "execution_count": null,
      "outputs": [
        {
          "output_type": "display_data",
          "data": {
            "image/png": "[encoded data removed]",
            "text/plain": [
              "<Figure size 1440x720 with 1 Axes>"
            ]
          },
          "metadata": {
            "tags": []
          }
        }
      ]
    },
    {
      "cell_type": "code",
      "metadata": {
        "id": "9VND_4rAFwsf"
      },
      "source": [
        "df['network'].fillna('yoigo', inplace=True) #reemplazar null"
      ],
      "execution_count": null,
      "outputs": []
    },
    {
      "cell_type": "markdown",
      "metadata": {
        "id": "tMrPPREcFnyd"
      },
      "source": [
        "Por ejemplo si fuese una variable continua, podemos imputar la media en los valores nulos con `df.fillna(df.mean())`"
      ]
    },
    {
      "cell_type": "code",
      "metadata": {
        "colab": {
          "base_uri": "https://localhost:8080/"
        },
        "id": "ne0x-hpHF6G6",
        "outputId": "28587c36-7f60-47d9-e4e8-5a1b080375e5"
      },
      "source": [
        "df.isnull().sum()"
      ],
      "execution_count": null,
      "outputs": [
        {
          "output_type": "execute_result",
          "data": {
            "text/plain": [
              "date                  0\n",
              "hour                  0\n",
              "lat                   0\n",
              "long                  0\n",
              "signal                0\n",
              "network               0\n",
              "operator            338\n",
              "status                0\n",
              "description           0\n",
              "net                1979\n",
              "speed                 0\n",
              "satellites            0\n",
              "precission            0\n",
              "provider              0\n",
              "activity              0\n",
              "downloadSpeed    100000\n",
              "uploadSpeed      100000\n",
              "postal_code        8467\n",
              "town_name          8467\n",
              "position_geom         0\n",
              "dtype: int64"
            ]
          },
          "metadata": {
            "tags": []
          },
          "execution_count": 9
        }
      ]
    },
    {
      "cell_type": "markdown",
      "metadata": {
        "id": "ZIDkMlfYCuNG"
      },
      "source": [
        "## 02.Reformateo de datos"
      ]
    },
    {
      "cell_type": "markdown",
      "metadata": {
        "id": "uJ7BdbV-F1nz"
      },
      "source": [
        "Cambiar el formato de las fechas"
      ]
    },
    {
      "cell_type": "code",
      "metadata": {
        "id": "geIuNWY8GyyO"
      },
      "source": [
        "columna_fecha = pd.to_datetime(df['date'])"
      ],
      "execution_count": null,
      "outputs": []
    },
    {
      "cell_type": "code",
      "metadata": {
        "colab": {
          "base_uri": "https://localhost:8080/"
        },
        "id": "7QN9Jf1LHKW-",
        "outputId": "dd462849-f05b-48ad-88c4-4d34400609e9"
      },
      "source": [
        "columna_fecha"
      ],
      "execution_count": null,
      "outputs": [
        {
          "output_type": "execute_result",
          "data": {
            "text/plain": [
              "0       2016-02-22\n",
              "1       2016-02-22\n",
              "2       2016-02-22\n",
              "3       2016-02-22\n",
              "4       2016-02-22\n",
              "           ...    \n",
              "99995   2015-07-20\n",
              "99996   2015-07-20\n",
              "99997   2015-07-20\n",
              "99998   2015-07-20\n",
              "99999   2015-07-20\n",
              "Name: date, Length: 100000, dtype: datetime64[ns]"
            ]
          },
          "metadata": {
            "tags": []
          },
          "execution_count": 11
        }
      ]
    },
    {
      "cell_type": "markdown",
      "metadata": {
        "id": "HenW59FhF906"
      },
      "source": [
        "Utilizamos la funcion `dt.strftime` para definir una nueva mascara de fechas"
      ]
    },
    {
      "cell_type": "code",
      "metadata": {
        "id": "lLQySdG7GaiC"
      },
      "source": [
        "cambio_fecha_df = columna_fecha.dt.strftime(\"%m/%d/%y\")     ########buscar más mascaras"
      ],
      "execution_count": null,
      "outputs": []
    },
    {
      "cell_type": "code",
      "metadata": {
        "colab": {
          "base_uri": "https://localhost:8080/"
        },
        "id": "fR-qeB2sHP-X",
        "outputId": "4a67de8c-ea89-43f0-94e7-44c892bd3518"
      },
      "source": [
        "cambio_fecha_df"
      ],
      "execution_count": null,
      "outputs": [
        {
          "output_type": "execute_result",
          "data": {
            "text/plain": [
              "0        02/22/16\n",
              "1        02/22/16\n",
              "2        02/22/16\n",
              "3        02/22/16\n",
              "4        02/22/16\n",
              "           ...   \n",
              "99995    07/20/15\n",
              "99996    07/20/15\n",
              "99997    07/20/15\n",
              "99998    07/20/15\n",
              "99999    07/20/15\n",
              "Name: date, Length: 100000, dtype: object"
            ]
          },
          "metadata": {
            "tags": []
          },
          "execution_count": 41
        }
      ]
    },
    {
      "cell_type": "markdown",
      "metadata": {
        "id": "8BH67VLTGFED"
      },
      "source": [
        "Otro clasico es cambiar los . por , o viceversa como separador de cifras"
      ]
    },
    {
      "cell_type": "code",
      "metadata": {
        "id": "UGeZlu-QHcAj"
      },
      "source": [
        "columna_lat = df['lat'].astype(str).str.replace('.', ',') #cambiar punto por coma"
      ],
      "execution_count": null,
      "outputs": []
    },
    {
      "cell_type": "code",
      "metadata": {
        "colab": {
          "base_uri": "https://localhost:8080/"
        },
        "id": "56WrydqKH1yl",
        "outputId": "01c5504c-293e-4863-84f3-f2b1e4b75297"
      },
      "source": [
        "columna_lat"
      ],
      "execution_count": null,
      "outputs": [
        {
          "output_type": "execute_result",
          "data": {
            "text/plain": [
              "0        41,21993\n",
              "1        41,24392\n",
              "2        41,27102\n",
              "3         41,3353\n",
              "4        41,23979\n",
              "           ...   \n",
              "99995     41,3872\n",
              "99996    41,38741\n",
              "99997    41,38041\n",
              "99998    41,38468\n",
              "99999     41,3777\n",
              "Name: lat, Length: 100000, dtype: object"
            ]
          },
          "metadata": {
            "tags": []
          },
          "execution_count": 15
        }
      ]
    },
    {
      "cell_type": "markdown",
      "metadata": {
        "id": "JDJrQ0LjCx0B"
      },
      "source": [
        "## 03.Normalizacion, centrado y escalado"
      ]
    },
    {
      "cell_type": "code",
      "metadata": {
        "colab": {
          "base_uri": "https://localhost:8080/",
          "height": 588
        },
        "id": "Blk3OLvZI5bd",
        "outputId": "b46b645c-1e25-4fb6-df0a-fdcb6535c19e"
      },
      "source": [
        "df"
      ],
      "execution_count": null,
      "outputs": [
        {
          "output_type": "execute_result",
          "data": {
            "text/html": [
              "<div>\n",
              "<style scoped>\n",
              "    .dataframe tbody tr th:only-of-type {\n",
              "        vertical-align: middle;\n",
              "    }\n",
              "\n",
              "    .dataframe tbody tr th {\n",
              "        vertical-align: top;\n",
              "    }\n",
              "\n",
              "    .dataframe thead th {\n",
              "        text-align: right;\n",
              "    }\n",
              "</style>\n",
              "<table border=\"1\" class=\"dataframe\">\n",
              "  <thead>\n",
              "    <tr style=\"text-align: right;\">\n",
              "      <th></th>\n",
              "      <th>date</th>\n",
              "      <th>hour</th>\n",
              "      <th>lat</th>\n",
              "      <th>long</th>\n",
              "      <th>signal</th>\n",
              "      <th>network</th>\n",
              "      <th>operator</th>\n",
              "      <th>status</th>\n",
              "      <th>description</th>\n",
              "      <th>net</th>\n",
              "      <th>speed</th>\n",
              "      <th>satellites</th>\n",
              "      <th>precission</th>\n",
              "      <th>provider</th>\n",
              "      <th>activity</th>\n",
              "      <th>downloadSpeed</th>\n",
              "      <th>uploadSpeed</th>\n",
              "      <th>postal_code</th>\n",
              "      <th>town_name</th>\n",
              "      <th>position_geom</th>\n",
              "    </tr>\n",
              "  </thead>\n",
              "  <tbody>\n",
              "    <tr>\n",
              "      <th>0</th>\n",
              "      <td>2016-02-22</td>\n",
              "      <td>21:01:29</td>\n",
              "      <td>41.21993</td>\n",
              "      <td>1.75448</td>\n",
              "      <td>0</td>\n",
              "      <td>yoigo</td>\n",
              "      <td>YOIGO</td>\n",
              "      <td>3</td>\n",
              "      <td>STATE_POWER_OFF</td>\n",
              "      <td>None</td>\n",
              "      <td>82.2</td>\n",
              "      <td>2.0</td>\n",
              "      <td>35.0</td>\n",
              "      <td>gps</td>\n",
              "      <td>IN_VEHICLE</td>\n",
              "      <td>None</td>\n",
              "      <td>None</td>\n",
              "      <td>None</td>\n",
              "      <td>None</td>\n",
              "      <td>POINT(1.75448 41.21993)</td>\n",
              "    </tr>\n",
              "    <tr>\n",
              "      <th>1</th>\n",
              "      <td>2016-02-22</td>\n",
              "      <td>06:31:35</td>\n",
              "      <td>41.24392</td>\n",
              "      <td>1.87257</td>\n",
              "      <td>3</td>\n",
              "      <td>yoigo</td>\n",
              "      <td>YOIGO</td>\n",
              "      <td>3</td>\n",
              "      <td>STATE_POWER_OFF</td>\n",
              "      <td>None</td>\n",
              "      <td>73.1</td>\n",
              "      <td>1.0</td>\n",
              "      <td>16.0</td>\n",
              "      <td>gps</td>\n",
              "      <td>IN_VEHICLE</td>\n",
              "      <td>None</td>\n",
              "      <td>None</td>\n",
              "      <td>None</td>\n",
              "      <td>None</td>\n",
              "      <td>POINT(1.87257 41.24392)</td>\n",
              "    </tr>\n",
              "    <tr>\n",
              "      <th>2</th>\n",
              "      <td>2016-02-22</td>\n",
              "      <td>15:15:19</td>\n",
              "      <td>41.27102</td>\n",
              "      <td>2.02823</td>\n",
              "      <td>10</td>\n",
              "      <td>yoigo</td>\n",
              "      <td>YOIGO</td>\n",
              "      <td>3</td>\n",
              "      <td>STATE_POWER_OFF</td>\n",
              "      <td>None</td>\n",
              "      <td>100.0</td>\n",
              "      <td>4.0</td>\n",
              "      <td>26.0</td>\n",
              "      <td>gps</td>\n",
              "      <td>IN_VEHICLE</td>\n",
              "      <td>None</td>\n",
              "      <td>None</td>\n",
              "      <td>080898</td>\n",
              "      <td>Gavà</td>\n",
              "      <td>POINT(2.02823 41.27102)</td>\n",
              "    </tr>\n",
              "    <tr>\n",
              "      <th>3</th>\n",
              "      <td>2016-02-22</td>\n",
              "      <td>06:53:59</td>\n",
              "      <td>41.33530</td>\n",
              "      <td>2.10246</td>\n",
              "      <td>4</td>\n",
              "      <td>yoigo</td>\n",
              "      <td>YOIGO</td>\n",
              "      <td>3</td>\n",
              "      <td>STATE_POWER_OFF</td>\n",
              "      <td>None</td>\n",
              "      <td>34.0</td>\n",
              "      <td>3.0</td>\n",
              "      <td>11.0</td>\n",
              "      <td>gps</td>\n",
              "      <td>IN_VEHICLE</td>\n",
              "      <td>None</td>\n",
              "      <td>None</td>\n",
              "      <td>081691</td>\n",
              "      <td>el Prat de Llobregat</td>\n",
              "      <td>POINT(2.10246 41.3353)</td>\n",
              "    </tr>\n",
              "    <tr>\n",
              "      <th>4</th>\n",
              "      <td>2016-02-22</td>\n",
              "      <td>17:56:01</td>\n",
              "      <td>41.23979</td>\n",
              "      <td>1.86027</td>\n",
              "      <td>7</td>\n",
              "      <td>yoigo</td>\n",
              "      <td>YOIGO</td>\n",
              "      <td>3</td>\n",
              "      <td>STATE_POWER_OFF</td>\n",
              "      <td>None</td>\n",
              "      <td>74.6</td>\n",
              "      <td>3.0</td>\n",
              "      <td>8.0</td>\n",
              "      <td>gps</td>\n",
              "      <td>IN_VEHICLE</td>\n",
              "      <td>None</td>\n",
              "      <td>None</td>\n",
              "      <td>082704</td>\n",
              "      <td>Sitges</td>\n",
              "      <td>POINT(1.86027 41.23979)</td>\n",
              "    </tr>\n",
              "    <tr>\n",
              "      <th>...</th>\n",
              "      <td>...</td>\n",
              "      <td>...</td>\n",
              "      <td>...</td>\n",
              "      <td>...</td>\n",
              "      <td>...</td>\n",
              "      <td>...</td>\n",
              "      <td>...</td>\n",
              "      <td>...</td>\n",
              "      <td>...</td>\n",
              "      <td>...</td>\n",
              "      <td>...</td>\n",
              "      <td>...</td>\n",
              "      <td>...</td>\n",
              "      <td>...</td>\n",
              "      <td>...</td>\n",
              "      <td>...</td>\n",
              "      <td>...</td>\n",
              "      <td>...</td>\n",
              "      <td>...</td>\n",
              "      <td>...</td>\n",
              "    </tr>\n",
              "    <tr>\n",
              "      <th>99995</th>\n",
              "      <td>2015-07-20</td>\n",
              "      <td>18:52:37</td>\n",
              "      <td>41.38720</td>\n",
              "      <td>2.13133</td>\n",
              "      <td>6</td>\n",
              "      <td>vodafone</td>\n",
              "      <td>Vodafone ES</td>\n",
              "      <td>2</td>\n",
              "      <td>STATE_EMERGENCY_ONLY</td>\n",
              "      <td>4G</td>\n",
              "      <td>3.6</td>\n",
              "      <td>5.0</td>\n",
              "      <td>48.0</td>\n",
              "      <td>gps</td>\n",
              "      <td>ON_FOOT</td>\n",
              "      <td>None</td>\n",
              "      <td>None</td>\n",
              "      <td>080193</td>\n",
              "      <td>Barcelona</td>\n",
              "      <td>POINT(2.13133 41.3872)</td>\n",
              "    </tr>\n",
              "    <tr>\n",
              "      <th>99996</th>\n",
              "      <td>2015-07-20</td>\n",
              "      <td>18:51:14</td>\n",
              "      <td>41.38741</td>\n",
              "      <td>2.13038</td>\n",
              "      <td>6</td>\n",
              "      <td>vodafone</td>\n",
              "      <td>Vodafone ES</td>\n",
              "      <td>2</td>\n",
              "      <td>STATE_EMERGENCY_ONLY</td>\n",
              "      <td>4G</td>\n",
              "      <td>4.6</td>\n",
              "      <td>11.0</td>\n",
              "      <td>64.0</td>\n",
              "      <td>gps</td>\n",
              "      <td>ON_FOOT</td>\n",
              "      <td>None</td>\n",
              "      <td>None</td>\n",
              "      <td>080193</td>\n",
              "      <td>Barcelona</td>\n",
              "      <td>POINT(2.13038 41.38741)</td>\n",
              "    </tr>\n",
              "    <tr>\n",
              "      <th>99997</th>\n",
              "      <td>2015-07-20</td>\n",
              "      <td>19:57:42</td>\n",
              "      <td>41.38041</td>\n",
              "      <td>2.16373</td>\n",
              "      <td>18</td>\n",
              "      <td>vodafone</td>\n",
              "      <td>Vodafone ES</td>\n",
              "      <td>2</td>\n",
              "      <td>STATE_EMERGENCY_ONLY</td>\n",
              "      <td>4G</td>\n",
              "      <td>1.2</td>\n",
              "      <td>3.0</td>\n",
              "      <td>89.0</td>\n",
              "      <td>gps</td>\n",
              "      <td>ON_FOOT</td>\n",
              "      <td>None</td>\n",
              "      <td>None</td>\n",
              "      <td>080193</td>\n",
              "      <td>Barcelona</td>\n",
              "      <td>POINT(2.16373 41.38041)</td>\n",
              "    </tr>\n",
              "    <tr>\n",
              "      <th>99998</th>\n",
              "      <td>2015-07-20</td>\n",
              "      <td>21:17:46</td>\n",
              "      <td>41.38468</td>\n",
              "      <td>2.16385</td>\n",
              "      <td>17</td>\n",
              "      <td>vodafone</td>\n",
              "      <td>Vodafone ES</td>\n",
              "      <td>2</td>\n",
              "      <td>STATE_EMERGENCY_ONLY</td>\n",
              "      <td>4G</td>\n",
              "      <td>3.6</td>\n",
              "      <td>7.0</td>\n",
              "      <td>20.0</td>\n",
              "      <td>gps</td>\n",
              "      <td>ON_FOOT</td>\n",
              "      <td>None</td>\n",
              "      <td>None</td>\n",
              "      <td>080193</td>\n",
              "      <td>Barcelona</td>\n",
              "      <td>POINT(2.16385 41.38468)</td>\n",
              "    </tr>\n",
              "    <tr>\n",
              "      <th>99999</th>\n",
              "      <td>2015-07-20</td>\n",
              "      <td>20:29:18</td>\n",
              "      <td>41.37770</td>\n",
              "      <td>2.16381</td>\n",
              "      <td>25</td>\n",
              "      <td>vodafone</td>\n",
              "      <td>Vodafone ES</td>\n",
              "      <td>2</td>\n",
              "      <td>STATE_EMERGENCY_ONLY</td>\n",
              "      <td>4G</td>\n",
              "      <td>3.6</td>\n",
              "      <td>5.0</td>\n",
              "      <td>54.0</td>\n",
              "      <td>gps</td>\n",
              "      <td>ON_FOOT</td>\n",
              "      <td>None</td>\n",
              "      <td>None</td>\n",
              "      <td>080193</td>\n",
              "      <td>Barcelona</td>\n",
              "      <td>POINT(2.16381 41.3777)</td>\n",
              "    </tr>\n",
              "  </tbody>\n",
              "</table>\n",
              "<p>100000 rows × 20 columns</p>\n",
              "</div>"
            ],
            "text/plain": [
              "             date      hour  ...             town_name            position_geom\n",
              "0      2016-02-22  21:01:29  ...                  None  POINT(1.75448 41.21993)\n",
              "1      2016-02-22  06:31:35  ...                  None  POINT(1.87257 41.24392)\n",
              "2      2016-02-22  15:15:19  ...                  Gavà  POINT(2.02823 41.27102)\n",
              "3      2016-02-22  06:53:59  ...  el Prat de Llobregat   POINT(2.10246 41.3353)\n",
              "4      2016-02-22  17:56:01  ...                Sitges  POINT(1.86027 41.23979)\n",
              "...           ...       ...  ...                   ...                      ...\n",
              "99995  2015-07-20  18:52:37  ...             Barcelona   POINT(2.13133 41.3872)\n",
              "99996  2015-07-20  18:51:14  ...             Barcelona  POINT(2.13038 41.38741)\n",
              "99997  2015-07-20  19:57:42  ...             Barcelona  POINT(2.16373 41.38041)\n",
              "99998  2015-07-20  21:17:46  ...             Barcelona  POINT(2.16385 41.38468)\n",
              "99999  2015-07-20  20:29:18  ...             Barcelona   POINT(2.16381 41.3777)\n",
              "\n",
              "[100000 rows x 20 columns]"
            ]
          },
          "metadata": {
            "tags": []
          },
          "execution_count": 16
        }
      ]
    },
    {
      "cell_type": "markdown",
      "metadata": {
        "id": "Ej_fSZNhGQu4"
      },
      "source": [
        "Vamos a trabajar con las columnas speed, satellites y precision, aqui vamos a utilizar una funcion de sklearn para hacer este preprocesado. Hay muchas formas de escalar y estandarizar valores, en este caso vamos a utilizar una tecnica para dejar los valores entre -1 y 1. El framework sklearn tiene una buena [paleta de funciones](https://https://scikit-learn.org/stable/modules/preprocessing.html) para realizar preparacion de datos"
      ]
    },
    {
      "cell_type": "code",
      "metadata": {
        "colab": {
          "base_uri": "https://localhost:8080/"
        },
        "id": "do8-FVsMSYj1",
        "outputId": "699776fd-2bbd-4351-b595-02214ed9a2fb"
      },
      "source": [
        "from sklearn import preprocessing\n",
        "\n",
        "columna_speed = df['speed'].values #Devuelve numpy\n",
        "min_max_scaler = preprocessing.MinMaxScaler()\n",
        "columna_speed_scaled = min_max_scaler.fit_transform(columna_speed.reshape(-1, 1)) #escalar datos de -1 a 1\n",
        "columna_speed_scaled"
      ],
      "execution_count": null,
      "outputs": [
        {
          "output_type": "execute_result",
          "data": {
            "text/plain": [
              "array([[0.32515823],\n",
              "       [0.28916139],\n",
              "       [0.39556962],\n",
              "       ...,\n",
              "       [0.00474684],\n",
              "       [0.01424051],\n",
              "       [0.01424051]])"
            ]
          },
          "metadata": {
            "tags": []
          },
          "execution_count": 17
        }
      ]
    },
    {
      "cell_type": "markdown",
      "metadata": {
        "id": "WPUMdnNBC1yc"
      },
      "source": [
        "## 04.Integracion de datos"
      ]
    },
    {
      "cell_type": "markdown",
      "metadata": {
        "id": "UO_dGwRuHUWT"
      },
      "source": [
        "Vamos a genera un dataframe dummy para realizar un JOIN entre ellos, por ejemplo vamos a imaginar que tenemos datos con informacion (columnas A,B,C,D con datos aleatorios) de las compañias telefonicas"
      ]
    },
    {
      "cell_type": "code",
      "metadata": {
        "id": "PopNvqzmHph9"
      },
      "source": [
        "df_dummy = pd.DataFrame(np.random.randint(0,1000,size=(100, 4)), columns=list('ABCD'))"
      ],
      "execution_count": null,
      "outputs": []
    },
    {
      "cell_type": "code",
      "metadata": {
        "id": "oyKYjg2DJ2oQ"
      },
      "source": [
        "df_dummy['network'] = df['network'].sample(n=100).tolist()"
      ],
      "execution_count": null,
      "outputs": []
    },
    {
      "cell_type": "code",
      "metadata": {
        "colab": {
          "base_uri": "https://localhost:8080/",
          "height": 399
        },
        "id": "05m0W0m0IeuQ",
        "outputId": "572418c0-87b9-4180-c1ef-2e81bfdb3b83"
      },
      "source": [
        "df_dummy"
      ],
      "execution_count": null,
      "outputs": [
        {
          "output_type": "execute_result",
          "data": {
            "text/html": [
              "<div>\n",
              "<style scoped>\n",
              "    .dataframe tbody tr th:only-of-type {\n",
              "        vertical-align: middle;\n",
              "    }\n",
              "\n",
              "    .dataframe tbody tr th {\n",
              "        vertical-align: top;\n",
              "    }\n",
              "\n",
              "    .dataframe thead th {\n",
              "        text-align: right;\n",
              "    }\n",
              "</style>\n",
              "<table border=\"1\" class=\"dataframe\">\n",
              "  <thead>\n",
              "    <tr style=\"text-align: right;\">\n",
              "      <th></th>\n",
              "      <th>A</th>\n",
              "      <th>B</th>\n",
              "      <th>C</th>\n",
              "      <th>D</th>\n",
              "      <th>network</th>\n",
              "    </tr>\n",
              "  </thead>\n",
              "  <tbody>\n",
              "    <tr>\n",
              "      <th>0</th>\n",
              "      <td>179</td>\n",
              "      <td>642</td>\n",
              "      <td>263</td>\n",
              "      <td>435</td>\n",
              "      <td>movistar</td>\n",
              "    </tr>\n",
              "    <tr>\n",
              "      <th>1</th>\n",
              "      <td>667</td>\n",
              "      <td>134</td>\n",
              "      <td>184</td>\n",
              "      <td>693</td>\n",
              "      <td>movistar</td>\n",
              "    </tr>\n",
              "    <tr>\n",
              "      <th>2</th>\n",
              "      <td>391</td>\n",
              "      <td>224</td>\n",
              "      <td>157</td>\n",
              "      <td>188</td>\n",
              "      <td>movistar</td>\n",
              "    </tr>\n",
              "    <tr>\n",
              "      <th>3</th>\n",
              "      <td>435</td>\n",
              "      <td>621</td>\n",
              "      <td>513</td>\n",
              "      <td>349</td>\n",
              "      <td>movistar</td>\n",
              "    </tr>\n",
              "    <tr>\n",
              "      <th>4</th>\n",
              "      <td>711</td>\n",
              "      <td>312</td>\n",
              "      <td>110</td>\n",
              "      <td>791</td>\n",
              "      <td>orange</td>\n",
              "    </tr>\n",
              "    <tr>\n",
              "      <th>...</th>\n",
              "      <td>...</td>\n",
              "      <td>...</td>\n",
              "      <td>...</td>\n",
              "      <td>...</td>\n",
              "      <td>...</td>\n",
              "    </tr>\n",
              "    <tr>\n",
              "      <th>95</th>\n",
              "      <td>284</td>\n",
              "      <td>739</td>\n",
              "      <td>999</td>\n",
              "      <td>362</td>\n",
              "      <td>vodafone</td>\n",
              "    </tr>\n",
              "    <tr>\n",
              "      <th>96</th>\n",
              "      <td>378</td>\n",
              "      <td>323</td>\n",
              "      <td>976</td>\n",
              "      <td>740</td>\n",
              "      <td>movistar</td>\n",
              "    </tr>\n",
              "    <tr>\n",
              "      <th>97</th>\n",
              "      <td>509</td>\n",
              "      <td>549</td>\n",
              "      <td>508</td>\n",
              "      <td>805</td>\n",
              "      <td>movistar</td>\n",
              "    </tr>\n",
              "    <tr>\n",
              "      <th>98</th>\n",
              "      <td>15</td>\n",
              "      <td>518</td>\n",
              "      <td>743</td>\n",
              "      <td>358</td>\n",
              "      <td>vodafone</td>\n",
              "    </tr>\n",
              "    <tr>\n",
              "      <th>99</th>\n",
              "      <td>955</td>\n",
              "      <td>787</td>\n",
              "      <td>638</td>\n",
              "      <td>426</td>\n",
              "      <td>movistar</td>\n",
              "    </tr>\n",
              "  </tbody>\n",
              "</table>\n",
              "<p>100 rows × 5 columns</p>\n",
              "</div>"
            ],
            "text/plain": [
              "      A    B    C    D   network\n",
              "0   179  642  263  435  movistar\n",
              "1   667  134  184  693  movistar\n",
              "2   391  224  157  188  movistar\n",
              "3   435  621  513  349  movistar\n",
              "4   711  312  110  791    orange\n",
              "..  ...  ...  ...  ...       ...\n",
              "95  284  739  999  362  vodafone\n",
              "96  378  323  976  740  movistar\n",
              "97  509  549  508  805  movistar\n",
              "98   15  518  743  358  vodafone\n",
              "99  955  787  638  426  movistar\n",
              "\n",
              "[100 rows x 5 columns]"
            ]
          },
          "metadata": {
            "tags": []
          },
          "execution_count": 20
        }
      ]
    },
    {
      "cell_type": "markdown",
      "metadata": {
        "id": "DeNeCK7fMWKu"
      },
      "source": [
        "Por ultimo, podemos realizar JOINs al estilo SQL con la funcion merge de pandas, en este caso vamos a realizar por ejemplo un INNER JOIN entre los dataframes df y df_dummy"
      ]
    },
    {
      "cell_type": "code",
      "metadata": {
        "id": "u9pCkBqcL_3Z"
      },
      "source": [
        "df_joined = pd.merge(df, df_dummy, on='network', how='inner')"
      ],
      "execution_count": null,
      "outputs": []
    },
    {
      "cell_type": "code",
      "metadata": {
        "colab": {
          "base_uri": "https://localhost:8080/",
          "height": 588
        },
        "id": "CONJl1q1MIlx",
        "outputId": "122a0d07-d951-4223-fccd-a987b5c8f2d7"
      },
      "source": [
        "df_joined"
      ],
      "execution_count": null,
      "outputs": [
        {
          "output_type": "execute_result",
          "data": {
            "text/html": [
              "<div>\n",
              "<style scoped>\n",
              "    .dataframe tbody tr th:only-of-type {\n",
              "        vertical-align: middle;\n",
              "    }\n",
              "\n",
              "    .dataframe tbody tr th {\n",
              "        vertical-align: top;\n",
              "    }\n",
              "\n",
              "    .dataframe thead th {\n",
              "        text-align: right;\n",
              "    }\n",
              "</style>\n",
              "<table border=\"1\" class=\"dataframe\">\n",
              "  <thead>\n",
              "    <tr style=\"text-align: right;\">\n",
              "      <th></th>\n",
              "      <th>date</th>\n",
              "      <th>hour</th>\n",
              "      <th>lat</th>\n",
              "      <th>long</th>\n",
              "      <th>signal</th>\n",
              "      <th>network</th>\n",
              "      <th>operator</th>\n",
              "      <th>status</th>\n",
              "      <th>description</th>\n",
              "      <th>net</th>\n",
              "      <th>speed</th>\n",
              "      <th>satellites</th>\n",
              "      <th>precission</th>\n",
              "      <th>provider</th>\n",
              "      <th>activity</th>\n",
              "      <th>downloadSpeed</th>\n",
              "      <th>uploadSpeed</th>\n",
              "      <th>postal_code</th>\n",
              "      <th>town_name</th>\n",
              "      <th>position_geom</th>\n",
              "      <th>A</th>\n",
              "      <th>B</th>\n",
              "      <th>C</th>\n",
              "      <th>D</th>\n",
              "    </tr>\n",
              "  </thead>\n",
              "  <tbody>\n",
              "    <tr>\n",
              "      <th>0</th>\n",
              "      <td>2016-02-22</td>\n",
              "      <td>21:01:29</td>\n",
              "      <td>41.21993</td>\n",
              "      <td>1.75448</td>\n",
              "      <td>0</td>\n",
              "      <td>yoigo</td>\n",
              "      <td>YOIGO</td>\n",
              "      <td>3</td>\n",
              "      <td>STATE_POWER_OFF</td>\n",
              "      <td>None</td>\n",
              "      <td>82.2</td>\n",
              "      <td>2.0</td>\n",
              "      <td>35.0</td>\n",
              "      <td>gps</td>\n",
              "      <td>IN_VEHICLE</td>\n",
              "      <td>None</td>\n",
              "      <td>None</td>\n",
              "      <td>None</td>\n",
              "      <td>None</td>\n",
              "      <td>POINT(1.75448 41.21993)</td>\n",
              "      <td>425</td>\n",
              "      <td>915</td>\n",
              "      <td>796</td>\n",
              "      <td>164</td>\n",
              "    </tr>\n",
              "    <tr>\n",
              "      <th>1</th>\n",
              "      <td>2016-02-22</td>\n",
              "      <td>21:01:29</td>\n",
              "      <td>41.21993</td>\n",
              "      <td>1.75448</td>\n",
              "      <td>0</td>\n",
              "      <td>yoigo</td>\n",
              "      <td>YOIGO</td>\n",
              "      <td>3</td>\n",
              "      <td>STATE_POWER_OFF</td>\n",
              "      <td>None</td>\n",
              "      <td>82.2</td>\n",
              "      <td>2.0</td>\n",
              "      <td>35.0</td>\n",
              "      <td>gps</td>\n",
              "      <td>IN_VEHICLE</td>\n",
              "      <td>None</td>\n",
              "      <td>None</td>\n",
              "      <td>None</td>\n",
              "      <td>None</td>\n",
              "      <td>POINT(1.75448 41.21993)</td>\n",
              "      <td>687</td>\n",
              "      <td>905</td>\n",
              "      <td>296</td>\n",
              "      <td>491</td>\n",
              "    </tr>\n",
              "    <tr>\n",
              "      <th>2</th>\n",
              "      <td>2016-02-22</td>\n",
              "      <td>06:31:35</td>\n",
              "      <td>41.24392</td>\n",
              "      <td>1.87257</td>\n",
              "      <td>3</td>\n",
              "      <td>yoigo</td>\n",
              "      <td>YOIGO</td>\n",
              "      <td>3</td>\n",
              "      <td>STATE_POWER_OFF</td>\n",
              "      <td>None</td>\n",
              "      <td>73.1</td>\n",
              "      <td>1.0</td>\n",
              "      <td>16.0</td>\n",
              "      <td>gps</td>\n",
              "      <td>IN_VEHICLE</td>\n",
              "      <td>None</td>\n",
              "      <td>None</td>\n",
              "      <td>None</td>\n",
              "      <td>None</td>\n",
              "      <td>POINT(1.87257 41.24392)</td>\n",
              "      <td>425</td>\n",
              "      <td>915</td>\n",
              "      <td>796</td>\n",
              "      <td>164</td>\n",
              "    </tr>\n",
              "    <tr>\n",
              "      <th>3</th>\n",
              "      <td>2016-02-22</td>\n",
              "      <td>06:31:35</td>\n",
              "      <td>41.24392</td>\n",
              "      <td>1.87257</td>\n",
              "      <td>3</td>\n",
              "      <td>yoigo</td>\n",
              "      <td>YOIGO</td>\n",
              "      <td>3</td>\n",
              "      <td>STATE_POWER_OFF</td>\n",
              "      <td>None</td>\n",
              "      <td>73.1</td>\n",
              "      <td>1.0</td>\n",
              "      <td>16.0</td>\n",
              "      <td>gps</td>\n",
              "      <td>IN_VEHICLE</td>\n",
              "      <td>None</td>\n",
              "      <td>None</td>\n",
              "      <td>None</td>\n",
              "      <td>None</td>\n",
              "      <td>POINT(1.87257 41.24392)</td>\n",
              "      <td>687</td>\n",
              "      <td>905</td>\n",
              "      <td>296</td>\n",
              "      <td>491</td>\n",
              "    </tr>\n",
              "    <tr>\n",
              "      <th>4</th>\n",
              "      <td>2016-02-22</td>\n",
              "      <td>15:15:19</td>\n",
              "      <td>41.27102</td>\n",
              "      <td>2.02823</td>\n",
              "      <td>10</td>\n",
              "      <td>yoigo</td>\n",
              "      <td>YOIGO</td>\n",
              "      <td>3</td>\n",
              "      <td>STATE_POWER_OFF</td>\n",
              "      <td>None</td>\n",
              "      <td>100.0</td>\n",
              "      <td>4.0</td>\n",
              "      <td>26.0</td>\n",
              "      <td>gps</td>\n",
              "      <td>IN_VEHICLE</td>\n",
              "      <td>None</td>\n",
              "      <td>None</td>\n",
              "      <td>080898</td>\n",
              "      <td>Gavà</td>\n",
              "      <td>POINT(2.02823 41.27102)</td>\n",
              "      <td>425</td>\n",
              "      <td>915</td>\n",
              "      <td>796</td>\n",
              "      <td>164</td>\n",
              "    </tr>\n",
              "    <tr>\n",
              "      <th>...</th>\n",
              "      <td>...</td>\n",
              "      <td>...</td>\n",
              "      <td>...</td>\n",
              "      <td>...</td>\n",
              "      <td>...</td>\n",
              "      <td>...</td>\n",
              "      <td>...</td>\n",
              "      <td>...</td>\n",
              "      <td>...</td>\n",
              "      <td>...</td>\n",
              "      <td>...</td>\n",
              "      <td>...</td>\n",
              "      <td>...</td>\n",
              "      <td>...</td>\n",
              "      <td>...</td>\n",
              "      <td>...</td>\n",
              "      <td>...</td>\n",
              "      <td>...</td>\n",
              "      <td>...</td>\n",
              "      <td>...</td>\n",
              "      <td>...</td>\n",
              "      <td>...</td>\n",
              "      <td>...</td>\n",
              "      <td>...</td>\n",
              "    </tr>\n",
              "    <tr>\n",
              "      <th>3052119</th>\n",
              "      <td>2015-07-20</td>\n",
              "      <td>12:22:07</td>\n",
              "      <td>26.66852</td>\n",
              "      <td>-81.93980</td>\n",
              "      <td>30</td>\n",
              "      <td>MetroPCS</td>\n",
              "      <td>MetroPCS</td>\n",
              "      <td>2</td>\n",
              "      <td>STATE_EMERGENCY_ONLY</td>\n",
              "      <td>4G</td>\n",
              "      <td>43.3</td>\n",
              "      <td>8.0</td>\n",
              "      <td>10.0</td>\n",
              "      <td>gps</td>\n",
              "      <td>IN_VEHICLE</td>\n",
              "      <td>None</td>\n",
              "      <td>None</td>\n",
              "      <td>None</td>\n",
              "      <td>None</td>\n",
              "      <td>POINT(-81.9398 26.66852)</td>\n",
              "      <td>337</td>\n",
              "      <td>34</td>\n",
              "      <td>154</td>\n",
              "      <td>38</td>\n",
              "    </tr>\n",
              "    <tr>\n",
              "      <th>3052120</th>\n",
              "      <td>2015-07-20</td>\n",
              "      <td>12:11:12</td>\n",
              "      <td>26.65641</td>\n",
              "      <td>-81.84830</td>\n",
              "      <td>24</td>\n",
              "      <td>MetroPCS</td>\n",
              "      <td>MetroPCS</td>\n",
              "      <td>2</td>\n",
              "      <td>STATE_EMERGENCY_ONLY</td>\n",
              "      <td>4G</td>\n",
              "      <td>62.8</td>\n",
              "      <td>8.0</td>\n",
              "      <td>15.0</td>\n",
              "      <td>gps</td>\n",
              "      <td>IN_VEHICLE</td>\n",
              "      <td>None</td>\n",
              "      <td>None</td>\n",
              "      <td>None</td>\n",
              "      <td>None</td>\n",
              "      <td>POINT(-81.8483 26.65641)</td>\n",
              "      <td>337</td>\n",
              "      <td>34</td>\n",
              "      <td>154</td>\n",
              "      <td>38</td>\n",
              "    </tr>\n",
              "    <tr>\n",
              "      <th>3052121</th>\n",
              "      <td>2015-07-20</td>\n",
              "      <td>12:14:10</td>\n",
              "      <td>26.65438</td>\n",
              "      <td>-81.86906</td>\n",
              "      <td>27</td>\n",
              "      <td>MetroPCS</td>\n",
              "      <td>MetroPCS</td>\n",
              "      <td>2</td>\n",
              "      <td>STATE_EMERGENCY_ONLY</td>\n",
              "      <td>4G</td>\n",
              "      <td>65.4</td>\n",
              "      <td>8.0</td>\n",
              "      <td>15.0</td>\n",
              "      <td>gps</td>\n",
              "      <td>IN_VEHICLE</td>\n",
              "      <td>None</td>\n",
              "      <td>None</td>\n",
              "      <td>None</td>\n",
              "      <td>None</td>\n",
              "      <td>POINT(-81.86906 26.65438)</td>\n",
              "      <td>337</td>\n",
              "      <td>34</td>\n",
              "      <td>154</td>\n",
              "      <td>38</td>\n",
              "    </tr>\n",
              "    <tr>\n",
              "      <th>3052122</th>\n",
              "      <td>2015-07-20</td>\n",
              "      <td>14:19:52</td>\n",
              "      <td>26.65277</td>\n",
              "      <td>-81.97128</td>\n",
              "      <td>27</td>\n",
              "      <td>MetroPCS</td>\n",
              "      <td>MetroPCS</td>\n",
              "      <td>2</td>\n",
              "      <td>STATE_EMERGENCY_ONLY</td>\n",
              "      <td>4G</td>\n",
              "      <td>13.8</td>\n",
              "      <td>3.0</td>\n",
              "      <td>56.0</td>\n",
              "      <td>gps</td>\n",
              "      <td>IN_VEHICLE</td>\n",
              "      <td>None</td>\n",
              "      <td>None</td>\n",
              "      <td>None</td>\n",
              "      <td>None</td>\n",
              "      <td>POINT(-81.97128 26.65277)</td>\n",
              "      <td>337</td>\n",
              "      <td>34</td>\n",
              "      <td>154</td>\n",
              "      <td>38</td>\n",
              "    </tr>\n",
              "    <tr>\n",
              "      <th>3052123</th>\n",
              "      <td>2015-07-20</td>\n",
              "      <td>14:51:11</td>\n",
              "      <td>26.59405</td>\n",
              "      <td>-81.87668</td>\n",
              "      <td>15</td>\n",
              "      <td>MetroPCS</td>\n",
              "      <td>MetroPCS</td>\n",
              "      <td>2</td>\n",
              "      <td>STATE_EMERGENCY_ONLY</td>\n",
              "      <td>4G</td>\n",
              "      <td>6.3</td>\n",
              "      <td>12.0</td>\n",
              "      <td>10.0</td>\n",
              "      <td>gps</td>\n",
              "      <td>ON_BICYCLE</td>\n",
              "      <td>None</td>\n",
              "      <td>None</td>\n",
              "      <td>None</td>\n",
              "      <td>None</td>\n",
              "      <td>POINT(-81.87668 26.59405)</td>\n",
              "      <td>337</td>\n",
              "      <td>34</td>\n",
              "      <td>154</td>\n",
              "      <td>38</td>\n",
              "    </tr>\n",
              "  </tbody>\n",
              "</table>\n",
              "<p>3052124 rows × 24 columns</p>\n",
              "</div>"
            ],
            "text/plain": [
              "               date      hour       lat      long  ...    A    B    C    D\n",
              "0        2016-02-22  21:01:29  41.21993   1.75448  ...  425  915  796  164\n",
              "1        2016-02-22  21:01:29  41.21993   1.75448  ...  687  905  296  491\n",
              "2        2016-02-22  06:31:35  41.24392   1.87257  ...  425  915  796  164\n",
              "3        2016-02-22  06:31:35  41.24392   1.87257  ...  687  905  296  491\n",
              "4        2016-02-22  15:15:19  41.27102   2.02823  ...  425  915  796  164\n",
              "...             ...       ...       ...       ...  ...  ...  ...  ...  ...\n",
              "3052119  2015-07-20  12:22:07  26.66852 -81.93980  ...  337   34  154   38\n",
              "3052120  2015-07-20  12:11:12  26.65641 -81.84830  ...  337   34  154   38\n",
              "3052121  2015-07-20  12:14:10  26.65438 -81.86906  ...  337   34  154   38\n",
              "3052122  2015-07-20  14:19:52  26.65277 -81.97128  ...  337   34  154   38\n",
              "3052123  2015-07-20  14:51:11  26.59405 -81.87668  ...  337   34  154   38\n",
              "\n",
              "[3052124 rows x 24 columns]"
            ]
          },
          "metadata": {
            "tags": []
          },
          "execution_count": 22
        }
      ]
    },
    {
      "cell_type": "markdown",
      "metadata": {
        "id": "SevM-wU1C6mi"
      },
      "source": [
        "##  05.Discretizacion y 1-hot-encoding"
      ]
    },
    {
      "cell_type": "markdown",
      "metadata": {
        "id": "hGM0TKCnMj8l"
      },
      "source": [
        "Por ultimo, dos tecnicas muy usadas en la preparacion de features para nuestros modelos de ML son la discretizacion y el 1 hot encoding.\n",
        "El 1 hot encoding intenta paliar el posible efecto adverso de convertir valores no numericos en una interpretaciion numerica: el 1 esta numericamente \"mas cerca\" del 2 que el 3.\n",
        "Podemos utilizar la funcion get_dummies de pandas"
      ]
    },
    {
      "cell_type": "code",
      "metadata": {
        "id": "BCcxuj4xXavR"
      },
      "source": [
        "y = pd.get_dummies(df['activity'], prefix='1HotEnc')"
      ],
      "execution_count": null,
      "outputs": []
    },
    {
      "cell_type": "code",
      "metadata": {
        "colab": {
          "base_uri": "https://localhost:8080/",
          "height": 399
        },
        "id": "jsvTEqDqYrW-",
        "outputId": "40a9fd38-2591-4115-ec6d-be586d1250c8"
      },
      "source": [
        "y"
      ],
      "execution_count": null,
      "outputs": [
        {
          "output_type": "execute_result",
          "data": {
            "text/html": [
              "<div>\n",
              "<style scoped>\n",
              "    .dataframe tbody tr th:only-of-type {\n",
              "        vertical-align: middle;\n",
              "    }\n",
              "\n",
              "    .dataframe tbody tr th {\n",
              "        vertical-align: top;\n",
              "    }\n",
              "\n",
              "    .dataframe thead th {\n",
              "        text-align: right;\n",
              "    }\n",
              "</style>\n",
              "<table border=\"1\" class=\"dataframe\">\n",
              "  <thead>\n",
              "    <tr style=\"text-align: right;\">\n",
              "      <th></th>\n",
              "      <th>1HotEnc_IN_VEHICLE</th>\n",
              "      <th>1HotEnc_ON_BICYCLE</th>\n",
              "      <th>1HotEnc_ON_FOOT</th>\n",
              "      <th>1HotEnc_STILL</th>\n",
              "      <th>1HotEnc_TILTING</th>\n",
              "      <th>1HotEnc_UNKNOWN</th>\n",
              "    </tr>\n",
              "  </thead>\n",
              "  <tbody>\n",
              "    <tr>\n",
              "      <th>0</th>\n",
              "      <td>1</td>\n",
              "      <td>0</td>\n",
              "      <td>0</td>\n",
              "      <td>0</td>\n",
              "      <td>0</td>\n",
              "      <td>0</td>\n",
              "    </tr>\n",
              "    <tr>\n",
              "      <th>1</th>\n",
              "      <td>1</td>\n",
              "      <td>0</td>\n",
              "      <td>0</td>\n",
              "      <td>0</td>\n",
              "      <td>0</td>\n",
              "      <td>0</td>\n",
              "    </tr>\n",
              "    <tr>\n",
              "      <th>2</th>\n",
              "      <td>1</td>\n",
              "      <td>0</td>\n",
              "      <td>0</td>\n",
              "      <td>0</td>\n",
              "      <td>0</td>\n",
              "      <td>0</td>\n",
              "    </tr>\n",
              "    <tr>\n",
              "      <th>3</th>\n",
              "      <td>1</td>\n",
              "      <td>0</td>\n",
              "      <td>0</td>\n",
              "      <td>0</td>\n",
              "      <td>0</td>\n",
              "      <td>0</td>\n",
              "    </tr>\n",
              "    <tr>\n",
              "      <th>4</th>\n",
              "      <td>1</td>\n",
              "      <td>0</td>\n",
              "      <td>0</td>\n",
              "      <td>0</td>\n",
              "      <td>0</td>\n",
              "      <td>0</td>\n",
              "    </tr>\n",
              "    <tr>\n",
              "      <th>...</th>\n",
              "      <td>...</td>\n",
              "      <td>...</td>\n",
              "      <td>...</td>\n",
              "      <td>...</td>\n",
              "      <td>...</td>\n",
              "      <td>...</td>\n",
              "    </tr>\n",
              "    <tr>\n",
              "      <th>99995</th>\n",
              "      <td>0</td>\n",
              "      <td>0</td>\n",
              "      <td>1</td>\n",
              "      <td>0</td>\n",
              "      <td>0</td>\n",
              "      <td>0</td>\n",
              "    </tr>\n",
              "    <tr>\n",
              "      <th>99996</th>\n",
              "      <td>0</td>\n",
              "      <td>0</td>\n",
              "      <td>1</td>\n",
              "      <td>0</td>\n",
              "      <td>0</td>\n",
              "      <td>0</td>\n",
              "    </tr>\n",
              "    <tr>\n",
              "      <th>99997</th>\n",
              "      <td>0</td>\n",
              "      <td>0</td>\n",
              "      <td>1</td>\n",
              "      <td>0</td>\n",
              "      <td>0</td>\n",
              "      <td>0</td>\n",
              "    </tr>\n",
              "    <tr>\n",
              "      <th>99998</th>\n",
              "      <td>0</td>\n",
              "      <td>0</td>\n",
              "      <td>1</td>\n",
              "      <td>0</td>\n",
              "      <td>0</td>\n",
              "      <td>0</td>\n",
              "    </tr>\n",
              "    <tr>\n",
              "      <th>99999</th>\n",
              "      <td>0</td>\n",
              "      <td>0</td>\n",
              "      <td>1</td>\n",
              "      <td>0</td>\n",
              "      <td>0</td>\n",
              "      <td>0</td>\n",
              "    </tr>\n",
              "  </tbody>\n",
              "</table>\n",
              "<p>100000 rows × 6 columns</p>\n",
              "</div>"
            ],
            "text/plain": [
              "       1HotEnc_IN_VEHICLE  1HotEnc_ON_BICYCLE  ...  1HotEnc_TILTING  1HotEnc_UNKNOWN\n",
              "0                       1                   0  ...                0                0\n",
              "1                       1                   0  ...                0                0\n",
              "2                       1                   0  ...                0                0\n",
              "3                       1                   0  ...                0                0\n",
              "4                       1                   0  ...                0                0\n",
              "...                   ...                 ...  ...              ...              ...\n",
              "99995                   0                   0  ...                0                0\n",
              "99996                   0                   0  ...                0                0\n",
              "99997                   0                   0  ...                0                0\n",
              "99998                   0                   0  ...                0                0\n",
              "99999                   0                   0  ...                0                0\n",
              "\n",
              "[100000 rows x 6 columns]"
            ]
          },
          "metadata": {
            "tags": []
          },
          "execution_count": 24
        }
      ]
    },
    {
      "cell_type": "markdown",
      "metadata": {
        "id": "nMIve8VENNfx"
      },
      "source": [
        "Para generar una cuantizacion vamos primero a generar una columna dummy con una variable continua"
      ]
    },
    {
      "cell_type": "code",
      "metadata": {
        "id": "ezZ2zEzraO7a"
      },
      "source": [
        "df_dist = pd.DataFrame(np.random.randint(0,3456,size=(100, 1)), columns=list('A'))"
      ],
      "execution_count": null,
      "outputs": []
    },
    {
      "cell_type": "code",
      "metadata": {
        "colab": {
          "base_uri": "https://localhost:8080/",
          "height": 399
        },
        "id": "S5OEYDz3alUE",
        "outputId": "30a653a4-1592-42e7-eb3c-59d3f2eb7602"
      },
      "source": [
        "df_dist"
      ],
      "execution_count": null,
      "outputs": [
        {
          "output_type": "execute_result",
          "data": {
            "text/html": [
              "<div>\n",
              "<style scoped>\n",
              "    .dataframe tbody tr th:only-of-type {\n",
              "        vertical-align: middle;\n",
              "    }\n",
              "\n",
              "    .dataframe tbody tr th {\n",
              "        vertical-align: top;\n",
              "    }\n",
              "\n",
              "    .dataframe thead th {\n",
              "        text-align: right;\n",
              "    }\n",
              "</style>\n",
              "<table border=\"1\" class=\"dataframe\">\n",
              "  <thead>\n",
              "    <tr style=\"text-align: right;\">\n",
              "      <th></th>\n",
              "      <th>A</th>\n",
              "    </tr>\n",
              "  </thead>\n",
              "  <tbody>\n",
              "    <tr>\n",
              "      <th>0</th>\n",
              "      <td>2989</td>\n",
              "    </tr>\n",
              "    <tr>\n",
              "      <th>1</th>\n",
              "      <td>313</td>\n",
              "    </tr>\n",
              "    <tr>\n",
              "      <th>2</th>\n",
              "      <td>2455</td>\n",
              "    </tr>\n",
              "    <tr>\n",
              "      <th>3</th>\n",
              "      <td>3019</td>\n",
              "    </tr>\n",
              "    <tr>\n",
              "      <th>4</th>\n",
              "      <td>1791</td>\n",
              "    </tr>\n",
              "    <tr>\n",
              "      <th>...</th>\n",
              "      <td>...</td>\n",
              "    </tr>\n",
              "    <tr>\n",
              "      <th>95</th>\n",
              "      <td>3342</td>\n",
              "    </tr>\n",
              "    <tr>\n",
              "      <th>96</th>\n",
              "      <td>3146</td>\n",
              "    </tr>\n",
              "    <tr>\n",
              "      <th>97</th>\n",
              "      <td>123</td>\n",
              "    </tr>\n",
              "    <tr>\n",
              "      <th>98</th>\n",
              "      <td>2066</td>\n",
              "    </tr>\n",
              "    <tr>\n",
              "      <th>99</th>\n",
              "      <td>1387</td>\n",
              "    </tr>\n",
              "  </tbody>\n",
              "</table>\n",
              "<p>100 rows × 1 columns</p>\n",
              "</div>"
            ],
            "text/plain": [
              "       A\n",
              "0   2989\n",
              "1    313\n",
              "2   2455\n",
              "3   3019\n",
              "4   1791\n",
              "..   ...\n",
              "95  3342\n",
              "96  3146\n",
              "97   123\n",
              "98  2066\n",
              "99  1387\n",
              "\n",
              "[100 rows x 1 columns]"
            ]
          },
          "metadata": {
            "tags": []
          },
          "execution_count": 26
        }
      ]
    },
    {
      "cell_type": "markdown",
      "metadata": {
        "id": "s1O59dheNVA5"
      },
      "source": [
        "Y ahora podemos utilizar la funcion ´qcut´ de pandas para discretizar estos valores por ejemplo en 3 buckets"
      ]
    },
    {
      "cell_type": "code",
      "metadata": {
        "colab": {
          "base_uri": "https://localhost:8080/"
        },
        "id": "nefqyfNga1UW",
        "outputId": "414fe2e9-6019-489d-9c5d-fbcec48fd0f6"
      },
      "source": [
        "pd.qcut(df_dist.A, 3, labels=[\"Bajo\",\"Medio\",\"Alto\"])"
      ],
      "execution_count": null,
      "outputs": [
        {
          "output_type": "execute_result",
          "data": {
            "text/plain": [
              "0      Alto\n",
              "1      Bajo\n",
              "2     Medio\n",
              "3      Alto\n",
              "4     Medio\n",
              "      ...  \n",
              "95     Alto\n",
              "96     Alto\n",
              "97     Bajo\n",
              "98    Medio\n",
              "99    Medio\n",
              "Name: A, Length: 100, dtype: category\n",
              "Categories (3, object): ['Bajo' < 'Medio' < 'Alto']"
            ]
          },
          "metadata": {
            "tags": []
          },
          "execution_count": 27
        }
      ]
    },
    {
      "cell_type": "markdown",
      "metadata": {
        "id": "EEITGRyJT3O4"
      },
      "source": [
        "## One-hot en Pytorch"
      ]
    },
    {
      "cell_type": "code",
      "metadata": {
        "colab": {
          "base_uri": "https://localhost:8080/"
        },
        "id": "JhqVqktfT3O5",
        "outputId": "3c6595ef-26bc-46c6-dc6e-1da3c50dfb3b"
      },
      "source": [
        "import torch\n",
        "x = torch.arange(3, 7)\n",
        "print(x)\n"
      ],
      "execution_count": null,
      "outputs": [
        {
          "output_type": "stream",
          "text": [
            "tensor([3, 4, 5, 6])\n"
          ],
          "name": "stdout"
        }
      ]
    },
    {
      "cell_type": "code",
      "metadata": {
        "colab": {
          "base_uri": "https://localhost:8080/"
        },
        "id": "n1_ha1iVT3O6",
        "outputId": "52855664-4a2b-4038-d7d7-2e502c378c72"
      },
      "source": [
        "x_hot = torch.nn.functional.one_hot(x)\n",
        "print(x_hot)"
      ],
      "execution_count": null,
      "outputs": [
        {
          "output_type": "stream",
          "text": [
            "tensor([[0, 0, 0, 1, 0, 0, 0],\n",
            "        [0, 0, 0, 0, 1, 0, 0],\n",
            "        [0, 0, 0, 0, 0, 1, 0],\n",
            "        [0, 0, 0, 0, 0, 0, 1]])\n"
          ],
          "name": "stdout"
        }
      ]
    }
  ]
}