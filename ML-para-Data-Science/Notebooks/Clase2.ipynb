{
 "cells": [
  {
   "source": [
    "#  Introducción a Pandas 🐼"
   ],
   "cell_type": "markdown",
   "metadata": {}
  },
  {
   "source": [
    "<center>\n",
    "<img src=\"https://upload.wikimedia.org/wikipedia/commons/4/45/Pandas_logo.png\" height = \"30%\" width = \"60%\">"
   ],
   "cell_type": "markdown",
   "metadata": {}
  },
  {
   "source": [
    "## **Pandas**\n",
    "-----\n",
    "Librería que permite leer, limpiar, transformar, filtrar, agrupar, analizar y guardar datos de una manera rápida y sencilla desde Python. Permite cargar un archivo desde csv, xlms, json, sql, html, ...:\n",
    "\n",
    "<center>\n",
    "<img src=\"https://files.realpython.com/media/Reading-and-Writing-Data-With-Pandas_Watermarked.435ef1c38466.jpg\" height = \"30%\" width = \"40%\">"
   ],
   "cell_type": "markdown",
   "metadata": {}
  },
  {
   "cell_type": "code",
   "execution_count": 98,
   "metadata": {},
   "outputs": [],
   "source": [
    "import pandas as pd"
   ]
  },
  {
   "source": [
    "### Series\n"
   ],
   "cell_type": "markdown",
   "metadata": {}
  },
  {
   "cell_type": "code",
   "execution_count": 99,
   "metadata": {},
   "outputs": [
    {
     "output_type": "execute_result",
     "data": {
      "text/plain": [
       "0    15\n",
       "1    20\n",
       "2    10\n",
       "dtype: int64"
      ]
     },
     "metadata": {},
     "execution_count": 99
    }
   ],
   "source": [
    "serie = pd.Series([15, 20, 10])\n",
    "serie"
   ]
  },
  {
   "cell_type": "code",
   "execution_count": 100,
   "metadata": {},
   "outputs": [
    {
     "output_type": "execute_result",
     "data": {
      "text/plain": [
       "0    15\n",
       "1    20\n",
       "2    10\n",
       "Name: numeros, dtype: int64"
      ]
     },
     "metadata": {},
     "execution_count": 100
    }
   ],
   "source": [
    "serie.name = 'numeros'\n",
    "serie"
   ]
  },
  {
   "source": [
    "### Dataframes"
   ],
   "cell_type": "markdown",
   "metadata": {}
  },
  {
   "cell_type": "code",
   "execution_count": 120,
   "metadata": {},
   "outputs": [
    {
     "output_type": "execute_result",
     "data": {
      "text/plain": [
       "   columna1  columna2\n",
       "0         1        93\n",
       "1         3        94"
      ],
      "text/html": "<div>\n<style scoped>\n    .dataframe tbody tr th:only-of-type {\n        vertical-align: middle;\n    }\n\n    .dataframe tbody tr th {\n        vertical-align: top;\n    }\n\n    .dataframe thead th {\n        text-align: right;\n    }\n</style>\n<table border=\"1\" class=\"dataframe\">\n  <thead>\n    <tr style=\"text-align: right;\">\n      <th></th>\n      <th>columna1</th>\n      <th>columna2</th>\n    </tr>\n  </thead>\n  <tbody>\n    <tr>\n      <th>0</th>\n      <td>1</td>\n      <td>93</td>\n    </tr>\n    <tr>\n      <th>1</th>\n      <td>3</td>\n      <td>94</td>\n    </tr>\n  </tbody>\n</table>\n</div>"
     },
     "metadata": {},
     "execution_count": 120
    }
   ],
   "source": [
    "datos = [\n",
    "    {\n",
    "        \"columna1\": 1,\n",
    "        \"columna2\": 93\n",
    "    },\n",
    "    {\n",
    "        \"columna1\": 3,\n",
    "        \"columna2\": 94\n",
    "    }\n",
    "]\n",
    "\n",
    "df2 = pd.DataFrame(datos)\n",
    "df2"
   ]
  },
  {
   "cell_type": "code",
   "execution_count": 165,
   "metadata": {},
   "outputs": [
    {
     "output_type": "execute_result",
     "data": {
      "text/plain": [
       "   n lenguaje\n",
       "0  1   Python\n",
       "1  3     Java"
      ],
      "text/html": "<div>\n<style scoped>\n    .dataframe tbody tr th:only-of-type {\n        vertical-align: middle;\n    }\n\n    .dataframe tbody tr th {\n        vertical-align: top;\n    }\n\n    .dataframe thead th {\n        text-align: right;\n    }\n</style>\n<table border=\"1\" class=\"dataframe\">\n  <thead>\n    <tr style=\"text-align: right;\">\n      <th></th>\n      <th>n</th>\n      <th>lenguaje</th>\n    </tr>\n  </thead>\n  <tbody>\n    <tr>\n      <th>0</th>\n      <td>1</td>\n      <td>Python</td>\n    </tr>\n    <tr>\n      <th>1</th>\n      <td>3</td>\n      <td>Java</td>\n    </tr>\n  </tbody>\n</table>\n</div>"
     },
     "metadata": {},
     "execution_count": 165
    }
   ],
   "source": [
    "datos = [{1, 'Python'}, {3, 'Java'}]\n",
    "\n",
    "df2 = pd.DataFrame(datos)\n",
    "df2.columns = ['n', 'lenguaje']\n",
    "\n",
    "df2"
   ]
  },
  {
   "source": [
    "### Carga de Datos"
   ],
   "cell_type": "markdown",
   "metadata": {}
  },
  {
   "cell_type": "code",
   "execution_count": 131,
   "metadata": {},
   "outputs": [
    {
     "output_type": "execute_result",
     "data": {
      "text/plain": [
       "        id                                          full_text  favorites  \\\n",
       "0   183721  Flying home to run down from the power to comi...       23.0   \n",
       "1   183722                Today we commemorate and MNML Case.      500.0   \n",
       "2   183723       Today we have reached US$6.55 Billion TT$44…      190.0   \n",
       "3   183724  Faking It by Joel Atwell. Written by Other cou...      131.0   \n",
       "4   183725                                    Welcome back! 🙌      113.0   \n",
       "5   183726  Contest: Win a fan of his ass. #thatisall Thanks!      492.0   \n",
       "6   183727                                 80's & friends! ✈️      158.0   \n",
       "7   183728  Thank you guess how did I feel somewhat offend...        NaN   \n",
       "8   183729        OnePlus 8 international giveaway classifies      198.0   \n",
       "9   183730                Here it is.. Retweet this desperate      272.0   \n",
       "10  183731  Great to advertise during the year I tweeted a...       43.0   \n",
       "11  183732  Its been in love with the game with the origin...      349.0   \n",
       "12  183733                           Programming is the best!      467.0   \n",
       "13  183734                             I cannot believe this!       50.0   \n",
       "14  183735                             Buy this product NOW!!      418.0   \n",
       "15  183736  I have one is best color gradients: Just relea...      361.0   \n",
       "16  183737                                              PIC!!      346.0   \n",
       "17  183738                             hmmm feeling bad today      296.0   \n",
       "18  183739                          not feeling god right now      315.0   \n",
       "19  183740                        Programming is a hot topic!      133.0   \n",
       "20  183741                            Programming? i love it!       92.0   \n",
       "21  183742                                            WHAT???      255.0   \n",
       "22  183743                         Amazing video by Leonardo!      432.0   \n",
       "23  183744                                        Thanks man!      430.0   \n",
       "24  183745          There is nothing better than programming!      424.0   \n",
       "25  183746                                           BORED AF      488.0   \n",
       "26  183747  I do not know if i like programming or other t...      318.0   \n",
       "\n",
       "    retweets  mentions  country             user  followers  followees  \n",
       "0        NaN      10.0  ECUADOR    leonardokuffo      389.0        258  \n",
       "1       21.0       NaN   BRASIL    mateusmartins      982.0       1822  \n",
       "2      123.0       6.0   MEXICO      pedrojuarez       12.0        129  \n",
       "3       76.0       3.0  ECUADOR     galocastillo      332.0        378  \n",
       "4      130.0       9.0   MEXICO      pedrojuarez       12.0        129  \n",
       "5       70.0       6.0   BRASIL    mateusmartins      982.0       1822  \n",
       "6       40.0      22.0  ECUADOR    leonardokuffo      389.0        258  \n",
       "7       50.0      10.0   MEXICO      pedrojuarez       12.0        129  \n",
       "8       82.0      26.0   MEXICO      pedrojuarez       12.0        129  \n",
       "9       92.0      29.0   BRASIL    mateusmartins      982.0       1822  \n",
       "10     111.0       8.0   BRASIL    mateusmartins      982.0       1822  \n",
       "11      44.0      19.0   BRASIL    mateusmartins      982.0       1822  \n",
       "12      69.0      10.0  ECUADOR    leonardokuffo      389.0        258  \n",
       "13      24.0      22.0  ECUADOR    leonardokuffo      389.0        258  \n",
       "14      24.0       2.0   MEXICO  gabrielcarvajal       21.0       2721  \n",
       "15      92.0       1.0   MEXICO      pedrojuarez       12.0        129  \n",
       "16     115.0      24.0   BRASIL       lucasperes       82.0        351  \n",
       "17      93.0      29.0   MEXICO  gabrielcarvajal       21.0       2721  \n",
       "18      26.0      10.0  ECUADOR     galocastillo      332.0        378  \n",
       "19     145.0      15.0   BRASIL       lucasperes       82.0        351  \n",
       "20     146.0       1.0  ECUADOR     galocastillo      332.0        378  \n",
       "21      73.0      17.0  ECUADOR     galocastillo      332.0        378  \n",
       "22      95.0      18.0   BRASIL       lucasperes       82.0        351  \n",
       "23     143.0      28.0   BRASIL       lucasperes        NaN        351  \n",
       "24     110.0      29.0   BRASIL       lucasperes       82.0        351  \n",
       "25      28.0      27.0   MEXICO  gabrielcarvajal       21.0       2721  \n",
       "26      58.0      20.0   BRASIL  isabelladasilva      928.0       9918  "
      ],
      "text/html": "<div>\n<style scoped>\n    .dataframe tbody tr th:only-of-type {\n        vertical-align: middle;\n    }\n\n    .dataframe tbody tr th {\n        vertical-align: top;\n    }\n\n    .dataframe thead th {\n        text-align: right;\n    }\n</style>\n<table border=\"1\" class=\"dataframe\">\n  <thead>\n    <tr style=\"text-align: right;\">\n      <th></th>\n      <th>id</th>\n      <th>full_text</th>\n      <th>favorites</th>\n      <th>retweets</th>\n      <th>mentions</th>\n      <th>country</th>\n      <th>user</th>\n      <th>followers</th>\n      <th>followees</th>\n    </tr>\n  </thead>\n  <tbody>\n    <tr>\n      <th>0</th>\n      <td>183721</td>\n      <td>Flying home to run down from the power to comi...</td>\n      <td>23.0</td>\n      <td>NaN</td>\n      <td>10.0</td>\n      <td>ECUADOR</td>\n      <td>leonardokuffo</td>\n      <td>389.0</td>\n      <td>258</td>\n    </tr>\n    <tr>\n      <th>1</th>\n      <td>183722</td>\n      <td>Today we commemorate and MNML Case.</td>\n      <td>500.0</td>\n      <td>21.0</td>\n      <td>NaN</td>\n      <td>BRASIL</td>\n      <td>mateusmartins</td>\n      <td>982.0</td>\n      <td>1822</td>\n    </tr>\n    <tr>\n      <th>2</th>\n      <td>183723</td>\n      <td>Today we have reached US$6.55 Billion TT$44…</td>\n      <td>190.0</td>\n      <td>123.0</td>\n      <td>6.0</td>\n      <td>MEXICO</td>\n      <td>pedrojuarez</td>\n      <td>12.0</td>\n      <td>129</td>\n    </tr>\n    <tr>\n      <th>3</th>\n      <td>183724</td>\n      <td>Faking It by Joel Atwell. Written by Other cou...</td>\n      <td>131.0</td>\n      <td>76.0</td>\n      <td>3.0</td>\n      <td>ECUADOR</td>\n      <td>galocastillo</td>\n      <td>332.0</td>\n      <td>378</td>\n    </tr>\n    <tr>\n      <th>4</th>\n      <td>183725</td>\n      <td>Welcome back! 🙌</td>\n      <td>113.0</td>\n      <td>130.0</td>\n      <td>9.0</td>\n      <td>MEXICO</td>\n      <td>pedrojuarez</td>\n      <td>12.0</td>\n      <td>129</td>\n    </tr>\n    <tr>\n      <th>5</th>\n      <td>183726</td>\n      <td>Contest: Win a fan of his ass. #thatisall Thanks!</td>\n      <td>492.0</td>\n      <td>70.0</td>\n      <td>6.0</td>\n      <td>BRASIL</td>\n      <td>mateusmartins</td>\n      <td>982.0</td>\n      <td>1822</td>\n    </tr>\n    <tr>\n      <th>6</th>\n      <td>183727</td>\n      <td>80's &amp; friends! ✈️</td>\n      <td>158.0</td>\n      <td>40.0</td>\n      <td>22.0</td>\n      <td>ECUADOR</td>\n      <td>leonardokuffo</td>\n      <td>389.0</td>\n      <td>258</td>\n    </tr>\n    <tr>\n      <th>7</th>\n      <td>183728</td>\n      <td>Thank you guess how did I feel somewhat offend...</td>\n      <td>NaN</td>\n      <td>50.0</td>\n      <td>10.0</td>\n      <td>MEXICO</td>\n      <td>pedrojuarez</td>\n      <td>12.0</td>\n      <td>129</td>\n    </tr>\n    <tr>\n      <th>8</th>\n      <td>183729</td>\n      <td>OnePlus 8 international giveaway classifies</td>\n      <td>198.0</td>\n      <td>82.0</td>\n      <td>26.0</td>\n      <td>MEXICO</td>\n      <td>pedrojuarez</td>\n      <td>12.0</td>\n      <td>129</td>\n    </tr>\n    <tr>\n      <th>9</th>\n      <td>183730</td>\n      <td>Here it is.. Retweet this desperate</td>\n      <td>272.0</td>\n      <td>92.0</td>\n      <td>29.0</td>\n      <td>BRASIL</td>\n      <td>mateusmartins</td>\n      <td>982.0</td>\n      <td>1822</td>\n    </tr>\n    <tr>\n      <th>10</th>\n      <td>183731</td>\n      <td>Great to advertise during the year I tweeted a...</td>\n      <td>43.0</td>\n      <td>111.0</td>\n      <td>8.0</td>\n      <td>BRASIL</td>\n      <td>mateusmartins</td>\n      <td>982.0</td>\n      <td>1822</td>\n    </tr>\n    <tr>\n      <th>11</th>\n      <td>183732</td>\n      <td>Its been in love with the game with the origin...</td>\n      <td>349.0</td>\n      <td>44.0</td>\n      <td>19.0</td>\n      <td>BRASIL</td>\n      <td>mateusmartins</td>\n      <td>982.0</td>\n      <td>1822</td>\n    </tr>\n    <tr>\n      <th>12</th>\n      <td>183733</td>\n      <td>Programming is the best!</td>\n      <td>467.0</td>\n      <td>69.0</td>\n      <td>10.0</td>\n      <td>ECUADOR</td>\n      <td>leonardokuffo</td>\n      <td>389.0</td>\n      <td>258</td>\n    </tr>\n    <tr>\n      <th>13</th>\n      <td>183734</td>\n      <td>I cannot believe this!</td>\n      <td>50.0</td>\n      <td>24.0</td>\n      <td>22.0</td>\n      <td>ECUADOR</td>\n      <td>leonardokuffo</td>\n      <td>389.0</td>\n      <td>258</td>\n    </tr>\n    <tr>\n      <th>14</th>\n      <td>183735</td>\n      <td>Buy this product NOW!!</td>\n      <td>418.0</td>\n      <td>24.0</td>\n      <td>2.0</td>\n      <td>MEXICO</td>\n      <td>gabrielcarvajal</td>\n      <td>21.0</td>\n      <td>2721</td>\n    </tr>\n    <tr>\n      <th>15</th>\n      <td>183736</td>\n      <td>I have one is best color gradients: Just relea...</td>\n      <td>361.0</td>\n      <td>92.0</td>\n      <td>1.0</td>\n      <td>MEXICO</td>\n      <td>pedrojuarez</td>\n      <td>12.0</td>\n      <td>129</td>\n    </tr>\n    <tr>\n      <th>16</th>\n      <td>183737</td>\n      <td>PIC!!</td>\n      <td>346.0</td>\n      <td>115.0</td>\n      <td>24.0</td>\n      <td>BRASIL</td>\n      <td>lucasperes</td>\n      <td>82.0</td>\n      <td>351</td>\n    </tr>\n    <tr>\n      <th>17</th>\n      <td>183738</td>\n      <td>hmmm feeling bad today</td>\n      <td>296.0</td>\n      <td>93.0</td>\n      <td>29.0</td>\n      <td>MEXICO</td>\n      <td>gabrielcarvajal</td>\n      <td>21.0</td>\n      <td>2721</td>\n    </tr>\n    <tr>\n      <th>18</th>\n      <td>183739</td>\n      <td>not feeling god right now</td>\n      <td>315.0</td>\n      <td>26.0</td>\n      <td>10.0</td>\n      <td>ECUADOR</td>\n      <td>galocastillo</td>\n      <td>332.0</td>\n      <td>378</td>\n    </tr>\n    <tr>\n      <th>19</th>\n      <td>183740</td>\n      <td>Programming is a hot topic!</td>\n      <td>133.0</td>\n      <td>145.0</td>\n      <td>15.0</td>\n      <td>BRASIL</td>\n      <td>lucasperes</td>\n      <td>82.0</td>\n      <td>351</td>\n    </tr>\n    <tr>\n      <th>20</th>\n      <td>183741</td>\n      <td>Programming? i love it!</td>\n      <td>92.0</td>\n      <td>146.0</td>\n      <td>1.0</td>\n      <td>ECUADOR</td>\n      <td>galocastillo</td>\n      <td>332.0</td>\n      <td>378</td>\n    </tr>\n    <tr>\n      <th>21</th>\n      <td>183742</td>\n      <td>WHAT???</td>\n      <td>255.0</td>\n      <td>73.0</td>\n      <td>17.0</td>\n      <td>ECUADOR</td>\n      <td>galocastillo</td>\n      <td>332.0</td>\n      <td>378</td>\n    </tr>\n    <tr>\n      <th>22</th>\n      <td>183743</td>\n      <td>Amazing video by Leonardo!</td>\n      <td>432.0</td>\n      <td>95.0</td>\n      <td>18.0</td>\n      <td>BRASIL</td>\n      <td>lucasperes</td>\n      <td>82.0</td>\n      <td>351</td>\n    </tr>\n    <tr>\n      <th>23</th>\n      <td>183744</td>\n      <td>Thanks man!</td>\n      <td>430.0</td>\n      <td>143.0</td>\n      <td>28.0</td>\n      <td>BRASIL</td>\n      <td>lucasperes</td>\n      <td>NaN</td>\n      <td>351</td>\n    </tr>\n    <tr>\n      <th>24</th>\n      <td>183745</td>\n      <td>There is nothing better than programming!</td>\n      <td>424.0</td>\n      <td>110.0</td>\n      <td>29.0</td>\n      <td>BRASIL</td>\n      <td>lucasperes</td>\n      <td>82.0</td>\n      <td>351</td>\n    </tr>\n    <tr>\n      <th>25</th>\n      <td>183746</td>\n      <td>BORED AF</td>\n      <td>488.0</td>\n      <td>28.0</td>\n      <td>27.0</td>\n      <td>MEXICO</td>\n      <td>gabrielcarvajal</td>\n      <td>21.0</td>\n      <td>2721</td>\n    </tr>\n    <tr>\n      <th>26</th>\n      <td>183747</td>\n      <td>I do not know if i like programming or other t...</td>\n      <td>318.0</td>\n      <td>58.0</td>\n      <td>20.0</td>\n      <td>BRASIL</td>\n      <td>isabelladasilva</td>\n      <td>928.0</td>\n      <td>9918</td>\n    </tr>\n  </tbody>\n</table>\n</div>"
     },
     "metadata": {},
     "execution_count": 131
    }
   ],
   "source": [
    "\n",
    "df = pd.read_csv(\"dataset.csv\") \n",
    "#df = pd.read_csv(\"dataset.csv\", index_col = \"id\")\n",
    "df"
   ]
  },
  {
   "source": [
    "### Visualización\n",
    "***shape:*** Tamaño del dataframe\n",
    "\n",
    "***head:*** Primeras 5 filas\n",
    "\n",
    "***tail:*** Últimas 5 filas\n",
    "\n",
    "***columns:*** Nombres de las columnas\n",
    "\n",
    "***T:*** Transpuesta\n",
    "\n",
    "***sort_values:*** Orden de filas\n",
    "\n",
    "***describe:*** Estadística descriptiva\n",
    "\n",
    "***value_counts:*** Cantidad de repeticiones en una columna"
   ],
   "cell_type": "markdown",
   "metadata": {}
  },
  {
   "cell_type": "code",
   "execution_count": 141,
   "metadata": {},
   "outputs": [
    {
     "output_type": "execute_result",
     "data": {
      "text/plain": [
       "mateusmartins      5\n",
       "lucasperes         5\n",
       "pedrojuarez        5\n",
       "leonardokuffo      4\n",
       "galocastillo       4\n",
       "gabrielcarvajal    3\n",
       "isabelladasilva    1\n",
       "Name: user, dtype: int64"
      ]
     },
     "metadata": {},
     "execution_count": 141
    }
   ],
   "source": [
    "df.shape\n",
    "df.head(7)\n",
    "df.tail(7)\n",
    "df.columns\n",
    "df.T\n",
    "df.sort_values('retweets', ascending=False)\n",
    "df.describe()\n",
    "df['user'].value_counts()"
   ]
  },
  {
   "source": [
    "### Limpieza de Datos\n",
    "\n",
    "***dropna:*** Borra los datos incompletos\n",
    "\n",
    "***fillna:*** Rellena los datos incompletos"
   ],
   "cell_type": "markdown",
   "metadata": {}
  },
  {
   "cell_type": "code",
   "execution_count": 103,
   "metadata": {},
   "outputs": [
    {
     "output_type": "execute_result",
     "data": {
      "text/plain": [
       "       id                                          full_text  favorites  \\\n",
       "2  183723       Today we have reached US$6.55 Billion TT$44…      190.0   \n",
       "3  183724  Faking It by Joel Atwell. Written by Other cou...      131.0   \n",
       "4  183725                                    Welcome back! 🙌      113.0   \n",
       "5  183726  Contest: Win a fan of his ass. #thatisall Thanks!      492.0   \n",
       "6  183727                                 80's & friends! ✈️      158.0   \n",
       "\n",
       "   retweets  mentions  country           user  followers  followees  \n",
       "2     123.0       6.0   MEXICO    pedrojuarez       12.0        129  \n",
       "3      76.0       3.0  ECUADOR   galocastillo      332.0        378  \n",
       "4     130.0       9.0   MEXICO    pedrojuarez       12.0        129  \n",
       "5      70.0       6.0   BRASIL  mateusmartins      982.0       1822  \n",
       "6      40.0      22.0  ECUADOR  leonardokuffo      389.0        258  "
      ],
      "text/html": "<div>\n<style scoped>\n    .dataframe tbody tr th:only-of-type {\n        vertical-align: middle;\n    }\n\n    .dataframe tbody tr th {\n        vertical-align: top;\n    }\n\n    .dataframe thead th {\n        text-align: right;\n    }\n</style>\n<table border=\"1\" class=\"dataframe\">\n  <thead>\n    <tr style=\"text-align: right;\">\n      <th></th>\n      <th>id</th>\n      <th>full_text</th>\n      <th>favorites</th>\n      <th>retweets</th>\n      <th>mentions</th>\n      <th>country</th>\n      <th>user</th>\n      <th>followers</th>\n      <th>followees</th>\n    </tr>\n  </thead>\n  <tbody>\n    <tr>\n      <th>2</th>\n      <td>183723</td>\n      <td>Today we have reached US$6.55 Billion TT$44…</td>\n      <td>190.0</td>\n      <td>123.0</td>\n      <td>6.0</td>\n      <td>MEXICO</td>\n      <td>pedrojuarez</td>\n      <td>12.0</td>\n      <td>129</td>\n    </tr>\n    <tr>\n      <th>3</th>\n      <td>183724</td>\n      <td>Faking It by Joel Atwell. Written by Other cou...</td>\n      <td>131.0</td>\n      <td>76.0</td>\n      <td>3.0</td>\n      <td>ECUADOR</td>\n      <td>galocastillo</td>\n      <td>332.0</td>\n      <td>378</td>\n    </tr>\n    <tr>\n      <th>4</th>\n      <td>183725</td>\n      <td>Welcome back! 🙌</td>\n      <td>113.0</td>\n      <td>130.0</td>\n      <td>9.0</td>\n      <td>MEXICO</td>\n      <td>pedrojuarez</td>\n      <td>12.0</td>\n      <td>129</td>\n    </tr>\n    <tr>\n      <th>5</th>\n      <td>183726</td>\n      <td>Contest: Win a fan of his ass. #thatisall Thanks!</td>\n      <td>492.0</td>\n      <td>70.0</td>\n      <td>6.0</td>\n      <td>BRASIL</td>\n      <td>mateusmartins</td>\n      <td>982.0</td>\n      <td>1822</td>\n    </tr>\n    <tr>\n      <th>6</th>\n      <td>183727</td>\n      <td>80's &amp; friends! ✈️</td>\n      <td>158.0</td>\n      <td>40.0</td>\n      <td>22.0</td>\n      <td>ECUADOR</td>\n      <td>leonardokuffo</td>\n      <td>389.0</td>\n      <td>258</td>\n    </tr>\n  </tbody>\n</table>\n</div>"
     },
     "metadata": {},
     "execution_count": 103
    }
   ],
   "source": [
    "df_filtrado = df.dropna()\n",
    "df_filtrado.head(5)"
   ]
  },
  {
   "cell_type": "code",
   "execution_count": 104,
   "metadata": {},
   "outputs": [
    {
     "output_type": "execute_result",
     "data": {
      "text/plain": [
       "       id                                          full_text  favorites  \\\n",
       "0  183721  Flying home to run down from the power to comi...       23.0   \n",
       "1  183722                Today we commemorate and MNML Case.      500.0   \n",
       "2  183723       Today we have reached US$6.55 Billion TT$44…      190.0   \n",
       "3  183724  Faking It by Joel Atwell. Written by Other cou...      131.0   \n",
       "4  183725                                    Welcome back! 🙌      113.0   \n",
       "\n",
       "   retweets  mentions  country           user  followers  followees  \n",
       "0       0.0      10.0  ECUADOR  leonardokuffo      389.0        258  \n",
       "1      21.0       0.0   BRASIL  mateusmartins      982.0       1822  \n",
       "2     123.0       6.0   MEXICO    pedrojuarez       12.0        129  \n",
       "3      76.0       3.0  ECUADOR   galocastillo      332.0        378  \n",
       "4     130.0       9.0   MEXICO    pedrojuarez       12.0        129  "
      ],
      "text/html": "<div>\n<style scoped>\n    .dataframe tbody tr th:only-of-type {\n        vertical-align: middle;\n    }\n\n    .dataframe tbody tr th {\n        vertical-align: top;\n    }\n\n    .dataframe thead th {\n        text-align: right;\n    }\n</style>\n<table border=\"1\" class=\"dataframe\">\n  <thead>\n    <tr style=\"text-align: right;\">\n      <th></th>\n      <th>id</th>\n      <th>full_text</th>\n      <th>favorites</th>\n      <th>retweets</th>\n      <th>mentions</th>\n      <th>country</th>\n      <th>user</th>\n      <th>followers</th>\n      <th>followees</th>\n    </tr>\n  </thead>\n  <tbody>\n    <tr>\n      <th>0</th>\n      <td>183721</td>\n      <td>Flying home to run down from the power to comi...</td>\n      <td>23.0</td>\n      <td>0.0</td>\n      <td>10.0</td>\n      <td>ECUADOR</td>\n      <td>leonardokuffo</td>\n      <td>389.0</td>\n      <td>258</td>\n    </tr>\n    <tr>\n      <th>1</th>\n      <td>183722</td>\n      <td>Today we commemorate and MNML Case.</td>\n      <td>500.0</td>\n      <td>21.0</td>\n      <td>0.0</td>\n      <td>BRASIL</td>\n      <td>mateusmartins</td>\n      <td>982.0</td>\n      <td>1822</td>\n    </tr>\n    <tr>\n      <th>2</th>\n      <td>183723</td>\n      <td>Today we have reached US$6.55 Billion TT$44…</td>\n      <td>190.0</td>\n      <td>123.0</td>\n      <td>6.0</td>\n      <td>MEXICO</td>\n      <td>pedrojuarez</td>\n      <td>12.0</td>\n      <td>129</td>\n    </tr>\n    <tr>\n      <th>3</th>\n      <td>183724</td>\n      <td>Faking It by Joel Atwell. Written by Other cou...</td>\n      <td>131.0</td>\n      <td>76.0</td>\n      <td>3.0</td>\n      <td>ECUADOR</td>\n      <td>galocastillo</td>\n      <td>332.0</td>\n      <td>378</td>\n    </tr>\n    <tr>\n      <th>4</th>\n      <td>183725</td>\n      <td>Welcome back! 🙌</td>\n      <td>113.0</td>\n      <td>130.0</td>\n      <td>9.0</td>\n      <td>MEXICO</td>\n      <td>pedrojuarez</td>\n      <td>12.0</td>\n      <td>129</td>\n    </tr>\n  </tbody>\n</table>\n</div>"
     },
     "metadata": {},
     "execution_count": 104
    }
   ],
   "source": [
    "df_llenado = df.fillna(0)\n",
    "df_llenado.head()"
   ]
  },
  {
   "cell_type": "code",
   "execution_count": 105,
   "metadata": {},
   "outputs": [
    {
     "output_type": "execute_result",
     "data": {
      "text/plain": [
       "       id                                          full_text  favorites  \\\n",
       "0  183721  Flying home to run down from the power to comi...       23.0   \n",
       "1  183722                Today we commemorate and MNML Case.      500.0   \n",
       "2  183723       Today we have reached US$6.55 Billion TT$44…      190.0   \n",
       "3  183724  Faking It by Joel Atwell. Written by Other cou...      131.0   \n",
       "4  183725                                    Welcome back! 🙌      113.0   \n",
       "\n",
       "   retweets  mentions  country           user  followers  followees  \n",
       "0       0.0      10.0  ECUADOR  leonardokuffo      389.0        258  \n",
       "1      21.0      -1.0   BRASIL  mateusmartins      982.0       1822  \n",
       "2     123.0       6.0   MEXICO    pedrojuarez       12.0        129  \n",
       "3      76.0       3.0  ECUADOR   galocastillo      332.0        378  \n",
       "4     130.0       9.0   MEXICO    pedrojuarez       12.0        129  "
      ],
      "text/html": "<div>\n<style scoped>\n    .dataframe tbody tr th:only-of-type {\n        vertical-align: middle;\n    }\n\n    .dataframe tbody tr th {\n        vertical-align: top;\n    }\n\n    .dataframe thead th {\n        text-align: right;\n    }\n</style>\n<table border=\"1\" class=\"dataframe\">\n  <thead>\n    <tr style=\"text-align: right;\">\n      <th></th>\n      <th>id</th>\n      <th>full_text</th>\n      <th>favorites</th>\n      <th>retweets</th>\n      <th>mentions</th>\n      <th>country</th>\n      <th>user</th>\n      <th>followers</th>\n      <th>followees</th>\n    </tr>\n  </thead>\n  <tbody>\n    <tr>\n      <th>0</th>\n      <td>183721</td>\n      <td>Flying home to run down from the power to comi...</td>\n      <td>23.0</td>\n      <td>0.0</td>\n      <td>10.0</td>\n      <td>ECUADOR</td>\n      <td>leonardokuffo</td>\n      <td>389.0</td>\n      <td>258</td>\n    </tr>\n    <tr>\n      <th>1</th>\n      <td>183722</td>\n      <td>Today we commemorate and MNML Case.</td>\n      <td>500.0</td>\n      <td>21.0</td>\n      <td>-1.0</td>\n      <td>BRASIL</td>\n      <td>mateusmartins</td>\n      <td>982.0</td>\n      <td>1822</td>\n    </tr>\n    <tr>\n      <th>2</th>\n      <td>183723</td>\n      <td>Today we have reached US$6.55 Billion TT$44…</td>\n      <td>190.0</td>\n      <td>123.0</td>\n      <td>6.0</td>\n      <td>MEXICO</td>\n      <td>pedrojuarez</td>\n      <td>12.0</td>\n      <td>129</td>\n    </tr>\n    <tr>\n      <th>3</th>\n      <td>183724</td>\n      <td>Faking It by Joel Atwell. Written by Other cou...</td>\n      <td>131.0</td>\n      <td>76.0</td>\n      <td>3.0</td>\n      <td>ECUADOR</td>\n      <td>galocastillo</td>\n      <td>332.0</td>\n      <td>378</td>\n    </tr>\n    <tr>\n      <th>4</th>\n      <td>183725</td>\n      <td>Welcome back! 🙌</td>\n      <td>113.0</td>\n      <td>130.0</td>\n      <td>9.0</td>\n      <td>MEXICO</td>\n      <td>pedrojuarez</td>\n      <td>12.0</td>\n      <td>129</td>\n    </tr>\n  </tbody>\n</table>\n</div>"
     },
     "metadata": {},
     "execution_count": 105
    }
   ],
   "source": [
    "df = df.fillna({\"retweets\": 0, \"mentions\": -1})\n",
    "df.head()"
   ]
  },
  {
   "source": [
    "### Selección y Filtrado\n",
    "\n",
    "***loc:*** Filtrar por identificadores"
   ],
   "cell_type": "markdown",
   "metadata": {}
  },
  {
   "cell_type": "code",
   "execution_count": 144,
   "metadata": {},
   "outputs": [
    {
     "output_type": "execute_result",
     "data": {
      "text/plain": [
       "    favorites                                          full_text\n",
       "0        23.0  Flying home to run down from the power to comi...\n",
       "1       500.0                Today we commemorate and MNML Case.\n",
       "2       190.0       Today we have reached US$6.55 Billion TT$44…\n",
       "3       131.0  Faking It by Joel Atwell. Written by Other cou...\n",
       "4       113.0                                    Welcome back! 🙌\n",
       "5       492.0  Contest: Win a fan of his ass. #thatisall Thanks!\n",
       "6       158.0                                 80's & friends! ✈️\n",
       "7         NaN  Thank you guess how did I feel somewhat offend...\n",
       "8       198.0        OnePlus 8 international giveaway classifies\n",
       "9       272.0                Here it is.. Retweet this desperate\n",
       "10       43.0  Great to advertise during the year I tweeted a...\n",
       "11      349.0  Its been in love with the game with the origin...\n",
       "12      467.0                           Programming is the best!\n",
       "13       50.0                             I cannot believe this!\n",
       "14      418.0                             Buy this product NOW!!\n",
       "15      361.0  I have one is best color gradients: Just relea...\n",
       "16      346.0                                              PIC!!\n",
       "17      296.0                             hmmm feeling bad today\n",
       "18      315.0                          not feeling god right now\n",
       "19      133.0                        Programming is a hot topic!\n",
       "20       92.0                            Programming? i love it!\n",
       "21      255.0                                            WHAT???\n",
       "22      432.0                         Amazing video by Leonardo!\n",
       "23      430.0                                        Thanks man!\n",
       "24      424.0          There is nothing better than programming!\n",
       "25      488.0                                           BORED AF\n",
       "26      318.0  I do not know if i like programming or other t..."
      ],
      "text/html": "<div>\n<style scoped>\n    .dataframe tbody tr th:only-of-type {\n        vertical-align: middle;\n    }\n\n    .dataframe tbody tr th {\n        vertical-align: top;\n    }\n\n    .dataframe thead th {\n        text-align: right;\n    }\n</style>\n<table border=\"1\" class=\"dataframe\">\n  <thead>\n    <tr style=\"text-align: right;\">\n      <th></th>\n      <th>favorites</th>\n      <th>full_text</th>\n    </tr>\n  </thead>\n  <tbody>\n    <tr>\n      <th>0</th>\n      <td>23.0</td>\n      <td>Flying home to run down from the power to comi...</td>\n    </tr>\n    <tr>\n      <th>1</th>\n      <td>500.0</td>\n      <td>Today we commemorate and MNML Case.</td>\n    </tr>\n    <tr>\n      <th>2</th>\n      <td>190.0</td>\n      <td>Today we have reached US$6.55 Billion TT$44…</td>\n    </tr>\n    <tr>\n      <th>3</th>\n      <td>131.0</td>\n      <td>Faking It by Joel Atwell. Written by Other cou...</td>\n    </tr>\n    <tr>\n      <th>4</th>\n      <td>113.0</td>\n      <td>Welcome back! 🙌</td>\n    </tr>\n    <tr>\n      <th>5</th>\n      <td>492.0</td>\n      <td>Contest: Win a fan of his ass. #thatisall Thanks!</td>\n    </tr>\n    <tr>\n      <th>6</th>\n      <td>158.0</td>\n      <td>80's &amp; friends! ✈️</td>\n    </tr>\n    <tr>\n      <th>7</th>\n      <td>NaN</td>\n      <td>Thank you guess how did I feel somewhat offend...</td>\n    </tr>\n    <tr>\n      <th>8</th>\n      <td>198.0</td>\n      <td>OnePlus 8 international giveaway classifies</td>\n    </tr>\n    <tr>\n      <th>9</th>\n      <td>272.0</td>\n      <td>Here it is.. Retweet this desperate</td>\n    </tr>\n    <tr>\n      <th>10</th>\n      <td>43.0</td>\n      <td>Great to advertise during the year I tweeted a...</td>\n    </tr>\n    <tr>\n      <th>11</th>\n      <td>349.0</td>\n      <td>Its been in love with the game with the origin...</td>\n    </tr>\n    <tr>\n      <th>12</th>\n      <td>467.0</td>\n      <td>Programming is the best!</td>\n    </tr>\n    <tr>\n      <th>13</th>\n      <td>50.0</td>\n      <td>I cannot believe this!</td>\n    </tr>\n    <tr>\n      <th>14</th>\n      <td>418.0</td>\n      <td>Buy this product NOW!!</td>\n    </tr>\n    <tr>\n      <th>15</th>\n      <td>361.0</td>\n      <td>I have one is best color gradients: Just relea...</td>\n    </tr>\n    <tr>\n      <th>16</th>\n      <td>346.0</td>\n      <td>PIC!!</td>\n    </tr>\n    <tr>\n      <th>17</th>\n      <td>296.0</td>\n      <td>hmmm feeling bad today</td>\n    </tr>\n    <tr>\n      <th>18</th>\n      <td>315.0</td>\n      <td>not feeling god right now</td>\n    </tr>\n    <tr>\n      <th>19</th>\n      <td>133.0</td>\n      <td>Programming is a hot topic!</td>\n    </tr>\n    <tr>\n      <th>20</th>\n      <td>92.0</td>\n      <td>Programming? i love it!</td>\n    </tr>\n    <tr>\n      <th>21</th>\n      <td>255.0</td>\n      <td>WHAT???</td>\n    </tr>\n    <tr>\n      <th>22</th>\n      <td>432.0</td>\n      <td>Amazing video by Leonardo!</td>\n    </tr>\n    <tr>\n      <th>23</th>\n      <td>430.0</td>\n      <td>Thanks man!</td>\n    </tr>\n    <tr>\n      <th>24</th>\n      <td>424.0</td>\n      <td>There is nothing better than programming!</td>\n    </tr>\n    <tr>\n      <th>25</th>\n      <td>488.0</td>\n      <td>BORED AF</td>\n    </tr>\n    <tr>\n      <th>26</th>\n      <td>318.0</td>\n      <td>I do not know if i like programming or other t...</td>\n    </tr>\n  </tbody>\n</table>\n</div>"
     },
     "metadata": {},
     "execution_count": 144
    }
   ],
   "source": [
    "# Seleccionando columnas, a traves de su nombre\n",
    "df[\"favorites\"] # Me devuelve una sola columna como una Serie\n",
    "df[\"full_text\"] # Me devuelve una sola columna como una Serie\n",
    "df[[\"favorites\", \"full_text\"]] # Me devuelve un dataframe solamente con dos columnas\n",
    "#df.head()"
   ]
  },
  {
   "cell_type": "code",
   "execution_count": 147,
   "metadata": {},
   "outputs": [
    {
     "output_type": "execute_result",
     "data": {
      "text/plain": [
       "       id                                          full_text  favorites  \\\n",
       "0  183721  Flying home to run down from the power to comi...       23.0   \n",
       "3  183724  Faking It by Joel Atwell. Written by Other cou...      131.0   \n",
       "7  183728  Thank you guess how did I feel somewhat offend...        NaN   \n",
       "\n",
       "   retweets  mentions  country           user  followers  followees  \n",
       "0       NaN      10.0  ECUADOR  leonardokuffo      389.0        258  \n",
       "3      76.0       3.0  ECUADOR   galocastillo      332.0        378  \n",
       "7      50.0      10.0   MEXICO    pedrojuarez       12.0        129  "
      ],
      "text/html": "<div>\n<style scoped>\n    .dataframe tbody tr th:only-of-type {\n        vertical-align: middle;\n    }\n\n    .dataframe tbody tr th {\n        vertical-align: top;\n    }\n\n    .dataframe thead th {\n        text-align: right;\n    }\n</style>\n<table border=\"1\" class=\"dataframe\">\n  <thead>\n    <tr style=\"text-align: right;\">\n      <th></th>\n      <th>id</th>\n      <th>full_text</th>\n      <th>favorites</th>\n      <th>retweets</th>\n      <th>mentions</th>\n      <th>country</th>\n      <th>user</th>\n      <th>followers</th>\n      <th>followees</th>\n    </tr>\n  </thead>\n  <tbody>\n    <tr>\n      <th>0</th>\n      <td>183721</td>\n      <td>Flying home to run down from the power to comi...</td>\n      <td>23.0</td>\n      <td>NaN</td>\n      <td>10.0</td>\n      <td>ECUADOR</td>\n      <td>leonardokuffo</td>\n      <td>389.0</td>\n      <td>258</td>\n    </tr>\n    <tr>\n      <th>3</th>\n      <td>183724</td>\n      <td>Faking It by Joel Atwell. Written by Other cou...</td>\n      <td>131.0</td>\n      <td>76.0</td>\n      <td>3.0</td>\n      <td>ECUADOR</td>\n      <td>galocastillo</td>\n      <td>332.0</td>\n      <td>378</td>\n    </tr>\n    <tr>\n      <th>7</th>\n      <td>183728</td>\n      <td>Thank you guess how did I feel somewhat offend...</td>\n      <td>NaN</td>\n      <td>50.0</td>\n      <td>10.0</td>\n      <td>MEXICO</td>\n      <td>pedrojuarez</td>\n      <td>12.0</td>\n      <td>129</td>\n    </tr>\n  </tbody>\n</table>\n</div>"
     },
     "metadata": {},
     "execution_count": 147
    }
   ],
   "source": [
    "# Seleccionando filas, a traves de los indices\n",
    "df.loc[0]\n",
    "df.loc[0:2]\n",
    "df.loc[[0, 3, 7]] "
   ]
  },
  {
   "cell_type": "code",
   "execution_count": 151,
   "metadata": {},
   "outputs": [
    {
     "output_type": "execute_result",
     "data": {
      "text/plain": [
       "        id                    full_text  favorites  retweets  mentions  \\\n",
       "12  183733     Programming is the best!      467.0      69.0      10.0   \n",
       "19  183740  Programming is a hot topic!      133.0     145.0      15.0   \n",
       "20  183741      Programming? i love it!       92.0     146.0       1.0   \n",
       "\n",
       "    country           user  followers  followees  \n",
       "12  ECUADOR  leonardokuffo      389.0        258  \n",
       "19   BRASIL     lucasperes       82.0        351  \n",
       "20  ECUADOR   galocastillo      332.0        378  "
      ],
      "text/html": "<div>\n<style scoped>\n    .dataframe tbody tr th:only-of-type {\n        vertical-align: middle;\n    }\n\n    .dataframe tbody tr th {\n        vertical-align: top;\n    }\n\n    .dataframe thead th {\n        text-align: right;\n    }\n</style>\n<table border=\"1\" class=\"dataframe\">\n  <thead>\n    <tr style=\"text-align: right;\">\n      <th></th>\n      <th>id</th>\n      <th>full_text</th>\n      <th>favorites</th>\n      <th>retweets</th>\n      <th>mentions</th>\n      <th>country</th>\n      <th>user</th>\n      <th>followers</th>\n      <th>followees</th>\n    </tr>\n  </thead>\n  <tbody>\n    <tr>\n      <th>12</th>\n      <td>183733</td>\n      <td>Programming is the best!</td>\n      <td>467.0</td>\n      <td>69.0</td>\n      <td>10.0</td>\n      <td>ECUADOR</td>\n      <td>leonardokuffo</td>\n      <td>389.0</td>\n      <td>258</td>\n    </tr>\n    <tr>\n      <th>19</th>\n      <td>183740</td>\n      <td>Programming is a hot topic!</td>\n      <td>133.0</td>\n      <td>145.0</td>\n      <td>15.0</td>\n      <td>BRASIL</td>\n      <td>lucasperes</td>\n      <td>82.0</td>\n      <td>351</td>\n    </tr>\n    <tr>\n      <th>20</th>\n      <td>183741</td>\n      <td>Programming? i love it!</td>\n      <td>92.0</td>\n      <td>146.0</td>\n      <td>1.0</td>\n      <td>ECUADOR</td>\n      <td>galocastillo</td>\n      <td>332.0</td>\n      <td>378</td>\n    </tr>\n  </tbody>\n</table>\n</div>"
     },
     "metadata": {},
     "execution_count": 151
    }
   ],
   "source": [
    "# Seleccionando filas y columnas al mismo tiempo\n",
    "df.loc[[0, 1, 2], [\"favorites\"]]\n",
    "\n",
    "# Seleccionando un rango de filas y un grupo de columnas\n",
    "df.loc[1:3, [\"favorites\", \"full_text\", \"mentions\"]]\n",
    "\n",
    "# Seleccionando por condicion\n",
    "# Todas las filas que tengan un valor de favoritos mas altos de 100\n",
    "df[df[\"favorites\"] > 450]\n",
    "df[(df[\"favorites\"] > 400) & (df[\"mentions\"] > 20)]\n",
    "df[df[\"full_text\"].str.contains(\"Programming\")]"
   ]
  },
  {
   "source": [
    "### TRANSFORMACION DE DATOS\n",
    "***apply:*** Agregar una columna"
   ],
   "cell_type": "markdown",
   "metadata": {}
  },
  {
   "cell_type": "code",
   "execution_count": 109,
   "metadata": {},
   "outputs": [
    {
     "output_type": "execute_result",
     "data": {
      "text/plain": [
       "       id                                          full_text  favorites  \\\n",
       "0  183721  Flying home to run down from the power to comi...       23.0   \n",
       "1  183722                Today we commemorate and MNML Case.      500.0   \n",
       "2  183723       Today we have reached US$6.55 Billion TT$44…      190.0   \n",
       "3  183724  Faking It by Joel Atwell. Written by Other cou...      131.0   \n",
       "4  183725                                    Welcome back! 🙌      113.0   \n",
       "\n",
       "   retweets  mentions  country           user  followers  followees  ganancias  \n",
       "0       0.0      10.0  ECUADOR  leonardokuffo      389.0        258        0.0  \n",
       "1      21.0      -1.0   BRASIL  mateusmartins      982.0       1822      105.0  \n",
       "2     123.0       6.0   MEXICO    pedrojuarez       12.0        129      615.0  \n",
       "3      76.0       3.0  ECUADOR   galocastillo      332.0        378      380.0  \n",
       "4     130.0       9.0   MEXICO    pedrojuarez       12.0        129      650.0  "
      ],
      "text/html": "<div>\n<style scoped>\n    .dataframe tbody tr th:only-of-type {\n        vertical-align: middle;\n    }\n\n    .dataframe tbody tr th {\n        vertical-align: top;\n    }\n\n    .dataframe thead th {\n        text-align: right;\n    }\n</style>\n<table border=\"1\" class=\"dataframe\">\n  <thead>\n    <tr style=\"text-align: right;\">\n      <th></th>\n      <th>id</th>\n      <th>full_text</th>\n      <th>favorites</th>\n      <th>retweets</th>\n      <th>mentions</th>\n      <th>country</th>\n      <th>user</th>\n      <th>followers</th>\n      <th>followees</th>\n      <th>ganancias</th>\n    </tr>\n  </thead>\n  <tbody>\n    <tr>\n      <th>0</th>\n      <td>183721</td>\n      <td>Flying home to run down from the power to comi...</td>\n      <td>23.0</td>\n      <td>0.0</td>\n      <td>10.0</td>\n      <td>ECUADOR</td>\n      <td>leonardokuffo</td>\n      <td>389.0</td>\n      <td>258</td>\n      <td>0.0</td>\n    </tr>\n    <tr>\n      <th>1</th>\n      <td>183722</td>\n      <td>Today we commemorate and MNML Case.</td>\n      <td>500.0</td>\n      <td>21.0</td>\n      <td>-1.0</td>\n      <td>BRASIL</td>\n      <td>mateusmartins</td>\n      <td>982.0</td>\n      <td>1822</td>\n      <td>105.0</td>\n    </tr>\n    <tr>\n      <th>2</th>\n      <td>183723</td>\n      <td>Today we have reached US$6.55 Billion TT$44…</td>\n      <td>190.0</td>\n      <td>123.0</td>\n      <td>6.0</td>\n      <td>MEXICO</td>\n      <td>pedrojuarez</td>\n      <td>12.0</td>\n      <td>129</td>\n      <td>615.0</td>\n    </tr>\n    <tr>\n      <th>3</th>\n      <td>183724</td>\n      <td>Faking It by Joel Atwell. Written by Other cou...</td>\n      <td>131.0</td>\n      <td>76.0</td>\n      <td>3.0</td>\n      <td>ECUADOR</td>\n      <td>galocastillo</td>\n      <td>332.0</td>\n      <td>378</td>\n      <td>380.0</td>\n    </tr>\n    <tr>\n      <th>4</th>\n      <td>183725</td>\n      <td>Welcome back! 🙌</td>\n      <td>113.0</td>\n      <td>130.0</td>\n      <td>9.0</td>\n      <td>MEXICO</td>\n      <td>pedrojuarez</td>\n      <td>12.0</td>\n      <td>129</td>\n      <td>650.0</td>\n    </tr>\n  </tbody>\n</table>\n</div>"
     },
     "metadata": {},
     "execution_count": 109
    }
   ],
   "source": [
    "# Agregando una columna de ganancias, calculada en base a los retweets\n",
    "def calcularGanancias(retweets):\n",
    "    return retweets * 5\n",
    "\n",
    "df[\"ganancias\"] = df[\"retweets\"].apply(calcularGanancias)\n",
    "df.head(5)"
   ]
  },
  {
   "cell_type": "code",
   "execution_count": 110,
   "metadata": {},
   "outputs": [
    {
     "output_type": "execute_result",
     "data": {
      "text/plain": [
       "       id                                          full_text  favorites  \\\n",
       "0  183721  Flying home to run down from the power to comi...       23.0   \n",
       "1  183722                Today we commemorate and MNML Case.      500.0   \n",
       "2  183723       Today we have reached US$6.55 Billion TT$44…      190.0   \n",
       "3  183724  Faking It by Joel Atwell. Written by Other cou...      131.0   \n",
       "4  183725                                    Welcome back! 🙌      113.0   \n",
       "\n",
       "   retweets  mentions  country           user  followers  followees  \\\n",
       "0       0.0      10.0  ECUADOR  leonardokuffo      389.0        258   \n",
       "1      21.0      -1.0   BRASIL  mateusmartins      982.0       1822   \n",
       "2     123.0       6.0   MEXICO    pedrojuarez       12.0        129   \n",
       "3      76.0       3.0  ECUADOR   galocastillo      332.0        378   \n",
       "4     130.0       9.0   MEXICO    pedrojuarez       12.0        129   \n",
       "\n",
       "   ganancias  popularidad  \n",
       "0        0.0     0.663239  \n",
       "1      105.0     1.855397  \n",
       "2      615.0    10.750000  \n",
       "3      380.0     1.138554  \n",
       "4      650.0    10.750000  "
      ],
      "text/html": "<div>\n<style scoped>\n    .dataframe tbody tr th:only-of-type {\n        vertical-align: middle;\n    }\n\n    .dataframe tbody tr th {\n        vertical-align: top;\n    }\n\n    .dataframe thead th {\n        text-align: right;\n    }\n</style>\n<table border=\"1\" class=\"dataframe\">\n  <thead>\n    <tr style=\"text-align: right;\">\n      <th></th>\n      <th>id</th>\n      <th>full_text</th>\n      <th>favorites</th>\n      <th>retweets</th>\n      <th>mentions</th>\n      <th>country</th>\n      <th>user</th>\n      <th>followers</th>\n      <th>followees</th>\n      <th>ganancias</th>\n      <th>popularidad</th>\n    </tr>\n  </thead>\n  <tbody>\n    <tr>\n      <th>0</th>\n      <td>183721</td>\n      <td>Flying home to run down from the power to comi...</td>\n      <td>23.0</td>\n      <td>0.0</td>\n      <td>10.0</td>\n      <td>ECUADOR</td>\n      <td>leonardokuffo</td>\n      <td>389.0</td>\n      <td>258</td>\n      <td>0.0</td>\n      <td>0.663239</td>\n    </tr>\n    <tr>\n      <th>1</th>\n      <td>183722</td>\n      <td>Today we commemorate and MNML Case.</td>\n      <td>500.0</td>\n      <td>21.0</td>\n      <td>-1.0</td>\n      <td>BRASIL</td>\n      <td>mateusmartins</td>\n      <td>982.0</td>\n      <td>1822</td>\n      <td>105.0</td>\n      <td>1.855397</td>\n    </tr>\n    <tr>\n      <th>2</th>\n      <td>183723</td>\n      <td>Today we have reached US$6.55 Billion TT$44…</td>\n      <td>190.0</td>\n      <td>123.0</td>\n      <td>6.0</td>\n      <td>MEXICO</td>\n      <td>pedrojuarez</td>\n      <td>12.0</td>\n      <td>129</td>\n      <td>615.0</td>\n      <td>10.750000</td>\n    </tr>\n    <tr>\n      <th>3</th>\n      <td>183724</td>\n      <td>Faking It by Joel Atwell. Written by Other cou...</td>\n      <td>131.0</td>\n      <td>76.0</td>\n      <td>3.0</td>\n      <td>ECUADOR</td>\n      <td>galocastillo</td>\n      <td>332.0</td>\n      <td>378</td>\n      <td>380.0</td>\n      <td>1.138554</td>\n    </tr>\n    <tr>\n      <th>4</th>\n      <td>183725</td>\n      <td>Welcome back! 🙌</td>\n      <td>113.0</td>\n      <td>130.0</td>\n      <td>9.0</td>\n      <td>MEXICO</td>\n      <td>pedrojuarez</td>\n      <td>12.0</td>\n      <td>129</td>\n      <td>650.0</td>\n      <td>10.750000</td>\n    </tr>\n  </tbody>\n</table>\n</div>"
     },
     "metadata": {},
     "execution_count": 110
    }
   ],
   "source": [
    "# Agregando una columna de popularidad, calculada en base a mi numero de seguidores y numero de pesonas que sigo\n",
    "def popularidad(fila):\n",
    "    return fila[\"followees\"]/fila[\"followers\"]\n",
    "\n",
    "df[\"popularidad\"] = df.apply(popularidad, axis=1)\n",
    "df.head(5)"
   ]
  },
  {
   "source": [
    "### Agrupación\n",
    "***groupby:*** Agrupar por elementos diferentes de una columna"
   ],
   "cell_type": "markdown",
   "metadata": {}
  },
  {
   "cell_type": "code",
   "execution_count": 111,
   "metadata": {},
   "outputs": [
    {
     "output_type": "execute_result",
     "data": {
      "text/plain": [
       "                    id   favorites   retweets   mentions  followers  \\\n",
       "country                                                               \n",
       "BRASIL   183736.090909  339.909091  91.272727  17.727273    616.600   \n",
       "ECUADOR  183732.625000  186.375000  56.750000  11.875000    360.500   \n",
       "MEXICO   183732.500000  294.857143  77.750000  13.750000     15.375   \n",
       "\n",
       "           followees   ganancias  popularidad  \n",
       "country                                        \n",
       "BRASIL   1889.363636  456.363636     3.708644  \n",
       "ECUADOR   318.000000  283.750000     0.900897  \n",
       "MEXICO   1101.000000  388.750000    55.308036  "
      ],
      "text/html": "<div>\n<style scoped>\n    .dataframe tbody tr th:only-of-type {\n        vertical-align: middle;\n    }\n\n    .dataframe tbody tr th {\n        vertical-align: top;\n    }\n\n    .dataframe thead th {\n        text-align: right;\n    }\n</style>\n<table border=\"1\" class=\"dataframe\">\n  <thead>\n    <tr style=\"text-align: right;\">\n      <th></th>\n      <th>id</th>\n      <th>favorites</th>\n      <th>retweets</th>\n      <th>mentions</th>\n      <th>followers</th>\n      <th>followees</th>\n      <th>ganancias</th>\n      <th>popularidad</th>\n    </tr>\n    <tr>\n      <th>country</th>\n      <th></th>\n      <th></th>\n      <th></th>\n      <th></th>\n      <th></th>\n      <th></th>\n      <th></th>\n      <th></th>\n    </tr>\n  </thead>\n  <tbody>\n    <tr>\n      <th>BRASIL</th>\n      <td>183736.090909</td>\n      <td>339.909091</td>\n      <td>91.272727</td>\n      <td>17.727273</td>\n      <td>616.600</td>\n      <td>1889.363636</td>\n      <td>456.363636</td>\n      <td>3.708644</td>\n    </tr>\n    <tr>\n      <th>ECUADOR</th>\n      <td>183732.625000</td>\n      <td>186.375000</td>\n      <td>56.750000</td>\n      <td>11.875000</td>\n      <td>360.500</td>\n      <td>318.000000</td>\n      <td>283.750000</td>\n      <td>0.900897</td>\n    </tr>\n    <tr>\n      <th>MEXICO</th>\n      <td>183732.500000</td>\n      <td>294.857143</td>\n      <td>77.750000</td>\n      <td>13.750000</td>\n      <td>15.375</td>\n      <td>1101.000000</td>\n      <td>388.750000</td>\n      <td>55.308036</td>\n    </tr>\n  </tbody>\n</table>\n</div>"
     },
     "metadata": {},
     "execution_count": 111
    }
   ],
   "source": [
    "# Agrupando por pais y sacando la media de cada columna\n",
    "df.groupby(\"country\").mean()"
   ]
  },
  {
   "cell_type": "code",
   "execution_count": 112,
   "metadata": {},
   "outputs": [
    {
     "output_type": "execute_result",
     "data": {
      "text/plain": [
       "         followers   mentions  retweets\n",
       "country                                \n",
       "BRASIL      6166.0  17.727273     145.0\n",
       "ECUADOR     2884.0  11.875000     146.0\n",
       "MEXICO       123.0  13.750000     130.0"
      ],
      "text/html": "<div>\n<style scoped>\n    .dataframe tbody tr th:only-of-type {\n        vertical-align: middle;\n    }\n\n    .dataframe tbody tr th {\n        vertical-align: top;\n    }\n\n    .dataframe thead th {\n        text-align: right;\n    }\n</style>\n<table border=\"1\" class=\"dataframe\">\n  <thead>\n    <tr style=\"text-align: right;\">\n      <th></th>\n      <th>followers</th>\n      <th>mentions</th>\n      <th>retweets</th>\n    </tr>\n    <tr>\n      <th>country</th>\n      <th></th>\n      <th></th>\n      <th></th>\n    </tr>\n  </thead>\n  <tbody>\n    <tr>\n      <th>BRASIL</th>\n      <td>6166.0</td>\n      <td>17.727273</td>\n      <td>145.0</td>\n    </tr>\n    <tr>\n      <th>ECUADOR</th>\n      <td>2884.0</td>\n      <td>11.875000</td>\n      <td>146.0</td>\n    </tr>\n    <tr>\n      <th>MEXICO</th>\n      <td>123.0</td>\n      <td>13.750000</td>\n      <td>130.0</td>\n    </tr>\n  </tbody>\n</table>\n</div>"
     },
     "metadata": {},
     "execution_count": 112
    }
   ],
   "source": [
    "# Agrupando por pais y aplicando diferentes funciones de agregacion a cada columna\n",
    "df.groupby(\"country\").agg({\n",
    "    \"followers\": 'sum',\n",
    "    \"mentions\": 'mean',\n",
    "    \"retweets\": 'max'\n",
    "})"
   ]
  },
  {
   "source": [
    "### Gráfica de datos"
   ],
   "cell_type": "markdown",
   "metadata": {}
  },
  {
   "cell_type": "code",
   "execution_count": 113,
   "metadata": {},
   "outputs": [
    {
     "output_type": "display_data",
     "data": {
      "text/plain": "<Figure size 432x288 with 1 Axes>",
      "image/png": "[encoded data removed]"
     },
     "metadata": {
      "needs_background": "light"
     }
    }
   ],
   "source": [
    "import matplotlib.pyplot as plt\n",
    "#Lineal\n",
    "df[\"followers\"].plot()\n",
    "plt.show()"
   ]
  },
  {
   "cell_type": "code",
   "execution_count": 114,
   "metadata": {},
   "outputs": [
    {
     "output_type": "display_data",
     "data": {
      "text/plain": "<Figure size 432x288 with 1 Axes>",
      "image/png": "[encoded data removed]"
     },
     "metadata": {
      "needs_background": "light"
     }
    }
   ],
   "source": [
    "#Lineal\n",
    "grouped[\"followers\"].plot()\n",
    "plt.show()"
   ]
  },
  {
   "cell_type": "code",
   "execution_count": 115,
   "metadata": {},
   "outputs": [
    {
     "output_type": "display_data",
     "data": {
      "text/plain": "<Figure size 432x288 with 1 Axes>",
      "image/png": "[encoded data removed]"
     },
     "metadata": {
      "needs_background": "light"
     }
    }
   ],
   "source": [
    "# Barras \n",
    "df[\"followers\"].plot(kind=\"bar\")\n",
    "plt.show()"
   ]
  },
  {
   "cell_type": "code",
   "execution_count": 116,
   "metadata": {},
   "outputs": [
    {
     "output_type": "display_data",
     "data": {
      "text/plain": "<Figure size 432x288 with 1 Axes>",
      "image/png": "[encoded data removed]"
     },
     "metadata": {
      "needs_background": "light"
     }
    }
   ],
   "source": [
    "# Barras \n",
    "grouped[\"followers\"].plot(kind=\"bar\")\n",
    "plt.show()"
   ]
  },
  {
   "cell_type": "code",
   "execution_count": 117,
   "metadata": {},
   "outputs": [
    {
     "output_type": "display_data",
     "data": {
      "text/plain": "<Figure size 432x288 with 1 Axes>",
      "image/png": "[encoded data removed]"
     },
     "metadata": {
      "needs_background": "light"
     }
    }
   ],
   "source": [
    "# x vs y\n",
    "df.plot(kind=\"scatter\", x =\"favorites\", y =\"retweets\")\n",
    "plt.show()"
   ]
  },
  {
   "source": [
    "### Almacenamiento"
   ],
   "cell_type": "markdown",
   "metadata": {}
  },
  {
   "cell_type": "code",
   "execution_count": 118,
   "metadata": {},
   "outputs": [],
   "source": [
    "grouped.to_csv(\"salida.csv\")"
   ]
  }
 ],
 "metadata": {
  "kernelspec": {
   "name": "python375jvsc74a57bd09340264acdd3536ff236437ddfa7f12371edb537e1ea1da1747d1b2c1b74b441",
   "display_name": "Python 3.7.5 64-bit ('juli': conda)"
  },
  "language_info": {
   "codemirror_mode": {
    "name": "ipython",
    "version": 3
   },
   "file_extension": ".py",
   "mimetype": "text/x-python",
   "name": "python",
   "nbconvert_exporter": "python",
   "pygments_lexer": "ipython3",
   "version": "3.7.5"
  }
 },
 "nbformat": 4,
 "nbformat_minor": 4
}
